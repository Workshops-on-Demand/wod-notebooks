{
 "cells": [
  {
   "cell_type": "markdown",
   "metadata": {},
   "source": [
    "{{ BRANDINGLOGO }}    ![Dockerlogo](Pictures/docker.png)  "
   ]
  },
  {
   "cell_type": "markdown",
   "metadata": {},
   "source": [
    "Let's start by connecting to our docker appliance again (Docker in Docker Appliance)"
   ]
  },
  {
   "cell_type": "code",
   "execution_count": null,
   "metadata": {},
   "outputs": [],
   "source": [
    "%login {{ hostvars[inventory_hostname]['IP-WKSHP-Docker101'] }}"
   ]
  },
  {
   "cell_type": "markdown",
   "metadata": {},
   "source": [
    "# Configuring nextcloud in a container\n",
    "\n",
    "Estimated time: 60 minutes.\n",
    "\n",
    "Based on the work done in the Docker Dojo during a Grenoble Docker Meetup (cf: https://github.com/Enalean/docker-dojo/tree/master/owncloud).\n",
    "\n",
    "Nextcloud is a web-based application providing services such as calendar data or file sharing.\n",
    "When we want to contain an application such as nextcloud, there are a certain number of aspects to take in account and solve:\n",
    "  1. Installing the application and its dependencies in the container\n",
    "  2. Allow IP configuration for remote access to the application\n",
    "  3. Allow data persistence at each invocation of the container\n",
    "  4. Allow configuration data persistence at each invocation of the container\n",
    "  \n",
    "One possibility would be to run the container from an image and launch the various commands in the container (as we've done previously). We could put that in a script and launch it systematically when we instantiate a container from an image, or we could rebuild a prepared image to be instantiated later. But there is a better way to achieve what we want to do, and this is by using the automation process by Docker with the Dockerfile.\n",
    "\n",
    "The Dockerfile is a way to describe all the operations required to create an image; from an initial basic one and stacking all the operations, to build at the end the final image ready to be instantiated and consumed and thrown away.\n",
    "\n",
    "Let's start our Dockerfile by creating a simple container from a base image and just installing some software components useful for our environment, and build an image from that:\n"
   ]
  },
  {
   "cell_type": "code",
   "execution_count": null,
   "metadata": {},
   "outputs": [],
   "source": [
    "mkdir -p build\n",
    "echo 'FROM rockylinux/rockylinux:8' > build/Dockerfile\n",
    "echo 'RUN dnf install -y httpd' >> build/Dockerfile\n",
    "cat build/Dockerfile"
   ]
  },
  {
   "cell_type": "code",
   "execution_count": null,
   "metadata": {},
   "outputs": [],
   "source": [
    "docker build -f build/Dockerfile ."
   ]
  },
  {
   "cell_type": "markdown",
   "metadata": {},
   "source": [
    "The -f argument allows us to build an image from another folder. If the Dockerfile is in the same directory, it is not needed."
   ]
  },
  {
   "cell_type": "code",
   "execution_count": null,
   "metadata": {},
   "outputs": [],
   "source": [
    "docker image ls"
   ]
  },
  {
   "cell_type": "markdown",
   "metadata": {},
   "source": [
    "Here, we can verify that a new Rocky Linux 8 image has been downloaded and, based on it, a new image has been created (without name nor tag, just an ID) containing httpd installed with its dependencies. \n",
    "Check it by instantiating a container based on that image and launching httpd in it:"
   ]
  },
  {
   "cell_type": "code",
   "execution_count": null,
   "metadata": {},
   "outputs": [],
   "source": [
    "ImgId=`docker image ls | head -2 | tail -1 | awk '{print $3}'`\n",
    "docker run -d $ImgId /usr/sbin/httpd"
   ]
  },
  {
   "cell_type": "code",
   "execution_count": null,
   "metadata": {},
   "outputs": [],
   "source": [
    "ps auxww |  grep http"
   ]
  },
  {
   "cell_type": "markdown",
   "metadata": {},
   "source": [
    "Hmmm, seems strange... no httpd daemon seems to be running whereas you had no error message reported. Let's try to understand why by looking at the containers running:"
   ]
  },
  {
   "cell_type": "code",
   "execution_count": null,
   "metadata": {},
   "outputs": [],
   "source": [
    "docker container ls"
   ]
  },
  {
   "cell_type": "markdown",
   "metadata": {},
   "source": [
    "Ok, so you don't have any container running. Look at one which exited then:"
   ]
  },
  {
   "cell_type": "code",
   "execution_count": null,
   "metadata": {},
   "outputs": [],
   "source": [
    "docker container ls -a"
   ]
  },
  {
   "cell_type": "markdown",
   "metadata": {},
   "source": [
    "Here it is! But as seen previously, the container exited with a 0 status code, meaning no error. Why? Well, this is because the httpd process is giving back hand to the user immediately after launch, going into background. So, Docker thinks that all the tasks that it had to do were done correctly and exited gracefully. Assess that analysis by issuing the following commands:"
   ]
  },
  {
   "cell_type": "code",
   "execution_count": null,
   "metadata": {},
   "outputs": [],
   "source": [
    "ImgId=`docker image ls | head -2 | tail -1 | awk '{print $3}'`\n",
    "CtnId=`docker container ls -a | grep $ImgId | awk '{print $1}'`\n",
    "docker diff $CtnId\n",
    "echo \"\"\n",
    "docker history $ImgId\n",
    "echo \"\"\n",
    "docker logs $CtnId"
   ]
  },
  {
   "cell_type": "markdown",
   "metadata": {},
   "source": [
    "Here, we checked that we can launch the httpd server from inside an instantiated container made from our image. It created the relevant log files in the container with just a normal warning. We also checked how our image was built. Note that the image built is around 170 MB larger than the base Rocky Linux 8 one (shown by history) and has sensible modifications shown by the diff command.\n",
    "\n",
    "It's a good start, but now we would like to have our httpd server start automatically with our container creation and stay alive after launch. And have attribution accordingly ;-). So, let's make the following modifications to the Dockerfile."
   ]
  },
  {
   "cell_type": "code",
   "execution_count": null,
   "metadata": {},
   "outputs": [],
   "source": [
    "echo 'MAINTAINER myself@mydomain.org' >> build/Dockerfile\n",
    "echo 'CMD /usr/sbin/apachectl -DFOREGROUND -k start' >> build/Dockerfile\n",
    "cat build/Dockerfile"
   ]
  },
  {
   "cell_type": "code",
   "execution_count": null,
   "metadata": {},
   "outputs": [],
   "source": [
    "docker build -f build/Dockerfile ."
   ]
  },
  {
   "cell_type": "markdown",
   "metadata": {},
   "source": [
    "Notice that all the first steps are very quick. This is because Docker caches steps and will not repeat them unless the Dockerfile changes. You can modify the Dockerfile by putting the `MAINTAINER` command as the second line and re-launch the build. You'll see that, in that case, Docker invalidates its cache and restarts.\n",
    "\n",
    "Secondly, we modified the way our Apache Web server is started by forcing it to stay in the foreground after launch. That way Docker will continue to keep the container alive.\n",
    "Now, start a container from that image to check that the web server is indeed started."
   ]
  },
  {
   "cell_type": "code",
   "execution_count": null,
   "metadata": {},
   "outputs": [],
   "source": [
    "ImgId=`docker image ls | head -2 | tail -1 | awk '{print $3}'`\n",
    "docker run -d $ImgId"
   ]
  },
  {
   "cell_type": "markdown",
   "metadata": {},
   "source": [
    "Now, check using the same previous commands that the container is indeed running correctly:"
   ]
  },
  {
   "cell_type": "code",
   "execution_count": null,
   "metadata": {},
   "outputs": [],
   "source": [
    "docker container ls\n",
    "echo \"\"\n",
    "ImgId=`docker image ls | head -2 | tail -1 | awk '{print $3}'`\n",
    "CtnId=`docker container ls | grep $ImgId | awk '{print $1}'`\n",
    "docker diff $CtnId\n",
    "echo \"\"\n",
    "docker history $ImgId\n",
    "echo \"\"\n",
    "docker logs $CtnId\n",
    "echo \"\"\n",
    "ps auxww | grep httpd | grep -v docker"
   ]
  },
  {
   "cell_type": "markdown",
   "metadata": {},
   "source": [
    "Here, you can see that your httpd process is running, and has produced more differences (a pid file has been created) along with more log content. It is also running with a UID (48), which is not known by the host, just the container. So, let's try to reach our newly launched webserver:"
   ]
  },
  {
   "cell_type": "code",
   "execution_count": null,
   "metadata": {},
   "outputs": [],
   "source": [
    "curl http://localhost"
   ]
  },
  {
   "cell_type": "markdown",
   "metadata": {},
   "source": [
    "Of course that doesn't work ;-). You would have been surprised otherwise, would you not? The major point here is that the httpd server you launched is run in an isolated environment; the container -- which is NOT the host -- so its localhost is different from the localhost of the host. Similarly, its IP address is different from the one of the host. Proof:"
   ]
  },
  {
   "cell_type": "code",
   "execution_count": null,
   "metadata": {},
   "outputs": [],
   "source": [
    "echo \"\"\n",
    "echo \"*** host ***\"\n",
    "echo \"\"\n",
    "echo \"IP: {{ hostvars[inventory_hostname]['IP-WKSHP-Docker101'] }}\"\n",
    "ImgId=`docker image ls | head -2 | tail -1 | awk '{print $3}'`\n",
    "CtnId=`docker container ls | grep $ImgId | awk '{print $1}'`\n",
    "echo \"\"\n",
    "echo \"*** CTN $CtnId ***\"\n",
    "echo \"\"\n",
    "docker exec $CtnId dnf install -y net-tools >& /dev/null\n",
    "echo \"\"\n",
    "echo -n \"IP: \"\n",
    "docker exec $CtnId /usr/sbin/ifconfig | grep -A 2 eth0 | tail -2 | head -1 | awk '{print $2 }'"
   ]
  },
  {
   "cell_type": "markdown",
   "metadata": {},
   "source": [
    "Convinced ? Now, try *inside* the container to reach the Web server:"
   ]
  },
  {
   "cell_type": "code",
   "execution_count": null,
   "metadata": {},
   "outputs": [],
   "source": [
    "ImgId=`docker image ls | head -2 | tail -1 | awk '{print $3}'`\n",
    "CtnId=`docker container ls | grep $ImgId | awk '{print $1}'`\n",
    "echo \"\"\n",
    "echo \"*** CTN $CtnId ***\"\n",
    "echo \"\"\n",
    "docker exec $CtnId curl -s http://localhost"
   ]
  },
  {
   "cell_type": "markdown",
   "metadata": {},
   "source": [
    "Success!! So, you indeed have a running web server, inside a Rocky Linux 8 distribution container. But that's not entirely what you want. What you want is to be able to reach it from outside of the container."
   ]
  },
  {
   "cell_type": "code",
   "execution_count": null,
   "metadata": {},
   "outputs": [],
   "source": [
    "ImgId=`docker image ls | head -2 | tail -1 | awk '{print $3}'`\n",
    "CtnId=`docker container ls | grep $ImgId | awk '{print $1}'`\n",
    "echo \"\"\n",
    "echo \"*** CTN $CtnId ***\"\n",
    "echo \"\"\n",
    "CtnIP=`docker exec $CtnId ifconfig | grep -A 2 eth0 | grep inet | awk '{print $2}'`\n",
    "echo \"\"\n",
    "echo \"*** using CTN IP $CtnIP ***\"\n",
    "echo \"\"\n",
    "curl -s http://$CtnIP | grep Rocky\n",
    "HostIP=\"{{ hostvars[inventory_hostname]['IP-WKSHP-Docker101'] }}\"\n",
    "echo \"\"\n",
    "echo \"*** using host IP $HostIP ***\"\n",
    "echo \"\"\n",
    "curl -s http://$HostIP | grep Rocky"
   ]
  },
  {
   "cell_type": "markdown",
   "metadata": {},
   "source": [
    "\n",
    "As you can see, it works when you use the container IP (because Linux and Docker set the routing up for you automagically), but it doesn't work if you use the IP address of the host (which is really what you want to provide access to the external world).\n",
    "\n",
    "By default, the container ports are not exposed outside of the container. Therefore, you can't use your host OS to access your isolated webserver. \n",
    "\n",
    "You will have to explicitly redirect traffic arriving on port {{ HTTPPORT }} allocated to you on the host (which is accessible from outside your environment) to the container port 80 in order to allow access to the web server running in the container. This will require a change to the way you invoke the container creation. Let's stop the previous container and relaunch it with the right options:"
   ]
  },
  {
   "cell_type": "code",
   "execution_count": null,
   "metadata": {},
   "outputs": [],
   "source": [
    "ImgId=`docker image ls | head -2 | tail -1 | awk '{print $3}'`\n",
    "CtnId=`docker container ls | grep $ImgId | awk '{print $1}'`\n",
    "docker stop $CtnId\n",
    "docker rm $CtnId\n",
    "docker run -d -p {{ HTTPPORT}}:80 $ImgId\n",
    "echo \"\"\n",
    "docker container ls\n",
    "CtnId=`docker container ls | grep $ImgId | awk '{print $1}'`\n",
    "echo \"\"\n",
    "echo \"*** using host IP ***\"\n",
    "echo \"\"\n",
    "HostIP={{ hostvars[inventory_hostname]['IP-WKSHP-Docker101'] }}\n",
    "curl -s http://$HostIP:{{ HTTPPORT }} | grep Rocky"
   ]
  },
  {
   "cell_type": "markdown",
   "metadata": {},
   "source": [
    "Now that we have redirected the port correctly, we can reach our webserver from outside the container using the host IP address. If that machine is reachable from the Internet, you will have a Webserver in a container available online.\n",
    "\n",
    "And, as this is the case in our environment, you can now launch a Web browser of your choice and reach the URL mentioned in the next cell to check it."
   ]
  },
  {
   "cell_type": "markdown",
   "metadata": {},
   "source": [
    "Copy/paste that URL in your browser launch bar: http://{{ WODBEEXTFQDN }}:{{ HTTPPORT }}"
   ]
  },
  {
   "cell_type": "markdown",
   "metadata": {},
   "source": [
    "Don't you feel powerful now?"
   ]
  },
  {
   "cell_type": "markdown",
   "metadata": {},
   "source": [
    "\n",
    "It's time to add some useful content to our web server!\n",
    "Modify again the Dockerfile to add nextcloud to our image:"
   ]
  },
  {
   "cell_type": "code",
   "execution_count": null,
   "metadata": {},
   "outputs": [],
   "source": [
    "ipaddr=`/sbin/ifconfig docker0 | head -2 | tail -1 | awk '{print $2}'`\n",
    "echo \"RUN curl ftp://$ipaddr/pub/nextcloud-22.1.1.zip -o /tmp/nextcloud.zip\" >> build/Dockerfile\n",
    "echo 'RUN dnf install -y unzip' >> build/Dockerfile\n",
    "echo 'RUN cd /var/www/html/ && unzip -q /tmp/nextcloud.zip' >> build/Dockerfile\n",
    "echo 'RUN chown apache:apache -R /var/www/html/nextcloud' >> build/Dockerfile\n",
    "cat build/Dockerfile"
   ]
  },
  {
   "cell_type": "markdown",
   "metadata": {},
   "source": [
    "Re-create a new image based on that Dockerfile. Purge the previous content before relaunching a new container. Note that we allow the Apache user (running the httpd daemon) to own the nextcloud data in order to avoid issues. The choice would be different in a production environment where security should be taken seriously."
   ]
  },
  {
   "cell_type": "code",
   "execution_count": null,
   "metadata": {},
   "outputs": [],
   "source": [
    "ImgId=`docker image ls | head -2 | tail -1 | awk '{print $3}'`\n",
    "CtnId=`docker container ls | grep $ImgId | awk '{print $1}'`\n",
    "docker stop $CtnId\n",
    "docker rm $CtnId\n",
    "echo \"\"\n",
    "docker build -f build/Dockerfile .\n",
    "echo \"\"\n",
    "ImgId=`docker image ls | head -2 | tail -1 | awk '{print $3}'`\n",
    "echo \"\"\n",
    "docker run -d -p {{ HTTPPORT }}:80 $ImgId\n",
    "docker container ls"
   ]
  },
  {
   "cell_type": "markdown",
   "metadata": {},
   "source": [
    "Try now to connect to your nextcloud instance at  http://{{ WODBEEXTFQDN }}:{{ HTTPPORT }}/nextcloud. \n",
    "\n",
    "![Nextcloud failed](Pictures/nextcloud_without_dep.png)\n",
    "\n",
    "1. What happened?\n",
    "2. What should you do next to solve the issue?\n",
    "\n",
    "Well, nexcloud required a PHP stack (>= 7.3) in order to work correctly. That's what the first line implies. So, you probably need to add the nextcloud dependencies to be able to launch it. You can find details on how to run nextcloud on Linux at their installation page : https://docs.nextcloud.com/server/latest/admin_manual/installation/source_installation.html \n",
    "We did the analysis job for you so all you have to do is modify your Dockerfile accordingly and relaunch the build/run of the image/container:"
   ]
  },
  {
   "cell_type": "code",
   "execution_count": null,
   "metadata": {},
   "outputs": [],
   "source": [
    "echo \"RUN dnf module enable -y php:7.4\" >> build/Dockerfile\n",
    "echo \"RUN dnf install -y php php-dom php-mbstring php-pdo php-gd php-intl php-zip\" >> build/Dockerfile\n",
    "echo \"RUN mkdir -p /run/php-fpm\" >> build/Dockerfile\n",
    "sed -i '/^CMD/d' build/Dockerfile\n",
    "echo \"CMD php-fpm && /usr/sbin/apachectl -DFOREGROUND -k start\" >> build/Dockerfile\n",
    "ImgId=`docker image ls | head -2 | tail -1 | awk '{print $3}'`\n",
    "CtnId=`docker container ls | grep $ImgId | awk '{print $1}'`\n",
    "docker stop $CtnId\n",
    "docker rm $CtnId\n",
    "echo \"\"\n",
    "docker build -f build/Dockerfile .\n",
    "echo \"\"\n",
    "ImgId=`docker image ls | head -2 | tail -1 | awk '{print $3}'`\n",
    "echo \"\"\n",
    "docker run -d -p {{ HTTPPORT }}:80 $ImgId\n",
    "docker container ls\n"
   ]
  },
  {
   "cell_type": "markdown",
   "metadata": {},
   "source": [
    "With that, you should be able to use nextcloud!\n",
    "Note that you need to use that version of nextcloud with Rocky Linux 8 for a PHP dependency management.\n",
    "Note also that launching applications in a container (`CMD` line) doesn't benefit from the `systemd` facility and thus requires some analysis in order to launch them.\n",
    "\n",
    "![Nextcloud login](Pictures/nextcloud_login.png)\n",
    "\n",
    "But we're not done yet!!!\n",
    "\n",
    "First, log on to your nextcloud instance and start customizing it: choose a login/passwd (admin/whatever), keep the data folder proposed by default (`/var/www/html/nextcloud/data`) and use SQLite for now. Please finish the setup.\n",
    "\n",
    "If you have a timeout on the gateway, or if you waited more than one minute without modification, please reload the page and log on with the credentials you just created. After the explanations, you should see some shared files.\n",
    "\n",
    "![Nextcloud dashboard](Pictures/nextcloud_dashboard.png)\n"
   ]
  },
  {
   "cell_type": "markdown",
   "metadata": {},
   "source": [
    "As long as this very container is running, there is no problem to keep what you do. But what happens when you end the container ? "
   ]
  },
  {
   "cell_type": "markdown",
   "metadata": {},
   "source": [
    "But before we get into that, by now you have probably noticed that you have to each time deal with IDs for containers and images, which is not all that convenient. Let's fix that by giving the `hpedevcloud` name to our image and container."
   ]
  },
  {
   "cell_type": "code",
   "execution_count": null,
   "metadata": {},
   "outputs": [],
   "source": [
    "ImgId=`docker image ls | head -2 | tail -1 | awk '{print $3}'`\n",
    "CtnId=`docker container ls | grep $ImgId | awk '{print $1}'`\n",
    "docker stop $CtnId\n",
    "docker rm $CtnId\n",
    "echo \"\"\n",
    "docker build -f build/Dockerfile -t hpedevcloud .\n",
    "echo \"\"\n",
    "ImgId=`docker image ls | head -2 | tail -1 | awk '{print $3}'`\n",
    "echo \"\"\n",
    "docker run -d -p {{ HTTPPORT }}:80 --name hpedevcloud hpedevcloud:latest\n",
    "docker image ls\n",
    "docker container ls"
   ]
  },
  {
   "cell_type": "markdown",
   "metadata": {},
   "source": [
    "So now that we have used  `docker stop` and `docker rm`  to relaunch the container again, none of the customization we made is kept as it's not part of your container content. Even when you reload your browser, you'll see that you need to go  back to customize it again. Annoying !\n",
    "\n",
    "Now, it's time for us to deal with storage management for our Docker container. This means that we need to store all the nextcloud data outside of the container (here on our host) and attach it to the container at start so it's not evanescent when the container stops.\n",
    "\n",
    "During the setup, we were asked for the location of the data folder. That seems like a good candidate to externalize. Let's work on that. Create a `data` directory on your host in your home directory, mount it in your container under `/data`, and then point your setup to it instead of the one under `/var/www/html/owncloud`."
   ]
  },
  {
   "cell_type": "code",
   "execution_count": null,
   "metadata": {},
   "outputs": [],
   "source": [
    "mkdir -p data\n",
    "docker stop hpedevcloud\n",
    "docker rm hpedevcloud\n",
    "echo \"\"\n",
    "docker build -f build/Dockerfile -t hpedevcloud .\n",
    "echo \"\"\n",
    "docker run -d -p {{ HTTPPORT }}:80 -v `pwd`/data:/data --name hpedevcloud hpedevcloud:latest\n",
    "docker image ls\n",
    "docker container ls"
   ]
  },
  {
   "cell_type": "markdown",
   "metadata": {},
   "source": [
    "Reload the nextcloud configuration page in your browser, but this time configure the data folder as in the following screen shot:\n",
    "\n",
    "![Nextcloud Setup](Pictures/nextcloud_setup.png)\n",
    "\n",
    "**If you encounter issues, it's probably because you need to adapt the rights so that the Apache user is allowed to write on to the /data directory.**\n",
    "\n",
    "If you're stuck, just run the following command (and re-setup again in the other tab):"
   ]
  },
  {
   "cell_type": "code",
   "execution_count": null,
   "metadata": {},
   "outputs": [],
   "source": [
    "ls -al data\n",
    "aid=`docker exec hpedevcloud grep apache /etc/passwd |cut -d: -f3`\n",
    "echo \"Apache user uid is $aid and will own data\"\n",
    "docker exec hpedevcloud chown -R $aid:$aid data \n",
    "ls -al data"
   ]
  },
  {
   "cell_type": "markdown",
   "metadata": {},
   "source": [
    "You can obviously see the side effect of being root in the container, able to use chown and change owner of files on the host. Of course, you're limited to what you exposed in the container. This is now solved; setup nextcloud again as proposed upper! Click on the files icon at the top and the plus icon to upload a PDF file into your nextcloud instance.\n",
    "\n",
    "![Nextcloud Upload](Pictures/nextcloud_upload.png)\n",
    "\n",
    "Check that you can open it from nextcloud."
   ]
  },
  {
   "cell_type": "markdown",
   "metadata": {},
   "source": [
    "Check that stopping and relaunching your nextcloud container now provides persistency to data:"
   ]
  },
  {
   "cell_type": "code",
   "execution_count": null,
   "metadata": {},
   "outputs": [],
   "source": [
    "docker stop hpedevcloud\n",
    "docker rm hpedevcloud\n",
    "echo \"\"\n",
    "docker build -f build/Dockerfile -t hpedevcloud .\n",
    "echo \"\"\n",
    "docker run -d -p {{ HTTPPORT }}:80 -v `pwd`/data:/data --name hpedevcloud hpedevcloud:latest\n",
    "docker image ls\n",
    "docker container ls"
   ]
  },
  {
   "cell_type": "markdown",
   "metadata": {},
   "source": [
    "Reload your browser page, log in again and verify that the file is still there. What? You're back to setup again? Well, that's not really a surprise, is it? I warned you that this training is based on trial and error. Do not launch the setup yet. In fact, nextcloud uses a second directory to store config data, the config dir:"
   ]
  },
  {
   "cell_type": "code",
   "execution_count": null,
   "metadata": {},
   "outputs": [],
   "source": [
    "docker exec hpedevcloud ls -al /var/www/html/nextcloud/config"
   ]
  },
  {
   "cell_type": "markdown",
   "metadata": {},
   "source": [
    "You can now see information about the config of nextcloud and the fact that it can be installed. So again, we need to externalize this directory if we want persistence across restarts. Let's do it after a cleanup so our nexcloud is fresh again:"
   ]
  },
  {
   "cell_type": "code",
   "execution_count": null,
   "metadata": {},
   "outputs": [],
   "source": [
    "mkdir -p config\n",
    "ls -al config\n",
    "echo \"Cleaning up docker images and containers\"\n",
    "docker exec hpedevcloud rm -rf /data\n",
    "docker exec hpedevcloud ls -al /data\n",
    "docker container prune -f\n",
    "docker image prune -f\n",
    "docker stop hpedevcloud\n",
    "docker rm hpedevcloud\n",
    "docker rmi hpedevcloud:latest\n",
    "docker image ls\n",
    "docker container ls\n",
    "echo \"\"\n",
    "docker build -f build/Dockerfile -t hpedevcloud .\n",
    "echo \"\"\n",
    "docker run -d -p {{ HTTPPORT }}:80 -v `pwd`/data:/var/www/html/nextcloud/data -v `pwd`/config:/var/www/html/nextcloud/config --name hpedevcloud hpedevcloud:latest\n",
    "docker exec hpedevcloud touch /var/www/html/nextcloud/config/CAN_INSTALL\n",
    "aid=`docker exec hpedevcloud grep apache /etc/passwd |cut -d: -f3`\n",
    "echo \"Apache user uid is $aid and will own config\"\n",
    "docker exec hpedevcloud chown -R $aid:$aid /var/www/html/nextcloud/config  /var/www/html/nextcloud/data\n",
    "docker image ls\n",
    "docker container ls"
   ]
  },
  {
   "cell_type": "markdown",
   "metadata": {},
   "source": [
    "Setup your nextcloud again, **keeping all the defaults this time**, as we remapped the data directory directly in the default expected place. Once again, upload a file. Stop the container again and restart it. Then check that you now can directly login and that the file is still there."
   ]
  },
  {
   "cell_type": "code",
   "execution_count": null,
   "metadata": {},
   "outputs": [],
   "source": [
    "docker stop hpedevcloud\n",
    "docker rm hpedevcloud\n",
    "docker run -d -p {{ HTTPPORT }}:80 -v `pwd`/data:/var/www/html/nextcloud/data -v `pwd`/config:/var/www/html/nextcloud/config --name hpedevcloud hpedevcloud:latest\n",
    "docker image ls\n",
    "docker container ls"
   ]
  },
  {
   "cell_type": "markdown",
   "metadata": {},
   "source": [
    "Great. As you can see, it's not necessarily easy to deal with storage for a containerized application, and we have not even touched the network ;-).\n",
    "But with what we've done, we can already see that some help would be needed to manage command line parameters, and, moreover, that it's a case where we would want to add a real database instead of SQLite in a second container. Let's stop our container and have a look at what docker-compose provides then."
   ]
  },
  {
   "cell_type": "code",
   "execution_count": null,
   "metadata": {},
   "outputs": [],
   "source": [
    "docker stop hpedevcloud\n",
    "docker rm hpedevcloud"
   ]
  },
  {
   "cell_type": "markdown",
   "metadata": {},
   "source": [
    "<br><br>\n",
    "\n",
    "## <i class=\"fas fa-2x fa-map-marker-alt\" style=\"color:#551199;\"></i>&nbsp;&nbsp;Next Steps\n",
    "\n",
    "# Lab 4 : Using Docker Compose\n",
    "\n",
    "<h2>Next LAB&nbsp;&nbsp;&nbsp;&nbsp;<a href=\"4-WKSHP-Using-Docker-Compose.ipynb\" target=\"New\" title=\"Next LAB: Using Docker Compose\"><i class=\"fas fa-chevron-circle-right\" style=\"color:#551199;\"></i></a></h2>\n",
    "\n",
    "</br>\n",
    " <a href=\"1-WKSHP-Intro-to-Containers-techno.ipynb\" target=\"New\" title=\"Back: Introduction to Containers technologies\"><button type=\"submit\"  class=\"btn btn-lg btn-block\" style=\"background-color:#551199;color:#fff;position:relative;width:10%; height: 30px;float: left;\"><b>Back</b></button></a>\n",
    " <a href=\"4-WKSHP-Using-Docker-Compose.ipynb\" target=\"New\" title=\"Next:Using Docker Compose\"><button type=\"submit\"  class=\"btn btn-lg btn-block\" style=\"background-color:#551199;color:#fff;position:relative;width:10%; height: 30px;float: right;\"><b>Next</b></button></a>\n"
   ]
  },
  {
   "cell_type": "code",
   "execution_count": null,
   "metadata": {},
   "outputs": [],
   "source": []
  }
 ],
 "metadata": {
  "kernelspec": {
   "display_name": "SSH",
   "language": "bash",
   "name": "ssh"
  },
  "language_info": {
   "codemirror_mode": "shell",
   "file_extension": ".sh",
   "mimetype": "text/x-sh",
   "name": "ssh"
  }
 },
 "nbformat": 4,
 "nbformat_minor": 4
}
