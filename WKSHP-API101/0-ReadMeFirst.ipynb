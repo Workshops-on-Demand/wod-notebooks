{
 "cells": [
  {
   "cell_type": "markdown",
   "metadata": {
    "tags": []
   },
   "source": [
    "{{ BRANDINGLOGO }}\n",
    "\n",
    "# Welcome to the {{ BRANDINGWOD }} Hack Shack\n",
    "[{{ BRANDING }} Community Team]({{ BRANDINGURL }})\n",
    "\n",
    "<p align=\"center\">\n",
    "  <img src=\"Pictures/hackshackdisco.png\">\n",
    "  \n",
    "</p>\n",
    "\n",
    "# Workshops on Demand\n",
    "\n",
    "# Introduction to understanding API basics and the value they provide\n",
    "In this workshop, we’ll go through some of the basics of APIs: Definition, Structure, Usage through simple examples.\n",
    "\n",
    "# Author: [Didier Lalli](mailto:didier.lalli@hpe.com)\n",
    "\n",
    "## Handouts\n",
    "You can freely copy the Jupyter Notebooks, including their output, in order to practice back at your office at your own pace, leveraging a local installation of Jupyter Notebook on your laptop.\n",
    "- You install the Jupyter Notebook application from [here](https://jupyter.org/install). \n",
    "- A Beginners Guide is also available [here](https://jupyter-notebook-beginner-guide.readthedocs.io/en/latest/what_is_jupyter.html)\n",
    "\n",
    "\n",
    "## Lab flow\n",
    "{{ BRANDINGWOD }} Workshops-on-Demand are delivered through a central point that allows a portable, dynamic version of the lab guides. Rather than using standard PDF files which always end in copy / paste errors from the lab guide into the TS sessions, this year we decided to innovate and introduce a brand-new infrastructure. We will leverage a JupyterHub server on which all the different lab guides will be stored in a notebook format (*.ipynb).\n",
    "\n",
    "In a nutshell, a notebook works as follows:\n",
    "\n",
    "• A Notebook is a series de cells\n",
    "\n",
    "• Notebook uses a kernel (visible in the upper right corner of the Notebook)\n",
    "\n",
    "• Cell can be Markdown or Code (in the selected kernel)\n",
    "\n",
    "• To Run a cell use:\n",
    "\n",
    "    o The Play Button at the top\n",
    "    o Ctrl-Enter (run and stay on same cell)\n",
    "    o Shift-Enter (run and move to next cell)\n",
    "    \n",
    "• Running a markdown cell is just rendering it\n",
    "\n",
    "• Running a Code cell runs the code and display the output just below the cell\n",
    "\n",
    "• When a cell is running it displays a [*] to its left, then when finished, it displays a counter of the number of execution of that cell\n",
    "\n",
    "• You cannot run a cell when another is already running but you can interrupt a running cell with the stop button\n",
    "\n",
    "\n",
    "Enjoy the labs ! :-)\n",
    "\n",
    "\n",
    "## Workflow\n",
    "\n",
    "### Lab 1: REST_API_Basics\n",
    "Description: In this section, we’ll go through some of the basics of APIs: Definition, Structure, Usage through simple examples.\n",
    "* [Lab 1](1-WKSHP-REST_API_Basics.ipynb)\n",
    "\n",
    "\n",
    "# Thank you!\n",
    "![grommet.JPG](Pictures/grommet.JPG)"
   ]
  },
  {
   "cell_type": "code",
   "execution_count": 1,
   "metadata": {},
   "outputs": [],
   "source": [
    "#######"
   ]
  },
  {
   "cell_type": "code",
   "execution_count": null,
   "metadata": {},
   "outputs": [],
   "source": []
  }
 ],
 "metadata": {
  "kernelspec": {
   "display_name": "Python 3 (ipykernel)",
   "language": "python",
   "name": "python3"
  },
  "language_info": {
   "codemirror_mode": {
    "name": "ipython",
    "version": 3
   },
   "file_extension": ".py",
   "mimetype": "text/x-python",
   "name": "python",
   "nbconvert_exporter": "python",
   "pygments_lexer": "ipython3",
   "version": "3.8.8"
  }
 },
 "nbformat": 4,
 "nbformat_minor": 4
}
