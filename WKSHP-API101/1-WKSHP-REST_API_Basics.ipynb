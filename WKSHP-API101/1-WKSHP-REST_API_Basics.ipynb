{
 "cells": [
  {
   "cell_type": "markdown",
   "metadata": {},
   "source": [
    "# Understanding API basics and the value they provide\n",
    "## Are you API happy?\n",
    "Over the course of my career, I’ve come across many technical colleagues who were experts on a given product or technology, but always from a user’s point of view. They knew how to design a solution, sell it to the customer, install it, and customize it to meet the customer’s requirements. And, sometimes, they could even debug rather difficult problems. Yet, when developers asked these technology experts about possible integration of their product with third-party software, or when they were pressed to provide scripts and automate processes, the technology experts were at a loss. They simply did not understand the product from a developer’s perspective. \n",
    "\n",
    "And for good reason. There’s a certain amount of magic that happens within an application that is taken care of by the code itself. Many applications you work with today, on PCs, servers, or off in the cloud, include a hidden jewel called the **Application Programming Interface (API)**. In a nutshell, an API makes it possible to interact with an application programmatically. This means that developers can integrate their application with applications in a standardized way. This becomes very useful because it opens up a whole lot of new use cases and business opportunities. But in order for you to take advantage of these opportunities, you need to understand the product’s API well enough so that you can discuss its capabilities with developers.\n",
    "## Can you REST?\n",
    "Exploring how you interact programmatically with a product is no easy task. Developers are more familiar with this exercise, but as a non-developer, you might wonder how to get started. The good news is that a de facto standard for building APIs has emerged in the last few years. It’s called **REST (REpresentation State Transfer)**, it was nail down by Roy Fielding in his PhD thesis. Let me first explain what REST is, and then I’ll define a few important concepts used by RESTFul APIs, such as HTTP and JSON.\n",
    "## API endpoint\n",
    "Most of you are familiar with the term HTTP (HyperText Transfer Protocol) and URL (Uniform Resource Locator) because you use a web browser every day. Yet you may not know how they relate to REST and APIs. REST is an architecture that uses a set of principles to describe how networked resources are defined and addressed, leveraging HTTP to build APIs. \n",
    "\n",
    "In API land, we use a URL to point to an API and we call it an **endpoint**. You would always start working with an API buy knowing what its endpoint is. The following are examples of API endpoints:\n",
    "\n",
    "* https\\://my-oneview-address.mycompany.net/rest\n",
    "* https\\://my-ilo-address.mycompany.net/redfish/v1\n",
    "* https\\://dynamodb.us-west-2.amazonaws.com\n",
    "\n",
    "## HTTP verbs\n",
    "The HTTP specification defines how messages are formatted and transmitted, as well as what actions Web servers should take in response to various commands. In HTTP, one uses **verbs** to describe an action that will apply to a given URL or endpoint. When you launch a web browser, the implicit verb is **GET**. However, there are other verbs in the HTTP specifications such as **POST**, **PUT**, **PATCH**, and **DELETE**. REST APIs use these verbs to describe possible actions. The URL in a REST API call is, like in a browser, the target to which the verb must be applied. For example, ` GET http://google.com ` means \"retrieve the content of the main index page at google.com, and render it in my browser window\". \n",
    "\n",
    "Let’s review the most important HTTP verbs:\n",
    "* GET – Retrieve object instance properties\n",
    "* PUT/PATCH –Modify object instance properties (two different ways)\n",
    "* POST – Create a new object instance\n",
    "* DELETE - Remove an object instance \n",
    "\n",
    "## Passing data back and forth\n",
    "When we know how to use an HTTP verb to describe an action, we can use a URL to point to something in the API, but we need a mechanism to exchange data with the application at the other end. This mechanism is useful to create new items or to retrieve a list of items from the application. We use a couple of techniques to do this.\n",
    "\n",
    "### HTTP headers\n",
    "The first technique uses something described by the HTTP specifications called **HTTP headers**. A header allows the attachment of information with the API call as a key/value pair of strings. \n",
    "\n",
    "For example, you can add an  `Accept ` header with value ` application/json ` to tell the API to return the result in json. There is no standard for HTTP headers, but there are many well-known headers used by APIs such as **Accept**, **Content-Type**, **X-API-Version**, etc. Headers are useful for passing a simple text value. Think about it as a property for your API call.\n",
    "\n",
    "### HTTP payload\n",
    "But what if you want to pass more data to your API? For this, you can use the HTTP message **payload**, also known as the **body** of the API call. This is typically used to specify the credentials to get access to an API or to provide the properties for a new object to create via the API. But to pass data back and forth with an API, you need to make sure the client (calling the API) and the API agree on a format for this data. The payload can be provided in multiple formats such as text, XML or JSON.\n",
    "\n",
    "### JSON\n",
    "The most popular format nowadays is called **JSON (for JavaScript Object Notation)**. JSON is a fairly readable machine language which typically looks like a series of Key/Value pairs separated with colons, with string values in quotes and multiple key/values separated with commas. The following is a simple example of a valid JSON snippet:\n",
    "\n",
    "```json\n",
    "\n",
    "{\n",
    "“userName”: “foo@hpe.com”,\n",
    "“password”: “super-secure-password”\n",
    "}   \n",
    "```\n",
    "\n",
    "JSON is case sensitive, so make sure you have the key names right (\"userName\" is not the same as \"username\"). You can express complex values by nesting JSON values and by using square brackets to indicate a collection of similar items as shown below:\n",
    "\n",
    "```json\n",
    "{ “members”: [\n",
    "                { “lastname”: “max”,\n",
    "                 “firstname”: “mad”,\n",
    "                 “age”: 50},\n",
    "                {“lastname”: “james”,\n",
    "                 “firstname”: “bond”,\n",
    "                 “age”: 60}],\n",
    "“count”: 2\n",
    "}\n",
    "\n",
    "```\n",
    "\n",
    "An API might accept more than one input format for payloads, and it may also provide responses in more than one format (JSON, XML, TEXT). Therefore, the convention is to use HTTP headers to specify which format you are going to use to pass data to the API (in your payload) and what data format you expect for the response. \n",
    "\n",
    "These headers are: \n",
    "* Accept: application/json (please provide me with a response in JSON) \n",
    "* Content-Type: application/json (I’m handing out a payload in JSON)\n",
    "\n",
    "## Response code\n",
    "\n",
    "\n",
    "\n",
    "## Putting it all together\n",
    "In summary, an API uses:\n",
    "* A URL. It also uses the term URI (Uniform Resource Identifier) to specify an object ID or a class of objects\n",
    "* A verb to specify what action to take on that URL/URI\n",
    "* One or more HTTP headers to attach certain properties on the API call, such as what format to accept for the response\n",
    "* A payload to pass data to the API\n",
    "\n",
    "Let’s look at a few examples using HPE OneView API:\n",
    "\n",
    "* GET https\\://my-oneview-address.mycompany.net/rest/servers with HEADER Accept set to application/json: Retrieves the list of servers and request results in JSON \n",
    "* POST https\\://my-oneview-address.mycompany.net/rest/login-sessions with HEADER Content-Type set to application/json and {\"userName\"=\"foo\",\"password\"=\"password\"} as a JSON payload/body: Creates a new object of type login-session, which is equivalent to logging in the GUI\n",
    "* DELETE  https\\://my-oneview-address.mycompany.net/rest/login-sessions: with HEADER Auth set to session token: Deletes the provided login-session, which is equivalent of loging out in the GUI\n",
    "\n",
    "## Learning to cURL\n",
    "Since a browser can only really handle GET, it is clearly not the appropriate tool for manipulating an API. One first tool many people use is a command line tool called cURL. This is available with all Linux distributions and with MacOS. You can open a console and type: ` curl ` to see if you have it installed:\n",
    "\n",
    "```bash\n",
    "$ curl\n",
    "curl: try 'curl --help' or 'curl --manual' for more information\n",
    "```"
   ]
  },
  {
   "cell_type": "code",
   "execution_count": 1,
   "metadata": {},
   "outputs": [
    {
     "name": "stdout",
     "output_type": "stream",
     "text": [
      "curl 7.68.0 (x86_64-pc-linux-gnu) libcurl/7.68.0 OpenSSL/1.1.1f zlib/1.2.11 brotli/1.0.7 libidn2/2.2.0 libpsl/0.21.0 (+libidn2/2.2.0) libssh/0.9.3/openssl/zlib nghttp2/1.40.0 librtmp/2.3\n",
      "Release-Date: 2020-01-08\n",
      "Protocols: dict file ftp ftps gopher http https imap imaps ldap ldaps pop3 pop3s rtmp rtsp scp sftp smb smbs smtp smtps telnet tftp \n",
      "Features: AsynchDNS brotli GSS-API HTTP2 HTTPS-proxy IDN IPv6 Kerberos Largefile libz NTLM NTLM_WB PSL SPNEGO SSL TLS-SRP UnixSockets\n"
     ]
    }
   ],
   "source": [
    "curl --version"
   ]
  },
  {
   "cell_type": "markdown",
   "metadata": {},
   "source": [
    "\n",
    "If you are running Windows, you can get cURL from a PowerShell console (it's actually an alias) or you can download a version of cURL for Windows from https://curl.haxx.se/windows/.\n",
    "\n",
    "\n",
    "There are many available options but let us focus on the most important ones:\n",
    "\n",
    "| Option | Meaning                    | Example                                                                         |\n",
    "|--------|----------------------------|---------------------------------------------------------------------------------|\n",
    "| H      | HTTP Header                | -H \"accept: application/json\"                                                   |\n",
    "|        |                            | -H \"content-type: application/json\"                                             |\n",
    "| d      | data or payload            | -d '{\"userName\":\"Administrator\",\"password\":\"password\"}'                         |\n",
    "| X      | command                    | -X GET https://<ip>/rest/version                                 |\n",
    "|        |                            | -X POST https://<ip>/rest/login-sessions                         |\n",
    "| k      | insecure                   | bypasses SSL certificate validation                                             |\n",
    "| i      | include HEADER in response | useful to check the response status code, but not used when parsing JSON result |\n",
    "| s      | silent                     | hide progress bar                                                               | \n",
    "| x      | use a proxy                | -x http://mycompanyproxy.com:8888                                               |\n",
    "\n",
    "This is an example of curl call to retrieve HPE OneView API version:\n",
    "\n",
    "```bash\n",
    "$ curl -i -k -H \"accept: application/json\" -X GET https://my-oneviewserver.mycompany.net/rest/version\n",
    "```\n",
    "\n",
    "## Postman to the rescue\n",
    "\n",
    "While cURL is a convenient little tool, it's also a command line tool, which many people dislike. There is another fantastic tool called Postman, which offers a free version that can be used to explore APIs. Visit http://getpostman.com to find the version that works for you (Windows, Mac and Linux). Once installed, start Postman on your machine. You do not need to sign-in to use it for exploring APIs. Since Postman is more than just a client API tool, you’ll want to check out its full feature set. \n",
    "\n",
    "## Let’s find a sandbox to give it a try\n",
    "\n",
    "__Note:__ Make sure you have access to the Internet for this next section.\n",
    "\n",
    "Millions of APIs are available on the Internet today. Most of them are fee-based and require proper authentication, but a few free APIs are still available, which you can use with or without authentication. I selected a very simple one about a weather report, which doesn’t require authentication to use. You can look up more in this list to find another API, if you prefer: https://github.com/public-apis/public-apis\n",
    "\n",
    "The API end-point we selected is: https://open-meteo.com/en/docs. It's a nice little API that provides, for free, and without requiring any sort of authentication, weather condition accross the globe. Take a look at the documentation on the web site. In our example we are going to use the city of Paris but if you'd like to pick another one, use the API website to select a city and retrieve the corresponding latitude and longitude values as this is what the API expects as input parameters.\n",
    "    \n",
    "From the capture below, you can see the values for Paris:\n",
    "    \n",
    "![Latitude and longitude for Paris](Pictures/pickacity.png)\n",
    "    \n",
    "### Querying API for weather of a city, such as Paris\n",
    "\n",
    "If using Postman, make sure the URL is set to https://api.open-meteo.com/v1/forecast?latitude=48.8567&longitude=2.3510&current_weather=true and that GET is the selected verb before you hit Send to issue the API call. Ideally you should also add a Header for Accept:application/json to make sure the API returns only JSON. \n",
    "    \n",
    "You can see in the response section that it is, indeed provided in JSON, which is somehow readable:\n",
    "\n",
    "![Postman: GET City of Paris Weather](Pictures/getweatherparis.png)\n",
    "\n",
    "In this workshop, we use cURL So let's give it a try:\n",
    "    "
   ]
  },
  {
   "cell_type": "code",
   "execution_count": 2,
   "metadata": {},
   "outputs": [
    {
     "name": "stdout",
     "output_type": "stream",
     "text": [
      "\u001b[1;39m{\n",
      "  \u001b[0m\u001b[34;1m\"latitude\"\u001b[0m\u001b[1;39m: \u001b[0m\u001b[0;39m48.86\u001b[0m\u001b[1;39m,\n",
      "  \u001b[0m\u001b[34;1m\"longitude\"\u001b[0m\u001b[1;39m: \u001b[0m\u001b[0;39m2.3599997\u001b[0m\u001b[1;39m,\n",
      "  \u001b[0m\u001b[34;1m\"generationtime_ms\"\u001b[0m\u001b[1;39m: \u001b[0m\u001b[0;39m0.041961669921875\u001b[0m\u001b[1;39m,\n",
      "  \u001b[0m\u001b[34;1m\"utc_offset_seconds\"\u001b[0m\u001b[1;39m: \u001b[0m\u001b[0;39m0\u001b[0m\u001b[1;39m,\n",
      "  \u001b[0m\u001b[34;1m\"timezone\"\u001b[0m\u001b[1;39m: \u001b[0m\u001b[0;32m\"GMT\"\u001b[0m\u001b[1;39m,\n",
      "  \u001b[0m\u001b[34;1m\"timezone_abbreviation\"\u001b[0m\u001b[1;39m: \u001b[0m\u001b[0;32m\"GMT\"\u001b[0m\u001b[1;39m,\n",
      "  \u001b[0m\u001b[34;1m\"elevation\"\u001b[0m\u001b[1;39m: \u001b[0m\u001b[0;39m45\u001b[0m\u001b[1;39m,\n",
      "  \u001b[0m\u001b[34;1m\"current_weather_units\"\u001b[0m\u001b[1;39m: \u001b[0m\u001b[1;39m{\n",
      "    \u001b[0m\u001b[34;1m\"time\"\u001b[0m\u001b[1;39m: \u001b[0m\u001b[0;32m\"iso8601\"\u001b[0m\u001b[1;39m,\n",
      "    \u001b[0m\u001b[34;1m\"interval\"\u001b[0m\u001b[1;39m: \u001b[0m\u001b[0;32m\"seconds\"\u001b[0m\u001b[1;39m,\n",
      "    \u001b[0m\u001b[34;1m\"temperature\"\u001b[0m\u001b[1;39m: \u001b[0m\u001b[0;32m\"°C\"\u001b[0m\u001b[1;39m,\n",
      "    \u001b[0m\u001b[34;1m\"windspeed\"\u001b[0m\u001b[1;39m: \u001b[0m\u001b[0;32m\"km/h\"\u001b[0m\u001b[1;39m,\n",
      "    \u001b[0m\u001b[34;1m\"winddirection\"\u001b[0m\u001b[1;39m: \u001b[0m\u001b[0;32m\"°\"\u001b[0m\u001b[1;39m,\n",
      "    \u001b[0m\u001b[34;1m\"is_day\"\u001b[0m\u001b[1;39m: \u001b[0m\u001b[0;32m\"\"\u001b[0m\u001b[1;39m,\n",
      "    \u001b[0m\u001b[34;1m\"weathercode\"\u001b[0m\u001b[1;39m: \u001b[0m\u001b[0;32m\"wmo code\"\u001b[0m\u001b[1;39m\n",
      "  \u001b[1;39m}\u001b[0m\u001b[1;39m,\n",
      "  \u001b[0m\u001b[34;1m\"current_weather\"\u001b[0m\u001b[1;39m: \u001b[0m\u001b[1;39m{\n",
      "    \u001b[0m\u001b[34;1m\"time\"\u001b[0m\u001b[1;39m: \u001b[0m\u001b[0;32m\"2024-10-02T08:00\"\u001b[0m\u001b[1;39m,\n",
      "    \u001b[0m\u001b[34;1m\"interval\"\u001b[0m\u001b[1;39m: \u001b[0m\u001b[0;39m900\u001b[0m\u001b[1;39m,\n",
      "    \u001b[0m\u001b[34;1m\"temperature\"\u001b[0m\u001b[1;39m: \u001b[0m\u001b[0;39m13.7\u001b[0m\u001b[1;39m,\n",
      "    \u001b[0m\u001b[34;1m\"windspeed\"\u001b[0m\u001b[1;39m: \u001b[0m\u001b[0;39m9\u001b[0m\u001b[1;39m,\n",
      "    \u001b[0m\u001b[34;1m\"winddirection\"\u001b[0m\u001b[1;39m: \u001b[0m\u001b[0;39m272\u001b[0m\u001b[1;39m,\n",
      "    \u001b[0m\u001b[34;1m\"is_day\"\u001b[0m\u001b[1;39m: \u001b[0m\u001b[0;39m1\u001b[0m\u001b[1;39m,\n",
      "    \u001b[0m\u001b[34;1m\"weathercode\"\u001b[0m\u001b[1;39m: \u001b[0m\u001b[0;39m61\u001b[0m\u001b[1;39m\n",
      "  \u001b[1;39m}\u001b[0m\u001b[1;39m\n",
      "\u001b[1;39m}\u001b[0m\n"
     ]
    }
   ],
   "source": [
    "curl -s -H \"Accept:application/json\" -X GET \"https://api.open-meteo.com/v1/forecast?latitude=48.8567&longitude=2.3510&current_weather=true\" | jq .  "
   ]
  },
  {
   "cell_type": "markdown",
   "metadata": {},
   "source": [
    "As you can see, a fair amount of information is provided by the API, including latitude, longitude, temperature, windspeed, and weather conditions in Paris (most likely not great :-)). You might need the following table to translate weathercode into useful information for human:\n",
    "\n",
    "![Weather Code Table](Pictures/weathercodetable.png)\n",
    "\n",
    "As a developer, you could further parse this JSON response and use it in your own application.\n",
    "\n",
    "Here we can use jq and its powerful (yet cryptic) syntax to filter out data and only keep temperature windspeed and time:\n"
   ]
  },
  {
   "cell_type": "code",
   "execution_count": 3,
   "metadata": {},
   "outputs": [
    {
     "name": "stdout",
     "output_type": "stream",
     "text": [
      "\u001b[1;39m{\n",
      "  \u001b[0m\u001b[34;1m\"temperature\"\u001b[0m\u001b[1;39m: \u001b[0m\u001b[0;39m19.5\u001b[0m\u001b[1;39m,\n",
      "  \u001b[0m\u001b[34;1m\"windspeed\"\u001b[0m\u001b[1;39m: \u001b[0m\u001b[0;39m2.9\u001b[0m\u001b[1;39m,\n",
      "  \u001b[0m\u001b[34;1m\"time\"\u001b[0m\u001b[1;39m: \u001b[0m\u001b[0;32m\"2024-08-26T20:15\"\u001b[0m\u001b[1;39m\n",
      "\u001b[1;39m}\u001b[0m\n"
     ]
    }
   ],
   "source": [
    "curl -s -H \"Accept:application/json\" -X GET \"https://api.open-meteo.com/v1/forecast?latitude=48.8567&longitude=2.3510&current_weather=true\" | jq \".current_weather | {temperature, windspeed, time} \""
   ]
  },
  {
   "cell_type": "markdown",
   "metadata": {},
   "source": [
    "Perfect! Optionally, you can redo the sequence for another city on earth. Give it a try!\n",
    "\n",
    "## Now what?\n",
    "Congratulations! You have placed your first API calls using Postman and cURL. This simple API only accepted GET calls, so one might argue everything could have been handled by a standard browser. The advantage of using Postman is that you can save your calls and start building collections of API calls that are useful in your job. We used a very limited API to get the weather report in Paris, but the exact same technique (using Postman or cURL) could be applied with other REST APIs, such as the ones from HPE OneView, HPE SimpliVity or Redfish. \n",
    "\n",
    "\n",
    "# Time to wrap up\n",
    "You can now move to the conclusion of this workshop !\n",
    "\n",
    "* [Conclusion](2-WKSHP-Conclusion.ipynb)"
   ]
  }
 ],
 "metadata": {
  "kernelspec": {
   "display_name": "Bash",
   "language": "bash",
   "name": "bash"
  },
  "language_info": {
   "codemirror_mode": "shell",
   "file_extension": ".sh",
   "mimetype": "text/x-sh",
   "name": "bash"
  }
 },
 "nbformat": 4,
 "nbformat_minor": 4
}
