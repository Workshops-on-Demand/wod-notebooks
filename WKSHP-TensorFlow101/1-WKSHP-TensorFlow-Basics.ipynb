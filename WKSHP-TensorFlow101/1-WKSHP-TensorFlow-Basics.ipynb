{
 "cells": [
  {
   "cell_type": "markdown",
   "metadata": {},
   "source": [
    "\n",
    "# TensorFlow Basics\n",
    "## Overview\n",
    "In this workshop, we will learn the basics of TensorFlow by being hands-on - no math knowledge required!!\n",
    "\n",
    "We are NOT attempting to teach you to become a data analyst!!\n",
    "## Architecture\n",
    "the following lab could run from your laptop or from kaggle but we adapted it to fit in our overall workshop infrastructure.\n",
    "We are using a vm appliance serving one docker container (containing the labs) per student.\n",
    "The workshop is leveraging a docker image providing all the necessary tooling for this lab : \n",
    "\n",
    "![WOD-infra](Pictures/wod-docker-infra.png)"
   ]
  },
  {
   "cell_type": "markdown",
   "metadata": {},
   "source": [
    "The workshop is mainly based on [the python graph library](https://www.python-graph-gallery.com/)\n",
    "\n",
    "In the docker container, a Python 3 environment comes with many helpful analytics libraries installed. We'll use three libraries for this tutorial: [pandas](http://pandas.pydata.org/), [matplotlib](http://matplotlib.org/), and [seaborn](http://stanford.edu/~mwaskom/software/seaborn/).\n",
    "\n",
    "Before we dive into the lab, let's have a look at the many possibilities offered to us to graph data.\n",
    "![TensorFlow Cheat Sheet](Pictures/tensorflow-cheatsheet.jpeg)\n"
   ]
  },
  {
   "cell_type": "markdown",
   "metadata": {},
   "source": [
    "## Let us start the lab now!\n",
    "\n",
    "you will be moving to a second jupyter notebook environment right now using the link provided below.\n",
    "Click the following link to run the [Data Visualization lab](http://{{ WODBEEXTFQDN }}:{{ HTTPPORT }}?token={{ TENSORFLOWTOK }})\n",
    "\n",
    "\n",
    "token = {{ TENSORFLOWTOK }}\n",
    "port = {{ HTTPPORT }}\n",
    "\n",
    "\n",
    "\n",
    "\n",
    "## Now what?\n",
    "Congratulations! You have now completed this workshop!\n",
    "\n",
    "\n",
    "# Time to wrap up\n",
    "You can now move to the conclusion of this workshop !\n",
    "\n",
    "* [Conclusion](2-WKSHP-Conclusion.ipynb)"
   ]
  }
 ],
 "metadata": {
  "kernelspec": {
   "display_name": "Bash",
   "language": "bash",
   "name": "bash"
  },
  "language_info": {
   "codemirror_mode": "shell",
   "file_extension": ".sh",
   "mimetype": "text/x-sh",
   "name": "bash"
  }
 },
 "nbformat": 4,
 "nbformat_minor": 4
}
