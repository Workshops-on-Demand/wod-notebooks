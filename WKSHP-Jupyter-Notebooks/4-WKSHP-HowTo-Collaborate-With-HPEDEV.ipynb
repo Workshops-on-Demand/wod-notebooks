{
 "cells": [
  {
   "cell_type": "markdown",
   "metadata": {},
   "source": [
    "<style type=\"text/css\" media=\"screen\">\n",
    "a:link { color:#551199; text-decoration: none; }\n",
    "a:visited { color:#FFFFFF; text-decoration: none; }\n",
    "a:hover { color:#FFFFFF; text-decoration: none; }\n",
    "a:active { color:#FFFFFF; text-decoration: underline; }\n",
    "</style>\n",
    "# <a id=\"sc\" style=\"text-decoration:none;\">Working Together !!</a>\n",
    "![](Pictures/hpedevlogo-NB.JPG)                                                      ![](Pictures/hpelogo.png)        \n",
    "\n",
    "\n",
    "<br>\n"
   ]
  },
  {
   "cell_type": "markdown",
   "metadata": {},
   "source": [
    "# Willing to work with us to develop some new Workshops ?"
   ]
  },
  {
   "cell_type": "markdown",
   "metadata": {},
   "source": [
    "The {{ BRANDING }} Community Team has put in place several environments to develop, test, and  host in production their workshops.\n",
    "\n",
    "## The way we work is fairly simple, it flows like this:\n",
    "\n",
    "![](Pictures/wod-process.JPG)"
   ]
  },
  {
   "cell_type": "markdown",
   "metadata": {},
   "source": [
    "## How do Wrkshops-on-Demand actually work? the magic behind...\n",
    "\n",
    "![](Pictures/WOD1.png)\n",
    "\n",
    "\n",
    "**Step1: The customer registers for a workshop online at our virtual {{ BRANDINGWOD }}. When clicking the register button for the selected workshop and after agreeing to the terms and conditions, the front-end triggers the first REST API calls to:**\n",
    "* Register the customer in the Customers Database.\n",
    "* Send a welcome email to the customer\n",
    "* Assign a student to him/her according to the student range allocated to the given workshop \n",
    "\n",
    "**Step2: The registration App then orders (through a mail API call managed by procmail) the backend to:**\n",
    "* Generate a random password for the selected student\n",
    "* Deploy the selected workshop\n",
    "\n",
    "**Step3: The backend Infrastructure calls back the registration application using its REST API to:**\n",
    "* Provide back the new student password\n",
    "* Make the Customers database record active\n",
    "* Decrement Workshop capacity\n",
    "\n",
    "**Step4: The registration App sends:**\n",
    "* The credentials email to allow the customer to connect to the workshop\n",
    "This infrastructure automation relies mainly on a few bash scripts and Ansible playbooks to:\n",
    "* Generate random passwords\n",
    "  * Update LDAP passwords accordingly when required\n",
    "* Deploy the given workshop to the proper student home directory through an Ansible playbook\n",
    "* Update the notebook content through Ansible variables usage\n",
    "  * Student id\n",
    "  * Student password\n",
    "  * API Endpoints Definition\n",
    "  * Update student permissions\n",
    "* Perform all necessary create or reset actions linked to a given workshop outside of the notebook customization\n",
    "\n",
    "The registration app actually sends an email to the backend with a dedicated format (an API!) that is then parsed by the Procmail process to retrieve the necessary information to perform the different tasks. We use 3 verbs: CREATE (to setup to the student environment as described upper), DELETE (to remove the user from tables), RESET (to clean up the student content and reset the back-end infrastructure when needed).\n",
    "At the end of this automation process, the backend makes a series of API calls to the registration app to send back required information like new password, workshop status, etc…\n"
   ]
  },
  {
   "cell_type": "markdown",
   "metadata": {},
   "source": [
    "## The {{ BRANDING }} Community Team provides...\n",
    "\n",
    "* A user account for the dev to develop his notebooks on jupyterhub3 our [Staging Server](https://jupyterhub3.hpedev.io )\n",
    "* Some Workshop templates (Introduction Notebook,  Workshop Notebook and Conclusion Notebook) in the dev home directory\n",
    "* The necessary kernel, Language modules allowing the development of the workshops\n",
    "* The necessary API endpoints (if not public ones) along with their relevant ansible variables used for replication\n",
    "* Replication scripts allowing dev to replicate / validate his workshop on target students leveraging ansible variables\n",
    "* A range of users for testing / production usage (see slide 7)\n",
    "* Technical / Grammatical Review\n",
    "* Communication plan\n",
    "* Push to production\n",
    "\n",
    "In one Word **Fame** :-)\n",
    "\n",
    "And more seriously, the possibility to train:\n",
    "* your customers\n",
    "* your prtners\n",
    "* your colleagues"
   ]
  },
  {
   "cell_type": "markdown",
   "metadata": {},
   "source": [
    "## The {{ BRANDING }} Community Team expects...\n",
    "\n",
    "* An ssh key to make the dev a contributor to the notebook github repository.\n",
    "* A fully working workshop including :\n",
    " * A title\n",
    " * An Abstract \n",
    " * An introduction Notebook,  one or several Workshop Notebooks and a Conclusion Notebook in the workshop directory (WKSHP-name of the workshop)\n",
    " * Some create cleanup  reset scripts (by user or global) if necessary (this can be a joint effort)\n",
    " * A video of the Workshop in Zoom ({{ BRANDING }} Community background, etc..)\n",
    "\n",
    "\n",
    "![](Pictures/wod-process3.JPG)"
   ]
  },
  {
   "cell_type": "markdown",
   "metadata": {},
   "source": [
    "## Time needed to develop a new Workshop?\n",
    "\n",
    "There are three important phases in the devlopment of a jupyter Notebook:\n",
    "* Infrasturcture readiness\n",
    "* Content Dev / review / test\n",
    "* Push to production\n",
    "\n",
    "The first two are the most time consuming for the following reasons:\n",
    "\n",
    "### Content readiness\n",
    "* Is the content availble or do we start from scratch? \n",
    " *   If the content is already there: you have developped scripts and we adapt them to the WOD environment, it goes faster obviously!\n",
    " \n",
    "### Infrastructure readiness\n",
    "* Is a complex infra needed ort not? setting up an  Ezmeral data fabric cluster VS using a publicly available API...\n",
    "* Is  a new kernel needed?\n",
    "* Is an LDAP needed?\n",
    "\n",
    "All these parameters will impact infrastructure's preparation and overall development time.\n",
    "\n",
    "### Developper readiness\n",
    "* Are you familiar with Jupyter Notebook? \n",
    " * You should after this session at least :-)\n",
    "* Are familar with zoom session recording? \n",
    " * Do you feel confident in recording yourself?\n",
    "\n",
    "The Push to Production is completly handled by the {{ BRANDING }} Community Team and is fairly quick\n",
    "\n",
    "We think the total window time requiered to develop a workshop (Dev to prod) can vary from 1 to 2 months.\n",
    "And yes we know you won't be working 100% of your time on this! if we get 10%, it'll be a miracle :-)"
   ]
  },
  {
   "cell_type": "markdown",
   "metadata": {},
   "source": [
    "<br><br>\n",
    "\n",
    "## <i class=\"fas fa-2x fa-map-marker-alt\" style=\"color:#551199;\"></i>&nbsp;&nbsp;Next Steps"
   ]
  },
  {
   "cell_type": "markdown",
   "metadata": {},
   "source": [
    "<h2>Conclusion&nbsp;&nbsp;&nbsp;&nbsp;<a href=\"5-WKSHP-Conclusion.ipynb#sc\" target=\"New\" title=\"Conclusion\"><i class=\"fas fa-chevron-circle-right\" style=\"color:#551199;\"></i></a></h2>"
   ]
  },
  {
   "cell_type": "markdown",
   "metadata": {},
   "source": [
    "</br>\n",
    " <a href=\"3-WKSHP-How-to-Jupyterhub.ipynb\" target=\"New\" title=\"Back: Lab3\"><button type=\"submit\"  class=\"btn btn-lg btn-block\" style=\"background-color:#551199;color:#fff;position:relative;width:10%; height: 30px;float: left;\"><b>Back</b></button></a>\n",
    " \n"
   ]
  },
  {
   "cell_type": "code",
   "execution_count": null,
   "metadata": {},
   "outputs": [],
   "source": []
  }
 ],
 "metadata": {
  "kernelspec": {
   "display_name": "Bash",
   "language": "bash",
   "name": "bash"
  },
  "language_info": {
   "codemirror_mode": "shell",
   "file_extension": ".sh",
   "mimetype": "text/x-sh",
   "name": "bash"
  }
 },
 "nbformat": 4,
 "nbformat_minor": 4
}
