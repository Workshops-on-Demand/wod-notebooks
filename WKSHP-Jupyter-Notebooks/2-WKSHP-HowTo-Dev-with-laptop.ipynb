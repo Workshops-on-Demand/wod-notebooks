{
 "cells": [
  {
   "cell_type": "markdown",
   "metadata": {},
   "source": [
    "\n",
    "\n",
    "<style type=\"text/css\" media=\"screen\">\n",
    "a:link { color:#551199; text-decoration: none; }\n",
    "a:visited { color:#FFFFFF; text-decoration: none; }\n",
    "a:hover { color:#FFFFFF; text-decoration: none; }\n",
    "a:active { color:#FFFFFF; text-decoration: underline; }\n",
    "</style>\n",
    "# <a id=\"sc\" style=\"text-decoration:none;\">How to develop a workshop on your own laptop?</a>\n",
    "![](Pictures/laptop2.jpg)\n",
    "\n",
    "<br>\n",
    "\n"
   ]
  },
  {
   "cell_type": "markdown",
   "metadata": {},
   "source": [
    "This part is a brief step-by-step tutorial on installing and running Jupyter (IPython) notebooks on local computer for new users who have no familiarity with python.\n",
    "\n",
    "Briefly, if someone gave you a notebook to run and you don’t know what a notebook is, if you wish to start developping some new notebook by yourself,  this document is for you.\n",
    "\n",
    "Jupyter Notebook is an open-source web application that allows you to create and share documents that contain live code, equations, visualizations, and narrative text. Uses include data cleaning and transformation, numerical simulation, statistical modeling, data visualization, machine learning, and much more.\n",
    "\n",
    "Jupyter has support for over 40 different programming languages and Python is one of them. Python is a requirement (Python 3.3 or greater, or Python 2.7) for installing the Jupyter Notebook itself.\n",
    "\n",
    "Jupyter Notebook can be installed by using either of the two ways: either using the Anaconda Distribution, which includes Python, the Jupyter Notebook, and other commonly used packages for scientific computing and data science or using the PIP package manager used to install and manage software packages/libraries written in Python.\n",
    "\n",
    "We will leverage PIP technology in this notebook. If you are willing to go with Anaconda. Please refer to [the following guide.](https://www.geeksforgeeks.org/how-to-install-anaconda-on-windows/)"
   ]
  },
  {
   "cell_type": "markdown",
   "metadata": {},
   "source": [
    "</br>\n",
    "<p><i class=\"fas fa-2x fa-walking\" style=\"color:#551199;\"></i>&nbsp;&nbsp;<b>STEP 1: </b>The browser</p>"
   ]
  },
  {
   "cell_type": "markdown",
   "metadata": {},
   "source": [
    "Step “zero” consists in installing a modern standard-compliant browser. Either Mozilla Firefox or Google Chrome will work well. \n",
    "\n",
    "* Try to avoid MS Explorer.\n",
    "\n"
   ]
  },
  {
   "cell_type": "markdown",
   "metadata": {},
   "source": [
    "</br>\n",
    "<p><i class=\"fas fa-2x fa-walking\" style=\"color:#551199;\"></i>&nbsp;&nbsp;<b>STEP 2: Installation </b></p>"
   ]
  },
  {
   "cell_type": "markdown",
   "metadata": {},
   "source": [
    "## On Windows:\n",
    "\n",
    "![](Pictures/win.jpg)\n",
    "\n",
    "let's start by checking some  pre requirements: \n",
    "We need Python and Pip to be able to install Jupyter Noebook on a windows machine.\n"
   ]
  },
  {
   "cell_type": "markdown",
   "metadata": {},
   "source": [
    "### Pre Checks:\n",
    "\n",
    "* Open a command prompt with `run menu / cmd`\n",
    "\n",
    "![](Pictures/notebook-win2.JPG)\n",
    "\n",
    "* Check if python is installed:\n",
    " * python --version\n",
    "\n",
    "![](Pictures/notebook-win3.JPG)\n",
    "\n",
    "* if not : download and install python (along with pip). [Get the latest version.](https://www.python.org/downloads/)\n",
    "\n",
    "![](Pictures/notebook-win4.JPG)\n",
    "\n",
    "* Install the package\n",
    " * Add  Python to path\n",
    " * Check remove path length...\n",
    "\n",
    "![](Pictures/notebook-win6.JPG)\n",
    "\n",
    "![](Pictures/notebook-win7.JPG)\n",
    "\n",
    "![](Pictures/notebook-win8.JPG)\n",
    "\n",
    "* Check installed versions of python and pip now: from the prompt, type\n",
    " * python --version\n",
    " * pip --version\n",
    "\n",
    "![](Pictures/notebook-win9.JPG)\n",
    "\n",
    "* Install Jupyter notebook now: \n",
    " * python -m pip install jupyter\n",
    "\n",
    "![](Pictures/notebook-win10.JPG)\n",
    "\n",
    "![](Pictures/notebook-win11.JPG)\n",
    "\n",
    "* Launch Jupyter Notebook now:\n",
    " * jupyter notebook\n",
    "\n",
    "![](Pictures/notebook-win12.JPG)\n",
    " * It will open up automatically a browser window to the notebook Web UI.\n",
    " \n",
    "![](Pictures/notebook-win13.JPG)"
   ]
  },
  {
   "cell_type": "markdown",
   "metadata": {},
   "source": [
    "## On Linux   \n",
    "![](Pictures/tux.jpg)\n",
    "### Prerequisites\n",
    "* CentOS 7 VPS with 2 GB of memory\n",
    "* SSH access with root privileges\n",
    "\n",
    "It is recommended to install Python and Jupyter using the Anaconda Distribution, which includes Python, the Jupyter Notebook, and other machine learning and data science related packages.\n"
   ]
  },
  {
   "cell_type": "markdown",
   "metadata": {},
   "source": [
    "* Open a terminal:\n",
    "\n",
    "### Pre Checks:\n",
    "\n",
    "* Check if python is installed:\n",
    " * python3 --version\n",
    "\n",
    "\n",
    "![](Pictures/notebook-lin2.JPG)\n",
    "\n",
    "\n",
    "* Use the following comamnd to download the latest Anaconda installation script:\n",
    " * wget https://repo.anaconda.com/archive/Anaconda3-5.3.0-Linux-x86_64.sh\n",
    " \n",
    "![](Pictures/notebook-lin3.JPG)\n",
    " \n",
    "* Once the download is complete, start the Anaconda installation by running the script:\n",
    " * bash Anaconda3-5.3.0-Linux-x86_64.sh\n",
    "\n",
    "* Welcome to Anaconda3 5.3.0\n",
    " * In order to continue the installation process, please review the license agreement. Please, press ENTER to continue\n",
    " \n",
    "![](Pictures/notebook-lin4.JPG)\n",
    "\n",
    " * Type ‘yes’ and hit ENTER – you will then be prompted to accept the default Anaconda installation path:\n",
    "\n",
    "* Anaconda3 will now be installed into this location\n",
    "\n",
    "\n",
    "![](Pictures/notebook-lin5.JPG)\n",
    "\n",
    " * Press ENTER to confirm, after which the Anaconda installation will begin.\n",
    "\n",
    "* Once the installation is completed, the installer will ask you if you want to prepend the Anaconda install location to the PATH in your ~/.bashrc file.\n",
    "\n",
    "* Do you wish the installer to prepend the Anaconda3 install location  to PATH in your /home/hpedev/.bashrc ? [yes|no]\n",
    " * Type ‘yes’ and hit ENTER. This output will follow:\n",
    "\n",
    "![](Pictures/notebook-lin6.JPG)\n",
    "\n",
    "\n",
    "![](Pictures/notebook-lin7.JPG)\n",
    "\n",
    "\n",
    "Once the Anaconda installation is completed, the installer will ask you if you want to install Microsoft VSCode. Type ‘no’ and press ENTER. The installer will then quit.\n",
    "\n",
    "* To activate your Anaconda installation, run:\n",
    " * source ~/.bashrc\n",
    " \n",
    "![](Pictures/notebook-lin8.JPG)\n",
    " \n",
    " \n",
    "* Verify the Anaconda installation by running the following command:\n",
    " * conda --version\n",
    "\n",
    "![](Pictures/notebook-lin9.JPG)"
   ]
  },
  {
   "cell_type": "markdown",
   "metadata": {},
   "source": [
    "* Start Jupyter Notebook\n",
    "Now that you have Anaconda and Jupyter Notebook installed on your CentOS 7 server, you can start the Notebook using the following command:\n",
    "\n",
    " * jupyter notebook\n",
    " \n",
    "You will see an output similar to the following:\n",
    " \n",
    "![](Pictures/notebook-lin10.JPG)\n",
    "\n",
    "The Jupyter Notebook server by default is listening on localhost port 8888. If this port is not available, you can specify another port using the “–port” flag. If you want to listen on all interfaces use “–ip=’*'”\n",
    "\n",
    "\n",
    "![](Pictures/notebook-lin11.JPG)\n",
    "\n",
    "\n",
    "\n",
    "Jupyter Notebook provides help messages for all available command line arguments. If you need help with using Jupyter, run the following command:\n",
    "\n",
    " * jupyter notebook --help\n",
    "\n",
    "If you are a more advanced user with Python already installed and prefer to manage your packages manually, you can just use pip:\n",
    "\n",
    "pip3 install jupyter\n",
    "\n",
    "then run with jupyter notebook \n"
   ]
  },
  {
   "cell_type": "markdown",
   "metadata": {},
   "source": [
    "## On DOS...No! only Kidding..."
   ]
  },
  {
   "cell_type": "markdown",
   "metadata": {},
   "source": [
    "## On Docker\n",
    "\n",
    "![](Pictures/docker.png)"
   ]
  },
  {
   "cell_type": "markdown",
   "metadata": {},
   "source": [
    "### Prerequisites\n",
    "* CentOS 7 VPS with 2 GB of memory\n",
    "* SSH access with root privileges\n",
    "* a docker engine :-)\n",
    "\n",
    "If you need some docker training, go for the [docker101 Workshops-on-Demand](https://hackshack.hpedev.io/workshops) : It should be there soon !!\n",
    "If docker is already installed on your server, laptop...please jump directly to running Jupyter Notebooks on docker cell"
   ]
  },
  {
   "cell_type": "markdown",
   "metadata": {},
   "source": [
    "###  Docker Installation methods  (from [docker site : https://docs.docker.com/engine/install/centos)\n",
    "\n",
    "You can install Docker Engine in different ways, depending on your needs:\n",
    "\n",
    "* Most users set up Docker’s repositories and install from them, for ease of installation and upgrade tasks. This is the recommended approach.\n",
    "\n",
    "* Some users download the RPM package and install it manually and manage upgrades completely manually. This is useful in situations such as installing Docker on air-gapped systems with no access to the internet.\n",
    "\n",
    "* In testing and development environments, some users choose to use automated convenience scripts to install Docker.\n",
    "\n",
    "#### Install using the repository:\n",
    "\n",
    "Before you install Docker Engine for the first time on a new host machine, you need to set up the Docker repository. Afterward, you can install and update Docker from the repository.\n",
    "\n",
    "##### SET UP THE REPOSITORY\n",
    "Install the `yum-utils package` (which provides the `yum-config-manager` utility) and set up the stable repository."
   ]
  },
  {
   "cell_type": "markdown",
   "metadata": {},
   "source": [
    " sudo yum install -y yum-utils device-mapper-persistent-data lvm2\n",
    " sudo yum-config-manager \\\n",
    "    --add-repo \\\n",
    "    https://download.docker.com/linux/centos/docker-ce.repo"
   ]
  },
  {
   "cell_type": "markdown",
   "metadata": {},
   "source": [
    "#### INSTALL DOCKER ENGINE\n",
    "Install the latest version of Docker Engine and containerd, or go to the next step to install a specific version:"
   ]
  },
  {
   "cell_type": "markdown",
   "metadata": {},
   "source": [
    " sudo yum install docker-ce docker-ce-cli containerd.io"
   ]
  },
  {
   "cell_type": "markdown",
   "metadata": {},
   "source": [
    "If prompted to accept the GPG key, verify that the fingerprint matches 060A 61C5 1B55 8A7F 742B 77AA C52F EB6B 621E 9F35, and if so, accept it."
   ]
  },
  {
   "cell_type": "markdown",
   "metadata": {},
   "source": [
    "Docker is installed but not started. The docker group is created, but no users are added to the group."
   ]
  },
  {
   "cell_type": "markdown",
   "metadata": {},
   "source": [
    "#### Start Docker"
   ]
  },
  {
   "cell_type": "markdown",
   "metadata": {},
   "source": [
    " sudo systemctl start docker"
   ]
  },
  {
   "cell_type": "markdown",
   "metadata": {},
   "source": [
    "#### Verify that Docker Engine is installed correctly by running the hello-world image."
   ]
  },
  {
   "cell_type": "markdown",
   "metadata": {},
   "source": [
    "sudo docker run hello-world"
   ]
  },
  {
   "cell_type": "markdown",
   "metadata": {},
   "source": [
    "This command downloads a test image and runs it in a container. When the container runs, it prints an informational message and exits."
   ]
  },
  {
   "cell_type": "markdown",
   "metadata": {},
   "source": [
    "#### Manage Docker as a non-root user"
   ]
  },
  {
   "cell_type": "markdown",
   "metadata": {},
   "source": [
    "The Docker daemon binds to a Unix socket instead of a TCP port. By default that Unix socket is owned by the user root and other users can only access it using sudo. The Docker daemon always runs as the root user.\n",
    "\n",
    "If you don’t want to preface the docker command with sudo, create a Unix group called docker and add users to it. When the Docker daemon starts, it creates a Unix socket accessible by members of the docker group."
   ]
  },
  {
   "cell_type": "markdown",
   "metadata": {},
   "source": [
    "## Warning\n",
    "\n",
    "The docker group grants privileges equivalent to the root user. For details on how this impacts security in your system, see Docker Daemon Attack Surface."
   ]
  },
  {
   "cell_type": "markdown",
   "metadata": {},
   "source": [
    "To create the docker group and add your user:"
   ]
  },
  {
   "cell_type": "markdown",
   "metadata": {},
   "source": [
    "1. Create the docker group."
   ]
  },
  {
   "cell_type": "markdown",
   "metadata": {},
   "source": [
    " sudo groupadd docker"
   ]
  },
  {
   "cell_type": "markdown",
   "metadata": {},
   "source": [
    "Add your user to the docker group."
   ]
  },
  {
   "cell_type": "markdown",
   "metadata": {},
   "source": [
    " sudo usermod -aG docker $USER"
   ]
  },
  {
   "cell_type": "markdown",
   "metadata": {},
   "source": [
    "Log out and log back in so that your group membership is re-evaluated.\n",
    "\n",
    "If testing on a virtual machine, it may be necessary to restart the virtual machine for changes to take effect.\n",
    "\n",
    "On a desktop Linux environment such as X Windows, log out of your session completely and then log back in.\n",
    "\n",
    "On Linux, you can also run the following command to activate the changes to groups:"
   ]
  },
  {
   "cell_type": "markdown",
   "metadata": {},
   "source": [
    " newgrp docker "
   ]
  },
  {
   "cell_type": "markdown",
   "metadata": {},
   "source": [
    "Verify that you can run docker commands without sudo."
   ]
  },
  {
   "cell_type": "markdown",
   "metadata": {},
   "source": [
    " docker run hello-world"
   ]
  },
  {
   "cell_type": "markdown",
   "metadata": {},
   "source": [
    "This command downloads a test image and runs it in a container. When the container runs, it prints an informational message and exits."
   ]
  },
  {
   "cell_type": "markdown",
   "metadata": {},
   "source": [
    "If you initially ran Docker CLI commands using sudo before adding your user to the docker group, you may see the following error, which indicates that your ~/.docker/ directory was created with incorrect permissions due to the sudo commands.\n",
    "\n",
    "WARNING: Error loading config file: /home/user/.docker/config.json -\n",
    "stat /home/user/.docker/config.json: permission denied\n",
    "To fix this problem, either remove the ~/.docker/ directory (it is recreated automatically, but any custom settings are lost), or change its ownership and permissions using the following commands:\n",
    "\n",
    " sudo chown \"$USER\":\"$USER\" /home/\"$USER\"/.docker -R\n",
    " sudo chmod g+rwx \"$HOME/.docker\" -R"
   ]
  },
  {
   "cell_type": "markdown",
   "metadata": {},
   "source": [
    "2. Configure Docker to start on boot"
   ]
  },
  {
   "cell_type": "markdown",
   "metadata": {},
   "source": [
    "Most current Linux distributions (RHEL, CentOS, Fedora, Debian, Ubuntu 16.04 and higher) use systemd to manage which services start when the system boots. On Debian and Ubuntu, the Docker service is configured to start on boot by default. To automatically start Docker and Containerd on boot for other distros, use the commands below:\n",
    "\n",
    " sudo systemctl enable docker.service\n",
    " sudo systemctl enable containerd.service\n",
    "To disable this behavior, use disable instead.\n",
    "\n",
    " sudo systemctl disable docker.service\n",
    " sudo systemctl disable containerd.service\n",
    "If you need to add an HTTP Proxy, set a different directory or partition for the Docker runtime files, or make other customizations, see customize your systemd Docker daemon options."
   ]
  },
  {
   "cell_type": "markdown",
   "metadata": {},
   "source": [
    "### Running Jupyter Notebooks on docker (from https://jupyter-docker-stacks.readthedocs.io/en/latest/using/selecting.html)"
   ]
  },
  {
   "cell_type": "markdown",
   "metadata": {},
   "source": [
    "***1. Selecting an Image***\n",
    "\n",
    "    Core Stacks\n",
    "    Image Relationships\n",
    "    Community Stacks\n",
    "    versioning strategy\n",
    "\n",
    "Using one of the Jupyter Docker Stacks requires two choices:\n",
    "\n",
    "    Which Docker image you wish to use\n",
    "    How you wish to start Docker containers from that image\n",
    "\n",
    "This section provides details about the first.\n",
    "Core Stacks\n",
    "\n",
    "The Jupyter team maintains a set of Docker image definitions in the https://github.com/jupyter/docker-stacks GitHub repository. The following sections describe these images including: \n",
    "* their contents\n",
    "* relationships\n",
    "\n",
    "**jupyter/base-notebook**\n",
    "\n",
    "Source on GitHub | Dockerfile commit history | Docker Hub image tags\n",
    "\n",
    "**jupyter/base-notebook is a small image supporting the options common across all core stacks. It is the basis for all other stacks.**\n",
    "\n",
    "    Minimally-functional Jupyter Notebook server (e.g., no LaTeX support for saving notebooks as PDFs)\n",
    "    Miniforge Python 3.x in /opt/conda with two package managers\n",
    "        conda: “cross-platform, language-agnostic binary package manager”.\n",
    "        mamba: “reimplementation of the conda package manager in C++”.\n",
    "    No preinstalled scientific computing packages\n",
    "    Unprivileged user jovyan (uid=1000, configurable, see options) in group users (gid=100) with ownership over the /home/jovyan and /opt/conda paths\n",
    "    tini as the container entrypoint and a start-notebook.sh script as the default command\n",
    "    A start-singleuser.sh script useful for launching containers in JupyterHub\n",
    "    A start.sh script useful for running alternative commands in the container (e.g. ipython, jupyter kernelgateway, jupyter lab)\n",
    "    Options for a self-signed HTTPS certificate and passwordless sudo\n",
    "\n",
    "**jupyter/minimal-notebook**\n",
    "\n",
    "Source on GitHub | Dockerfile commit history | Docker Hub image tags\n",
    "\n",
    "jupyter/minimal-notebook adds command line tools useful when working in Jupyter applications.\n",
    "\n",
    "    Everything in jupyter/base-notebook\n",
    "    TeX Live for notebook document conversion\n",
    "    git, vi (actually vim-tiny), nano (actually nano-tiny), tzdata, and unzip\n",
    "\n",
    "**jupyter/r-notebook**\n",
    "\n",
    "Source on GitHub | Dockerfile commit history | Docker Hub image tags\n",
    "\n",
    "jupyter/r-notebook includes popular packages from the R ecosystem.\n",
    "\n",
    "    Everything in jupyter/minimal-notebook and its ancestor images\n",
    "    The R interpreter and base environment\n",
    "    IRKernel to support R code in Jupyter notebooks\n",
    "    tidyverse packages from conda-forge\n",
    "    devtools, shiny, rmarkdown, forecast, rsqlite, nycflights13, caret, tidymodels, rcurl, and randomforest packages from conda-forge\n",
    "\n",
    "**jupyter/scipy-notebook**\n",
    "\n",
    "Source on GitHub | Dockerfile commit history | Docker Hub image tags\n",
    "\n",
    "jupyter/scipy-notebook includes popular packages from the scientific Python ecosystem.\n",
    "\n",
    "    Everything in jupyter/minimal-notebook and its ancestor images\n",
    "    dask, pandas, numexpr, matplotlib, scipy, seaborn, scikit-learn, scikit-image, sympy, cython, patsy, statsmodel, cloudpickle, dill, numba, bokeh, sqlalchemy, hdf5, vincent, beautifulsoup, protobuf, xlrd, bottleneck, and pytables packages\n",
    "    ipywidgets and ipympl for interactive visualizations and plots in Python notebooks\n",
    "    Facets for visualizing machine learning datasets\n",
    "\n",
    "**jupyter/tensorflow-notebook**\n",
    "\n",
    "Source on GitHub | Dockerfile commit history | Docker Hub image tags\n",
    "\n",
    "jupyter/tensorflow-notebook includes popular Python deep learning libraries.\n",
    "\n",
    "    Everything in jupyter/scipy-notebook and its ancestor images\n",
    "    tensorflow and keras machine learning libraries\n",
    "\n",
    "**jupyter/datascience-notebook**\n",
    "\n",
    "Source on GitHub | Dockerfile commit history | Docker Hub image tags\n",
    "\n",
    "jupyter/datascience-notebook includes libraries for data analysis from the Julia, Python, and R communities.\n",
    "\n",
    "    Everything in the jupyter/scipy-notebook and jupyter/r-notebook images, and their ancestor images\n",
    "    The Julia compiler and base environment\n",
    "    IJulia to support Julia code in Jupyter notebooks\n",
    "    HDF5, Gadfly, and RDatasets packages\n",
    "\n",
    "**jupyter/pyspark-notebook**\n",
    "\n",
    "Source on GitHub | Dockerfile commit history | Docker Hub image tags\n",
    "\n",
    "jupyter/pyspark-notebook includes Python support for Apache Spark.\n",
    "\n",
    "    Everything in jupyter/scipy-notebook and its ancestor images\n",
    "    Apache Spark with Hadoop binaries\n",
    "\n",
    "**jupyter/all-spark-notebook**\n",
    "\n",
    "Source on GitHub | Dockerfile commit history | Docker Hub image tags\n",
    "\n",
    "jupyter/all-spark-notebook includes Python, R, and Scala support for Apache Spark.\n",
    "\n",
    "    Everything in jupyter/pyspark-notebook and its ancestor images\n",
    "    IRKernel to support R code in Jupyter notebooks\n",
    "    Apache Toree and spylon-kernel to support Scala code in Jupyter notebooks\n",
    "    ggplot2, sparklyr, and rcurl packages\n",
    "\n"
   ]
  },
  {
   "cell_type": "markdown",
   "metadata": {},
   "source": [
    "**Image Relationships**\n",
    "\n",
    "The following diagram depicts the build dependency tree of the core images. (i.e., the FROM statements in their Dockerfiles). Any given image inherits the complete content of all ancestor images pointing to it.\n",
    "\n",
    "![Relationships](Pictures/inherit.svg)"
   ]
  },
  {
   "cell_type": "markdown",
   "metadata": {},
   "source": [
    "**Builds**\n",
    "\n",
    "Pull requests to the jupyter/docker-stacks repository trigger builds of all images on GitHub Actions. These images are for testing purposes only and are not saved for use. When pull requests merge to master, all images rebuild on Docker Cloud and become available to docker pull from Docker Hub.\n",
    "Versioning\n",
    "\n",
    "The latest tag in each Docker Hub repository tracks the master branch HEAD reference on GitHub. latest is a moving target, by definition, and will have backward-incompatible changes regularly.\n",
    "\n",
    "Every image on Docker Hub also receives a 12-character tag which corresponds with the git commit SHA that triggered the image build. You can inspect the state of the jupyter/docker-stacks repository for that commit to review the definition of the image (e.g., images with tag 7c45ec67c8e7 were built from https://github.com/jupyter/docker-stacks/tree/7c45ec67c8e7).\n",
    "\n",
    "You must refer to git-SHA image tags when stability and reproducibility are important in your work. (e.g. FROM jupyter/scipy-notebook:7c45ec67c8e7, docker run -it --rm jupyter/scipy-notebook:7c45ec67c8e7). You should only use latest when a one-off container instance is acceptable (e.g., you want to briefly try a new library in a notebook).\n"
   ]
  },
  {
   "cell_type": "markdown",
   "metadata": {},
   "source": [
    "**Community Stacks**\n",
    "\n",
    "The core stacks are just a tiny sample of what’s possible when combining Jupyter with other technologies. We encourage members of the Jupyter community to create their own stacks based on the core images and link them below.\n",
    " \n",
    "**csharp-notebook** is a community Jupyter Docker Stack image. \n",
    "Try C# in Jupyter Notebooks. The image includes more than 200 Jupyter Notebooks with example C# code and can readily be tried online via mybinder.org. Click here to launch https://mybinder.org/badge_logo.svgBinder.\n",
    "\n",
    "**education-notebook** is a community Jupyter Docker Stack image. \n",
    "The image includes nbgrader and RISE on top of the datascience-notebook image. Click here to launch it on https://mybinder.org/badge_logo.svgBinder.\n",
    "   \n",
    "**crosscompass/ihaskell-notebook**\n",
    "Source on GitHub | Dockerfile commit history | Docker Hub image tags\n",
    "crosscompass/ihaskell-notebook is based on IHaskell. Includes popular packages and example notebooks.\n",
    "Try it on https://mybinder.org/badge_logo.svgBinder\n",
    "\n",
    "**java-notebook** is a community Jupyter Docker Stack image. \n",
    "The image includes IJava kernel on top of the minimal-notebook image. Click here to launch it on https://mybinder.org/badge_logo.svgBinder.\n",
    "\n",
    "**sage-notebook** is a community Jupyter Docker Stack image with the sagemath kernel on top of the minimal-notebook image. Click here to launch it on https://mybinder.org/badge_logo.svgBinder.\n",
    "\n",
    "**GPU-Jupyter**: Leverage Jupyter Notebooks with the power of your NVIDIA GPU and perform GPU calculations using Tensorflow and Pytorch in collaborative notebooks. This is done by generating a Dockerfile, that consists of the nvidia/cuda base image, the well-maintained docker-stacks that is integrated as submodule and GPU-able libraries like Tensorflow, Keras and PyTorch on top of it.\n",
    "\n",
    "**gspatial-notebook** is a community Jupyter Docker Stack image. The image includes major geospatial Python & R libraries on top of the datascience-notebook image. Try it on binder:https://mybinder.org/badge_logo.svgBinder\n",
    "\n",
    "**kotlin-notebook** is a community Jupyter Docker Stack image. The image includes Kotlin kernel for Jupyter/IPython on top of the base-notebook image. Try it on Binder: https://mybinder.org/badge_logo.svgBinder\n",
    "\n",
    "See the [contributing guide](https://jupyter-docker-stacks.readthedocs.io/en/latest/contributing/stacks.html) for information about how to create your own Jupyter Docker Stack.\n"
   ]
  },
  {
   "cell_type": "markdown",
   "metadata": {},
   "source": [
    "### Running a Container\n",
    "\n",
    "Using one of the Jupyter Docker Stacks requires two choices:\n",
    "\n",
    "    Which Docker image you wish to use\n",
    "    How you wish to start Docker containers from that image\n",
    "\n",
    "This section provides details about the second.\n",
    "Using the Docker CLI\n",
    "\n",
    "You can launch a local Docker container from the Jupyter Docker Stacks using the Docker command line interface. There are numerous ways to configure containers using the CLI. The following are some common patterns.\n",
    "\n",
    "\n",
    "\n",
    "# list containers\n",
    "docker ps -a\n",
    "CONTAINER ID        IMAGE                   COMMAND                  CREATED    STATUS                      PORTS               NAMES\n",
    "d67fe77f1a84        jupyter/base-notebook   \"tini -- start-noteb…\"   44 seconds ago    Exited (0) 39 seconds ago                       cocky_mirzakhani\n",
    "\n",
    "# start the stopped container\n",
    "docker start -a d67fe77f1a84\n",
    "Executing the command: jupyter notebook\n",
    "[W 16:45:02.020 NotebookApp] WARNING: The notebook server is listening on all IP addresses and not using encryption. This is not recommended.\n",
    "...\n",
    "\n",
    "# remove the stopped container\n",
    "docker rm d67fe77f1a84\n",
    "d67fe77f1a84"
   ]
  },
  {
   "cell_type": "markdown",
   "metadata": {},
   "source": [
    "**Example 1**\n",
    "This command pulls the jupyter/scipy-notebook image tagged 2c80cf3537ca from Docker Hub if it is not already present on the local host. It then starts a container running a Jupyter Notebook server and exposes the server on host port 8888. The server logs appear in the terminal and include a URL to the notebook server.\n",
    "\n",
    "docker run -p 8888:8888 jupyter/scipy-notebook:2c80cf3537ca\n",
    "\n",
    "Executing the command: jupyter notebook\n",
    "[I 15:33:00.567 NotebookApp] Writing notebook server cookie secret to /home/jovyan/.local/share/jupyter/runtime/notebook_cookie_secret\n",
    "[W 15:33:01.084 NotebookApp] WARNING: The notebook server is listening on all IP addresses and not using encryption. This is not recommended.\n",
    "[I 15:33:01.150 NotebookApp] JupyterLab alpha preview extension loaded from /opt/conda/lib/python3.6/site-packages/jupyterlab\n",
    "[I 15:33:01.150 NotebookApp] JupyterLab application directory is /opt/conda/share/jupyter/lab\n",
    "[I 15:33:01.155 NotebookApp] Serving notebooks from local directory: /home/jovyan\n",
    "[I 15:33:01.156 NotebookApp] 0 active kernels\n",
    "[I 15:33:01.156 NotebookApp] The Jupyter Notebook is running at:\n",
    "[I 15:33:01.157 NotebookApp] http://[all ip addresses on your system]:8888/?token=112bb073331f1460b73768c76dffb2f87ac1d4ca7870d46a\n",
    "[I 15:33:01.157 NotebookApp] Use Control-C to stop this server and shut down all kernels (twice to skip confirmation).\n",
    "[C 15:33:01.160 NotebookApp]\n",
    "\n",
    "    Copy/paste this URL into your browser when you connect for the first time,\n",
    "    to login with a token:\n",
    "        http://localhost:8888/?token=112bb073331f1460b73768c76dffb2f87ac1d4ca7870d46a\n",
    "\n",
    "Pressing Ctrl-C shuts down the notebook server but leaves the container intact on disk for later restart or permanent deletion using commands like the following:"
   ]
  },
  {
   "cell_type": "markdown",
   "metadata": {},
   "source": [
    "**Example 2** \n",
    "This command pulls the jupyter/r-notebook image tagged e5c5a7d3e52d from Docker Hub if it is not already present on the local host. It then starts a container running a Jupyter Notebook server and exposes the server on host port 10000. The server logs appear in the terminal and include a URL to the notebook server, but with the internal container port (8888) instead of the the correct host port (10000).\n",
    "\n",
    "docker run --rm -p 10000:8888 -v \"$PWD\":/home/jovyan/work jupyter/r-notebook:e5c5a7d3e52d\n",
    "\n",
    "Executing the command: jupyter notebook\n",
    "[I 19:31:09.573 NotebookApp] Writing notebook server cookie secret to /home/jovyan/.local/share/jupyter/runtime/notebook_cookie_secret\n",
    "[W 19:31:11.930 NotebookApp] WARNING: The notebook server is listening on all IP addresses and not using encryption. This is not recommended.\n",
    "[I 19:31:12.085 NotebookApp] JupyterLab alpha preview extension loaded from /opt/conda/lib/python3.6/site-packages/jupyterlab\n",
    "[I 19:31:12.086 NotebookApp] JupyterLab application directory is /opt/conda/share/jupyter/lab\n",
    "[I 19:31:12.117 NotebookApp] Serving notebooks from local directory: /home/jovyan\n",
    "[I 19:31:12.117 NotebookApp] 0 active kernels\n",
    "[I 19:31:12.118 NotebookApp] The Jupyter Notebook is running at:\n",
    "[I 19:31:12.119 NotebookApp] http://[all ip addresses on your system]:8888/?token=3b8dce890cb65570fb0d9c4a41ae067f7604873bd604f5ac\n",
    "[I 19:31:12.120 NotebookApp] Use Control-C to stop this server and shut down all kernels (twice to skip confirmation).\n",
    "[C 19:31:12.122 NotebookApp]\n",
    "\n",
    "    Copy/paste this URL into your browser when you connect for the first time,\n",
    "    to login with a token:\n",
    "        http://localhost:8888/?token=3b8dce890cb65570fb0d9c4a41ae067f7604873bd604f5ac\n",
    "\n",
    "Pressing Ctrl-C shuts down the notebook server and immediately destroys the Docker container. Files written to ~/work in the container remain touched. Any other changes made in the container are lost."
   ]
  },
  {
   "cell_type": "markdown",
   "metadata": {},
   "source": [
    "**Example 3**\n",
    "This command pulls the jupyter/all-spark-notebook image currently tagged latest from Docker Hub if an image tagged latest is not already present on the local host. It then starts a container named notebook running a JupyterLab server and exposes the server on a randomly selected port.\n",
    "\n",
    "docker run -d -P --name notebook jupyter/all-spark-notebook\n",
    "\n",
    "The assigned port and notebook server token are visible using other Docker commands.\n",
    "\n",
    "# get the random host port assigned to the container port 8888\n",
    "docker port notebook 8888\n",
    "0.0.0.0:32769\n",
    "\n",
    "# get the notebook token from the logs\n",
    "docker logs --tail 3 notebook\n",
    "    Copy/paste this URL into your browser when you connect for the first time,\n",
    "    to login with a token:\n",
    "        http://localhost:8888/?token=15914ca95f495075c0aa7d0e060f1a78b6d94f70ea373b00\n",
    "\n",
    "Together, the URL to visit on the host machine to access the server in this case is http://localhost:32769?token=15914ca95f495075c0aa7d0e060f1a78b6d94f70ea373b00.\n",
    "\n",
    "The container runs in the background until stopped and/or removed by additional Docker commands.\n"
   ]
  },
  {
   "cell_type": "markdown",
   "metadata": {},
   "source": [
    "# stop the container\n",
    "docker stop notebook\n",
    "notebook\n",
    "\n",
    "# remove the container permanently\n",
    "docker rm notebook\n",
    "notebook\n",
    "\n",
    "Using Binder\n",
    "\n",
    "Binder is a service that allows you to create and share custom computing environments for projects in version control. You can use any of the Jupyter Docker Stacks images as a basis for a Binder-compatible Dockerfile. See the docker-stacks example and Using a Dockerfile sections in the Binder documentation for instructions.\n",
    "Using JupyterHub\n",
    "\n",
    "You can configure JupyterHub to launcher Docker containers from the Jupyter Docker Stacks images. If you’ve been following the Zero to JupyterHub with Kubernetes guide, see the Use an existing Docker image section for details. If you have a custom JupyterHub deployment, see the Picking or building a Docker image instructions for the dockerspawner instead.\n",
    "Using Other Tools and Services\n",
    "\n",
    "You can use the Jupyter Docker Stacks with any Docker-compatible technology (e.g., Docker Compose, docker-py, your favorite cloud container service). See the documentation of the tool, library, or service for details about how to reference, configure, and launch containers from these images.\n"
   ]
  },
  {
   "cell_type": "markdown",
   "metadata": {},
   "source": [
    "</br>\n",
    "<p><i class=\"fas fa-2x fa-walking\" style=\"color:#551199;\"></i>&nbsp;&nbsp;<b>STEP 3: Adding kernels </b></p>"
   ]
  },
  {
   "cell_type": "markdown",
   "metadata": {},
   "source": [
    "## Adding kernel to your Notebook : Windows example here"
   ]
  },
  {
   "attachments": {},
   "cell_type": "markdown",
   "metadata": {},
   "source": [
    "* Start by listing them: Open up a second command prompt window\n",
    " * `jupyter kernelspec list`\n",
    "    \n",
    "![](Pictures/notebook-win14.JPG)\n",
    "\n",
    "* Adding bash kernel:\n",
    " * `python -m pip install bash_kernel`\n",
    " * `python -m bash_kernel.install`\n",
    "\n",
    "![](Pictures/notebook-win15.JPG)\n",
    " \n",
    "* Bash kernel is now present in the kernel list\n",
    "\n",
    "![](Pictures/notebook-win16.JPG)\n"
   ]
  },
  {
   "cell_type": "markdown",
   "metadata": {},
   "source": [
    "## Check [here](https://github.com/jupyter/jupyter/wiki/Jupyter-kernels) the complete list of kernels available for jupyter!"
   ]
  },
  {
   "cell_type": "markdown",
   "metadata": {},
   "source": [
    "</br>\n",
    "<p><i class=\"fas fa-2x fa-walking\" style=\"color:#551199;\"></i>&nbsp;&nbsp;<b>STEP 4: API Endpoints </b></p>"
   ]
  },
  {
   "cell_type": "markdown",
   "metadata": {},
   "source": [
    "Jupyter Notebooks are usually used for datascientists, MLOPS scenarios. Some of our Worshops-on-Demand do leverage follow this trend. We also provide content that relies on API interaction. \n",
    "We may be leveraging publicly avvailable APIs sometimes (API101). These APIs are remotely accessible over the internet.\n",
    "Please check the following [GitHub repo](https://github.com/public-apis/public-apis) for a list of them\n",
    "\n",
    "And we also connect to some our own HPE product / Solutions APIs. In this latter case, it is important to keep in mind a few things:\n",
    "* The API endpoint must reside on the same IP range (HPE OneView, Nimble Array, HPE ECP, etc..)\n",
    "* If you are willing to remote commands from the JupyterHub server to a given server (StackStorm, Docker CLI): be sure to use the SSH kernel\n"
   ]
  },
  {
   "cell_type": "markdown",
   "metadata": {},
   "source": [
    "To develop your own Workshops:\n",
    "You need:\n",
    "* to define a subject\n",
    "* An Infra to support Endpoints ( HPE ECP, HPE OneView DCS, Redfish Simulators)\n",
    "* a kernel to support your activity:\n",
    "  * Programming:\n",
    "      * Python\n",
    "      * Powershell\n",
    "      * Go\n",
    "      * Java\n",
    "      * Rust\n",
    "  * Automation:\n",
    "      * Ansible\n",
    "      * StackStorm\n",
    "      * Bash\n",
    "      * SSH\n",
    "  * DataScience\n",
    "  * etc..\n",
    "* TIME to assemble all this!"
   ]
  },
  {
   "cell_type": "markdown",
   "metadata": {},
   "source": [
    "## There you are, you now have your own Jupyter Notebook Environment running on your pc / Laptop / vm / container...you can start develop your own notebooks."
   ]
  },
  {
   "cell_type": "markdown",
   "metadata": {},
   "source": [
    "<br><br>\n",
    "\n",
    "## <i class=\"fas fa-2x fa-map-marker-alt\" style=\"color:#551199;\"></i>&nbsp;&nbsp;Next Steps\n",
    "\n",
    "# Lab 3: How to install a Jupyterhub \n",
    "\n",
    "<h2>Next LAB&nbsp;&nbsp;&nbsp;&nbsp;<a href=\"3-WKSHP-HowTo-Install-Jupyterhub.ipynb#sc\" target=\"New\" title=\"Next LAB: How to install a Jupyterhub \"><i class=\"fas fa-chevron-circle-right\" style=\"color:#551199;\"></i></a></h2>\n",
    "\n",
    "</br>\n",
    " <a href=\"1-Introduction-to-Jupyter-Notebooks.ipynb\" target=\"New\" title=\"Back: Introduction to Jupyter Notebooks\"><button type=\"submit\"  class=\"btn btn-lg btn-block\" style=\"background-color:#551199;color:#fff;position:relative;width:10%; height: 30px;float: left;\"><b>Back</b></button></a>\n",
    " <a href=\"3-WKSHP-HowTo-Install-Jupyterhub.ipynb\" target=\"New\" title=\"Next: How to install a Jupyterhub\"><button type=\"submit\"  class=\"btn btn-lg btn-block\" style=\"background-color:#551199;color:#fff;position:relative;width:10%; height: 30px;float: right;\"><b>Next</b></button></a>\n"
   ]
  },
  {
   "cell_type": "code",
   "execution_count": null,
   "metadata": {},
   "outputs": [],
   "source": []
  }
 ],
 "metadata": {
  "kernelspec": {
   "display_name": "Python 3",
   "language": "python",
   "name": "python3"
  },
  "language_info": {
   "codemirror_mode": {
    "name": "ipython",
    "version": 3
   },
   "file_extension": ".py",
   "mimetype": "text/x-python",
   "name": "python",
   "nbconvert_exporter": "python",
   "pygments_lexer": "ipython3",
   "version": "3.8.5"
  }
 },
 "nbformat": 4,
 "nbformat_minor": 4
}
