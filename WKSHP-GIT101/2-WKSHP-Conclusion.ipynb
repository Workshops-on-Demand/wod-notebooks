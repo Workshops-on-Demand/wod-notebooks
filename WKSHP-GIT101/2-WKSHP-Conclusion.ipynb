{
 "cells": [
  {
   "cell_type": "markdown",
   "metadata": {},
   "source": [
    "![HPEDEV](Pictures/LogoHPEDEV.png)\n",
    "\n",
    "# Thank you for visiting the {{ BRANDINGWOD }}\n",
    "\n",
    "Powered by [{{ BRANDING }} Community Team](hpedev.io)\n",
    "\n",
    "{% if MODEWS == 'CHLG' %}\n",
    "# Thank you for participating to our software challenge\n",
    "{% endif %}\n",
    "\n",
    "\n",
    "# Conclusion\n",
    "Congratulations!\n",
    "In this workshop, you learned the basics of Git. We covered the most common use cases, including:\n",
    "\n",
    "- Use case 1: I’d like to use something from the community\n",
    "- Use case 2: I'd like to report an issue on a project\n",
    "- Use case 3: I'd like to share something with the community\n",
    "- Use case 4: I'd like to contribute code to a project\n",
    "\n",
    "Now that you understand the most important Git commands and have a GitHub account, don’t be shy. Start to contribute!\n",
    "\n",
    "\n",
    "{% if MODEWS == 'CHLG' %}\n",
    "# The challenge is not over yet\n",
    "In order to complete the challenge, you must take the [quiz]({{ SURVEYCHALURL }}). Only then will you get a chance to become a winner! Please note that you must be present at the {{ BRANDINGWOD }} Celebration party to win. Refer to the Terms and Conditions for details.\n",
    "{% endif %}\n",
    "# Final steps\n",
    "### Please take a moment to fill out our [survey]({{ SURVEYURL }}).\n",
    "\n",
    "\n",
    "### And make sure you use `File -> Log Out` menu to terminate your workshop session.\n",
    "\n",
    "# Thank you\n",
    "![ThankYou](Pictures/grommet.jpg)\n"
   ]
  }
 ],
 "metadata": {
  "kernelspec": {
   "display_name": "Bash",
   "language": "bash",
   "name": "bash"
  },
  "language_info": {
   "codemirror_mode": "shell",
   "file_extension": ".sh",
   "mimetype": "text/x-sh",
   "name": "bash"
  }
 },
 "nbformat": 4,
 "nbformat_minor": 4
}
