{
 "cells": [
  {
   "cell_type": "markdown",
   "metadata": {},
   "source": [
    "<h1>What is Python?</h1>\n",
    "<p>Python is an interpreted, high-level, general purpose programming language. It was conceived in 1980 by Guido van Rossum. You can download Python interpreter for free at <a href=\"https://python.org\">https://python.org</a> and it has its binaries for all platforms like Linux, macOS and Windows.</p>\n",
    "\n",
    "<p>Here is your <strong>Introduction to Python</strong> session by Samarth Deyagond. You can call me, SAM!</p>\n",
    "<h5 style=\"text-align:center\">Fasten your seatbelts. The journey begins!<br /></h5>\n",
    "<center><img src=\"https://media.giphy.com/media/twG2m3mewlRvi/giphy.gif\" style=\"height:300px, width:300px\" /></center>"
   ]
  },
  {
   "cell_type": "markdown",
   "metadata": {},
   "source": [
    "<h3 id=\"1\">#1. Let's write our first Python code</h3>\n",
    "<p>Python is meant to be an easily readable language. Its formatting is visually uncluttered. It is so readable that one feels programming in Python like writing instructions for the computer in plane English.</p>"
   ]
  },
  {
   "cell_type": "code",
   "execution_count": null,
   "metadata": {},
   "outputs": [],
   "source": [
    "# Let's say hello to world in Python\n",
    "print(\"Hello, World!\")"
   ]
  },
  {
   "cell_type": "code",
   "execution_count": null,
   "metadata": {},
   "outputs": [],
   "source": [
    "# Let's store your name in variable name and say hello again\n",
    "name = \"YourNameGoesHere\"\n",
    "print(\"Hello\", name)"
   ]
  },
  {
   "attachments": {},
   "cell_type": "markdown",
   "metadata": {},
   "source": [
    "<h3 id=\"2\">#2. Understanding variables and data types in Python</h3>\n",
    "<p><strong>Variables,</strong> in a program are the logical names that you give to refer the memory/address space that holds the data you need for your computation. Python supports a variety of data types -</p>\n",
    "    <ul>\n",
    "        <li><strong>numeric</strong> (integer, floating point)</li> \n",
    "        <li><strong>string</strong> (character, character sequence)</li>\n",
    "        <li><strong>boolean</strong> (True or False)</li>\n",
    "        <li><strong>custom</strong> datatypes (objects of classes)</li>\n",
    "        <li><strong>lists</strong> (collection of values), etc.</li>\n",
    "    </ul>\n",
    "\n",
    "<p>The best part about variables &amp; data types in Python is that - they are dynamically typed. You don't have to worry about informing the interpreter what kind of data you're storing in the variables unlike the way in languages like C, C++ and Java. Python understands by itself - <i>what is what?!</i></p>"
   ]
  },
  {
   "cell_type": "code",
   "execution_count": null,
   "metadata": {},
   "outputs": [],
   "source": [
    "# create variables of different datatypes\n",
    "an_integer = 10\n",
    "a_float = 12.5\n",
    "a_character = 'S'\n",
    "a_string = 'Teddy Winters'\n",
    "a_bool = True"
   ]
  },
  {
   "cell_type": "code",
   "execution_count": null,
   "metadata": {},
   "outputs": [],
   "source": [
    "# print the variables using the print statement\n",
    "print(\"Integer example:\", an_integer)\n",
    "print(\"\\nFloating point example:\", a_float)\n",
    "print(\"\\nCharacter example:\", a_character)\n",
    "print(\"\\nString example:\", a_string)\n",
    "print(\"\\nBoolean example:\", a_bool)"
   ]
  },
  {
   "cell_type": "markdown",
   "metadata": {},
   "source": [
    "<h4>How to check the data type of a variable in Python?</h4>\n",
    "<p>Well, the function <code>type</code> is for our rescue</p>"
   ]
  },
  {
   "cell_type": "code",
   "execution_count": null,
   "metadata": {},
   "outputs": [],
   "source": [
    "type(a_bool)"
   ]
  },
  {
   "cell_type": "markdown",
   "metadata": {},
   "source": [
    "<h3 id=\"3\">#3. Console input, variable assignment and math</h3>\n",
    "<p>In this section, we will understand how to capture a console input from the user at the runtime, store it in a variable and perform some operations on it. <code>input</code> is the function we use to do this. <code>input</code> will always treat the value given by the user to be of <code>string</code> datatype. One has to typecast it to the proper datatype before assigning it to the variable.</p>"
   ]
  },
  {
   "cell_type": "code",
   "execution_count": null,
   "metadata": {},
   "outputs": [],
   "source": [
    "# capture your name from the console and store it in the variable name\n",
    "name = input(\"Please enter your name: \")\n",
    "print(\"Hello,\", name)"
   ]
  },
  {
   "cell_type": "markdown",
   "metadata": {},
   "source": [
    "<p>Let us try out another example:</p>"
   ]
  },
  {
   "cell_type": "code",
   "execution_count": null,
   "metadata": {},
   "outputs": [],
   "source": [
    "# capture the dividend and divisor value\n",
    "dividend = int(input(\"Enter the dividend:\"))\n",
    "divisor = float(input(\"Enter a non zero divisor:\"))\n",
    "\n",
    "# calculate the quotient\n",
    "quotient = dividend/divisor\n",
    "print(\"The quotient is {} and quotient is of type {}\".format(quotient, type(quotient)))"
   ]
  },
  {
   "cell_type": "markdown",
   "metadata": {},
   "source": [
    "<h3 id=\"4\">#4. Conditionals: The if-else statements</h3>\n",
    "<p>Conditional logic are very common in our day-today life. We want to execute a block of code if some condition is satisfied or execute some other block code to produce a different result. Let us see it with the same example from <a href=\"#3\">#3</a> where we wouldn't want to divide if the divisor is 0.</p>\n",
    "<p>A block of code is always intended four spaces within with respect to its parent block.</p>"
   ]
  },
  {
   "cell_type": "code",
   "execution_count": null,
   "metadata": {},
   "outputs": [],
   "source": [
    "# capture the dividend and divisor value\n",
    "dividend = int(input(\"Enter the dividend:\"))\n",
    "divisor = int(input(\"Enter a non zero divisor:\"))\n",
    "\n",
    "# check if the divisor is not zero. If True then calcuate the quotient or throw an error\n",
    "if divisor != 0:\n",
    "    quotient = dividend/divisor\n",
    "    print(\"The quotient is {}\".format(quotient))\n",
    "else:\n",
    "    print(\"Stop! Cannot divide by zero.\")"
   ]
  },
  {
   "cell_type": "markdown",
   "metadata": {},
   "source": [
    "<h3>#5. Loops in Python</h3>\n",
    "<p>Executing a block of code over and over again is called looping. There are two looping constructs in Python. <code>for</code> and <code>while</code>. </p>"
   ]
  },
  {
   "cell_type": "code",
   "execution_count": null,
   "metadata": {},
   "outputs": [],
   "source": [
    "# looping with for loop\n",
    "multiplicand = 3\n",
    "for i in range(1, 11):\n",
    "    print(multiplicand, \"X\", i, \"=\", multiplicand*i)"
   ]
  },
  {
   "cell_type": "code",
   "execution_count": null,
   "metadata": {},
   "outputs": [],
   "source": [
    "# looping with while loop\n",
    "multiplicand = 5\n",
    "multiplier = 1\n",
    "while multiplier <= 10:\n",
    "    print(multiplicand, \"X\", multiplier, \"=\", multiplicand*multiplier)\n",
    "    multiplier = multiplier + 1"
   ]
  },
  {
   "cell_type": "markdown",
   "metadata": {},
   "source": [
    "<h3>#6. Collections in Python</h3>\n",
    "\n",
    "In Python, you can create collections (or arrays) of things using set, dictionaries, list or tuples.  \n",
    "\n",
    "- Set: unordered and unindexed. No duplicate members.\n",
    "- Dictionary: unordered, changeable and indexed. No duplicate members.\n",
    "- List: ordered and changeable. Allows duplicate members.\n",
    "- Tuple: ordered and unchangeable. Allows duplicate members.\n"
   ]
  },
  {
   "cell_type": "markdown",
   "metadata": {},
   "source": [
    "<h4>#6.1 Set</h4>\n",
    "\n",
    "Let's start with **set**. A **set** is a unsorted collection of values. **Set** cannot be indexed. However you can iterate through a set, add, remove values from the set, or lookup if a value belong to a set. We use curly brackets de manipulate sets. \n"
   ]
  },
  {
   "cell_type": "code",
   "execution_count": null,
   "metadata": {},
   "outputs": [],
   "source": [
    "set1 = {\"red\", \"green\", \"blue\"}\n",
    "\n",
    "for x in set1:\n",
    "  print(x)\n",
    "print(\"length:\", len(set1))\n",
    "\n",
    "# add a color for black\n",
    "print(\"Is black a color?\", \"black\" in set1)\n",
    "set1.add(\"black\")\n",
    "print(\"Is black a color?\", \"black\" in set1)\n",
    "\n",
    "# New set\n",
    "print(\"length:\", len(set1))\n",
    "for x in set1:\n",
    "  print(x)"
   ]
  },
  {
   "cell_type": "markdown",
   "metadata": {},
   "source": [
    "We can merge sets together, or clear content of a set."
   ]
  },
  {
   "cell_type": "code",
   "execution_count": null,
   "metadata": {},
   "outputs": [],
   "source": [
    "set1 = {\"red\", \"green\", \"blue\"}\n",
    "set2 = {\"black\", \"white\"}\n",
    "set3 = {}\n",
    "\n",
    "for x in set3:\n",
    "  print(x)\n",
    "print(\"length:\", len(set3))\n",
    "\n",
    "# merge sets\n",
    "set3 = set1.union(set2)\n",
    "\n",
    "# New set3\n",
    "print(\"length:\", len(set3))\n",
    "for x in set3:\n",
    "  print(x)\n",
    "\n",
    "print(\"cleanup time\")\n",
    "set3.clear()\n",
    "\n",
    "# empty set3\n",
    "print(\"length:\", len(set3))\n",
    "for x in set3:\n",
    "  print(x)\n"
   ]
  },
  {
   "cell_type": "markdown",
   "metadata": {},
   "source": [
    "<h4>#6.2 Dictionary</h4>\n",
    "\n",
    "A dictionary is a unsorted collection of key/value pairs, which can be indexed (by the keys) to retrieve or modify the values. Keys have to be unique. We use curly brackets de show dictionaries (or dict).\n"
   ]
  },
  {
   "cell_type": "code",
   "execution_count": null,
   "metadata": {},
   "outputs": [],
   "source": [
    "dict1 = {\n",
    "  \"brand\": \"HPE\",\n",
    "  \"model\": \"HPE Synergy 480 Gen10 Compute Module\",\n",
    "  \"cpu\": 2\n",
    "}\n",
    "print(dict1)\n",
    "\n",
    "x = dict1[\"brand\"]\n",
    "print(x)\n",
    "\n",
    "# or alternatively \n",
    "\n",
    "y = dict1.get(\"model\")\n",
    "print(y)\n",
    "\n",
    "# Let's make a change\n",
    "dict1[\"model\"] = \"HPE Synergy 660 Gen10 Compute Module\"\n",
    "dict1[\"cpu\"] = 4\n",
    "\n",
    "# Notice how x and y are pointers to the dict values not copies\n",
    "print(x,y)\n",
    "\n"
   ]
  },
  {
   "cell_type": "markdown",
   "metadata": {},
   "source": [
    "You can loop through dict to enumerate keys and/or values."
   ]
  },
  {
   "cell_type": "code",
   "execution_count": null,
   "metadata": {},
   "outputs": [],
   "source": [
    "# you can enumerate the keys...\n",
    "for x in dict1:\n",
    "  print(x)\n",
    "\n",
    "# and the values\n",
    "for x in dict1:\n",
    "  print(dict1[x])\n",
    "\n",
    "# or alternatively with the keyword values \n",
    "for x in dict1.values():\n",
    "  print(x)"
   ]
  },
  {
   "cell_type": "markdown",
   "metadata": {},
   "source": [
    "In addition, Python provides a nice way to loop through both keys and values with the **items** keyword. You can check if a value belong to a dictionary with the keyword **in**."
   ]
  },
  {
   "cell_type": "code",
   "execution_count": null,
   "metadata": {},
   "outputs": [],
   "source": [
    "for x, y in dict1.items():\n",
    "  print(x, y)\n",
    "\n",
    "# Looking for a key - try to change the tested string to see the difference\n",
    "if \"model\" in dict1:\n",
    "  print(\"Yes, 'model' is a key in dict1\")\n",
    "else: \n",
    "  print(\"Nope, it's not\")\n",
    "\n",
    "# Looking for a value - try to change the tested string to see the difference\n",
    "if \"HPE\" in dict1.values():\n",
    "  print(\"Yes, 'HPE' is a value in dict1\")\n",
    "else: \n",
    "  print(\"Nope, it's not\")"
   ]
  },
  {
   "cell_type": "markdown",
   "metadata": {},
   "source": [
    "You can verify the number of items in a dictionary with the **len** function like we did for **set**. You can also add and remove items in the dictionary or completely clear the dictionary with **clear**."
   ]
  },
  {
   "cell_type": "code",
   "execution_count": null,
   "metadata": {},
   "outputs": [],
   "source": [
    "# always restart fresh this lab\n",
    "dict1 = {\n",
    "  \"brand\": \"HPE\",\n",
    "  \"model\": \"HPE Synergy 480 Gen10 Compute Module\",\n",
    "  \"cpu\": 2\n",
    "}\n",
    "\n",
    "print(\"Current dictionary\")\n",
    "print(\"------------------\")\n",
    "for x, y in dict1.items():\n",
    "  print(x, y)\n",
    "\n",
    "# print current length of dict1\n",
    "print(\"length:\", len(dict1))\n",
    "\n",
    "# Add another key\n",
    "dict1[\"mem\"] = 256\n",
    "\n",
    "print(\"After adding key 'mem'\")\n",
    "print(\"----------------------\")\n",
    "for x, y in dict1.items():\n",
    "  print(x, y)\n",
    "\n",
    "# print new length of dict1\n",
    "print(\"length:\", len(dict1))\n",
    "\n",
    "# remove a key\n",
    "dict1.pop(\"cpu\")\n",
    "\n",
    "print(\"After removing key 'cpu'\")\n",
    "print(\"------------------------\")\n",
    "for x, y in dict1.items():\n",
    "  print(x, y)\n",
    "\n",
    "# print new length of dict1\n",
    "print(\"length:\", len(dict1))\n",
    "\n",
    "# clear dict1\n",
    "dict1.clear()\n",
    "\n",
    "print(\"After clearing\")\n",
    "print(\"--------------\")\n",
    "for x, y in dict1.items():\n",
    "  print(x, y)\n",
    "\n",
    "# print new length of dict1\n",
    "print(\"length:\", len(dict1))\n",
    "\n",
    "\n"
   ]
  },
  {
   "cell_type": "markdown",
   "metadata": {},
   "source": [
    "One word of advice: when manipulating dict (like set) use the **copy** function as the '=' only provides a pointer (a reference)"
   ]
  },
  {
   "cell_type": "code",
   "execution_count": null,
   "metadata": {},
   "outputs": [],
   "source": [
    "# always restart fresh this lab\n",
    "dict1 = {\n",
    "  \"brand\": \"HPE\",\n",
    "  \"model\": \"HPE Synergy 480 Gen10 Compute Module\",\n",
    "  \"cpu\": 2\n",
    "}\n",
    "\n",
    "print(\"Current dictionary\")\n",
    "print(\"------------------\")\n",
    "for x, y in dict1.items():\n",
    "  print(x, y)\n",
    "\n",
    "# create dict2 from disct 1 - by reference\n",
    "dict2 = dict1\n",
    "# create dict3 from disct 1 - by copy\n",
    "dict3 = dict1.copy()\n",
    "\n",
    "# Add another key to dict1\n",
    "dict1[\"mem\"] = 256\n",
    "\n",
    "print(\"Print dict1 after adding key 'mem'\")\n",
    "print(\"----------------------------------\")\n",
    "for x, y in dict1.items():\n",
    "  print(x, y)\n",
    "\n",
    "print(\"Print dict2 - a reference to dict1\")\n",
    "print(\"----------------------------------\")\n",
    "for x, y in dict2.items():\n",
    "  print(x, y)\n",
    "\n",
    "print(\"Print dict3 - a copy of original dict1\")\n",
    "print(\"--------------------------------------\")\n",
    "for x, y in dict3.items():\n",
    "  print(x, y)"
   ]
  },
  {
   "cell_type": "markdown",
   "metadata": {},
   "source": [
    "Finally, you can build nestled dictionary when needed for building more complex data structure."
   ]
  },
  {
   "cell_type": "code",
   "execution_count": null,
   "metadata": {},
   "outputs": [],
   "source": [
    "dict1 = {\n",
    "  \"brand\": \"HPE\",\n",
    "  \"model\": \"HPE Synergy 480 Gen10 Compute Module\",\n",
    "  \"cpu\": 2\n",
    "}\n",
    "\n",
    "dict2 = {\n",
    "  \"brand\": \"HPE\",\n",
    "  \"model\": \"HPE Synergy 660 Gen10 Compute Module\",\n",
    "  \"cpu\": 4\n",
    "}\n",
    "\n",
    "rack = {\n",
    "    \"server1\" : dict1,\n",
    "    \"server2\" : dict2\n",
    "}\n",
    "\n",
    "print(rack)\n",
    "print(\"length:\", len(rack))"
   ]
  },
  {
   "cell_type": "markdown",
   "metadata": {},
   "source": [
    "<h4>#6.3. Lists and tuples in Python</h4>\n",
    "<h5>Introduction</h5>\n",
    "<p><code>Lists</code> and <code>tuples</code> are collection of items of heterogenous/homogenous types. However, </p>\n",
    "    <ul>\n",
    "        <li><code>lists</code> are mutable and <code>tuples</code> are immutable.</li>\n",
    "        <li><code>list items</code> are enclosed within square brackets [] and <code>tuple items</code> are enclosed within paranthesis ()</li>\n",
    "    </ul>"
   ]
  },
  {
   "cell_type": "code",
   "execution_count": null,
   "metadata": {},
   "outputs": [],
   "source": [
    "# list example\n",
    "list_items = [10, 12.5, \"Teddy Winters\", True]\n",
    "\n",
    "# print the list at once\n",
    "print(list_items)"
   ]
  },
  {
   "cell_type": "markdown",
   "metadata": {},
   "source": [
    "<p>Iterate over the list items one by one.</p>"
   ]
  },
  {
   "cell_type": "code",
   "execution_count": null,
   "metadata": {},
   "outputs": [],
   "source": [
    "for item in list_items:\n",
    "    print(item, end=' ')"
   ]
  },
  {
   "cell_type": "code",
   "execution_count": null,
   "metadata": {},
   "outputs": [],
   "source": [
    "# create a tuple \n",
    "tuple_items = (\"HPE Dev\", 101, ['a', 12.5, True])\n",
    "\n",
    "# print the tuple at once\n",
    "print(tuple_items)"
   ]
  },
  {
   "cell_type": "markdown",
   "metadata": {},
   "source": [
    "<p>Iterate over tuple items one by one.</p>"
   ]
  },
  {
   "cell_type": "code",
   "execution_count": null,
   "metadata": {},
   "outputs": [],
   "source": [
    "# iterate over tuple items one by one\n",
    "for item in tuple_items:\n",
    "    print(item, end=\" \")"
   ]
  },
  {
   "cell_type": "markdown",
   "metadata": {},
   "source": [
    "<p>Let's understand their mutability and immutability</p>"
   ]
  },
  {
   "cell_type": "code",
   "execution_count": null,
   "metadata": {},
   "outputs": [],
   "source": [
    "list_items[0] = 100\n",
    "print(list_items)\n",
    "\n",
    "# So, lists are mutable"
   ]
  },
  {
   "cell_type": "code",
   "execution_count": null,
   "metadata": {},
   "outputs": [],
   "source": [
    "tuple_items[0] = 'HPE_Dev'\n",
    "# this is illegal in Python. It will throw a TypeError"
   ]
  },
  {
   "cell_type": "markdown",
   "metadata": {},
   "source": [
    "<h4>List comprehensions</h4>\n",
    "<p>You can use list comprehensions to create powerful functionality within a single line of code. Let us consider a list of integers <code>numbers</code> and try to create another list <code>squared</code> whose elements are squared of the corresponding elements from <code>numbers</code>.</p>"
   ]
  },
  {
   "cell_type": "code",
   "execution_count": null,
   "metadata": {},
   "outputs": [],
   "source": [
    "numbers = [1, 2, 3, 4, 5, 6, 7, 8, 9, 10]\n",
    "squared = list()\n",
    "\n",
    "# regular way \n",
    "for number in numbers:\n",
    "    squared.append(number*number)\n",
    "\n",
    "print(squared)    "
   ]
  },
  {
   "cell_type": "markdown",
   "metadata": {},
   "source": [
    "<p>Let us use list comprehension now</p>"
   ]
  },
  {
   "cell_type": "code",
   "execution_count": null,
   "metadata": {},
   "outputs": [],
   "source": [
    "squared_new = [number*number for number in numbers]\n",
    "print(squared_new)"
   ]
  },
  {
   "cell_type": "markdown",
   "metadata": {},
   "source": [
    "<p>There is something called as slicing. This helps you to choose sub section from the list/tuple. Strings are tuples. So, abilities of tuples are same for strings as well.</p>"
   ]
  },
  {
   "cell_type": "code",
   "execution_count": null,
   "metadata": {},
   "outputs": [],
   "source": [
    "first_five_numbers = numbers[:5]\n",
    "first_five_numbers"
   ]
  },
  {
   "cell_type": "code",
   "execution_count": null,
   "metadata": {},
   "outputs": [],
   "source": [
    "last_five_numbers = numbers[-5:]\n",
    "last_five_numbers"
   ]
  },
  {
   "cell_type": "code",
   "execution_count": null,
   "metadata": {},
   "outputs": [],
   "source": [
    "numbers_in_between = numbers[3:7]\n",
    "numbers_in_between"
   ]
  },
  {
   "cell_type": "markdown",
   "metadata": {},
   "source": [
    "<h3>#8. Working with other modules</h3>\n",
    "<p>Python has abundant collection of libraries and modules that will help you in your development, scripting and automation activation. You need to employ <code>import</code> to involve those libraries in your Python program.</p>\n",
    "\n",
    "<p>Let us consider the <code>requests</code> library in Python and try to mimic what we did in The API 101 workshop, but, the Python way.</p>\n",
    "\n",
    "<p>The API end-point is: <a href=\"https://api.open-meteo.com/v1/\">https://api.open-meteo.com/v1/</a>. \n",
    "    \n",
    "According to the <a href=\"https://open-meteo.com/en/docs\">documentation</a>, we need to query API with longitude and latitude of a city, such as Paris.\n",
    "\n",
    "\n",
    "Invoke a GET request to https://api.open-meteo.com/v1/forecast?latitude=48.8567&longitude=2.3510&current_weather=true. \n",
    "\n",
    "We will capture the response and use it as a JSON data dictionary.</p>"
   ]
  },
  {
   "cell_type": "code",
   "execution_count": null,
   "metadata": {},
   "outputs": [],
   "source": [
    "import requests\n",
    "import json"
   ]
  },
  {
   "cell_type": "code",
   "execution_count": null,
   "metadata": {},
   "outputs": [],
   "source": [
    "# get the response data \n",
    "response_stream = requests.get(\"https://api.open-meteo.com/v1/forecast?latitude=48.8567&longitude=2.3510&current_weather=true\")\n",
    " \n",
    "    \n",
    "# convert the response data as JSON dictionary is response is 200 OK\n",
    "if response_stream.status_code == 200:\n",
    "    response_body = json.loads(response_stream.text)\n",
    "   \n",
    "    print(\"\\n\\nTemperature in Paris is :\", response_body['current_weather']['temperature'])\n",
    "    print(\"Wind Speed in Paris is at:\", response_body['current_weather']['windspeed'])\n",
    "else:\n",
    "    print(\"GET request returned status\", response_stream.status_code)\n",
    "    \n"
   ]
  },
  {
   "cell_type": "markdown",
   "metadata": {},
   "source": [
    "Congratulations !\n",
    "\n",
    "You made it to the end of the workshop !\n",
    "\n",
    "Please, proceed now to the conclusion, there's more to it !\n",
    "\n",
    "* [Conclusion](2-WKSHP-Conclusion.ipynb)\n",
    "\n"
   ]
  },
  {
   "cell_type": "code",
   "execution_count": null,
   "metadata": {},
   "outputs": [],
   "source": []
  }
 ],
 "metadata": {
  "kernelspec": {
   "display_name": "Python 3",
   "language": "python",
   "name": "python3"
  },
  "language_info": {
   "codemirror_mode": {
    "name": "ipython",
    "version": 3
   },
   "file_extension": ".py",
   "mimetype": "text/x-python",
   "name": "python",
   "nbconvert_exporter": "python",
   "pygments_lexer": "ipython3",
   "version": "3.6.8"
  }
 },
 "nbformat": 4,
 "nbformat_minor": 4
}
