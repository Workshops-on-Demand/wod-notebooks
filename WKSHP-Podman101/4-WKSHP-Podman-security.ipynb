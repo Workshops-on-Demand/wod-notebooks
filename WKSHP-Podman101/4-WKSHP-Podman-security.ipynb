{
 "cells": [
  {
   "cell_type": "markdown",
   "metadata": {},
   "source": [
    "![Podmanlogo](Pictures/podman-logo.png)"
   ]
  },
  {
   "cell_type": "markdown",
   "metadata": {},
   "source": [
    "# Security with Podman rootless containers\n",
    "\n",
    "Podman is a container engine designed to work with rootless containers, meaning that there is no need of using sudo to run your containers. If you have experience with other container engines you may have used sudo or even added your non-root user to a group with priviledges. This is, of course, a concern for the security of your environment.\n",
    "\n",
    "Running a container engine with the root user exposes two important methods of attacking your system:\n",
    "\n",
    " - If your container engine has a vulnerability your entire system will be compromised as the process of your container engine would be owned by the root user.\n",
    " - Given a container image that contains a vulnerability an attacker could gain access to your vulnerable image and, as your container image is being executed by the root user, the attacker could gain access to the whole system from it.\n",
    "\n",
    "Podman has a simple solution for this: don't run as root. By default Podman is rootless, but you can use root for those edge use cases in which it's needed.\n",
    "\n",
    "Running containers with non-root users also gives you the ability to isolate groups of containers being run by different users in the same system. Lets say you have Application A composed of three containers (frontend, backend and database) and Application B composed of two containers (frontend and backend), the applications do not interact between themselves, so you would like to isolate them. In this scenario you can just create two users (application-a-user and application-b-user) and instanciate each application with its own user. Once you do that, a successfully attacked Application B would not expose any containers of application A.\n",
    "\n",
    "Of course, there are some scenarios in which running rootless containers could limit functionality. Lets review the most common caveats of rootless containers:\n",
    "\n",
    " - Exposing your container in ports below 1024 cannot be binded out of the box. There are workarounds for this.\n",
    " - Sharing images between users needs to be done via [this process](https://www.redhat.com/sysadmin/podman-transfer-container-images-without-registry?ref=linuxhandbook.com)\n",
    "\n",
    "## Rootless containers with podman\n",
    "\n",
    "First thing we need to understand is that in a linux system each user will have a list of subuid and subgid's that can be used for running processes. These can be found in the files /etc/subuid and /etc/subgid."
   ]
  },
  {
   "cell_type": "code",
   "execution_count": null,
   "metadata": {},
   "outputs": [],
   "source": [
    "%login {{ hostvars[inventory_hostname]['IP-WKSHP-Podman101'] }}"
   ]
  },
  {
   "cell_type": "code",
   "execution_count": null,
   "metadata": {
    "vscode": {
     "languageId": "shellscript"
    }
   },
   "outputs": [],
   "source": [
    "cat /etc/subuid | grep $(whoami)"
   ]
  },
  {
   "cell_type": "code",
   "execution_count": null,
   "metadata": {
    "vscode": {
     "languageId": "shellscript"
    }
   },
   "outputs": [],
   "source": [
    "cat /etc/subgid | grep $(whoami)"
   ]
  },
  {
   "cell_type": "markdown",
   "metadata": {},
   "source": [
    "In the output of those two files you see the range of the subuid and subgid that can be used for executing processes by your user. This values can be modified with the usermod command, but we will not be covering it in this workshop.\n",
    "\n",
    "Lets show rootless containers working, first we will execute a new container:"
   ]
  },
  {
   "cell_type": "code",
   "execution_count": null,
   "metadata": {
    "vscode": {
     "languageId": "shellscript"
    }
   },
   "outputs": [],
   "source": [
    "podman run -d --rm --name=rootless-container docker.io/redhat/ubi9 sleep 999"
   ]
  },
  {
   "cell_type": "markdown",
   "metadata": {},
   "source": [
    "Check that your container is running"
   ]
  },
  {
   "cell_type": "code",
   "execution_count": null,
   "metadata": {
    "vscode": {
     "languageId": "shellscript"
    }
   },
   "outputs": [],
   "source": [
    "podman ps"
   ]
  },
  {
   "cell_type": "markdown",
   "metadata": {},
   "source": [
    "Now use the \"ps\" command to see the uid of the user that executed our container."
   ]
  },
  {
   "cell_type": "code",
   "execution_count": null,
   "metadata": {},
   "outputs": [],
   "source": [
    "ps -f -p $(pgrep -f rootless-container) |grep student{{ STDID }}"
   ]
  },
  {
   "cell_type": "markdown",
   "metadata": {},
   "source": [
    "As you can see the output shows the container process using a non priviledged UID.\n",
    "\n",
    "Last point I would like to highlight regarding security is that we never used sudo for running podman. In general we have not used root user in any moment of this workshop, following all security best practices.\n",
    "\n",
    "# Cleanup"
   ]
  },
  {
   "cell_type": "code",
   "execution_count": null,
   "metadata": {
    "vscode": {
     "languageId": "shellscript"
    }
   },
   "outputs": [],
   "source": [
    "podman stop --all\n",
    "podman rm --all\n",
    "podman rmi docker.io/redhat/ubi9"
   ]
  },
  {
   "cell_type": "code",
   "execution_count": null,
   "metadata": {},
   "outputs": [],
   "source": [
    "%logout"
   ]
  },
  {
   "cell_type": "markdown",
   "metadata": {},
   "source": [
    "<br><br>\n",
    "\n",
    "## <i class=\"fas fa-2x fa-map-marker-alt\" style=\"color:#631f61;\"></i>&nbsp;&nbsp;Next Steps\n",
    "\n",
    "# Lab 4 : Managing multiple containers\n",
    "\n",
    "<h2>Next LAB&nbsp;&nbsp;&nbsp;&nbsp;<a href=\"5-WKSHP-Managing-multiple-containers.ipynb\" target=\"New\" title=\"Next LAB: Managing multiple containers\"><i class=\"fas fa-chevron-circle-right\" style=\"color:#631f61;\"></i></a></h2>\n",
    "\n",
    "</br>\n",
    " <a href=\"3-WKSHP-Managing-container-images.ipynb\" target=\"New\" title=\"Back: Managing container images\"><button type=\"submit\"  class=\"btn btn-lg btn-block\" style=\"background-color:#631f61;color:#fff;position:relative;width:10%; height: 30px;float: left;\"><b>Back</b></button></a>\n",
    " <a href=\"5-WKSHP-Managing-multiple-containers.ipynb\" target=\"New\" title=\"Next: Managing multiple containers\"><button type=\"submit\"  class=\"btn btn-lg btn-block\" style=\"background-color:#631f61;color:#fff;position:relative;width:10%; height: 30px;float: right;\"><b>Next</b></button></a>\n"
   ]
  }
 ],
 "metadata": {
  "kernelspec": {
   "display_name": "SSH",
   "language": "bash",
   "name": "ssh"
  },
  "language_info": {
   "codemirror_mode": "shell",
   "file_extension": ".sh",
   "mimetype": "text/x-sh",
   "name": "ssh"
  }
 },
 "nbformat": 4,
 "nbformat_minor": 4
}
