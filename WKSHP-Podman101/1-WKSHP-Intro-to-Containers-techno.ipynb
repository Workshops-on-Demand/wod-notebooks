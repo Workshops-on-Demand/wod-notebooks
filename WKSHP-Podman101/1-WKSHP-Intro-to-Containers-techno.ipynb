{
 "cells": [
  {
   "cell_type": "markdown",
   "metadata": {},
   "source": [
    "![Podmanlogo](Pictures/podman-logo.png)"
   ]
  },
  {
   "cell_type": "markdown",
   "metadata": {},
   "source": [
    "# What is Podman?\n",
    "\n",
    "As described by the Podman website itself it is:\n",
    "\n",
    "    Podman is a daemonless, open source, Linux native tool designed to make it easy to find, run, build, share and deploy applications using Open Containers Initiative (OCI) Containers and Container Images. Podman provides a command line interface (CLI) familiar to anyone who has used the Docker Container Engine. Most users can simply alias Docker to Podman (alias docker=podman) without any problems. Similar to other common Container Engines (Docker, CRI-O, containerd), Podman relies on an OCI compliant Container Runtime (runc, crun, runv, etc) to interface with the operating system and create the running containers. This makes the running containers created by Podman nearly indistinguishable from those created by any other common container engine.\n",
    "\n",
    "With simple words it's a container engine that is so similar to Docker that you can just use an alias and run docker-like commands. This brings to mind an obvious question, if it's so similar to Docker why would you use Podman instead? The answer is security.\n",
    "The previous paragraph starts describing Podman as a \"daemonless\" container engine and that's the main difference with Docker. Later in this workshop we'll explain security features in Podman, for the moment just keep in mind that as Podman doesn't have a daemon it doesn't need to use the root user for anything, therefore the execution of containers is secured by design. There are other benefits of using a daemonless architecture like better performance.\n",
    "\n",
    "This is explained differently in Podman website:\n",
    "\n",
    "    Containers under the control of Podman can either be run by root or by a non-privileged user. Podman manages the entire container ecosystem which includes pods, containers, container images, and container volumes using the libpod library. Podman specializes in all of the commands and functions that help you to maintain and modify OCI container images, such as pulling and tagging. It allows you to create, run, and maintain those containers and container images in a production environment.\n",
    "\n",
    "Moreover, podman has gone further and brings some new functionalities that will help enterprises looking at container adoption for their workloads. We will explain some of these during this workshop.\n",
    "\n",
    "One last thing, have you seen podmans logo? It's made out of a group of seals, also known as a pod. A pod, in the kubernetes world, is also a way of grouping containers and podman is able to manage pods. That's where the name comes from, Podman was designed from the begining to be the best tool for developers working side by side with kubernetes as it can manage the same objects.\n",
    "\n",
    "<img src=\"Pictures/seals-and-containers.png\" width=\"1000\">\n",
    "\n",
    "# Podman ecosystem\n",
    "\n",
    "Podman is not alone, there are several tools that will help you manage containers along with Podman. All this ecosystem takes a modular approach. Instead of having a single heavy engine for managing everything we have a complete ecosystem of tools that work with each other so you can cover the complete lifecycle of containers in a lightweight manner.\n",
    "\n",
    "Here I will be explaining part of the ecosystem. During the workshop you will use some of them (like Skopeo) and, at the end of the workshop, we will demonstrate how to use the ecosystem tools focused on management of multiple containers: podman-compose and kubernetes.\n",
    "\n",
    "## Skopeo: advanced container images management\n",
    "\n",
    "![skopeologo](Pictures/skopeo.png)\n",
    "\n",
    "Skopeo is a tool for manipulating, inspecting, signing, and transferring container images and image repositories on linux systems, Windows and MacOS. Like Podman and Buildah, Skopeo is an open source community-driven project that does not require running a container daemon.\n",
    "\n",
    "With Skopeo, you can inspect images on a remote registry without having to download the entire image with all its layers, making it a lightweight and modular solution for working with container images across different formats, including Open Container Initiative (OCI) and Docker images.\n",
    "\n",
    "## Buildah: advanced container image creation\n",
    "\n",
    "![buildahlogo](Pictures/buildah.png)\n",
    "\n",
    "The command line tool buildah provides the ability of creating container images from a running container, a Containerfile or from scratch. The resulting images are OCI (Open Container Initiative) compliant, meaning that they will work with any container enginge that complies with the OCI standard such as podman, docker or CRI-O.\n",
    "\n",
    "Most enterprises will be able to just work with Podman build capabilities, but if you need to cover an advanced use case like building a container image from scratch, that is without a base container image, buildah is definitely the tool you're looking for. We will not cover this use case in this workshop as it's quite advanced.\n",
    "\n",
    "## Podman for Desktop\n",
    "\n",
    "If you're not experienced with command line tools there is a super powerful software that brings a graphical user experience to Podman, that is Podman Desktop. It is available for Windows, macOS and Linux.\n",
    "\n",
    "![PodmanDesktop](Pictures/Podman_Desktop.png)\n",
    "\n",
    "Moreover, Podman Desktop is not limited to Podman, it can also interact with kubernetes clusters and is a very helpful tool in the transition to containerized applications for enterprises that are willing to take this path.\n"
   ]
  },
  {
   "cell_type": "markdown",
   "metadata": {},
   "source": [
    "<br><br>\n",
    "\n",
    "## <i class=\"fas fa-2x fa-map-marker-alt\" style=\"color:#631f61;\"></i>&nbsp;&nbsp;Next Steps\n",
    "\n",
    "# Lab 2 : Podman hello-world\n",
    "\n",
    "<h2>Next LAB&nbsp;&nbsp;&nbsp;&nbsp;<a href=\"2-WKSHP-Podman-hello-world.ipynb\" target=\"New\" title=\"Next LAB: Podman hello-world\"><i class=\"fas fa-chevron-circle-right\" style=\"color:#631f61;\"></i></a></h2>\n",
    "\n",
    "</br>\n",
    " <a href=\"0-ReadMeFirst.ipynb\" target=\"New\" title=\"Back: Introduction to Containers technologies\"><button type=\"submit\"  class=\"btn btn-lg btn-block\" style=\"background-color:#631f61;color:#fff;position:relative;width:10%; height: 30px;float: left;\"><b>Back</b></button></a>\n",
    " <a href=\"2-WKSHP-Podman-hello-world.ipynb\" target=\"New\" title=\"Next:Podman hello-world\"><button type=\"submit\"  class=\"btn btn-lg btn-block\" style=\"background-color:#631f61;color:#fff;position:relative;width:10%; height: 30px;float: right;\"><b>Next</b></button></a>\n"
   ]
  }
 ],
 "metadata": {
  "kernelspec": {
   "display_name": "SSH",
   "language": "bash",
   "name": "ssh"
  },
  "language_info": {
   "codemirror_mode": "shell",
   "file_extension": ".sh",
   "mimetype": "text/x-sh",
   "name": "ssh"
  }
 },
 "nbformat": 4,
 "nbformat_minor": 4
}
