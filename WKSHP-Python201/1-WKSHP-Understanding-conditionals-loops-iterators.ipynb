{
 "cells": [
  {
   "cell_type": "markdown",
   "metadata": {},
   "source": []
  },
  {
   "cell_type": "markdown",
   "metadata": {},
   "source": [
    "## 1. Conditional Statements - Python's Decision Makers - If, Else, and the Paths Your Code Can Take\n"
   ]
  },
  {
   "cell_type": "markdown",
   "metadata": {},
   "source": [
    "Conditional statements, like if and else,  act like crossroads for your Python programs. They let your code make choices based on whether certain conditions are true or false. Let's learn how to steer your code in the right direction!\n",
    "\n",
    "**Note:** To learn more about Python's conditional statements, refer to\n",
    "\n",
    "- [Conditional Statements in Python](https://realpython.com/python-conditional-statements/)\n",
    "- [Python If Else Statements – Conditional Statements](https://www.geeksforgeeks.org/python-if-else/)\n"
   ]
  },
  {
   "cell_type": "markdown",
   "metadata": {},
   "source": [
    "### The 'if' Statement: The Basic Branch\n",
    "\n",
    "The `if` statement is the most fundamental way to create a decision point in your code. If the condition is True, the code inside the if block runs. Otherwise, it's skipped.\n"
   ]
  },
  {
   "cell_type": "code",
   "execution_count": null,
   "metadata": {},
   "outputs": [],
   "source": [
    "age = 17\n",
    "if age >= 18:\n",
    "    print(\"You are eligible to vote!\")"
   ]
  },
  {
   "cell_type": "markdown",
   "metadata": {},
   "source": [
    "#### Interactive Exercise:\n",
    "\n",
    "Ask the user for their current temperature. If their temperature is above 99 degrees, print a message saying \"You might have a fever.\"\n"
   ]
  },
  {
   "cell_type": "code",
   "execution_count": null,
   "metadata": {},
   "outputs": [],
   "source": [
    "# Write code below"
   ]
  },
  {
   "cell_type": "markdown",
   "metadata": {},
   "source": [
    "### The 'else' Statement: The Other Path\n",
    "\n",
    "`else` provides the alternative. When the if condition isn't true, the code inside the else block runs instead.\n"
   ]
  },
  {
   "cell_type": "code",
   "execution_count": null,
   "metadata": {},
   "outputs": [],
   "source": [
    "has_ticket = False\n",
    "if has_ticket:\n",
    "    print(\"Enjoy the show!\")\n",
    "else:\n",
    "    print(\"Please purchase a ticket.\")"
   ]
  },
  {
   "cell_type": "markdown",
   "metadata": {},
   "source": [
    "#### Interactive Exercise:\n",
    "\n",
    "Write a program that determines if a number is odd or even.\n"
   ]
  },
  {
   "cell_type": "code",
   "execution_count": null,
   "metadata": {},
   "outputs": [],
   "source": [
    "# Write code below"
   ]
  },
  {
   "cell_type": "markdown",
   "metadata": {},
   "source": [
    "### 'elif': When You Have More Choices\n",
    "\n",
    "`elif` (short for 'else if') lets you chain multiple conditions together. It can be used between an `if` and an `else` statement. If the initial `if` condition is False, Python will check the 'elif' condition. If the `elif` condition is also False, it will move on the next `elif` or the final `else` block. Your code checks each condition in order until one is found to be true.\n"
   ]
  },
  {
   "cell_type": "code",
   "execution_count": null,
   "metadata": {},
   "outputs": [],
   "source": [
    "grade = 85\n",
    "if grade >= 90:\n",
    "    print(\"Excellent! You got an A\")\n",
    "elif grade >= 80:\n",
    "    print(\"Good job! You got a B\")\n",
    "elif grade >= 70:\n",
    "    print(\"Not bad. You got a C\")\n",
    "else:\n",
    "    print(\"Please consider studying harder.\")"
   ]
  },
  {
   "cell_type": "markdown",
   "metadata": {},
   "source": [
    "**Note**: You can have multiple `elif` statement in your code, but only oneblock of code will execute once a condition evaluates to `TRUE`. This makes the `elif` statement a powerful tool for handling multiple conditions in a clean and readable manner."
   ]
  },
  {
   "cell_type": "markdown",
   "metadata": {},
   "source": [
    "#### Interactive Exercise:\n",
    "\n",
    "Create a simple quiz question. Present multiple choices to the user using if, elif, and else.\n"
   ]
  },
  {
   "cell_type": "code",
   "execution_count": null,
   "metadata": {},
   "outputs": [],
   "source": [
    "# Write code below"
   ]
  },
  {
   "cell_type": "markdown",
   "metadata": {},
   "source": [
    "### Nested Conditionals: Decisions Within Decisions\n",
    "\n",
    "You can place `if`, `elif`, and `else` statements inside each other to create complex decision trees. This allows you to make decisions based on multiple factors.\n"
   ]
  },
  {
   "cell_type": "code",
   "execution_count": null,
   "metadata": {},
   "outputs": [],
   "source": [
    "is_raining = True\n",
    "temperature = 15  # In Celsius\n",
    "\n",
    "if is_raining:\n",
    "    if temperature < 10:\n",
    "        print(\"Wear a heavy raincoat and warm clothes.\")\n",
    "    else:\n",
    "        print(\"Wear a light raincoat.\")\n",
    "else:  # It's not raining\n",
    "    if temperature > 20:\n",
    "        print(\"Wear something light. It's warm!\")\n",
    "    else:\n",
    "        print(\"A jacket would be a good idea.\")"
   ]
  },
  {
   "cell_type": "markdown",
   "metadata": {},
   "source": [
    "**Outer Condition:** We first check if it's raining (is_raining).\n",
    "\n",
    "- **If it's raining:** We have another nested if to check the temperature and provide specific advice.\n",
    "- **If it's not raining:** We have another nested if to suggest clothing based on the temperature.\n"
   ]
  },
  {
   "cell_type": "markdown",
   "metadata": {},
   "source": [
    "#### Interactive Exercise:\n",
    "\n",
    "Can you modify this to also consider wind speed? Add another input for wind speed (e.g., low, medium, high), and incorporate this into your conditional logic for even more tailored advice.\n"
   ]
  },
  {
   "cell_type": "code",
   "execution_count": null,
   "metadata": {},
   "outputs": [],
   "source": [
    "# Write code below"
   ]
  },
  {
   "cell_type": "markdown",
   "metadata": {},
   "source": [
    "### One-line Conditionals (Ternary Operator): Quick Decisions\n",
    "\n",
    "`Ternary operators` let you write a compact if-else in one line.\n",
    "\n",
    "**Syntax:** result = `[true_value]` if `[condition]` else `[false_value]`\n"
   ]
  },
  {
   "cell_type": "code",
   "execution_count": null,
   "metadata": {},
   "outputs": [],
   "source": [
    "can_drive = \"Yes\" if age >= 18 else \"No\""
   ]
  },
  {
   "cell_type": "markdown",
   "metadata": {},
   "source": [
    "#### Interactive Exercise:\n",
    "\n",
    "Write a one-line conditional that prints \"Positive\" if a user-entered number is greater than zero, otherwise print \"Negative\" or \"Zero\".\n"
   ]
  },
  {
   "cell_type": "markdown",
   "metadata": {},
   "source": [
    "## 2. `Loops` in Python: Mastering the Art of Iteration\n"
   ]
  },
  {
   "cell_type": "markdown",
   "metadata": {},
   "source": [
    "In the world of programming, loops are powerful tools that allow you to execute a block of code repeatedly based on a specific condition or a set of elements.\n",
    "\n",
    "Loops let you repeat blocks of code multiple times. This saves you from writing the same thing over and over, making your programs more efficient. Think of loops like powerful robots that can do tasks tirelessly for you!\n",
    "\n",
    "Python provides various looping constructs that enable you to iterate over sequences, collections, or even custom logic, making it easier to automate repetitive tasks and handle large amounts of data efficiently.\n",
    "\n",
    "There are two main types of loops in Python:\n",
    "\n",
    "- `For` loops are used to iterate over a sequence of values.\n",
    "- `While` loops are used to execute a block of code repeatedly until a condition is met.\n"
   ]
  },
  {
   "cell_type": "markdown",
   "metadata": {},
   "source": [
    "### The Versatile `for` Loop\n"
   ]
  },
  {
   "cell_type": "markdown",
   "metadata": {},
   "source": [
    "The `for` loop is one of the most commonly used loops in Python, and it allows you to iterate over a sequence (such as a list, tuple, string, or any other iterable object).\n",
    "\n",
    "The syntax for a for loop is:\n",
    "\n",
    "```python\n",
    "for i in sequence:\n",
    "    # code to be executed for each item in the sequence\n",
    "```\n"
   ]
  },
  {
   "cell_type": "code",
   "execution_count": null,
   "metadata": {},
   "outputs": [],
   "source": [
    "# Iterating over a list\n",
    "fruits = ['apple', 'banana', 'cherry']\n",
    "for fruit in fruits:\n",
    "   print(fruit)\n",
    "\n",
    "# Output:\n",
    "# apple\n",
    "# banana\n",
    "# cherry"
   ]
  },
  {
   "cell_type": "markdown",
   "metadata": {},
   "source": [
    "**Explanation:**\n",
    "\n",
    "- We create a list `fruits` with three elements: 'apple', 'banana', and 'cherry'.\n",
    "- We use a `for` loop to iterate over the elements of the list. In each iteration, the variable fruit takes the value of the current element in the list.\n",
    "- We print the value of fruit in each iteration, resulting in the output displaying each element of the list.\n"
   ]
  },
  {
   "cell_type": "markdown",
   "metadata": {},
   "source": [
    "**Interactive Exercise:**\n",
    "\n",
    "Create a list of your favorite books, and use a for loop to print each book title.\n"
   ]
  },
  {
   "cell_type": "code",
   "execution_count": null,
   "metadata": {},
   "outputs": [],
   "source": [
    "# Write code below"
   ]
  },
  {
   "cell_type": "markdown",
   "metadata": {},
   "source": [
    "### The Mighty `while` Loop\n"
   ]
  },
  {
   "cell_type": "markdown",
   "metadata": {},
   "source": [
    "The `while` loop is another powerful looping construct in Python, which executes a block of code repeatedly as long as a given condition is true.\n",
    "\n",
    "The syntax for a while loop is:\n",
    "\n",
    "```python\n",
    "while condition:\n",
    "    # code to be executed\n",
    "```\n"
   ]
  },
  {
   "cell_type": "code",
   "execution_count": null,
   "metadata": {},
   "outputs": [],
   "source": [
    "# Counting with a while loop\n",
    "count = 0\n",
    "while count < 5:\n",
    "    print(count)\n",
    "    count += 1\n",
    "\n",
    "# Output:\n",
    "# 0\n",
    "# 1\n",
    "# 2\n",
    "# 3\n",
    "# 4"
   ]
  },
  {
   "cell_type": "markdown",
   "metadata": {},
   "source": [
    "Explanation of the above-mentioned code:\n",
    "\n",
    "- We initialize a variable `count` with the value `0`.\n",
    "- We use a `while` loop to repeatedly execute the code block as long as the condition `count < 5` is true.\n",
    "- Inside the loop, we print the current value of `count` and then increment it by 1 using `count += 1`.\n",
    "- The loop continues until `count` reaches `5`, at which point the condition `count < 5` becomes false, and the loop terminates.\n"
   ]
  },
  {
   "cell_type": "markdown",
   "metadata": {},
   "source": [
    "**Interactive Exercise:**\n",
    "\n",
    "Use a `while` loop to print the squares of numbers from 1 to 10.\n"
   ]
  },
  {
   "cell_type": "code",
   "execution_count": null,
   "metadata": {},
   "outputs": [],
   "source": [
    "# Write code below"
   ]
  },
  {
   "cell_type": "markdown",
   "metadata": {},
   "source": [
    "### Loop Control Statements: `break` and `continue`\n"
   ]
  },
  {
   "cell_type": "markdown",
   "metadata": {},
   "source": [
    "Python provides two control statements, `break` and `continue`, that allow you to modify the behavior of loops.\n",
    "\n",
    "- The `break` statement is used to terminate the loop prematurely and exit from the loop.\n",
    "- The `continue` statement is used to skip the current iteration of the loop and move to the next iteration.\n"
   ]
  },
  {
   "cell_type": "code",
   "execution_count": null,
   "metadata": {},
   "outputs": [],
   "source": [
    "# Using break and continue using for loop\n",
    "for i in range(10):\n",
    "    if i == 3:\n",
    "        continue  # Skip the iteration when i is 3\n",
    "    if i == 7:\n",
    "        break  # Exit the loop when i is 7\n",
    "    print(i)\n",
    "\n",
    "# Output:\n",
    "# 0\n",
    "# 1\n",
    "# 2\n",
    "# 4\n",
    "# 5\n",
    "# 6"
   ]
  },
  {
   "cell_type": "markdown",
   "metadata": {},
   "source": [
    "**Explanation of the above code:**\n",
    "\n",
    "- We use a `for` loop to iterate over the range of numbers from `0` to `9`.\n",
    "- When `i` is equal to `3`, the `continue` statement is executed, skipping the current iteration, and the loop moves to the next iteration.\n",
    "- When `i` is equal to `7`, the `break` statement is executed, terminating the loop immediately, and no further iterations are executed.\n",
    "- The output shows the numbers from `0` to `6`, skipping `3`, and stopping before `7`.\n"
   ]
  },
  {
   "cell_type": "markdown",
   "metadata": {},
   "source": [
    "**Interactive Exercise:**\n",
    "\n",
    "Create a list of numbers, and use a loop along with `break` and `continue` statements to print only the even numbers from 0 to 10, and stop the loop when the number 8 is encountered.\n"
   ]
  },
  {
   "cell_type": "code",
   "execution_count": null,
   "metadata": {},
   "outputs": [],
   "source": [
    "# Write code below"
   ]
  },
  {
   "cell_type": "markdown",
   "metadata": {},
   "source": [
    "Using break and continue in a while loop\n"
   ]
  },
  {
   "cell_type": "code",
   "execution_count": null,
   "metadata": {},
   "outputs": [],
   "source": [
    "# Using break in a while loop\n",
    "secret_word = \"python\"\n",
    "guess = \"\"\n",
    "while guess != secret_word:\n",
    "    guess = input(\"Enter the secret word: \")\n",
    "    if guess == \"quit\":\n",
    "        break\n",
    "    print(\"Incorrect guess. Try again.\")\n",
    "    if guess == \"continue\":\n",
    "      print(\"You want to continue the guess. okay...\")\n",
    "      continue\n",
    "else:\n",
    "    print(\"Congratulations! You guessed the secret word.\")\n",
    "\n",
    "# Output (Example):\n",
    "# Enter the secret word: hello\n",
    "# Incorrect guess. Try again.\n",
    "# Enter the secret word: continue\n",
    "# You want to continue the guess. okay...\n",
    "# Enter the secret word: quit\n"
   ]
  },
  {
   "cell_type": "markdown",
   "metadata": {},
   "source": [
    "**Explanation of the above code:**\n",
    "\n",
    "- We define the `secret_word` as \"python\" and initialize an empty string `guess`.\n",
    "- We use a `while` loop to repeatedly execute the code block as long as the condition `guess != secret_word` is true.\n",
    "- Inside the loop, we prompt the user to enter a guess using the `input()` function and store it in the `guess` variable.\n",
    "- If the user enters \"quit\", the `break` statement is executed, terminating the loop prematurely.\n",
    "- If the user enters \"continue\", \"You want to continue the guess. okay...\" is printed and then the `continue` statement is executed continuing the loop.\n",
    "- If the guess is incorrect, we print \"Incorrect guess. Try again.\" and the loop continues.\n",
    "- If the loop completes without encountering the `break` statement, the `else` block is executed, and we print \"Congratulations! You guessed the secret word.\"\n"
   ]
  },
  {
   "cell_type": "markdown",
   "metadata": {},
   "source": [
    "**Interactive Exercise:**\n",
    "\n",
    "Create a simple number guessing game using a `while` loop and the `break` statement. Allow the user to quit the game by entering a specific value.\n"
   ]
  },
  {
   "cell_type": "code",
   "execution_count": null,
   "metadata": {},
   "outputs": [],
   "source": [
    "# Write code below"
   ]
  },
  {
   "cell_type": "markdown",
   "metadata": {},
   "source": [
    "### Nested Loops: Looping Within a Loop\n"
   ]
  },
  {
   "cell_type": "markdown",
   "metadata": {},
   "source": [
    "Python allows you to nest one loop inside another loop, which can be useful for iterating over multidimensional data structures or performing complex operations.\n"
   ]
  },
  {
   "cell_type": "code",
   "execution_count": null,
   "metadata": {},
   "outputs": [],
   "source": [
    "# Nested loops\n",
    "for i in range(3):\n",
    "    for j in range(4):\n",
    "        print(f\"({i}, {j})\", end=\" \")\n",
    "    print()  # Add a newline after each inner loop iteration\n",
    "\n",
    "# Output:\n",
    "# (0, 0) (0, 1) (0, 2) (0, 3)\n",
    "# (1, 0) (1, 1) (1, 2) (1, 3)\n",
    "# (2, 0) (2, 1) (2, 2) (2, 3)"
   ]
  },
  {
   "cell_type": "markdown",
   "metadata": {},
   "source": [
    "**Explanation of the above code:**\n",
    "\n",
    "- We use a nested loop structure with an outer `for` loop iterating over the range `0` to `2`, and an inner `for` loop iterating over the range `0` to `3`.\n",
    "- Inside the inner loop, we print the current values of `i` and `j` using an f-string, separated by a space.\n",
    "- After each iteration of the inner loop, we print an empty string to add a new line.\n",
    "- The output shows the combinations of `i` and `j` values, where each row represents an iteration of the outer loop, and each column represents an iteration of the inner loop.\n"
   ]
  },
  {
   "cell_type": "markdown",
   "metadata": {},
   "source": [
    "**Interactive Exercise:**\n",
    "\n",
    "Use nested loops to print a multiplication table for numbers from 1 to 10.\n"
   ]
  },
  {
   "cell_type": "code",
   "execution_count": null,
   "metadata": {},
   "outputs": [],
   "source": [
    "# Write code below"
   ]
  },
  {
   "cell_type": "markdown",
   "metadata": {},
   "source": [
    "Nesting using `while` loops\n"
   ]
  },
  {
   "cell_type": "code",
   "execution_count": null,
   "metadata": {},
   "outputs": [],
   "source": [
    "# Nested while loops\n",
    "number = 1\n",
    "while number <= 4:\n",
    "    count = 1\n",
    "    while count <= 7:\n",
    "        print(f\"{number} x {count} = {number * count}\")\n",
    "        count += 1\n",
    "    number += 1\n",
    "    print()  # Add a newline after each outer loop iteration\n",
    "\n",
    "# Output:\n",
    "# 1 x 1 = 1\n",
    "# 1 x 2 = 2\n",
    "# 1 x 3 = 3\n",
    "# 1 x 4 = 4\n",
    "# 1 x 5 = 5\n",
    "# 1 x 6 = 6\n",
    "# 1 x 7 = 7\n",
    "\n",
    "# 2 x 1 = 2\n",
    "# 2 x 2 = 4\n",
    "# 2 x 3 = 6\n",
    "# 2 x 4 = 8\n",
    "# 2 x 5 = 10\n",
    "# 2 x 6 = 12\n",
    "# 2 x 7 = 14\n",
    "\n",
    "# 3 x 1 = 3\n",
    "# 3 x 2 = 6\n",
    "# 3 x 3 = 9\n",
    "# 3 x 4 = 12\n",
    "# 3 x 5 = 15\n",
    "# 3 x 6 = 18\n",
    "# 3 x 7 = 21\n",
    "\n",
    "# 4 x 1 = 4\n",
    "# 4 x 2 = 8\n",
    "# 4 x 3 = 12\n",
    "# 4 x 4 = 16\n",
    "# 4 x 5 = 20\n",
    "# 4 x 6 = 24\n",
    "# 4 x 7 = 28"
   ]
  },
  {
   "cell_type": "markdown",
   "metadata": {},
   "source": [
    "**Explanation of the above code:**\n",
    "\n",
    "- We initialize a variable `number` with the value `1`.\n",
    "- We use an outer `while` loop to iterate over the range `1` to `4` for the `number` variable.\n",
    "- Inside the outer loop, we initialize a variable `count` with the value `1`.\n",
    "- We use an inner `while` loop to iterate over the range `1` to `7` for the `count` variable.\n",
    "- Inside the inner loop, we print the multiplication result of `number` and `count` using an f-string.\n",
    "- After each iteration of the inner loop, we increment `count` by `1` using `count += 1`.\n",
    "- After each iteration of the outer loop, we increment `number` by `1` using `number += 1` and print an empty string to add a new line.\n",
    "- The output shows the multiplication table for numbers from `1` to `4`, where each row represents an iteration of the outer loop (the number), and each column represents an iteration of the inner loop (the count).\n"
   ]
  },
  {
   "cell_type": "markdown",
   "metadata": {},
   "source": [
    "**Interactive Exercise:**\n",
    "\n",
    "Use nested `while` loops to print a pattern of asterisks (`*`) in the form of a square, where the size of the square is determined by a user-provided input.\n"
   ]
  },
  {
   "cell_type": "code",
   "execution_count": null,
   "metadata": {},
   "outputs": [],
   "source": [
    "# Write code below"
   ]
  },
  {
   "cell_type": "markdown",
   "metadata": {},
   "source": [
    "### Loop Efficiency and Best Practices\n"
   ]
  },
  {
   "cell_type": "markdown",
   "metadata": {},
   "source": [
    "While loops are powerful tools, it's essential to use them efficiently and follow best practices to ensure optimal performance and code readability.\n",
    "\n",
    "- Prefer the `for` loop over the `while` loop when iterating over sequences or collections, as it is more concise and less error-prone.\n",
    "- Avoid unnecessary iterations by utilizing loop control statements (`break` and `continue`) judiciously.\n",
    "- Use built-in Python functions like `range()`, `enumerate()`, and `zip()` to simplify loop logic and improve code readability.\n",
    "- Consider using list comprehensions or generator expressions when possible, as they provide a concise and expressive way to create or transform lists or other iterables.\n",
    "- Be mindful of infinite loops, which can occur when the loop condition is never satisfied, leading to potential performance issues or program crashes.\n"
   ]
  },
  {
   "cell_type": "code",
   "execution_count": null,
   "metadata": {},
   "outputs": [],
   "source": [
    "# Efficient looping with built-in functions\n",
    "numbers = [1, 2, 3, 4, 5]\n",
    "\n",
    "# Using enumerate()\n",
    "for idx, num in enumerate(numbers, start=11):\n",
    "    print(f\"{idx}. {num}\")\n",
    "\n",
    "# Output:\n",
    "# 11. 1\n",
    "# 12. 2\n",
    "# 13. 3\n",
    "# 14. 4\n",
    "# 15. 5"
   ]
  },
  {
   "cell_type": "markdown",
   "metadata": {},
   "source": [
    "**Explanation of the above code:**\n",
    "\n",
    "- We create a list `numbers` with five elements: `1`, `2`, `3`, `4`, and `5`.\n",
    "- We use a `for` loop in combination with the `enumerate()` function, which provides both the index and the value of each element in the list.\n",
    "- The `start=11` parameter in `enumerate()` sets the starting index to `11` instead of the default `0`.\n",
    "- Inside the loop, we print the index and the corresponding value using an f-string.\n",
    "- The output shows the numbered list of elements from the `numbers` list.\n"
   ]
  },
  {
   "cell_type": "markdown",
   "metadata": {},
   "source": [
    "**Interactive Exercise:**\n",
    "\n",
    "Given a list of strings, use a loop along with the `enumerate()` function to print the index and the string, but only for strings that contain the letter 'a'.\n"
   ]
  },
  {
   "cell_type": "code",
   "execution_count": null,
   "metadata": {},
   "outputs": [],
   "source": [
    "# Write code below"
   ]
  },
  {
   "cell_type": "markdown",
   "metadata": {},
   "source": [
    "### Looping Within Loops: Mastering the `Nested Loop`\n"
   ]
  },
  {
   "cell_type": "markdown",
   "metadata": {},
   "source": [
    "In Python, nested loops are a powerful concept that allow you to iterate over multiple sequences or perform repetitive tasks within another loop. They enable you to tackle complex problems by breaking them down into smaller, manageable steps. Buckle up, as we dive into the world of nested loops!\n"
   ]
  },
  {
   "cell_type": "code",
   "execution_count": null,
   "metadata": {},
   "outputs": [],
   "source": [
    "for outer_loop in range(3):\n",
    "    print(f\"Outer Loop: {outer_loop}\")\n",
    "    for inner_loop in range(4):\n",
    "        print(f\"  Inner Loop: {inner_loop}\")"
   ]
  },
  {
   "cell_type": "markdown",
   "metadata": {},
   "source": [
    "**Explanation:**\n",
    "\n",
    "- The outer loop iterates three times (0, 1, 2).\n",
    "- For each iteration of the outer loop, the inner loop iterates four times (0, 1, 2, 3).\n",
    "- The indented `print` statement inside the inner loop is executed for every iteration of the inner loop.\n",
    "- This nested loop structure results in a total of 12 iterations (3 outer loops × 4 inner loops).\n"
   ]
  },
  {
   "cell_type": "markdown",
   "metadata": {},
   "source": [
    "**Interactive Exercise:**\n",
    "\n",
    "1. Create a nested loop that prints a multiplication table for the numbers 1 to 5.\n",
    "2. Use the outer loop to iterate over the rows and the inner loop to iterate over the columns.\n",
    "3. Print the product of the row and column numbers for each iteration.\n"
   ]
  },
  {
   "cell_type": "code",
   "execution_count": null,
   "metadata": {},
   "outputs": [],
   "source": [
    "# Write code below"
   ]
  },
  {
   "cell_type": "markdown",
   "metadata": {},
   "source": [
    "#### Nested Loops in Action\n"
   ]
  },
  {
   "cell_type": "markdown",
   "metadata": {},
   "source": [
    "Nested loops have various applications in programming such as working with multidimensional data structures, generating patterns, and solving complex problems.\n"
   ]
  },
  {
   "cell_type": "code",
   "execution_count": null,
   "metadata": {},
   "outputs": [],
   "source": [
    "# Printing a pattern\n",
    "for row in range(5):\n",
    "    for col in range(row + 1):\n",
    "        print(\"*\", end=\" \")\n",
    "    print()"
   ]
  },
  {
   "cell_type": "markdown",
   "metadata": {},
   "source": [
    "**Explanation:**\n",
    "\n",
    "- The outer loop iterates five times, representing the rows.\n",
    "- For each row, the inner loop iterates a number of times equal to the current row index plus one, representing the columns.\n",
    "- The `print(\"*\", end=\" \")` statement prints an asterisk for each column, followed by a space.\n",
    "- The `print()` statement at the end of the inner loop creates a new line after each row.\n",
    "- This nested loop structure prints a triangle pattern of asterisks.\n"
   ]
  },
  {
   "cell_type": "markdown",
   "metadata": {},
   "source": [
    "**Interactive Exercise:**\n",
    "\n",
    "1. Create a nested loop that generates a multiplication table for the numbers 1 to 10.\n",
    "2. Use the outer loop to iterate over the rows and the inner loop to iterate over the columns.\n",
    "3. Print the product of the row and column numbers for each iteration.\n",
    "4. Format the output to align the numbers in a grid-like structure.\n"
   ]
  },
  {
   "cell_type": "code",
   "execution_count": null,
   "metadata": {},
   "outputs": [],
   "source": [
    "# Write code below"
   ]
  },
  {
   "cell_type": "markdown",
   "metadata": {},
   "source": [
    "#### Controlling Nested Loops\n"
   ]
  },
  {
   "cell_type": "markdown",
   "metadata": {},
   "source": [
    "Just like regular loops, nested loops can be controlled using `break` and `continue` statements.\n",
    "\n",
    "These statements allow you to skip iterations or exit the loop entirely, providing flexibility in controlling the loop's behavior.\n"
   ]
  },
  {
   "cell_type": "code",
   "execution_count": null,
   "metadata": {},
   "outputs": [],
   "source": [
    "for outer in range(3):\n",
    "    for inner in range(3):\n",
    "        if inner == 1:\n",
    "            continue\n",
    "        print(f\"Outer: {outer}, Inner: {inner}\")\n",
    "    if outer == 1:\n",
    "        break"
   ]
  },
  {
   "cell_type": "markdown",
   "metadata": {},
   "source": [
    "**Explanation:**\n",
    "\n",
    "- The outer loop iterates three times (0, 1, 2).\n",
    "- For each iteration of the outer loop, the inner loop iterates three times (0, 1, 2).\n",
    "- When the inner loop value is 1, the `continue` statement is executed, skipping the rest of the inner loop's iteration.\n",
    "- When the outer loop value is 1, the `break` statement is executed, terminating the outer loop.\n",
    "- This nested loop structure results in a total of 4 iterations (1 outer loop × 3 inner loops + 1 outer loop × 1 inner loop).\n"
   ]
  },
  {
   "cell_type": "markdown",
   "metadata": {},
   "source": [
    "**Interactive Exercise:**\n",
    "\n",
    "1. Create a nested loop that prints all the prime numbers between 1 and 100.\n",
    "2. Use the outer loop to iterate over the numbers from 2 to 100.\n",
    "3. For each number in the outer loop, use the inner loop to check if the number is divisible by any number between 2 and the square root of the number.\n",
    "4. If the number is divisible, use the `continue` statement to skip to the next iteration of the outer loop.\n",
    "5. If the number is not divisible by any number in the inner loop, print it as a prime number.\n"
   ]
  },
  {
   "cell_type": "code",
   "execution_count": null,
   "metadata": {},
   "outputs": [],
   "source": [
    "# Write code below"
   ]
  },
  {
   "cell_type": "markdown",
   "metadata": {},
   "source": [
    "## 3. Unleashing the Power of `Iteration` in Python\n"
   ]
  },
  {
   "cell_type": "markdown",
   "metadata": {},
   "source": [
    "In Python, iteration is a fundamental concept that allows you to access and manipulate elements in a sequential manner. Python provides two main categories of objects that enable iteration: `iterables` and `iterators`. Understanding these concepts is crucial for efficient data processing and manipulation.\n"
   ]
  },
  {
   "cell_type": "markdown",
   "metadata": {},
   "source": [
    "### Iterables\n"
   ]
  },
  {
   "cell_type": "markdown",
   "metadata": {},
   "source": [
    "Iterables are objects that can be iterated over, meaning you can access their elements one by one.\n",
    "\n",
    "In Python, several built-in data types are iterables, including\n",
    "\n",
    "- lists\n",
    "- tuples\n",
    "- strings and\n",
    "- dictionaries\n"
   ]
  },
  {
   "cell_type": "code",
   "execution_count": null,
   "metadata": {
    "vscode": {
     "languageId": "plaintext"
    }
   },
   "outputs": [],
   "source": [
    "fruits = ['apple', 'banana', 'cherry']\n",
    "for fruit in fruits:\n",
    "print(fruit)\n",
    "\n",
    "# Output:\n",
    "# apple\n",
    "# banana\n",
    "# cherry"
   ]
  },
  {
   "cell_type": "markdown",
   "metadata": {},
   "source": [
    "**Explanation:**\n",
    "\n",
    "- The `fruits` list is an iterable object.\n",
    "- The `for` loop iterates over each element in the `fruits` list, and the `print` statement outputs the current element (`fruit`) in each iteration.\n"
   ]
  },
  {
   "cell_type": "markdown",
   "metadata": {},
   "source": [
    "**Interactive Coding Exercise:**\n",
    "\n",
    "1. Create a list of numbers.\n",
    "2. Use a `for` loop to iterate over the list and print each number squared.\n"
   ]
  },
  {
   "cell_type": "code",
   "execution_count": null,
   "metadata": {},
   "outputs": [],
   "source": [
    "# Write code below"
   ]
  },
  {
   "cell_type": "markdown",
   "metadata": {},
   "source": [
    "### Iterators\n"
   ]
  },
  {
   "cell_type": "markdown",
   "metadata": {},
   "source": [
    "Iterators are objects that implement the iterator protocol, which consists of two main methods:\n",
    "\n",
    "1.  `__iter__()`\n",
    "2.  `__next__()`.\n",
    "\n",
    "These methods allow you to iterate over a sequence of values, retrieving one value at a time.\n"
   ]
  },
  {
   "cell_type": "code",
   "execution_count": null,
   "metadata": {},
   "outputs": [],
   "source": [
    "my_list = [1, 2, 3, 4, 5]\n",
    "my_iterator = iter(my_list)\n",
    "\n",
    "print(next(my_iterator))  # Output: 1\n",
    "print(next(my_iterator))  # Output: 2\n",
    "print(next(my_iterator))  # Output: 3"
   ]
  },
  {
   "cell_type": "markdown",
   "metadata": {},
   "source": [
    "**Explanation:**\n",
    "\n",
    "- The `iter()` function creates an iterator object from the given iterable (`my_list`).\n",
    "- The `next()` function retrieves the next value from the iterator. Calling `next()` repeatedly on the iterator object will return the elements of the iterable one by one.\n"
   ]
  },
  {
   "cell_type": "markdown",
   "metadata": {},
   "source": [
    "**Interactive Coding Exercise:**\n",
    "\n",
    "1. Create a string.\n",
    "2. Create an iterator object from the string using the `iter()` function.\n",
    "3. Use a `while` loop and the `next()` function to iterate over the characters in the string and print them one by one.\n"
   ]
  },
  {
   "cell_type": "code",
   "execution_count": null,
   "metadata": {
    "vscode": {
     "languageId": "plaintext"
    }
   },
   "outputs": [],
   "source": [
    "# Write code below\n"
   ]
  },
  {
   "cell_type": "markdown",
   "metadata": {},
   "source": [
    "### Iterables vs. Iterators\n"
   ]
  },
  {
   "cell_type": "markdown",
   "metadata": {},
   "source": [
    "- Iterables are containers that hold a collection of items, while iterators are objects that provide a way to access the elements in an iterable one by one.\n",
    "- Iterables can be used to create iterators, but not all iterators are iterables.\n"
   ]
  },
  {
   "cell_type": "code",
   "execution_count": null,
   "metadata": {},
   "outputs": [],
   "source": [
    "# Iterable example\n",
    "my_string = 'hello'\n",
    "for char in my_string:\n",
    "    print(char)\n",
    "\n",
    "# Iterator example\n",
    "my_iter = iter(my_string)\n",
    "while True:\n",
    "    try:\n",
    "        char = next(my_iter)\n",
    "        print(char)\n",
    "    except StopIteration:\n",
    "        break"
   ]
  },
  {
   "cell_type": "markdown",
   "metadata": {},
   "source": [
    "**Explanation:**\n",
    "\n",
    "- The first example uses a `for` loop to iterate over the characters in the string `my_string` (an iterable).\n",
    "- The second example creates an iterator `my_iter` from the string `my_string` using the `iter()` function. It then uses a `while` loop and the `next()` function to retrieve and print each character until the `StopIteration` exception is raised, indicating the end of the iteration.\n"
   ]
  },
  {
   "cell_type": "markdown",
   "metadata": {},
   "source": [
    "**Interactive Coding Exercise:**\n",
    "\n",
    "1. Create a list of strings.\n",
    "2. Use a `for` loop to iterate over the list and print each string.\n",
    "3. Create an iterator object from the list using the `iter()` function.\n",
    "4. Use a `while` loop and the `next()` function to iterate over the elements in the iterator and print them one by one.\n"
   ]
  },
  {
   "cell_type": "code",
   "execution_count": null,
   "metadata": {},
   "outputs": [],
   "source": [
    "# Write code below"
   ]
  },
  {
   "cell_type": "markdown",
   "metadata": {},
   "source": [
    "## 4. Taming the Unexpected: `Exception and Error Handling` in Python\n"
   ]
  },
  {
   "cell_type": "markdown",
   "metadata": {},
   "source": [
    "In the realm of programming, errors and exceptions are inevitable. They arise when something goes awry, and it's crucial to handle them gracefully to prevent your program from crashing or producing undesirable results. Python's exception handling mechanisms, including the `try`, `except`, and `finally` statements, provide a structured way to catch and respond to these unexpected scenarios, ensuring your code remains robust and resilient.\n"
   ]
  },
  {
   "cell_type": "markdown",
   "metadata": {},
   "source": [
    "### Catching Exceptions\n"
   ]
  },
  {
   "cell_type": "code",
   "execution_count": null,
   "metadata": {},
   "outputs": [],
   "source": [
    "try:\n",
    "    num1 = int(input(\"Enter the first number: \"))\n",
    "    num2 = int(input(\"Enter the second number: \"))\n",
    "    result = num1 / num2\n",
    "    print(f\"The result is: {result}\")\n",
    "except ValueError:\n",
    "    print(\"Invalid input. Please enter a number.\")\n",
    "except ZeroDivisionError:\n",
    "    print(\"Cannot divide by zero.\")\n",
    "finally:\n",
    "    print(\"This will always be executed.\")"
   ]
  },
  {
   "cell_type": "markdown",
   "metadata": {},
   "source": [
    "**Explanation:**\n",
    "\n",
    "- The `try` block contains the code that might raise an exception.\n",
    "- The `except` blocks catch and handle specific types of exceptions.\n",
    "- In the first `except` block, if the user enters non-numeric input, a `ValueError` is caught, and an error message is printed.\n",
    "- In the second `except` block, if the second number is zero, a `ZeroDivisionError` is caught, and an appropriate message is printed.\n",
    "- The `finally` block contains code that will be executed regardless of whether an exception was raised or not.\n"
   ]
  },
  {
   "cell_type": "markdown",
   "metadata": {},
   "source": [
    "**Interactive Exercise:**\n",
    "\n",
    "1. Create a program that asks the user to enter a file name.\n",
    "2. Use a `try`/`except` block to catch the `FileNotFoundError` exception.\n",
    "3. If the exception occurs, print an error message indicating that the file was not found.\n",
    "4. Use a `finally` block to print a message indicating that the program has completed.\n"
   ]
  },
  {
   "cell_type": "markdown",
   "metadata": {},
   "source": [
    "### Handling Multiple Exceptions\n"
   ]
  },
  {
   "cell_type": "markdown",
   "metadata": {},
   "source": [
    "Python allows you to handle multiple exceptions in a single `except` block using tuple unpacking or by specifying a parent exception class.\n"
   ]
  },
  {
   "cell_type": "code",
   "execution_count": null,
   "metadata": {},
   "outputs": [],
   "source": [
    "try:\n",
    "    num = int(input(\"Enter a number: \"))\n",
    "    result = 10 / num\n",
    "    print(f\"The result is: {result}\")\n",
    "except (ValueError, ZeroDivisionError) as e:\n",
    "    print(f\"Error: {e}\")\n",
    "finally:\n",
    "    print(\"This will always be executed.\")"
   ]
  },
  {
   "cell_type": "markdown",
   "metadata": {},
   "source": [
    "**Explanation:**\n",
    "\n",
    "- The `except` block catches both `ValueError` and `ZeroDivisionError` exceptions using tuple unpacking.\n",
    "- If either exception occurs, the error message is printed.\n",
    "- The `finally` block is executed regardless of whether an exception occurred or not.\n"
   ]
  },
  {
   "cell_type": "code",
   "execution_count": null,
   "metadata": {},
   "outputs": [],
   "source": [
    "try:\n",
    "    num = int(input(\"Enter a number: \"))\n",
    "    result = 10 / num\n",
    "    print(f\"The result is: {result}\")\n",
    "except Exception as e:\n",
    "    print(f\"Error: {e}\")"
   ]
  },
  {
   "cell_type": "markdown",
   "metadata": {},
   "source": [
    "**Explanation:**\n",
    "\n",
    "- The `except` block catches any exception that is a subclass of the `Exception` class, which is the base class for all built-in exceptions.\n",
    "- This approach allows you to catch multiple exceptions without explicitly listing them, but it may also catch exceptions you didn't intend to handle.\n"
   ]
  },
  {
   "cell_type": "markdown",
   "metadata": {},
   "source": [
    "**Interactive Exercise:**\n",
    "\n",
    "1. Create a program that reads data from a file and performs a calculation on the data.\n",
    "2. Use a `try`/`except` block to catch both `FileNotFoundError` and `ValueError` exceptions.\n",
    "3. If either exception occurs, print an appropriate error message.\n",
    "4. Use a `finally` block to close the file (if it was opened successfully) and print a message indicating the end of the program.\n"
   ]
  },
  {
   "cell_type": "code",
   "execution_count": null,
   "metadata": {},
   "outputs": [],
   "source": [
    "# Write code below"
   ]
  },
  {
   "cell_type": "markdown",
   "metadata": {},
   "source": [
    "### Raising Exceptions\n"
   ]
  },
  {
   "cell_type": "markdown",
   "metadata": {},
   "source": [
    "In addition to catching exceptions, Python allows you to raise your own exceptions when certain conditions are met. This can be useful for signaling errors or exceptional situations in your code.\n"
   ]
  },
  {
   "cell_type": "code",
   "execution_count": null,
   "metadata": {},
   "outputs": [],
   "source": [
    "def divide_numbers(a, b):\n",
    "    if b == 0:\n",
    "        raise ZeroDivisionError(\"Cannot divide by zero.\")\n",
    "    return a / b\n",
    "\n",
    "try:\n",
    "    result = divide_numbers(10, 0)\n",
    "    print(f\"The result is: {result}\")\n",
    "except ZeroDivisionError as e:\n",
    "    print(f\"Error: {e}\")\n",
    "finally:\n",
    "    print(\"This will always be executed.\")"
   ]
  },
  {
   "cell_type": "markdown",
   "metadata": {},
   "source": [
    "**Explanation:**\n",
    "\n",
    "- The `divide_numbers` function checks if the second argument (`b`) is zero.\n",
    "- If `b` is zero, the function raises a `ZeroDivisionError` with a custom error message.\n",
    "- In the `try` block, the `divide_numbers` function is called with arguments `10` and `0`.\n",
    "- The `except` block catches the `ZeroDivisionError` and prints the error message.\n",
    "- The `finally` block is executed regardless of whether an exception occurred or not.\n"
   ]
  },
  {
   "cell_type": "markdown",
   "metadata": {},
   "source": [
    "**Interactive Exercise:**\n",
    "\n",
    "1. Create a function that takes a list of numbers as input.\n",
    "2. Within the function, raise a `ValueError` if the list is empty.\n",
    "3. Outside the function, call the function with an empty list and handle the `ValueError` using a `try`/`except` block.\n",
    "4. Use a `finally` block to print a message indicating the end of the program.\n"
   ]
  },
  {
   "cell_type": "code",
   "execution_count": null,
   "metadata": {},
   "outputs": [],
   "source": [
    "# Write code below"
   ]
  },
  {
   "cell_type": "markdown",
   "metadata": {},
   "source": [
    "<br><br>\n",
    "\n",
    "## <i class=\"fas fa-2x fa-map-marker-alt\" style=\"color:#ffde57;\"></i>&nbsp;&nbsp;Next Steps\n",
    "\n",
    "# Lab 2 : Introduction to functional and object-oriented programming\n",
    "\n",
    "<h2>Next LAB&nbsp;&nbsp;&nbsp;&nbsp;<a href=\"2-WKSHP-Introduction-to-functional-and-object-oriented-programming.ipynb\" target=\"New\" title=\"Next LAB: Introduction to functional and object-oriented programming\"><i class=\"fas fa-chevron-circle-right\" style=\"color:#ffde57;\"></i></a></h2>\n",
    "\n",
    "</br>\n",
    " <a href=\"0-ReadMeFirst.ipynb\" target=\"New\" title=\"Back: ReadmeFirst\"><button type=\"submit\"  class=\"btn btn-lg btn-block\" style=\"background-color:#ffde57;color:#fff;position:relative;width:10%; height: 30px;float: left;\"><b>Back</b></button></a>\n",
    " <a href=\"2-WKSHP-Introduction-to-functional-and-object-oriented-programming.ipynb\" target=\"New\" Introduction to functional and object-oriented programming\"><button type=\"submit\"  class=\"btn btn-lg btn-block\" style=\"background-color:#ffde57;color:#fff;position:relative;width:10%; height: 30px;float: right;\"><b>Next</b></button></a>"
   ]
  },
  {
   "cell_type": "code",
   "execution_count": null,
   "metadata": {},
   "outputs": [],
   "source": []
  }
 ],
 "metadata": {
  "kernelspec": {
   "display_name": "Python 3 (ipykernel)",
   "language": "python",
   "name": "python3"
  },
  "language_info": {
   "codemirror_mode": {
    "name": "ipython",
    "version": 3
   },
   "file_extension": ".py",
   "mimetype": "text/x-python",
   "name": "python",
   "nbconvert_exporter": "python",
   "pygments_lexer": "ipython3",
   "version": "3.8.10"
  }
 },
 "nbformat": 4,
 "nbformat_minor": 4
}
