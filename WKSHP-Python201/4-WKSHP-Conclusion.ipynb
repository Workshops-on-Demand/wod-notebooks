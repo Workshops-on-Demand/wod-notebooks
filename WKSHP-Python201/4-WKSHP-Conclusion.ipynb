{
 "cells": [
  {
   "cell_type": "markdown",
   "metadata": {},
   "source": [
    "{{ BRANDINGLOGO }}\n",
    "\n",
    "# Thank you for visiting the Hack Shack\n",
    "\n",
    "Powered by [{{ BRANDING }} Community Team](hpedev.io)\n",
    "\n",
    "{% if MODEWS == 'CHLG' %}\n",
    "# Thank you for participating to our software challenge\n",
    "{% endif %}\n",
    "\n",
    "\n",
    "# Conclusion\n",
    "\n",
    "<h1 style=\"text-align:center\">Congratulations! You made it!<br /></h1>\n",
    "\n",
    "During this workshop,you said <b>hello</b> to the world. You learnt about <b>datatypes</b> that Python has to offer for its <b>variables</b>. You learnt to make logical branches in the flow of program using <b>if-else</b> statement. You also learnt how to <b>loop</b> through a <b>list</b> and <b>tuple</b>. Finally, you also placed a REST API call to fetch response and access the values you needed! <b><i>If this isn't awesome, then, what is?</i></b></p>\n",
    "<img src=\"https://media.giphy.com/media/11sBLVxNs7v6WA/giphy.gif\" />\n",
    "\n",
    "<h3>What next?</h3>\n",
    "<p>This session was just a shakehand with Python. There is lot more you can do with it. I have a books to recommend - </p>\n",
    "<ul>\n",
    "    <li><b>Automate the Boring Stuff with Python - Practical Programming for Total Beginners</b> by <i>Al Sweigart</i></li>\n",
    "    <li><b>How To Think Like a Computer Scientist</b> is a classic open-source book by <i>Allen Downey</i></li>\n",
    "</ul>\n",
    "\n",
    "<p>Both these books are for folks from non programming background. They'll be of great use! Feel free to drop me an email <a>samarth.deyagond@sap.com</a> or find me on <a href=\"https://hpedev.slack.com/team/UQM0ZTE1F\">slack</a> if you have any doubts.</p>\n",
    "\n",
    "\n",
    "{% if MODEWS == 'CHLG' %}\n",
    "# The challenge is not over yet\n",
    "In order to complete the challenge, you must take the [quiz]({{ SURVEYCHALURL }}). Only then will you get a chance to become a winner! Please note that you must be present at the Hack Shack Celebration party to win. Refer to the Terms and Conditions for details.\n",
    "{% endif %}\n",
    "# Final steps\n",
    "## Please, take a moment to fill out our [survey]({{ SURVEYURL }}).\n",
    "\n",
    "## And make sure you use `File -> Log Out menu` to terminate your workshop session.\n",
    "\n",
    "# Thank you\n",
    "![ThankYou](Pictures/grommet.JPG)"
   ]
  }
 ],
 "metadata": {
  "kernelspec": {
   "display_name": "Bash",
   "language": "bash",
   "name": "bash"
  },
  "language_info": {
   "codemirror_mode": "shell",
   "file_extension": ".sh",
   "mimetype": "text/x-sh",
   "name": "bash"
  }
 },
 "nbformat": 4,
 "nbformat_minor": 4
}
