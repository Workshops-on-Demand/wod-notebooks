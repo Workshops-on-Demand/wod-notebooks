{
 "cells": [
  {
   "cell_type": "markdown",
   "metadata": {},
   "source": [
    "## 1. Unleashing the Power of `Functions`: The Building Blocks of Python\n"
   ]
  },
  {
   "cell_type": "markdown",
   "metadata": {},
   "source": [
    "Imagine having a superpower to create reusable blocks of code that perform specific tasks – that's precisely what `functions` offer in Python! They're like your coding minions, ready to execute your commands whenever called upon.\n"
   ]
  },
  {
   "cell_type": "markdown",
   "metadata": {},
   "source": [
    "#### Why Functions Rule the Coding Kingdom?\n"
   ]
  },
  {
   "cell_type": "markdown",
   "metadata": {},
   "source": [
    "Functions are like the organizers of your code, offering several advantages:\n",
    "\n",
    "- **Reusability:** Avoid writing the same code repeatedly. Define it once in a function and call it whenever needed.\n",
    "- **Modularity:** Break down complex problems into smaller, manageable functions, making your code easier to read and maintain.\n",
    "- **Abstraction:** Hide the internal workings of a function, allowing you to focus on what it does, not how it does it.\n"
   ]
  },
  {
   "cell_type": "markdown",
   "metadata": {},
   "source": [
    "### Defining Your Minions: `Creating Functions`\n"
   ]
  },
  {
   "cell_type": "markdown",
   "metadata": {},
   "source": [
    "Let's craft our first function – a greeter bot:\n"
   ]
  },
  {
   "cell_type": "code",
   "execution_count": 1,
   "metadata": {},
   "outputs": [
    {
     "name": "stdout",
     "output_type": "stream",
     "text": [
      "Hello, Boys!\n",
      "Hello, Girls!\n"
     ]
    }
   ],
   "source": [
    "def greet(name):\n",
    "  print(\"Hello,\", name + \"!\")\n",
    "\n",
    "greet(\"Boys\")\n",
    "greet(\"Girls\")"
   ]
  },
  {
   "cell_type": "markdown",
   "metadata": {},
   "source": [
    "**Explanation:**\n",
    "\n",
    "- `def`: This keyword signals the start of a function definition, followed by the function's name (`greet` in this case).\n",
    "- `name`: This is the input the function expects, known as a **parameter**.\n",
    "- `print(\"Hello,\", name + \"!\")`: This line within the function's body is executed when the function is called, printing a personalized greeting.\n",
    "- `greet(\"Akhil\")` and `greet(\"Sowmya\")`: These lines call the function, passing different names as arguments, resulting in personalized greetings.\n"
   ]
  },
  {
   "cell_type": "markdown",
   "metadata": {},
   "source": [
    "**Interactive Exercise:**\n",
    "\n",
    "Can you modify the function to say \"Hi\" instead of \"Hello\"?\n"
   ]
  },
  {
   "cell_type": "code",
   "execution_count": 7,
   "metadata": {},
   "outputs": [
    {
     "name": "stdout",
     "output_type": "stream",
     "text": [
      "Hi,  Thota!\n"
     ]
    }
   ],
   "source": [
    "def greet (name):\n",
    "    print (\"Hi, \", name + \"!\")\n",
    "\n",
    "greet (\"Alice\")"
   ]
  },
  {
   "cell_type": "markdown",
   "metadata": {},
   "source": [
    "### `Function Arguments`: Equipping Your Minions\n"
   ]
  },
  {
   "cell_type": "markdown",
   "metadata": {},
   "source": [
    "`Arguments` are the information you pass to a function, like instructions to your minions. They make functions more flexible and versatile.\n",
    "\n",
    "There are two types of function arguments:\n",
    "\n",
    "1. **Positional Arguments (\\*args)**\n",
    "2. **Keyword Arguments (**kwargs)\\*\\*\n"
   ]
  },
  {
   "cell_type": "markdown",
   "metadata": {},
   "source": [
    "#### `Positional Arguments`: Order Matters\n",
    "\n",
    "When you create functions in Python, you can make them take arguments (inputs) to work with. These arguments act like placeholders for the data you'll provide when you call the function. But there's a catch: the order in which you define these arguments matters!\n"
   ]
  },
  {
   "cell_type": "code",
   "execution_count": null,
   "metadata": {},
   "outputs": [],
   "source": [
    "def greet(name, greeting=\"Hello\"):\n",
    "  print(greeting + \",\", name + \"!\")\n",
    "\n",
    "greet(\"Alice\")           # Output: Hello, Akhil!\n",
    "greet(\"Bob\", \"Hi\")       # Output: Hi, Bhargav!"
   ]
  },
  {
   "cell_type": "markdown",
   "metadata": {},
   "source": [
    "**Explanation:**\n",
    "\n",
    "- **name** and **greeting** are parameters of the `greet` function.\n",
    "- `greeting=\"Hello\"`: This sets a default value for the `greeting` parameter. If no greeting is provided during the call, it defaults to \"Hello\".\n",
    "- `greet(\"Akhil\")`: Only the `name` argument is provided, so the default greeting is used.\n",
    "- `greet(\"Bhargav\", \"Hi\")`: Both arguments are provided, so \"Hi\" is used as the greeting.\n"
   ]
  },
  {
   "cell_type": "markdown",
   "metadata": {},
   "source": [
    "**Interactive Exercise:**\n",
    "\n",
    "Modify the function to include a third argument for the time of day (e.g., \"morning\", \"afternoon\"). Update the greeting message accordingly.\n"
   ]
  },
  {
   "cell_type": "code",
   "execution_count": null,
   "metadata": {},
   "outputs": [],
   "source": [
    "# Write code below"
   ]
  },
  {
   "cell_type": "markdown",
   "metadata": {},
   "source": [
    "##### What happens if we mess up the order?\n",
    "\n",
    "By keeping the order of arguments straight, you ensure your functions work as intended and avoid unexpected behavior in your code. Remember, a little planning goes a long way in creating error-free Python programs!\n"
   ]
  },
  {
   "cell_type": "markdown",
   "metadata": {},
   "source": [
    "Here's what can go wrong if you mess up the order when calling the function:\n",
    "\n",
    "1. `Errors:`\n",
    "\n",
    "   In some cases, depending on how the function is written and the data types involved, you might encounter errors. For example, if the function expects a number for the milk quantity but you provide a string like \"cup\", you might get a TypeError.\n"
   ]
  },
  {
   "cell_type": "code",
   "execution_count": null,
   "metadata": {},
   "outputs": [],
   "source": [
    "greet(123)  # Output: Results in `TypeError` as the function expects 'string' datatype for 'name'"
   ]
  },
  {
   "cell_type": "markdown",
   "metadata": {},
   "source": [
    "2. `Wrong Output:`\n",
    "\n",
    "   Imagine calling it like this: `greet(\"Hey\", \"Sowmya\")`. The greeting order is messed up! This will likely result in a confusing greeting. The function will treat \"Hey\" as the name and \"Sowmya\" as the greeting.\n"
   ]
  },
  {
   "cell_type": "code",
   "execution_count": null,
   "metadata": {},
   "outputs": [],
   "source": [
    "greet(\"Hey\", \"Alice\")"
   ]
  },
  {
   "cell_type": "markdown",
   "metadata": {},
   "source": [
    "**Best Practices to Avoid Errors:**\n",
    "\n",
    "- **Double-check the function definition:** Before calling the function, make sure you understand the order of the arguments listed in the function's definition.\n",
    "- **Use meaningful argument names:** When defining functions, choose clear names for your arguments that reflect their purpose. This helps you remember the order more easily.\n",
    "- **Consider keyword arguments (optional):** In Python, you can use keyword arguments to explicitly specify which argument value goes with which argument name. This can improve readability and avoid confusion, especially for functions with many arguments.\n",
    "\n",
    "**Key Points:**\n",
    "\n",
    "- Positional arguments rely on the order they are defined in the function.\n",
    "- When calling the function, provide values in the same order as the argument list.\n",
    "- Mixing up the order can lead to unexpected results.\n",
    "\n",
    "**Remember:** Functions with positional arguments are like well-organized parties. By keeping the order straight, you ensure everything runs smoothly!\n"
   ]
  },
  {
   "cell_type": "markdown",
   "metadata": {},
   "source": [
    "#### `Keyword Arguments`: Name It, Don't Number It\n",
    "\n",
    "Keyword arguments are passed with the parameter name, so order doesn't matter.\n",
    "This makes your code more readable and less prone to errors.\n",
    "\n",
    "**Why Use Keyword Arguments**\n",
    "\n",
    "1. **Readability:** Your code becomes self-documenting! It's easier to understand the intent of each value.\n",
    "2. **Flexibility:** Change the order without changing the outcome, great for functions with optional parameters.\n",
    "3. **Future-proofing:** If your function definition changes in the future, your existing code might be less likely to break.\n"
   ]
  },
  {
   "cell_type": "markdown",
   "metadata": {},
   "source": [
    "**Ways to use keyword arguments**\n",
    "\n",
    "- **Flexibility:** `greet(name=\"Sandeep\", greeting=\"Howdy\")`. The order no longer matters!\n",
    "- **Clarity:** Especially when a function has many arguments, it's immediately obvious which argument gets which value.\n",
    "- **Skipping Defaults:** `greet(name=\"Akhil\")` uses the default 'Hello' greeting.\n"
   ]
  },
  {
   "cell_type": "code",
   "execution_count": null,
   "metadata": {},
   "outputs": [],
   "source": [
    "greet(name=\"Alice\", greeting=\"Bob\")"
   ]
  },
  {
   "cell_type": "code",
   "execution_count": null,
   "metadata": {},
   "outputs": [],
   "source": [
    "greet(name=\"Alice\")"
   ]
  },
  {
   "cell_type": "markdown",
   "metadata": {},
   "source": [
    "**Key Points:**\n",
    "\n",
    "- **Syntax:** Use the argument name followed by an equals sign (`=`), then the value.\n",
    "- **Mixing Styles (Careful!):** If you use a mix of positional and keyword arguments, positional arguments _must_ come first. Example: `greet(\"Dravid\", greeting=\"Hi there\")` is okay, but `greet(greeting=\"Hi\", \"Dravid\")` might cause an error!\n"
   ]
  },
  {
   "cell_type": "code",
   "execution_count": null,
   "metadata": {},
   "outputs": [],
   "source": [
    "greet(\"David\", greeting=\"Hi there\")"
   ]
  },
  {
   "cell_type": "code",
   "execution_count": null,
   "metadata": {},
   "outputs": [],
   "source": [
    "greet(greeting=\"Hi\", \"David\")"
   ]
  },
  {
   "cell_type": "markdown",
   "metadata": {},
   "source": [
    "**Remember:** Keyword arguments are like adding custom labels to your function calls. Embrace flexibility and clarity in your Python programs!\n"
   ]
  },
  {
   "cell_type": "markdown",
   "metadata": {},
   "source": [
    "#### Variable Number of Arguments: The `*args` and `**kwargs` Magic\n",
    "\n",
    "Sometimes, you don't want to set a fixed number of arguments for a function. Imagine building a tool that can adapt to different amounts of information the same way a stretchy backpack can hold different items. This is where the special syntax `*args` and `**kwargs` come into play in Python, unlocking a world of dynamic function design.\n"
   ]
  },
  {
   "cell_type": "markdown",
   "metadata": {},
   "source": [
    "- `*args` **The Positional Packer:** Picture `*args` as a magic bag for your function. It gathers any extra positional arguments (the ones you provide without names, just values in order) and bundles them neatly into a tuple. This lets you work with an unknown number of items that share a similar type or purpose.\n",
    "\n",
    "- `**kwargs` **The Keyword Collector:** Think of `**kwargs` as a smart organizer box. It collects any extra keyword arguments (like `value=name`) and stores them in a dictionary. This gives you the flexibility to accept a variety of optional information linked to specific labels.\n",
    "\n",
    "**Why They Matter?**\n",
    "\n",
    "1. `Adaptability is Power:` You can design functions that don't break if provided a few or many arguments, just like a good recipe works for different numbers of guests. This makes your code reusable for a wider range of situations.\n",
    "\n",
    "2. `Handling Unknowns:` When you don't know in advance how much data your function will receive, or the specific fields needed, \\*args and \\*\\*kwargs provide a structured way to manage it.\n",
    "\n",
    "3. `Clearer Code:` Especially when using keyword arguments, \\*\\*kwargs can make function calls much easier to read and understand since they directly label the data being passed.\n"
   ]
  },
  {
   "cell_type": "markdown",
   "metadata": {},
   "source": [
    "**Let's Get Practical:**\n",
    "\n",
    "While the true magic of `*args` and `**kwargs` shines best in examples, imagine they enable you to build functions like:\n",
    "\n",
    "- A calculator that takes any number of inputs and performs an operation\n",
    "- A profile builder that accepts flexible fields based on user needs\n",
    "- A logging system that captures details with varying levels of information\n",
    "\n",
    "Let's understand with examples:\n",
    "\n",
    "Imagine you're opening a restaurant. You want your menu to be flexible enough to handle a variety of customer preferences. Python functions can be like that too, thanks to `*args` and `**kwargs`!\n"
   ]
  },
  {
   "cell_type": "code",
   "execution_count": null,
   "metadata": {},
   "outputs": [],
   "source": [
    "def order_pizza(size, *toppings):  # *args for toppings\n",
    "  \"\"\"\n",
    "  This function takes an order for a pizza with a size and any number of toppings.\n",
    "  \"\"\"\n",
    "  print(\"One\", size, \"pizza coming up with:\")\n",
    "  for topping in toppings:\n",
    "      print(topping)\n",
    "\n",
    "# Two ways to order:\n",
    "order_pizza(\"medium\", \"pepperoni\", \"extra cheese\")\n",
    "order_pizza(\"large\", \"mushrooms\", \"onions\", \"green peppers\")"
   ]
  },
  {
   "cell_type": "markdown",
   "metadata": {},
   "source": [
    "**Explanation:**\n",
    "\n",
    "1. The `order_pizza` function takes a `size` (required) and then uses `*toppings` to capture any number of toppings provided as arguments.\n",
    "2. Inside the function, we loop through the `toppings` like any list.\n",
    "\n",
    "**Key Points for `*args`:**\n",
    "\n",
    "- **Gathers extra arguments:** It packs any leftover positional arguments into a tuple named `args`.\n",
    "- **Use case:** Ideal for situations where you might have an unknown number of similar items (toppings, scores, etc.).\n"
   ]
  },
  {
   "cell_type": "markdown",
   "metadata": {},
   "source": [
    "Now, let's see how `**kwargs` works:\n"
   ]
  },
  {
   "cell_type": "code",
   "execution_count": null,
   "metadata": {},
   "outputs": [],
   "source": [
    "def personal_info(name, **details):  # **kwargs for details\n",
    "  \"\"\"\n",
    "  This function captures personal information with a name and any additional details (like age, city, etc.) provided as keyword arguments.\n",
    "  \"\"\"\n",
    "  print(\"Hello,\", name)\n",
    "  for key, value in details.items():\n",
    "      print(key + \":\", value)\n",
    "\n",
    "personal_info(\"Alice\", age=30, city=\"New York\")\n",
    "personal_info(\"Bob\", profession=\"Doctor\", hobby=\"Rock climbing\")"
   ]
  },
  {
   "cell_type": "markdown",
   "metadata": {},
   "source": [
    "**Explanation:**\n",
    "\n",
    "1. The `personal_info` function takes a `name` (required) and then uses `**details` to capture any number of keyword arguments provided. These are stored as a dictionary named `details`.\n",
    "2. Inside the function, we loop through the `details` dictionary to access the key-value pairs.\n"
   ]
  },
  {
   "cell_type": "markdown",
   "metadata": {},
   "source": [
    "**Key Points for `**kwargs`:\\*\\*\n",
    "\n",
    "- **Grabs named arguments:** It gathers any extra keyword arguments into a dictionary named `kwargs`.\n",
    "- **Use case:** Perfect for situations where you want to accept extra information with names (like profiles, preferences).\n",
    "\n",
    "**Mixing `*args` and `**kwargs`(cautiously!):**\n",
    "You can use both`*args`and`**kwargs` in a function, but **remember positional arguments must come before `*args`.\\*\\*\n"
   ]
  },
  {
   "cell_type": "markdown",
   "metadata": {},
   "source": [
    "##### Interactive Exercise:\n",
    "\n",
    "Create a function that takes any number of names as input and prints a greeting message for each person.\n"
   ]
  },
  {
   "cell_type": "code",
   "execution_count": null,
   "metadata": {},
   "outputs": [],
   "source": [
    "# Write code below"
   ]
  },
  {
   "cell_type": "markdown",
   "metadata": {},
   "source": [
    "### `Return` Values: The Spoils of Your Minions' Labor\n"
   ]
  },
  {
   "cell_type": "markdown",
   "metadata": {},
   "source": [
    "Functions often produce results – the fruits of their labor. You can use the `return` statement to send these results back to the caller.\n"
   ]
  },
  {
   "cell_type": "code",
   "execution_count": 2,
   "metadata": {},
   "outputs": [
    {
     "name": "stdout",
     "output_type": "stream",
     "text": [
      "Area: 20\n"
     ]
    }
   ],
   "source": [
    "def calculate_area(width, height):\n",
    "  area = width * height\n",
    "  return area\n",
    "\n",
    "result = calculate_area(5, 4)\n",
    "print(\"Area:\", result)  # Output: Area: 20"
   ]
  },
  {
   "cell_type": "markdown",
   "metadata": {},
   "source": [
    "**Explanation:**\n",
    "\n",
    "- The `calculate_area` function multiplies the width and height to get the area.\n",
    "- The `return area` statement sends the calculated area back to the caller.\n",
    "- The caller (in this case, the `print` statement) can then use the returned value.\n"
   ]
  },
  {
   "cell_type": "markdown",
   "metadata": {},
   "source": [
    "#### Returning Multiple Values: A Bounty of Results\n",
    "\n",
    "- **Beyond Just One:** In Python, you're not limited to a function giving you a single result. It can package up several pieces of information and send them back all at once.\n",
    "- **The Comma's Power:** Returning multiple values is all about separation! To achieve this, simply list the values you want to return, separated by commas.\n",
    "- **Unpacking the Package:** When a function returns multiple values, you, as the caller, have the option to neatly store these values into separate variables. This is done directly in the assignment by listing your desired variable names, separated by commas, in the same order as the return values.\n",
    "\n",
    "**Why This Matters?**\n",
    "\n",
    "1. **Efficiency:** You can bundle calculations together and receive multiple results from a single function call.\n",
    "2. **Organization:** Returning multiple values can make your code more readable when you have related pieces of data that naturally belong together.\n"
   ]
  },
  {
   "cell_type": "code",
   "execution_count": 6,
   "metadata": {},
   "outputs": [
    {
     "name": "stdout",
     "output_type": "stream",
     "text": [
      "The area is: 15\n",
      "The perimeter is: 16\n",
      "The area and perimeter values are : 50 30\n"
     ]
    }
   ],
   "source": [
    "def calculate_area_perimeter(length, width):\n",
    "    \"\"\"Calculates both the area and perimeter of a rectangle.\"\"\"\n",
    "    area = length * width\n",
    "    perimeter = 2 * (length + width)\n",
    "    return area, perimeter  # Returns two values\n",
    "\n",
    "# Unpack the multiple return values\n",
    "result_area, result_perimeter = calculate_area_perimeter(5, 3)\n",
    "print(\"The area is:\", result_area)\n",
    "print(\"The perimeter is:\", result_perimeter)\n",
    "\n",
    "# Unpack return values\n",
    "result = calculate_area_perimeter(10, 5)\n",
    "print(\"The area and perimeter values are :\", *result)  # Output: The area and perimeter values are : 50 30"
   ]
  },
  {
   "cell_type": "markdown",
   "metadata": {},
   "source": [
    "**Explanation:**\n",
    "\n",
    "1. `calculate_area_perimeter` takes length and width, calculates both values, and returns them in a comma-separated list.\n",
    "2. When calling the function, we assign the two returned values directly to separate variables, `result_area` and `result_perimeter`.\n",
    "3. The `*` in front of `result` is used to unpack the tuple. Instead of passing the whole **(area, perimeter)** tuple `(50, 30)` to the **print** function, it effectively becomes `print(\"The area and perimeter values are :\", 50, 30)`\n"
   ]
  },
  {
   "cell_type": "markdown",
   "metadata": {},
   "source": [
    "##### **Interactive Exercise:**\n",
    "\n",
    "Create a function that takes two numbers as input and returns their sum, difference, and product as a tuple. Print these results separately.\n"
   ]
  },
  {
   "cell_type": "code",
   "execution_count": 10,
   "metadata": {},
   "outputs": [],
   "source": [
    "# Write code below"
   ]
  },
  {
   "cell_type": "markdown",
   "metadata": {},
   "source": [
    "#### No Return, No Problem: The `None` Type\n",
    "\n",
    "- **The Silent Function:** Sometimes, a function's job is to _do_ something, not necessarily provide a specific value back. In these cases, if you don't include an explicit `return` statement within the function, Python automatically adds an invisible `return None` for you.\n",
    "- **What is 'None'?:** `None` is a special type in Python that represents the absence of a value. It's a bit like an empty placeholder.\n",
    "\n",
    "**Why This Matters?**\n",
    "\n",
    "**Understanding Behavior:** It's important to be aware of `None`. When debugging, if a function seems to \"return nothing\", it's helpful to remember that it might be implicitly returning `None`.\n"
   ]
  },
  {
   "cell_type": "code",
   "execution_count": 13,
   "metadata": {},
   "outputs": [
    {
     "name": "stdout",
     "output_type": "stream",
     "text": [
      "Important Announcement:  Reminder: Meeting at 10 AM\n",
      "None\n"
     ]
    }
   ],
   "source": [
    "def display_message(text):\n",
    "  \"\"\"Prints a message but doesn't return a specific value.\"\"\"\n",
    "  print(\"Important Announcement: \", text)\n",
    "\n",
    "result = display_message(\"Reminder: Meeting at 10 AM\")\n",
    "print(result)  # Will print 'None'"
   ]
  },
  {
   "cell_type": "markdown",
   "metadata": {},
   "source": [
    "**Explanation:**\n",
    "\n",
    "1. `display_message` focuses on printing a message. There's no explicit `return` statement.\n",
    "2. We can call the function and store the returned value (`None`) to show how functions without a `return` implicitly return `None`.\n"
   ]
  },
  {
   "cell_type": "markdown",
   "metadata": {},
   "source": [
    "### `Scope`: Where Your Variables Live and Work\n"
   ]
  },
  {
   "cell_type": "markdown",
   "metadata": {},
   "source": [
    "Think of your Python program like a vast kingdom with busy little worker minions (your variables). Scope is all about the boundaries and rules that decide where a minion can live, what tools they can access, and how their work affects the whole kingdom.\n"
   ]
  },
  {
   "cell_type": "markdown",
   "metadata": {},
   "source": [
    "#### `Global` and `Local` Scope:\n"
   ]
  },
  {
   "cell_type": "markdown",
   "metadata": {},
   "source": [
    "**The Importance of Boundaries**\n",
    "\n",
    "- Imagine two workshops trying to use a tool with the same name. Chaos! Scope keeps things organized. Two variables with the same name can peacefully coexist if they live in different scopes.\n",
    "\n",
    "**`Global` Scope: The Kingdom Square**\n",
    "\n",
    "- Any variable declared out in the open, outside of any specific function, exists in the global scope. It's like the town square where everyone can mingle.\n",
    "- These variables are long-lived and accessible from anywhere in your program – they're like the leaders of the kingdom known far and wide.\n",
    "\n",
    "**`Local` Scope: The Minion's Workshop**\n",
    "\n",
    "- Each function is like a specialized little workshop with its own local scope. Variables declared within a function are its local minions.\n",
    "- They exist _only_ while that function is running. They're super focused on tasks within their workshop, and they disappear (like good minions) when their job is done.\n"
   ]
  },
  {
   "cell_type": "code",
   "execution_count": 20,
   "metadata": {},
   "outputs": [
    {
     "ename": "UnboundLocalError",
     "evalue": "cannot access local variable 'kingdom_treasury' where it is not associated with a value",
     "output_type": "error",
     "traceback": [
      "\u001b[0;31m---------------------------------------------------------------------------\u001b[0m",
      "\u001b[0;31mUnboundLocalError\u001b[0m                         Traceback (most recent call last)",
      "Cell \u001b[0;32mIn[20], line 9\u001b[0m\n\u001b[1;32m      6\u001b[0m     kingdom_treasury \u001b[38;5;241m=\u001b[39m kingdom_treasury \u001b[38;5;241m+\u001b[39m loot\n\u001b[1;32m      7\u001b[0m     \u001b[38;5;28mprint\u001b[39m(\u001b[38;5;124m\"\u001b[39m\u001b[38;5;124mWe plundered\u001b[39m\u001b[38;5;124m\"\u001b[39m, loot, \u001b[38;5;124m\"\u001b[39m\u001b[38;5;124mgold coins!\u001b[39m\u001b[38;5;124m\"\u001b[39m)\n\u001b[0;32m----> 9\u001b[0m raid_village()\n\u001b[1;32m     10\u001b[0m \u001b[38;5;28mprint\u001b[39m(\u001b[38;5;124m\"\u001b[39m\u001b[38;5;124mThe kingdom treasury holds:\u001b[39m\u001b[38;5;124m\"\u001b[39m, kingdom_treasury)\n",
      "Cell \u001b[0;32mIn[20], line 6\u001b[0m, in \u001b[0;36mraid_village\u001b[0;34m()\u001b[0m\n\u001b[1;32m      4\u001b[0m \u001b[38;5;250m\u001b[39m\u001b[38;5;124;03m\"\"\"A raiding party increases kingdom wealth, but only locally.\"\"\"\u001b[39;00m\n\u001b[1;32m      5\u001b[0m loot \u001b[38;5;241m=\u001b[39m \u001b[38;5;241m25\u001b[39m   \u001b[38;5;66;03m# Local variable: exists only inside the function\u001b[39;00m\n\u001b[0;32m----> 6\u001b[0m kingdom_treasury \u001b[38;5;241m=\u001b[39m kingdom_treasury \u001b[38;5;241m+\u001b[39m loot\n\u001b[1;32m      7\u001b[0m \u001b[38;5;28mprint\u001b[39m(\u001b[38;5;124m\"\u001b[39m\u001b[38;5;124mWe plundered\u001b[39m\u001b[38;5;124m\"\u001b[39m, loot, \u001b[38;5;124m\"\u001b[39m\u001b[38;5;124mgold coins!\u001b[39m\u001b[38;5;124m\"\u001b[39m)\n",
      "\u001b[0;31mUnboundLocalError\u001b[0m: cannot access local variable 'kingdom_treasury' where it is not associated with a value"
     ]
    }
   ],
   "source": [
    "kingdom_treasury = 100  # Global variable: accessible anywhere\n",
    "\n",
    "def raid_village():\n",
    "    \"\"\"A raiding party increases kingdom wealth, but only locally.\"\"\"\n",
    "    loot = 25   # Local variable: exists only inside the function\n",
    "    kingdom_treasury = kingdom_treasury + loot\n",
    "    print(\"We plundered\", loot, \"gold coins!\")\n",
    "\n",
    "raid_village()\n",
    "print(\"The kingdom treasury holds:\", kingdom_treasury)  # Uh oh!"
   ]
  },
  {
   "cell_type": "markdown",
   "metadata": {},
   "source": [
    "**Explanation**\n",
    "\n",
    "1.  `kingdom_treasury` is a global variable, like the kingdom's bank.\n",
    "2.  `raid_village` is a workshop with its own `loot` variable, representing temporary gains.\n",
    "3.  Problem! Inside `raid_village`, the line `kingdom_treasury = ...` creates a NEW, _local_ minion also named `kingdom_treasury`. This local minion hides the global one and disappears when the function ends.\n",
    "4.  The final print shows 100, the original treasury value. Our raid had no lasting impact!\n"
   ]
  },
  {
   "cell_type": "markdown",
   "metadata": {},
   "source": [
    "#### Modifying Global Variables: Shared Resources\n",
    "\n",
    "- Global variables are like the kingdom's central resources. If a function changes one, it affects the entire program, just like changing a law impacts everyone.\n",
    "- The `global` keyword is like a special invitation. Use it inside a function to signal that you specifically want to modify a global variable, not create a local one by mistake.\n"
   ]
  },
  {
   "cell_type": "code",
   "execution_count": 22,
   "metadata": {},
   "outputs": [
    {
     "name": "stdout",
     "output_type": "stream",
     "text": [
      "Soldiers have been paid!\n",
      "The kingdom treasury holds: 70\n"
     ]
    }
   ],
   "source": [
    "# Example: Modifying a Global (Intentionally)\n",
    "kingdom_treasury = 100\n",
    "\n",
    "def pay_soldiers():\n",
    "    \"\"\"Spends money from the treasury, a necessary change.\"\"\"\n",
    "    global kingdom_treasury  # Signals intent to modify the global variable\n",
    "    expenses = 30\n",
    "    kingdom_treasury -= expenses\n",
    "    print(\"Soldiers have been paid!\")\n",
    "\n",
    "pay_soldiers()\n",
    "print(\"The kingdom treasury holds:\", kingdom_treasury)"
   ]
  },
  {
   "cell_type": "markdown",
   "metadata": {},
   "source": [
    "**Explanation**\n",
    "\n",
    "1.  The `global kingdom_treasury` line inside `pay_soldiers` is crucial. It tells Python, \"I want to work with the kingdom-wide treasury!\"\n",
    "2.  Now the change within `pay_soldiers` affects the global treasury, and the final print will display 70.\n",
    "\n",
    "**Key Points**\n",
    "\n",
    "- Be mindful of where you create variables. Think about whether they should be local helpers or kingdom-wide resources.\n",
    "- Use the `global` keyword sparingly to avoid accidental modification of global variables.\n"
   ]
  },
  {
   "cell_type": "markdown",
   "metadata": {},
   "source": [
    "##### **Interactive Exercise:**\n",
    "\n",
    "Create a function that divides a global counter variable. Call the function multiple times and observe how the counter changes.\n"
   ]
  },
  {
   "cell_type": "code",
   "execution_count": null,
   "metadata": {},
   "outputs": [],
   "source": [
    "# Write code below"
   ]
  },
  {
   "cell_type": "markdown",
   "metadata": {},
   "source": [
    "#### Tips for a Well-Managed Scope:\n",
    "\n",
    "- **Favor Local Scope:** Usually, it's best for variables to work locally. This avoids unexpected side effects and makes your code easier to understand (less minion drama).\n",
    "- **Plan Global Access:** Be very intentional with global variables. Only use them when truly needed for information that needs to be shared widely.\n"
   ]
  },
  {
   "cell_type": "markdown",
   "metadata": {},
   "source": [
    "### `Nested Functions`: Minions Within Minions\n",
    "\n",
    "Think of nested functions like a hierarchy within your kingdom. Some complex tasks require specialized teams of variables working in tandem under the direction of a master function.\n"
   ]
  },
  {
   "cell_type": "markdown",
   "metadata": {},
   "source": [
    "- **`Outer Function`: The Master Minion** The outer function is like the task leader, setting the overall goal and managing resources.\n",
    "- **`Inner Function`: The Specialized Minion** The inner function is like a highly skilled minion only called upon for a specific step within the larger task.\n",
    "\n",
    "**Why Nest Functions?**\n",
    "\n",
    "- **Organization:** Break large tasks into helper functions, making code more readable.\n",
    "- **Encapsulation:** Keep specialized code 'contained' within the task it serves.\n",
    "- **Reusability (Limited):** While not always easily reusable elsewhere in your program, inner functions are perfect for specific tasks within their outer 'task leader'.\n"
   ]
  },
  {
   "cell_type": "code",
   "execution_count": null,
   "metadata": {},
   "outputs": [],
   "source": [
    "# Example: The Royal Banquet\n",
    "def prepare_banquet(num_guests):\n",
    "    \"\"\"Coordinates all preparations for the feast.\"\"\"\n",
    "    def calculate_ingredients(dish, servings):\n",
    "        # Calculates the needed amounts based on a recipe\n",
    "        ingredients = {\n",
    "            'chicken': servings * 0.5,\n",
    "            'potatoes': servings * 2,\n",
    "            # ... more recipe logic\n",
    "        }\n",
    "        return ingredients\n",
    "\n",
    "    dishes = [\"Roasted Chicken\", \"Mashed Potatoes\", \"Apple Pie\"]\n",
    "\n",
    "    for dish in dishes:\n",
    "        needed_ingredients = calculate_ingredients(dish, num_guests)\n",
    "        print(\"For\", dish, \"we need:\", needed_ingredients)"
   ]
  },
  {
   "cell_type": "markdown",
   "metadata": {},
   "source": [
    "**Explanation:**\n",
    "\n",
    "1. `prepare_banquet` is the master minion, overseeing the banquet task. It takes the number of guests as input.\n",
    "2. `calculate_ingredients` is the specialized minion, nestled inside. It knows the secret recipes and can access the `num_guests` variable from the outer function to calculate needed amounts.\n",
    "3. The outer function sets up the list of dishes and coordinates making orders based on ingredients calculated by the inner function.\n"
   ]
  },
  {
   "cell_type": "markdown",
   "metadata": {},
   "source": [
    "**Key Points**\n",
    "\n",
    "- **Hidden Helpers:** Inner functions are hidden from the rest of your kingdom's code. They only exist when the outer function (the task leader) calls them.\n",
    "- **Shared Tools:** Inner functions can access and use variables created within the outer function's workshop. Think of this as the task leader sharing resources with the special minion.\n"
   ]
  },
  {
   "cell_type": "markdown",
   "metadata": {},
   "source": [
    "##### Interactive Exercise:\n",
    "\n",
    "Create a nested function that calculates the area of a rectangle and then doubles it. The outer function should take the width and height as input. Print the final result.\n"
   ]
  },
  {
   "cell_type": "code",
   "execution_count": null,
   "metadata": {},
   "outputs": [],
   "source": [
    "# Write code below"
   ]
  },
  {
   "cell_type": "markdown",
   "metadata": {},
   "source": [
    "### `Recursion`: Functions That Call Themselves\n"
   ]
  },
  {
   "cell_type": "markdown",
   "metadata": {},
   "source": [
    "Recursion is like a magic trick where a function calls itself to solve a problem by breaking it down into smaller, similar subproblems (self-similar versions). It's like your minions summoning mini-minions to help them out.\n"
   ]
  },
  {
   "cell_type": "markdown",
   "metadata": {},
   "source": [
    "**Understanding the Magic:**\n",
    "\n",
    "- Each time a recursive function calls itself, it creates a **new frame (like a temporary workspace) with its own copy of variables**.\n",
    "- It's essential to have a `base case`, a condition that stops the recursion, otherwise your program might spin forever!\n",
    "\n",
    "**The `Base Case`: When to Stop the Summoning?**\n",
    "\n",
    "A recursive function needs a `base case` – a condition that stops the recursion. Otherwise, it would create an `infinite loop`\n"
   ]
  },
  {
   "cell_type": "code",
   "execution_count": null,
   "metadata": {},
   "outputs": [],
   "source": [
    "# Example - Factorial Calculation\n",
    "def factorial(n):\n",
    "  if n == 0:\n",
    "    return 1  # Base case: factorial of 0 is 1\n",
    "  else:\n",
    "    return n * factorial(n-1)  # Recursive case\n",
    "\n",
    "print(factorial(5))  # Output: 120 (5 * 4 * 3 * 2 * 1)"
   ]
  },
  {
   "cell_type": "markdown",
   "metadata": {},
   "source": [
    "Explanation:\n",
    "\n",
    "- `factorial(5)` is called.\n",
    "- Since 5 is not 0, the recursive case is executed: 5 \\* `factorial(4)`.\n",
    "- `factorial(4)` is called, which leads to 4 \\* `factorial(3)`.\n",
    "- This continues until `factorial(0)` is reached, which returns 1 (the base case).\n",
    "- The calls then unwind, multiplying the results (1 _ 2 _ 3 _ 4 _ 5), resulting in 120.\n"
   ]
  },
  {
   "cell_type": "markdown",
   "metadata": {},
   "source": [
    "**Interactive Exercise:**\n",
    "\n",
    "Write a recursive function to calculate the sum of the first n natural numbers.\n"
   ]
  },
  {
   "cell_type": "code",
   "execution_count": null,
   "metadata": {},
   "outputs": [],
   "source": [
    "# Write code below"
   ]
  },
  {
   "cell_type": "markdown",
   "metadata": {},
   "source": [
    "#### **When to Use Recursion (and When Not To)?**\n",
    "\n",
    "Recursion can be elegant for problems that can be naturally divided into self-similar subproblems. However, it can sometimes be less efficient than iterative solutions. Consider the trade-offs before using recursion.\n"
   ]
  },
  {
   "cell_type": "markdown",
   "metadata": {},
   "source": [
    "### `Decorators`: Enhancing Your Minions with Superpowers\n"
   ]
  },
  {
   "cell_type": "markdown",
   "metadata": {},
   "source": [
    "Decorators are like special power-ups that you can apply to your functions to modify their behavior without changing their core code.\n",
    "\n",
    "They are a powerful feature in Python that allows you to add functionality to an existing function or method. They provide a way to modify or extend the behavior of functions without modifying their actual code. Decorators are essentially functions that take another function as an argument and return a new function that usually extends the behavior of the original function.\n",
    "\n",
    "**How Decorators Work?**\n",
    "\n",
    "- **Defining a Decorator:** You define a decorator as a regular Python function that takes a function as an argument and returns a new function.\n",
    "- **Decorating a Function:** You apply a decorator to a function using the @decorator_name syntax just before the function definition.\n",
    "- **Using the Decorated Function:** When you call the decorated function, the decorator intercepts the call and executes its own code before and/or after calling the original function.\n"
   ]
  },
  {
   "cell_type": "markdown",
   "metadata": {},
   "source": [
    "**Real-World Applications of Decorators:**\n",
    "\n",
    "Decorators have various uses, such as:\n",
    "\n",
    "- Logging function calls\n",
    "- Timing function execution\n",
    "- Caching return values\n",
    "- Enforcing access control\n",
    "- And much more!\n"
   ]
  },
  {
   "cell_type": "markdown",
   "metadata": {},
   "source": [
    "#### **The Essence of a Decorator**\n",
    "\n",
    "A decorator is itself a function that takes another function as input and returns a modified version of that function. It's like a minion-training academy!\n"
   ]
  },
  {
   "cell_type": "code",
   "execution_count": null,
   "metadata": {},
   "outputs": [],
   "source": [
    "def my_decorator(func):\n",
    "  def wrapper(*args, **kwargs):\n",
    "    print(\"Before function call\")\n",
    "    result = func(*args, **kwargs)\n",
    "    print(\"After function call\")\n",
    "    return result\n",
    "  return wrapper\n",
    "\n",
    "@my_decorator\n",
    "def say_hello(name):\n",
    "  print(\"Hello,\", name + \"!\")\n",
    "\n",
    "say_hello(\"Akhil\")\n",
    "\n",
    "# Output\n",
    "# Before function call\n",
    "# Hello, Akhil!\n",
    "# After function call"
   ]
  },
  {
   "cell_type": "markdown",
   "metadata": {},
   "source": [
    "**Explanation:**\n",
    "\n",
    "- `my_decorator` is the decorator function. It takes a function (`func`) as input.\n",
    "- `wrapper` is the inner function that modifies the behavior of `func`. It prints messages before and after calling the original function.\n",
    "- `@my_decorator`: This syntax \"decorates\" the `say_hello` function with the `my_decorator` power-up.\n",
    "- When `say_hello(\"Akhil\")` is called, it actually calls the wrapper function, which executes the additional print statements before and after calling the original `say_hello` function.\n"
   ]
  },
  {
   "cell_type": "markdown",
   "metadata": {},
   "source": [
    "**Interactive Exercise:**\n",
    "\n",
    "Create a decorator that measures the execution time of a function and prints it. Apply it to a function that calculates the sum of a range of numbers.\n"
   ]
  },
  {
   "cell_type": "code",
   "execution_count": null,
   "metadata": {},
   "outputs": [],
   "source": [
    "# Write code below"
   ]
  },
  {
   "cell_type": "markdown",
   "metadata": {},
   "source": [
    "### Types of Functions: A Diverse Cast\n"
   ]
  },
  {
   "cell_type": "markdown",
   "metadata": {},
   "source": [
    "Python offers various function flavors:\n",
    "\n",
    "- `Built-in Functions`: Python's pre-packaged functions like `print()`, `len()`, and `range()`.\n",
    "- `User-Defined Functions`: The ones you create to suit your specific needs, like our `greet()` function.\n",
    "- `Anonymous Functions (Lambda Functions)`: Compact, one-line functions defined using the lambda keyword. They're ideal for simple operations.\n"
   ]
  },
  {
   "cell_type": "markdown",
   "metadata": {},
   "source": [
    "### Crafting Elegant Functions: Best Practices\n"
   ]
  },
  {
   "cell_type": "markdown",
   "metadata": {},
   "source": [
    "- **Clear and Descriptive Names**: Choose function names that reflect their purpose, making your code self-explanatory.\n",
    "- **Docstrings**: Add comments explaining what your function does and how to use it.\n",
    "- **Keep it Focused**: Each function should ideally perform a single, well-defined task.\n",
    "- **Test Thoroughly**: Ensure your functions work as expected with various inputs.\n"
   ]
  },
  {
   "cell_type": "markdown",
   "metadata": {},
   "source": [
    "### `Generators`\n"
   ]
  },
  {
   "cell_type": "markdown",
   "metadata": {},
   "source": [
    "Generators in Python are a convenient way to create iterators. They are a special kind of iterator that is defined using a function or a generator expression. Generators use the yield keyword to return data one item at a time, allowing you to iterate over a sequence of values without storing them all in memory at once. This makes generators memory efficient and particularly useful for dealing with large datasets or infinite sequences.\n",
    "\n",
    "**How Generators Work?**\n",
    "\n",
    "- **Defining a Generator Function:** You define a generator function using the def keyword, just like a regular function, but instead of using return, you use yield to yield the next value in the sequence.\n",
    "- **Iterating Over a Generator:** You can iterate over the generator using a for loop or by calling the next() function on the generator object.\n"
   ]
  },
  {
   "cell_type": "code",
   "execution_count": null,
   "metadata": {
    "vscode": {
     "languageId": "plaintext"
    }
   },
   "outputs": [],
   "source": [
    "def countdown(n):\n",
    "    while n > 0:\n",
    "    yield n\n",
    "    n -= 1\n",
    "\n",
    "for i in countdown(5):\n",
    "    print(i)"
   ]
  },
  {
   "cell_type": "markdown",
   "metadata": {},
   "source": [
    "### `Lambda Functions`: Python's Compact Code Ninjas\n"
   ]
  },
  {
   "cell_type": "markdown",
   "metadata": {},
   "source": [
    "In Python, lambda functions, also known as anonymous functions, are small, one-line functions without a name. They are typically used for simple operations or when you need a quick function without the overhead of a full function definition. Lambda functions are powerful yet concise, making your code more readable and compact.\n",
    "\n",
    "**Note:** While lambda functions are powerful and concise, it's important to use them judiciously. For complex operations or functions that require more than a single expression, it's often better to use a regular function definition for improved code readability and maintainability.\n"
   ]
  },
  {
   "cell_type": "code",
   "execution_count": null,
   "metadata": {
    "vscode": {
     "languageId": "plaintext"
    }
   },
   "outputs": [],
   "source": [
    "square = lambda x: x ** 2\n",
    "result = square(5)\n",
    "print(result)  # Output: 25"
   ]
  },
  {
   "cell_type": "markdown",
   "metadata": {},
   "source": [
    "**Explanation:**:\n",
    "\n",
    "- The `lambda` keyword is used to define the anonymous function: `lambda x: x ** 2`.\n",
    "- In this example, the lambda function takes one argument `x` and returns its square `x ** 2`.\n",
    "- The lambda function is assigned to the variable `square`.\n",
    "- When `square(5)` is called, the lambda function is executed with `x=5`, and the result `25` is stored in the `result` variable.\n"
   ]
  },
  {
   "cell_type": "markdown",
   "metadata": {},
   "source": [
    "**Interactive Exercise:**\n",
    "\n",
    "1. Define a lambda function that takes two arguments and returns their sum.\n",
    "2. Call the lambda function with different sets of arguments and print the results.\n"
   ]
  },
  {
   "cell_type": "code",
   "execution_count": null,
   "metadata": {
    "vscode": {
     "languageId": "plaintext"
    }
   },
   "outputs": [],
   "source": [
    "# Write code below"
   ]
  },
  {
   "cell_type": "markdown",
   "metadata": {},
   "source": [
    "#### Lambda Functions with Built-in Functions\n"
   ]
  },
  {
   "cell_type": "markdown",
   "metadata": {},
   "source": [
    "Lambda functions are often used in conjunction with built-in functions like `map()`, `filter()`, and `reduce()`. These functions take a function as an argument and apply it to a sequence of elements.\n"
   ]
  },
  {
   "cell_type": "code",
   "execution_count": null,
   "metadata": {
    "vscode": {
     "languageId": "plaintext"
    }
   },
   "outputs": [],
   "source": [
    "numbers = [1, 2, 3, 4, 5]\n",
    "\n",
    "# Using map() with a lambda function\n",
    "squared_numbers = list(map(lambda x: x ** 2, numbers))\n",
    "print(squared_numbers)  # Output: [1, 4, 9, 16, 25]\n",
    "\n",
    "# Using filter() with a lambda function\n",
    "even_numbers = list(filter(lambda x: x % 2 == 0, numbers))\n",
    "print(even_numbers)  # Output: [2, 4]"
   ]
  },
  {
   "cell_type": "markdown",
   "metadata": {},
   "source": [
    "**Explanation:**:\n",
    "\n",
    "- The `map()` function applies the lambda function `lambda x: x ** 2` to each element in the `numbers` list, creating a new list with the squared values.\n",
    "- The `filter()` function applies the lambda function `lambda x: x % 2 == 0` to each element in the `numbers` list, creating a new list with only the even numbers.\n"
   ]
  },
  {
   "cell_type": "markdown",
   "metadata": {},
   "source": [
    "**Interactive Exercise:**\n",
    "\n",
    "1. Create a list of strings representing names.\n",
    "2. Use the `map()` function with a lambda function to convert all names to uppercase.\n",
    "3. Use the `filter()` function with a lambda function to create a new list containing only names that start with 'A'.\n"
   ]
  },
  {
   "cell_type": "code",
   "execution_count": null,
   "metadata": {
    "vscode": {
     "languageId": "plaintext"
    }
   },
   "outputs": [],
   "source": [
    "# Write code below"
   ]
  },
  {
   "cell_type": "markdown",
   "metadata": {},
   "source": [
    "#### Lambda Functions in List Comprehensions\n"
   ]
  },
  {
   "cell_type": "markdown",
   "metadata": {},
   "source": [
    "Lambda functions can also be used in list comprehensions for a more compact and readable syntax.\n"
   ]
  },
  {
   "cell_type": "code",
   "execution_count": null,
   "metadata": {
    "vscode": {
     "languageId": "plaintext"
    }
   },
   "outputs": [],
   "source": [
    "numbers = [1, 2, 3, 4, 5]\n",
    "\n",
    "# List comprehension with a lambda function\n",
    "squared_numbers = [lambda x: x ** 2 for x in numbers]\n",
    "print(squared_numbers)  # Output: [<function <lambda> at 0x7f9b6c3e8f28>, <function <lambda> at 0x7f9b6c3e8ee0>, ...]\n",
    "\n",
    "# Evaluating the lambda functions\n",
    "result = [func(2) for func in squared_numbers]\n",
    "print(result)  # Output: [4, 4, 4, 4, 4]"
   ]
  },
  {
   "cell_type": "markdown",
   "metadata": {},
   "source": [
    "**Explanation:**:\n",
    "\n",
    "- The list comprehension `[lambda x: x ** 2 for x in numbers]` creates a list of lambda functions, each taking one argument `x` and returning its square `x ** 2`.\n",
    "- To evaluate the lambda functions, another list comprehension `[func(2) for func in squared_numbers]` is used, where each lambda function `func` is called with the argument `2`.\n"
   ]
  },
  {
   "cell_type": "markdown",
   "metadata": {},
   "source": [
    "**Interactive Exercise:**\n",
    "\n",
    "1. Create a list of numbers.\n",
    "2. Use a list comprehension with a lambda function to create a new list containing the cubes of the even numbers in the original list.\n"
   ]
  },
  {
   "cell_type": "code",
   "execution_count": null,
   "metadata": {
    "vscode": {
     "languageId": "plaintext"
    }
   },
   "outputs": [],
   "source": [
    "# Write code below"
   ]
  }
 ],
 "metadata": {
  "kernelspec": {
   "display_name": "Python 3 (ipykernel)",
   "language": "python",
   "name": "python3"
  },
  "language_info": {
   "codemirror_mode": {
    "name": "ipython",
    "version": 3
   },
   "file_extension": ".py",
   "mimetype": "text/x-python",
   "name": "python",
   "nbconvert_exporter": "python",
   "pygments_lexer": "ipython3",
   "version": "3.8.10"
  }
 },
 "nbformat": 4,
 "nbformat_minor": 4
}
