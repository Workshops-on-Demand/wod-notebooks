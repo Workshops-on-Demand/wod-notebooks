{
 "cells": [
  {
   "cell_type": "markdown",
   "metadata": {
    "editable": true,
    "slideshow": {
     "slide_type": ""
    },
    "tags": []
   },
   "source": [
    "{{ BRANDINGLOGO }}  ![Gologo](Pictures/Go.pn\n",
    "\n",
    "# Thank you for visiting the Hack Shack\n",
    "\n",
    "Powered by [{{ BRANDING }} Community Team](hpedev.io)\n",
    "\n",
    "{% if MODEWS == 'CHLG' %}\n",
    "# Thank you for participating to our software challenge\n",
    "{% endif %}\n",
    "\n",
    "\n",
    "# Conclusion\n",
    "\n",
    "In this workshop, you have learned about the Go language Basics. You discovered collections, concurrency, you managed to handle errors, as well as dependencies and testing. We did not cover everything about Go. There are plenty of opportunities on the web to do this.\n",
    "\n",
    "Congratulations!\n",
    "\n",
    "\n",
    "{% if MODEWS == 'CHLG' %}\n",
    "# The challenge is not over yet\n",
    "In order to complete the challenge, you must take the [quiz]({{ SURVEYCHALURL }}). Only then will you get a chance to become a winner! Please note that you must be present at the Hack Shack Celebration party to win. Refer to the Terms and Conditions for details.\n",
    "{% endif %}\n",
    "# Final steps\n",
    "Please take a moment to fill out our [survey]({{ SURVEYURL }}).\n",
    "\n",
    "And make sure you use `File -> Log Out menu` to terminate your workshop session.\n",
    "\n",
    "# Thank you\n",
    "![ThankYou](Pictures/grommet.PNG)"
   ]
  },
  {
   "cell_type": "code",
   "execution_count": null,
   "metadata": {},
   "outputs": [],
   "source": []
  }
 ],
 "metadata": {
  "kernelspec": {
   "display_name": "Bash",
   "language": "bash",
   "name": "bash"
  },
  "language_info": {
   "codemirror_mode": "shell",
   "file_extension": ".sh",
   "mimetype": "text/x-sh",
   "name": "bash"
  }
 },
 "nbformat": 4,
 "nbformat_minor": 4
}
