{
 "cells": [
  {
   "cell_type": "markdown",
   "id": "1f7146e3-a471-4f8e-a922-80e4b21d6541",
   "metadata": {},
   "source": [
    "{{ BRANDINGLOGO }}  ![Gologo](Pictures/Go.png)"
   ]
  },
  {
   "cell_type": "markdown",
   "id": "2273d6ef-8de2-4a0d-9ea9-6dd2b6942f71",
   "metadata": {},
   "source": [
    "# Testing\n",
    "\n"
   ]
  },
  {
   "cell_type": "code",
   "execution_count": null,
   "id": "d83fce39-8b77-4b71-8edf-29e4d8513b9a",
   "metadata": {},
   "outputs": [],
   "source": []
  },
  {
   "cell_type": "code",
   "execution_count": null,
   "id": "c14da80e-7ac4-4c66-85d4-3e687523bff6",
   "metadata": {},
   "outputs": [],
   "source": []
  },
  {
   "cell_type": "code",
   "execution_count": null,
   "id": "ad9b423a-c692-45d7-95b2-12f42adde4e3",
   "metadata": {},
   "outputs": [],
   "source": []
  },
  {
   "cell_type": "code",
   "execution_count": null,
   "id": "c70a25a2-188c-4ea9-98d7-7e2b6d282b3a",
   "metadata": {},
   "outputs": [],
   "source": []
  },
  {
   "cell_type": "code",
   "execution_count": null,
   "id": "69d56beb-c813-4115-879a-7875fe1d8165",
   "metadata": {},
   "outputs": [],
   "source": []
  }
 ],
 "metadata": {
  "kernelspec": {
   "display_name": "Go",
   "language": "go",
   "name": "gophernotes"
  },
  "language_info": {
   "codemirror_mode": "",
   "file_extension": ".go",
   "mimetype": "",
   "name": "go",
   "nbconvert_exporter": "",
   "pygments_lexer": "",
   "version": "go1.20.4"
  }
 },
 "nbformat": 4,
 "nbformat_minor": 5
}
