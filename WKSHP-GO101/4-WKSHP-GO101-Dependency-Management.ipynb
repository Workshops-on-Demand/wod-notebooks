{
 "cells": [
  {
   "cell_type": "markdown",
   "id": "f5034e27-6b38-4f7e-a00c-ba11077ef37a",
   "metadata": {},
   "source": [
    "{{ BRANDINGLOGO }}  ![Gologo](Pictures/Go.png)"
   ]
  },
  {
   "cell_type": "markdown",
   "id": "cea0d2fc-e0d0-415f-82af-af91696ac75f",
   "metadata": {},
   "source": [
    "# Dependency Management\n",
    "\n",
    "When your code uses external packages, those packages (distributed as modules) become dependencies. Over time, you may need to upgrade them or replace them. Go provides dependency management tools that help you keep your Go applications secure as you incorporate external dependencies.\n",
    "\n",
    "This topic describes how to perform tasks to manage dependencies you take on in your code. You can perform most of these with Go tools. This topic also describes how to perform a few other dependency-related tasks you might find useful.\n",
    "In this section, we will cover the following:\n",
    "- What are Go Modules?\n",
    "- Initializing a module\n",
    "- Adding dependencies\n",
    "- Upgrading dependencies\n",
    "- Using vendoring\n",
    "- Handling multiple modules\n",
    "- Common pitfalls and best practices\n",
    "- **Security Considerations**"
   ]
  },
  {
   "cell_type": "markdown",
   "id": "1b042fad-5c6f-4bc4-937d-8f40fe54a331",
   "metadata": {},
   "source": [
    "## Go Modules\n",
    "\n",
    "Go modules are the standard way of managing dependencies in Go. They allow you to specify the versions of libraries that your project depends on. A module is defined by a `go.mod` file in the root of your project.\n",
    "\n",
    "Each Go project that uses Go modules has its own `go.mod` file, which records the modules' dependencies."
   ]
  },
  {
   "cell_type": "markdown",
   "id": "02434648",
   "metadata": {},
   "source": [
    "#### Use this command to initialize a new Go module"
   ]
  },
  {
   "cell_type": "code",
   "execution_count": null,
   "id": "56e273a0",
   "metadata": {},
   "outputs": [],
   "source": [
    "$ go mod init myproject"
   ]
  },
  {
   "cell_type": "markdown",
   "id": "1678b5f4",
   "metadata": {},
   "source": [
    "This creates a go.mod file with the following content\n",
    "\n",
    "module myproject\n",
    "\n",
    "go 1.23.3"
   ]
  },
  {
   "cell_type": "markdown",
   "id": "af469b2a-0c1c-491b-818a-77dc9f797c37",
   "metadata": {},
   "source": [
    "The `go.mod` file contains the module name and the Go version used. You can add, remove, and upgrade dependencies using Go commands."
   ]
  },
  {
   "cell_type": "markdown",
   "id": "9ea4334f-0a5d-4b28-a2a9-61e12aa9e0fd",
   "metadata": {},
   "source": [
    "## Adding Dependencies\n",
    "\n",
    "To add a dependency to your project, simply import it in your code and run `go mod tidy`. Go will automatically download the package and add it to the `go.mod` and `go.sum` files.\n"
   ]
  },
  {
   "cell_type": "markdown",
   "id": "c36135ce",
   "metadata": {},
   "source": [
    "The main.go file has uuid package imported. When you will run the below command, go.mod and go.sum file will get updated."
   ]
  },
  {
   "cell_type": "code",
   "execution_count": null,
   "id": "39a46acd",
   "metadata": {},
   "outputs": [],
   "source": [
    "$ go mod tidy"
   ]
  },
  {
   "cell_type": "markdown",
   "id": "e8107e4d",
   "metadata": {},
   "source": [
    "## Upgrading Dependencies\n",
    "\n",
    "To upgrade an existing dependency to a newer version, use the `go get` command followed by the desired version."
   ]
  },
  {
   "cell_type": "markdown",
   "id": "91879b57",
   "metadata": {},
   "source": [
    "Use this command to update the package to a specific version:"
   ]
  },
  {
   "cell_type": "code",
   "execution_count": null,
   "id": "88691cd8",
   "metadata": {},
   "outputs": [],
   "source": [
    "$ go get github.com/google/uuid@v1.3.0"
   ]
  },
  {
   "cell_type": "markdown",
   "id": "441915f7",
   "metadata": {},
   "source": [
    "Use this command to update the package to the latest version:"
   ]
  },
  {
   "cell_type": "code",
   "execution_count": null,
   "id": "ccc09fb7",
   "metadata": {},
   "outputs": [],
   "source": [
    "$ go get github.com/google/uuid@latest"
   ]
  },
  {
   "cell_type": "markdown",
   "id": "de7e7aaa",
   "metadata": {},
   "source": [
    "## Vendoring Dependencies\n",
    "\n",
    "Vendoring is the process of copying external dependencies into the project directory. This ensures that the correct version of a dependency is always available, even if it is removed from its source.\n",
    "\n",
    "To vendor dependencies, run the `go mod vendor` command. It will copy all dependencies to the `vendor/` directory."
   ]
  },
  {
   "cell_type": "markdown",
   "id": "18b7d3d4",
   "metadata": {},
   "source": [
    "Use this command to vendor dependencies:"
   ]
  },
  {
   "cell_type": "code",
   "execution_count": null,
   "id": "dbdc10ad",
   "metadata": {},
   "outputs": [],
   "source": [
    "$ go mod vendor"
   ]
  },
  {
   "cell_type": "markdown",
   "id": "b23fd994",
   "metadata": {},
   "source": [
    "## Handling Multiple Modules\n",
    "\n",
    "Go modules make it easy to manage projects with multiple modules. You can link them locally or fetch them from a repository.\n",
    "\n",
    "To use a local module, you can replace the import path with a local directory."
   ]
  },
  {
   "cell_type": "markdown",
   "id": "6715887d",
   "metadata": {},
   "source": [
    "#### Use this command to replace a dependency with a local module: \n",
    "\n",
    "replace example.com/mydep => ../mydep"
   ]
  },
  {
   "cell_type": "markdown",
   "id": "cb12008f",
   "metadata": {},
   "source": [
    "## Common Pitfalls and Best Practices\n",
    "\n",
    "### 1. Forgetting to Run `go mod tidy`\n",
    "Always run `go mod tidy` to ensure that your `go.mod` file reflects your current dependencies.\n",
    "\n",
    "### 2. Overcommitting `go.sum`\n",
    "Avoid unnecessary entries in `go.sum` by regularly cleaning your dependencies.\n",
    "\n",
    "### 3. Using Old Versions of Go\n",
    "Make sure you're using an updated version of Go (preferably Go 1.18 or later) to benefit from all the features of modules."
   ]
  },
  {
   "cell_type": "markdown",
   "id": "0a6606d6",
   "metadata": {},
   "source": [
    "## Security Considerations\n",
    "\n",
    "Regularly updating your dependencies is crucial to keeping your Go applications secure. Many vulnerabilities can be introduced by outdated third-party libraries, and these are often patched in newer versions. Using `go get` to update your dependencies ensures you're benefiting from the latest security fixes.\n",
    "\n",
    "- **Run `go get` Regularly**: Periodically running `go get -u` ensures that you pull in the latest stable updates for your dependencies, minimizing security risks.\n",
    "- **Monitor Vulnerabilities**: Keep track of security advisories related to your dependencies. Tools like [GoSec](https://github.com/securego/gosec) can help you analyze your code and its dependencies for security issues.\n",
    "- **Locking Dependencies**: Always specify exact versions for critical dependencies in the `go.mod` file to prevent accidental upgrades that could introduce breaking changes or vulnerabilities."
   ]
  },
  {
   "cell_type": "markdown",
   "id": "03c0da06",
   "metadata": {},
   "source": [
    "<br><br>\n",
    "\n",
    "## <i class=\"fas fa-2x fa-map-marker-alt\" style=\"color:#BAE1FF;\"></i>&nbsp;&nbsp;Next Steps\n",
    "\n",
    "# Lab 5 : Testing\n",
    "\n",
    "<h2>Next LAB&nbsp;&nbsp;&nbsp;&nbsp;<a href=\"5-WKSHP-GO101-Testing.ipynb\" target=\"New\" title=\"Next LAB: Go Testing\"><i class=\"fas fa-chevron-circle-right\" style=\"color:#BAE1FF;\"></i></a></h2>\n",
    "\n",
    "</br>\n",
    " <a href=\"3-WKSHP-GO101-Defer-Panic-Recover.ipynb\" target=\"New\" title=\"Back: Defer, Panic and Recover\"><button type=\"submit\"  class=\"btn btn-lg btn-block\" style=\"background-color:#BAE1FF;color:#fff;position:relative;width:10%; height: 30px;float: left;\"><b>Back</b></button></a>\n",
    " <a href=\"5-WKSHP-GO101-Testing.ipynb\" target=\"New\" title=\"Next: Go Testing\"><button type=\"submit\" class=\"btn btn-lg btn-block\" style=\"background-color:#BAE1FF;color:#fff;position:relative;width:10%;height:30px; float:right\"><b>Next</b></button></a>"
   ]
  }
 ],
 "metadata": {
  "kernelspec": {
   "display_name": "Go",
   "language": "go",
   "name": "gophernotes"
  },
  "language_info": {
   "codemirror_mode": "",
   "file_extension": ".go",
   "mimetype": "",
   "name": "go",
   "nbconvert_exporter": "",
   "pygments_lexer": "",
   "version": "go1.20.4"
  }
 },
 "nbformat": 4,
 "nbformat_minor": 5
}
