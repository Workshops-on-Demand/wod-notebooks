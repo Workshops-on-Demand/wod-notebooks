{
 "cells": [
  {
   "cell_type": "markdown",
   "id": "f5034e27-6b38-4f7e-a00c-ba11077ef37a",
   "metadata": {},
   "source": [
    "{{ BRANDINGLOGO }}  ![Gologo](Pictures/Go.png)"
   ]
  },
  {
   "cell_type": "markdown",
   "id": "cea0d2fc-e0d0-415f-82af-af91696ac75f",
   "metadata": {},
   "source": [
    "# Dependency Management\n",
    "\n",
    "When your code uses external packages, those packages (distributed as modules) become dependencies. Over time, you may need to upgrade them or replace them. Go provides dependency management tools that help you keep your Go applications secure as you incorporate external dependencies.\n",
    "\n",
    "This topic describes how to perform tasks to manage dependencies you take on in your code. You can perform most of these with Go tools. This topic also describes how to perform a few other dependency-related tasks you might find useful."
   ]
  },
  {
   "cell_type": "code",
   "execution_count": null,
   "id": "1b042fad-5c6f-4bc4-937d-8f40fe54a331",
   "metadata": {},
   "outputs": [],
   "source": []
  },
  {
   "cell_type": "code",
   "execution_count": null,
   "id": "62847be6-eaa4-4b11-817a-96c4d748a458",
   "metadata": {},
   "outputs": [],
   "source": []
  },
  {
   "cell_type": "code",
   "execution_count": null,
   "id": "af469b2a-0c1c-491b-818a-77dc9f797c37",
   "metadata": {},
   "outputs": [],
   "source": []
  },
  {
   "cell_type": "code",
   "execution_count": null,
   "id": "9ea4334f-0a5d-4b28-a2a9-61e12aa9e0fd",
   "metadata": {},
   "outputs": [],
   "source": []
  }
 ],
 "metadata": {
  "kernelspec": {
   "display_name": "Go",
   "language": "go",
   "name": "gophernotes"
  },
  "language_info": {
   "codemirror_mode": "",
   "file_extension": ".go",
   "mimetype": "",
   "name": "go",
   "nbconvert_exporter": "",
   "pygments_lexer": "",
   "version": "go1.20.4"
  }
 },
 "nbformat": 4,
 "nbformat_minor": 5
}
