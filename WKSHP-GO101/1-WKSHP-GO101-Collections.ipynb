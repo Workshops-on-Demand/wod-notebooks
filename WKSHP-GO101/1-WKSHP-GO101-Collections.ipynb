{
 "cells": [
  {
   "cell_type": "code",
   "execution_count": null,
   "id": "72c78c6c-4ab1-4eb9-8870-95ef1e03ae35",
   "metadata": {},
   "outputs": [],
   "source": [
    "{{ BRANDINGLOGO }}  ![Gologo](Pictures/Go.png)"
   ]
  },
  {
   "cell_type": "markdown",
   "id": "a566ea89-e08b-4f23-99c2-faaa5f225ee7",
   "metadata": {},
   "source": [
    "## What is Go? \n",
    "\n",
    "Go (or Golang) is a programming language designed for building large-scale, high-performance software systems. It was created at Google in 2007 by Robert Griesemer, Rob Pike, and Ken Thompson, with the goal of providing a language that would be easy to learn, efficient, and suitable for modern computer hardware.\n",
    "\n",
    "The motivation behind the creation of Go was to provide a modern programming language that would be easy to learn, efficient, and suitable for modern computer hardware. The team also wanted to address some of the shortcomings of existing programming languages, such as slow compilation times and poor support for concurrency.\n",
    "\n",
    "Go was influenced by several existing programming languages, including C, C++, Java, and Python. The team aimed to combine the best features of these languages and create a new language that would be ideal for modern software development.\n",
    "\n",
    "Go was developed as an open-source project from the beginning, and it was designed to be a collaborative effort between Google and the wider programming community. The language has since gained popularity and is used by many companies and developers for a variety of applications, including web development, system programming, and network programming.\n",
    "\n",
    "Go is expressive, concise, clean, and efficient. Its concurrency mechanisms make it easy to write programs that get the most out of multicore and networked machines, while its novel type system enables flexible and modular program construction. Go compiles quickly to machine code yet has the convenience of garbage collection and the power of run-time reflection. It's a fast, statically typed, compiled language that feels like a dynamically typed, interpreted language."
   ]
  },
  {
   "cell_type": "markdown",
   "id": "585c71f0-5464-4b85-ab68-b2bc8bd1e4a5",
   "metadata": {},
   "source": [
    "## Why is it important?\n",
    "\n",
    "Go, also known as Golang, is an open-source programming language developed by Google in 2009. Here are some reasons why Go is important:\n",
    "\n",
    "* Simplicity and Productivity: Go is designed to be simple and easy to understand, which makes it an ideal language for beginners. It has a concise syntax, which makes it easy to read and write code quickly. This simplicity allows developers to be more productive and efficient in their coding.\n",
    "* Concurrency: One of the most important features of Go is its built-in concurrency support, which allows developers to write code that runs concurrently with very little effort. Go’s concurrency model makes it easy to write programs that are fast and scalable.\n",
    "* Performance: Go is a compiled language, which means that code is compiled into machine code that runs directly on the hardware. This makes Go programs extremely fast and efficient. Go’s garbage collection system is also designed to be fast and efficient, which means that it can handle large-scale applications with ease.\n",
    "* Open Source: Go is an open-source programming language, which means that it is freely available and can be used by anyone. This makes it an attractive language for developers who want to build open-source software or contribute to existing projects.\n",
    "* Community: Go has a large and active community of developers who contribute to its development and provide support to other developers. This community has developed a rich ecosystem of tools and libraries that make it easy to build complex applications with Go.\n",
    "* Cloud-native: Go is designed to work well in modern cloud computing environments. Its simplicity, concurrency, and performance make it well-suited for building scalable, distributed systems.\n",
    "  \n",
    "Overall, Go is an important language for modern software development due to its simplicity, concurrency support, performance, open-source nature, community, and cloud-native capabilities. It is particularly well-suited for building high-performance, scalable, and distributed systems."
   ]
  },
  {
   "cell_type": "markdown",
   "id": "a743764f-fd3e-492f-8fdc-6905c2956ac6",
   "metadata": {},
   "source": [
    "## What is it used for?\n",
    "\n",
    "Go is commonly used for developing web applications, network services, and system-level software. Some of the reasons why Go is popular for these kinds of applications are:\n",
    "\n",
    "Concurrency: Go has built-in support for concurrency, making it easy to write concurrent programs and take advantage of modern multi-core processors.\n",
    "Performance: Go is a compiled language that generates fast and efficient machine code, which makes it well-suited for building high-performance software.\n",
    "Simplicity: Go has a simple and easy-to-learn syntax, which makes it ideal for building large-scale projects that require collaboration among multiple developers.\n",
    "Scalability: Go is designed to be scalable, meaning it can handle large amounts of traffic and data without sacrificing performance.\n",
    "Some examples of popular software built with Go include Docker, Kubernetes, and the Prometheus monitoring system."
   ]
  },
  {
   "cell_type": "markdown",
   "id": "9bdb2b32-b5c9-4c9e-af5c-d7fa79a1a382",
   "metadata": {},
   "source": [
    "# Collections\n",
    "\n",
    "*TODO: Review https://www.manning.com/books/100-go-mistakes-and-how-to-avoid-them for some bonus content.*\n",
    "\n",
    "Collections in Go are used to grouping value of the same type together. Values within a collection can iterated over, or retrieved individually. Within Go, there are 3 built-in collections:\n",
    "\n",
    "- Arrays\n",
    "- Slices\n",
    "- Maps\n",
    "\n",
    "This workshop discusses each of these, providing executable examples and best practices for usage. However, the examples do not use the standard Go compiler and need wrapping in functions if being copied to outside of this workshop."
   ]
  },
  {
   "cell_type": "markdown",
   "id": "aaac6a0c-205c-4779-a882-8d3f56e766a6",
   "metadata": {
    "editable": true,
    "slideshow": {
     "slide_type": ""
    },
    "tags": []
   },
   "source": [
    "## Arrays\n",
    "\n",
    "Arrays are a ordered collection of values with a fixed length."
   ]
  },
  {
   "cell_type": "code",
   "execution_count": null,
   "id": "8115bf42-5baa-4d2c-acc1-55a3c09566a2",
   "metadata": {
    "editable": true,
    "scrolled": true,
    "slideshow": {
     "slide_type": ""
    },
    "tags": []
   },
   "outputs": [],
   "source": [
    "import \"fmt\"\n",
    "\n",
    "{\n",
    "    // An integer array with each value set with the declaration.\n",
    "    ints := [5]int{1, 2, 3, 4, 5}\n",
    "    fmt.Println(ints)\n",
    "    \n",
    "    // A string array with each value set after declaration.\n",
    "    var strings [2]string\n",
    "    strings[0] = \"Hello\"\n",
    "    strings[1] = \"World\"\n",
    "    fmt.Println(strings)\n",
    "    \n",
    "    // An integer array of with no values populated.\n",
    "    // All values will be the empty value for that type.\n",
    "    // For integers, that empty value is 0.\n",
    "    var empty [3]int\n",
    "    fmt.Println(empty)\n",
    "}"
   ]
  },
  {
   "cell_type": "markdown",
   "id": "f33591e6-f7a7-4994-8f11-1b629cf85fc2",
   "metadata": {
    "editable": true,
    "slideshow": {
     "slide_type": ""
    },
    "tags": []
   },
   "source": [
    "Individual values can be accessed using their index. As with many C-family languages, the first index is 0."
   ]
  },
  {
   "cell_type": "code",
   "execution_count": null,
   "id": "33e105eb-bb40-4e32-9694-0eb955a4283b",
   "metadata": {
    "editable": true,
    "slideshow": {
     "slide_type": ""
    },
    "tags": []
   },
   "outputs": [],
   "source": [
    "import \"fmt\"\n",
    "\n",
    "{\n",
    "    ints := [5]int{1, 2, 3, 4, 5}\n",
    "\n",
    "    fmt.Println(ints[0])\n",
    "    fmt.Println(ints[2])\n",
    "    fmt.Println(ints[4])\n",
    "}"
   ]
  },
  {
   "cell_type": "markdown",
   "id": "314808d9-9cff-4483-96e2-4c6df5737f34",
   "metadata": {
    "editable": true,
    "slideshow": {
     "slide_type": ""
    },
    "tags": []
   },
   "source": [
    "Arrays can be iterated over using the `range` keyword. This produces the index of the value and the value itself as a pair. As with many C-family languages, the first index is 0."
   ]
  },
  {
   "cell_type": "code",
   "execution_count": null,
   "id": "a200fa97-f6ef-4131-95c3-bb11d111266f",
   "metadata": {
    "editable": true,
    "slideshow": {
     "slide_type": ""
    },
    "tags": []
   },
   "outputs": [],
   "source": [
    "import \"fmt\"\n",
    "\n",
    "ints := [5]int{1, 2, 3, 4, 5}\n",
    "\n",
    "for i, value := range ints {\n",
    "    fmt.Printf(\"index: %d, value %d\\n\", i, value)\n",
    "}"
   ]
  },
  {
   "cell_type": "markdown",
   "id": "ac89ae6e-09e1-4342-9fcf-dd892ec7b6e1",
   "metadata": {
    "editable": true,
    "slideshow": {
     "slide_type": ""
    },
    "tags": []
   },
   "source": [
    "The fixed length constraint of arrays may initially seem limiting. However, arrays are seldom used directly. Instead, they are used as the backing for the much more useful slice type."
   ]
  },
  {
   "cell_type": "markdown",
   "id": "a4f5b226-d79b-4257-aa56-77d641769696",
   "metadata": {
    "editable": true,
    "slideshow": {
     "slide_type": ""
    },
    "tags": []
   },
   "source": [
    "## Slices\n",
    "\n",
    "Slices are views on top of an array. This means the memory used by the slice belongs to the backing array. This view could be the whole array, or just a part of the array."
   ]
  },
  {
   "cell_type": "markdown",
   "id": "a528f012-6c7c-4b41-95fc-a36c7d2020bb",
   "metadata": {},
   "source": [
    "### Creating a slice\n",
    "\n",
    "Slices can be created without consideration for the backing array. The syntax is almost the same as when creating an array, but we omit the size and let the Go runtime figure out it out from how many values there are."
   ]
  },
  {
   "cell_type": "code",
   "execution_count": null,
   "id": "86c3df0b-d456-4a35-8b70-b1df5e145acb",
   "metadata": {},
   "outputs": [],
   "source": [
    "import \"fmt\"\n",
    "\n",
    "{\n",
    "    ints := []int{1, 2, 3, 4, 5}\n",
    "    fmt.Println(ints)\n",
    "\n",
    "    strings := []string{\"Hello\", \"World\"}\n",
    "    fmt.Println(strings)\n",
    "}"
   ]
  },
  {
   "cell_type": "markdown",
   "id": "0ef1598e-05c3-42da-bda5-da46d0c22410",
   "metadata": {},
   "source": [
    "If we don't know the exact values ahead of time but we do know how many there will be, we can use the `make` built-in function. When using `make` we set the length and capacity of the slice, which we can later inspect with the `len` and `cap` built-in functions. The capacity can be omitted, in which case it defaults to the length. By defining the capacity up-front, we can ensure only one allocation is performed, instead of multiple as the slice is populated."
   ]
  },
  {
   "cell_type": "code",
   "execution_count": null,
   "id": "6c97b403-6acf-4af1-b08f-58691994c567",
   "metadata": {},
   "outputs": [],
   "source": [
    "import \"fmt\"\n",
    "\n",
    "{\n",
    "    a := make([]int, 10 /*length*/)\n",
    "    fmt.Println(len(a), cap(a))\n",
    "\n",
    "    b := make([]string, 5 /*length*/, 10 /*capacity*/)\n",
    "    fmt.Println(len(b), cap(b))\n",
    "}"
   ]
  },
  {
   "cell_type": "markdown",
   "id": "e014bb00-a463-4d76-82f3-c1f2c2b92130",
   "metadata": {},
   "source": [
    "The empty value of a slice (`nil`) is also completely valid. While using `nil` for pointers can sometimes be the source of bugs, `nil` slices work exactly the same as their non-`nil` counterparts. Is it even considered more idiomatic to use `nil` when the number of values the slice will contain is unknown, such as when reading values from a database query."
   ]
  },
  {
   "cell_type": "code",
   "execution_count": null,
   "id": "95a2bdca-3d6b-4839-8cbf-ecf23a4e1d1f",
   "metadata": {},
   "outputs": [],
   "source": [
    "import \"fmt\"\n",
    "\n",
    "{\n",
    "    // A non-nil slice can be used...\n",
    "    a := []string{}\n",
    "    fmt.Println(len(a), cap(a))\n",
    "\n",
    "    // But a nil slice works exactly the same.\n",
    "    var b []string\n",
    "    fmt.Println(len(b), cap(b))\n",
    "}"
   ]
  },
  {
   "cell_type": "markdown",
   "id": "c055cabb-0421-43a2-bddf-9d9dcd521453",
   "metadata": {},
   "source": [
    "### Reading from a slice\n",
    "\n",
    "Values in slices can be accessed individually or iteratively, just like arrays.\n",
    "\n",
    "*TODO: is there more to say here? Move this to after appending?*"
   ]
  },
  {
   "cell_type": "code",
   "execution_count": null,
   "id": "f711fdd8-b2a8-434e-b7cf-39a51cb222d2",
   "metadata": {},
   "outputs": [],
   "source": [
    "import \"fmt\"\n",
    "\n",
    "ints := []int{1, 2, 3, 4, 5}\n",
    "\n",
    "for i, value := range ints {\n",
    "    fmt.Printf(\"index: %d, value %d\\n\", i, value)\n",
    "}"
   ]
  },
  {
   "cell_type": "markdown",
   "id": "5e462afb-09a8-47fe-92a0-67f1bcfd7c92",
   "metadata": {},
   "source": [
    "### Appending to a slice\n",
    "\n",
    "Often the values of a slice are generated or copied from another data source. In this case, we use the `append` built-in function to add new values to the end of the slice."
   ]
  },
  {
   "cell_type": "code",
   "execution_count": null,
   "id": "477b06ac-c577-4047-96e9-18e1266b0b44",
   "metadata": {},
   "outputs": [],
   "source": [
    "import \"fmt\"\n",
    "\n",
    "{\n",
    "    var ints []int\n",
    "\n",
    "    for i := 0; i < 5; i++ {\n",
    "        ints = append(ints, i * 2)\n",
    "    }\n",
    "    \n",
    "    fmt.Println(ints)\n",
    "}"
   ]
  },
  {
   "cell_type": "markdown",
   "id": "559e6c6e-1e97-4c3e-b85a-b044d4728680",
   "metadata": {},
   "source": [
    "We can also append multiple values to a slice in one go."
   ]
  },
  {
   "cell_type": "code",
   "execution_count": null,
   "id": "2f5207b5-915d-425f-a8da-66aa1ad25dd0",
   "metadata": {},
   "outputs": [],
   "source": [
    "import \"fmt\"\n",
    "\n",
    "{\n",
    "    var ints []int\n",
    "    ints = append(ints, 1, 2, 3, 4, 5)\n",
    "    fmt.Println(ints)\n",
    "}"
   ]
  },
  {
   "cell_type": "markdown",
   "id": "3a0f56f3-a72b-42b2-a009-4437685ece2e",
   "metadata": {},
   "source": [
    "If we know the number of values to go into the slice, we should use the `make` built-in introduced above. However, it is important to make sure that the length of the new slice is `0` to avoid empty values being inserted before any values are appended."
   ]
  },
  {
   "cell_type": "code",
   "execution_count": null,
   "id": "3472f2c5-6e38-4566-882e-04b86330f22d",
   "metadata": {},
   "outputs": [],
   "source": [
    "import \"fmt\"\n",
    "\n",
    "{\n",
    "    a := make([]int, 0 /*length*/, 5 /*capacity*/)\n",
    "    b := make([]int, 5 /*length*/, 5 /*capacity*/)\n",
    "\n",
    "    for i := 0; i < 5; i++ {\n",
    "        a = append(a, i * 2)\n",
    "        b = append(b, i * 3)\n",
    "    }\n",
    "\n",
    "    fmt.Println(a)\n",
    "    fmt.Println(b)\n",
    "}"
   ]
  },
  {
   "cell_type": "markdown",
   "id": "5940ed7a-129c-4933-b9ff-0fc54b586342",
   "metadata": {},
   "source": [
    "This pitfall can be avoided by setting each index of the slice. However, `append` should be preferred for both consistency and to avoid others not realising empty values might be present."
   ]
  },
  {
   "cell_type": "code",
   "execution_count": null,
   "id": "5c858f8f-9bc9-4ce3-b227-28dece39472f",
   "metadata": {},
   "outputs": [],
   "source": [
    "import \"fmt\"\n",
    "\n",
    "{\n",
    "    ints := make([]int, 5 /*length*/, 5 /*capacity*/)\n",
    "\n",
    "    for i := 0; i < 5; i++ {\n",
    "        ints[i] = i * 2\n",
    "    }\n",
    "\n",
    "    fmt.Println(ints)\n",
    "}"
   ]
  },
  {
   "cell_type": "markdown",
   "id": "4f5ba20a-8444-462a-8539-410a2b99c58c",
   "metadata": {},
   "source": [
    "When appending to a slice, we don't need to worry about the backing array running out of space. If the array is full, the Go runtime will create a new larger array, copy the old data over and append the new value. Each new array will be twice the size of the old array and can be observed using the `cap` built-in function.\n",
    "\n",
    "This doubling in size is common to many languages and is a balance between avoiding too many reallocations and being wasteful with memory."
   ]
  },
  {
   "cell_type": "code",
   "execution_count": null,
   "id": "6c5cafc3-1d24-47bd-9fdc-1edc0f39f855",
   "metadata": {},
   "outputs": [],
   "source": [
    "import \"fmt\"\n",
    "\n",
    "{\n",
    "    var ints []int\n",
    "    fmt.Println(len(ints), cap(ints))\n",
    "\n",
    "    for i := 0; i < 10; i++ {\n",
    "        ints = append(ints, i)\n",
    "        fmt.Println(len(ints), cap(ints))\n",
    "    }\n",
    "}"
   ]
  },
  {
   "cell_type": "markdown",
   "id": "7f7a241e-779e-42c1-aa4f-ff95ace08610",
   "metadata": {},
   "source": [
    "### Indexing a slice\n",
    "\n",
    "As with arrays, we can lookup a single value by index. However, we can also use indexes to create a slice from another slice, or even from an array. Indexes are specified in the format `start:end`. We can omit either or both, in which case the default to the start or end of the original slice or array."
   ]
  },
  {
   "cell_type": "code",
   "execution_count": null,
   "id": "f8be0252-e5e9-4644-bffa-c2171c1872a0",
   "metadata": {},
   "outputs": [],
   "source": [
    "import \"fmt\"\n",
    "\n",
    "{\n",
    "    a := []int{1, 2, 3, 4, 5}\n",
    "    fmt.Println(a)\n",
    "\n",
    "    b := a[1:4]\n",
    "    fmt.Println(b)\n",
    "\n",
    "    c := a[:3]\n",
    "    fmt.Println(c)\n",
    "\n",
    "    d := a[2:]\n",
    "    fmt.Println(d)\n",
    "}"
   ]
  },
  {
   "cell_type": "markdown",
   "id": "e1e0e5cc-34d1-4b04-8896-2b6a6eb4e999",
   "metadata": {},
   "source": [
    "It is important to remember that this indexing operation is creating a new view, not a new backing array. Any updates to the new slice will be reflected into the original, whether that was intended or not."
   ]
  },
  {
   "cell_type": "code",
   "execution_count": null,
   "id": "8d34cce3-f162-4838-b35c-79cf777760e7",
   "metadata": {},
   "outputs": [],
   "source": [
    "import \"fmt\"\n",
    "\n",
    "{\n",
    "    array := [5]int{1, 2, 3, 4, 5}\n",
    "    a := array[1:]\n",
    "    b := a[2:]\n",
    "    \n",
    "    fmt.Println(array, a, b)\n",
    "    \n",
    "    a[0] = 10\n",
    "    b[0] = 15\n",
    "    \n",
    "    fmt.Println(array, a, b)\n",
    "}"
   ]
  },
  {
   "cell_type": "markdown",
   "id": "6aa00927-7966-4f3b-b723-a75f85581347",
   "metadata": {},
   "source": [
    "*TODO: Discuss 3-index slices*"
   ]
  },
  {
   "cell_type": "markdown",
   "id": "efef2757-2016-4f45-b7cb-fb46a841fa90",
   "metadata": {},
   "source": [
    "### Copying a slice\n",
    "\n",
    "To create a copy of a slice, use the `copy` built-in function. The length of the target of the copy should be at least that of the source. This is a rare case when letting a new slice be filled with empty values is desirable as they are replaced during the copy. If the target length is too short, a panic will occur."
   ]
  },
  {
   "cell_type": "code",
   "execution_count": null,
   "id": "ae008d01-11b0-41d9-baf1-42160ba7ad6c",
   "metadata": {},
   "outputs": [],
   "source": [
    "import \"fmt\"\n",
    "\n",
    "{\n",
    "    a := []int{1, 2, 3, 4, 5}\n",
    "    b := make([]int, len(a))\n",
    "    copy(b, a)\n",
    "\n",
    "    fmt.Println(a, b)\n",
    "\n",
    "    a[0] = 10\n",
    "    b[1] = 15\n",
    "\n",
    "    fmt.Println(a, b)\n",
    "}"
   ]
  },
  {
   "cell_type": "markdown",
   "id": "ce844914-ac7c-4c3b-86eb-e2d616f4c2de",
   "metadata": {
    "editable": true,
    "slideshow": {
     "slide_type": ""
    },
    "tags": []
   },
   "source": [
    "## Maps\n",
    "\n",
    "Maps are made up of key-value pairs, where all keys are the same type and all values are the same type.\n",
    "\n",
    "*TODO: Discuss what types can be map keys.*\n",
    "\n",
    "### Creating a map\n",
    "\n",
    "As with slices, maps can be declared directly or using `make`. Maps do not have a length, so the integer argument to `make` defines the capacity. The length of a map can still be retrieved `len`, but is seldom used in practice. The built-in `cap` function does not work with maps."
   ]
  },
  {
   "cell_type": "code",
   "execution_count": null,
   "id": "681ed483-62bf-40e3-bd04-d3840591f64c",
   "metadata": {
    "editable": true,
    "slideshow": {
     "slide_type": ""
    },
    "tags": []
   },
   "outputs": [],
   "source": [
    "import \"fmt\"\n",
    "\n",
    "{\n",
    "    // Create a map with data already in it.\n",
    "    a := map[string]int{\n",
    "        \"Hello\": 1,\n",
    "        \"World\": 2,\n",
    "    }\n",
    "    fmt.Println(a)\n",
    "    \n",
    "    // Create a map and then add data to it.\n",
    "    b := make(map[string]int, 2 /*capacity*/)\n",
    "    b[\"Hello\"] = 1\n",
    "    b[\"World\"] = 2\n",
    "    fmt.Println(b)\n",
    "}"
   ]
  },
  {
   "cell_type": "markdown",
   "id": "6f454bf8-f8f0-4f76-87b7-6dc2764cee44",
   "metadata": {
    "editable": true,
    "slideshow": {
     "slide_type": ""
    },
    "tags": []
   },
   "source": [
    "Unlike slices, inserting values into a `nil` map will cause panics. However, lookups on specific keys and iteration still works."
   ]
  },
  {
   "cell_type": "code",
   "execution_count": null,
   "id": "aa6a5bb9-0001-418a-93a0-ed4940711cae",
   "metadata": {
    "editable": true,
    "slideshow": {
     "slide_type": ""
    },
    "tags": []
   },
   "outputs": [],
   "source": [
    "var a map[string]int\n",
    "\n",
    "// Will cause the program to panic.\n",
    "// a[\"a\"] = 1\n",
    "\n",
    "fmt.Printf(\"a: %d\", a[\"a\"])\n",
    "\n",
    "// Outputs nothing as the map has no values.\n",
    "for key, value := range a {\n",
    "    fmt.Printf(\"key: %s, value: %d\\n\", key, value)\n",
    "}"
   ]
  },
  {
   "cell_type": "markdown",
   "id": "36744d57-0147-4fb9-b609-73b2ecb8f299",
   "metadata": {
    "editable": true,
    "slideshow": {
     "slide_type": ""
    },
    "tags": []
   },
   "source": [
    "### Reading from a map\n",
    "\n",
    "Values in maps can be retrieved individually by their key."
   ]
  },
  {
   "cell_type": "code",
   "execution_count": null,
   "id": "c099ad0b-f262-4742-a4cb-2ed4fb62018b",
   "metadata": {
    "editable": true,
    "slideshow": {
     "slide_type": ""
    },
    "tags": []
   },
   "outputs": [],
   "source": [
    "import \"fmt\"\n",
    "\n",
    "{\n",
    "    a := map[string]int{\n",
    "        \"a\": 1,\n",
    "        \"b\": 2,\n",
    "        \"c\": 3,\n",
    "    }\n",
    "    \n",
    "    fmt.Println(a[\"a\"], a[\"c\"])\n",
    "}"
   ]
  },
  {
   "cell_type": "markdown",
   "id": "7a5ec40c-56aa-4bd7-843e-8f46ba843d7d",
   "metadata": {
    "editable": true,
    "slideshow": {
     "slide_type": ""
    },
    "tags": []
   },
   "source": [
    "If a key does not exist in a map, the empty value is returned instead. To avoid this resulting in silent errors or legitimate empty values being accidentally discarded, a second variant of a lookup can be used. This returns the value and a boolean confirmed whether the value existed."
   ]
  },
  {
   "cell_type": "code",
   "execution_count": null,
   "id": "f09e7b11-660e-4be7-87ef-9f09df09dfd7",
   "metadata": {
    "editable": true,
    "slideshow": {
     "slide_type": ""
    },
    "tags": []
   },
   "outputs": [],
   "source": [
    "import \"fmt\"\n",
    "\n",
    "a := map[string]int{\n",
    "    \"a\": 1,\n",
    "}\n",
    "\n",
    "fmt.Printf(\"a: %d, z: %d\\n\", a[\"a\"], a[\"z\"])\n",
    "\n",
    "if z, ok := a[\"z\"]; !ok {\n",
    "    fmt.Println(\"z did not exist!\")\n",
    "} else {\n",
    "    fmt.Println(\"z exists!\")\n",
    "}"
   ]
  },
  {
   "cell_type": "markdown",
   "id": "5c235052-eddd-4d78-83fb-4e8ec1f18193",
   "metadata": {
    "editable": true,
    "slideshow": {
     "slide_type": ""
    },
    "tags": []
   },
   "source": [
    "Maps can be iterated over using `range`. However, instead of producing pairs of indexes and values, iterating over a map produces pairs of keys and values.\n",
    "\n",
    "Unlike arrays and slices, maps do not have a consistent order and iterating over a map can sometimes produce random results. This randomness does not happen all the time - it is possible to get the same order a handful of times - but will eventually appear."
   ]
  },
  {
   "cell_type": "code",
   "execution_count": null,
   "id": "d07d9c48-1cc1-4f27-aa25-f39508d7856f",
   "metadata": {
    "editable": true,
    "slideshow": {
     "slide_type": ""
    },
    "tags": []
   },
   "outputs": [],
   "source": [
    "import \"fmt\"\n",
    "\n",
    "a := map[string]int{\n",
    "    \"a\": 1,\n",
    "    \"b\": 2,\n",
    "    \"c\": 3,\n",
    "}\n",
    "\n",
    "for key, value := range a {\n",
    "    fmt.Printf(\"key: %s, value: %d\\n\", key, value)\n",
    "}"
   ]
  },
  {
   "cell_type": "markdown",
   "id": "661da82b-0655-48ec-8d57-248fa42db04a",
   "metadata": {
    "editable": true,
    "slideshow": {
     "slide_type": ""
    },
    "tags": []
   },
   "source": [
    "If an ordered map is needed, it is recommended to keep a slice of the keys that defines the desired order."
   ]
  },
  {
   "cell_type": "code",
   "execution_count": null,
   "id": "0357d3bf-29f6-4474-8095-f824263db9a9",
   "metadata": {
    "editable": true,
    "slideshow": {
     "slide_type": ""
    },
    "tags": []
   },
   "outputs": [],
   "source": [
    "import \"fmt\"\n",
    "\n",
    "keys := []string{\"c\", \"a\", \"b\"}\n",
    "a := map[string]int{\n",
    "    \"a\": 1,\n",
    "    \"b\": 2,\n",
    "    \"c\": 3,\n",
    "}\n",
    "\n",
    "for _, key := range keys {\n",
    "    fmt.Printf(\"key: %s, value: %d\\n\", key, a[key])\n",
    "}"
   ]
  },
  {
   "cell_type": "markdown",
   "id": "1cb5e719-9877-4493-a8b4-bac5af6fb501",
   "metadata": {},
   "source": [
    "### Deleting from a map\n",
    "\n",
    "*TODO: Fill this out.*"
   ]
  },
  {
   "cell_type": "markdown",
   "id": "bb7e9e7f-833b-4b57-b00f-079607b93432",
   "metadata": {},
   "source": [
    "The builtin delete removes key/value pairs from a map."
   ]
  },
  {
   "cell_type": "code",
   "execution_count": null,
   "id": "587b15af-8b22-4fbd-abd4-bbce9a0fa786",
   "metadata": {},
   "outputs": [],
   "source": [
    "import \"fmt\"\n",
    "\n",
    "keys := []string{\"c\", \"a\", \"b\"}\n",
    "a := map[string]int{\n",
    "    \"a\": 1,\n",
    "    \"b\": 2,\n",
    "    \"c\": 3,\n",
    "}\n",
    "\n",
    "delete(b, \"2\")\n",
    "    fmt.Println(a)"
   ]
  },
  {
   "cell_type": "markdown",
   "id": "19ae6759-fd5f-4039-b534-93df0c18c4bd",
   "metadata": {},
   "source": [
    "To remove all key/value pairs from a map, use the clear builtin."
   ]
  },
  {
   "cell_type": "code",
   "execution_count": null,
   "id": "a06e2c09-da43-42b1-888f-eb28c005eb98",
   "metadata": {},
   "outputs": [],
   "source": [
    "import \"fmt\"\n",
    "\n",
    "keys := []string{\"c\", \"a\", \"b\"}\n",
    "a := map[string]int{\n",
    "    \"a\": 1,\n",
    "    \"b\": 2,\n",
    "    \"c\": 3,\n",
    "}\n",
    "\n",
    "clear(a)\n",
    "    fmt.Println(a)"
   ]
  },
  {
   "cell_type": "markdown",
   "id": "486736fd-d4bf-4fb9-9814-c36c26761833",
   "metadata": {
    "editable": true,
    "slideshow": {
     "slide_type": ""
    },
    "tags": []
   },
   "source": [
    "### Sets\n",
    "\n",
    "Go does not come with a support for sets. However, they can be trivially implemented using maps.\n",
    "\n",
    "Sets should be defined with the map's value set to an empty struct. This avoid an allocation for the value, which is never used anyway."
   ]
  },
  {
   "cell_type": "code",
   "execution_count": null,
   "id": "f6549461-8afa-4aab-8b20-4e61837b520e",
   "metadata": {
    "editable": true,
    "slideshow": {
     "slide_type": ""
    },
    "tags": []
   },
   "outputs": [],
   "source": [
    "import \"fmt\"\n",
    "\n",
    "{\n",
    "    set := map[int]struct{}{}\n",
    "    set[1] = struct{}{}\n",
    "    set[2] = struct{}{}\n",
    "    \n",
    "    // The key becomes the value in a set.\n",
    "    for value, _ := range set {\n",
    "        fmt.Printf(\"value: %d\\n\", value)\n",
    "    }\n",
    "    \n",
    "    // Adding a duplicate value has no effect\n",
    "    fmt.Printf(\"length: %d\\n\", len(set))\n",
    "    set[1] = struct{}{}\n",
    "    fmt.Printf(\"length: %d\\n\", len(set))\n",
    "}"
   ]
  },
  {
   "cell_type": "markdown",
   "id": "c2cbec40-b07a-4e74-aab1-ea99380744ba",
   "metadata": {
    "editable": true,
    "slideshow": {
     "slide_type": ""
    },
    "tags": []
   },
   "source": [
    "It is common to use type aliases to define a more fluent API for set operations. This is available from many third-party packages, especially with the introduction of generics in Go 1.18. However, feel free to give it a go yourself!"
   ]
  },
  {
   "cell_type": "markdown",
   "id": "af72c5f5-a77b-4340-a9c1-7be46fe0d5f4",
   "metadata": {
    "jp-MarkdownHeadingCollapsed": true
   },
   "source": [
    "<br><br>\n",
    "\n",
    "## <i class=\"fas fa-2x fa-map-marker-alt\" style=\"color:#BAE1FF;\"></i>&nbsp;&nbsp;Next Steps\n",
    "\n",
    "# Lab 2 : Concurrency\n",
    "\n",
    "<h2>Next LAB&nbsp;&nbsp;&nbsp;&nbsp;<a href=\"2-WKSHP-Go101-Concurrency.ipynb\" target=\"New\" title=\"Next LAB: Concurrency\"><i class=\"fas fa-chevron-circle-right\" style=\"color:#BAE1FF;\"></i></a></h2>\n",
    "\n",
    "</br>\n",
    " <a href=\"0-ReadMeFirst.ipynb\" target=\"New\" title=\"Back: ReadMeFirst\"><button type=\"submit\"  class=\"btn btn-lg btn-block\" style=\"background-color:#BAE1FF;color:#fff;position:relative;width:10%; height: 30px;float: left;\"><b>Back</b></button></a>\n",
    " <a href=\"2-WKSHP-Go101-Concurrency.ipynb\" target=\"New\" title=\"Next LAB: Concurrency\"><button type=\"submit\"  class=\"btn btn-lg btn-block\" style=\"background-color:#BAE1FF;color:#fff;position:relative;width:10%; height: 30px;float: right;\"><b>Next</b></button></a>"
   ]
  },
  {
   "cell_type": "code",
   "execution_count": null,
   "id": "f3cebbe2-4ec1-4804-8e29-8442dbe3ba9c",
   "metadata": {},
   "outputs": [],
   "source": []
  }
 ],
 "metadata": {
  "kernelspec": {
   "display_name": "Go",
   "language": "go",
   "name": "gophernotes"
  },
  "language_info": {
   "codemirror_mode": "",
   "file_extension": ".go",
   "mimetype": "",
   "name": "go",
   "nbconvert_exporter": "",
   "pygments_lexer": "",
   "version": "go1.20.4"
  }
 },
 "nbformat": 4,
 "nbformat_minor": 5
}
