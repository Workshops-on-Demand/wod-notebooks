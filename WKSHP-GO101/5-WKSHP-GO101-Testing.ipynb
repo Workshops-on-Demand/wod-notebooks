{
 "cells": [
  {
   "cell_type": "markdown",
   "id": "1f7146e3-a471-4f8e-a922-80e4b21d6541",
   "metadata": {},
   "source": [
    "{{ BRANDINGLOGO }}  ![Gologo](Pictures/Go.png)"
   ]
  },
  {
   "cell_type": "markdown",
   "id": "9478357d-815c-40a9-a0a6-b6df7c0361cb",
   "metadata": {},
   "source": [
    "# Lab 5: Go Testing\n",
    "\n",
    "Testing is a crucial part of software development that ensures your code works as expected. In Go, testing is built into the standard library with the `testing` package. This lab will cover:\n",
    "\n",
    "- Writing unit tests\n",
    "- Running tests and checking test coverage\n",
    "- Using table-driven tests\n",
    "- Mocking dependencies for tests\n",
    "- Best practices for Go tests\n",
    "\n",
    "## Prerequisites\n",
    "Before you start, ensure you have the following:\n",
    "- Go installed on your system (v1.18 or later)\n",
    "- Basic knowledge of Go functions and modules\n"
   ]
  },
  {
   "cell_type": "markdown",
   "id": "361e17b3-0902-4ee8-b049-e3b5317b46fb",
   "metadata": {},
   "source": [
    "## Writing Unit Tests\n",
    "\n",
    "Unit tests are the simplest form of testing. They validate individual functions or methods to ensure they return the correct results. In Go, unit tests are written in files with the `_test.go` suffix, and the test functions follow the pattern `TestXxx(t *testing.T)`.\n",
    "\n",
    "### Example Code\n",
    "Let's start with a basic function that adds two numbers, and then write a test for it."
   ]
  },
  {
   "cell_type": "markdown",
   "id": "1a2e64c9",
   "metadata": {},
   "source": [
    "```go\n",
    "// add.go\n",
    "package main\n",
    "\n",
    "// Add adds two integers and returns the result.\n",
    "func Add(a, b int) int {\n",
    "    return a + b\n",
    "}"
   ]
  },
  {
   "cell_type": "markdown",
   "id": "4ed9f138",
   "metadata": {},
   "source": [
    "```go\n",
    "// add_test.go\n",
    "package main\n",
    "\n",
    "import \"testing\"\n",
    "\n",
    "// TestAdd tests the Add function\n",
    "func TestAdd(t *testing.T) {\n",
    "    result := Add(2, 3)\n",
    "    expected := 5\n",
    "\n",
    "    if result != expected {\n",
    "        t.Errorf(\"Expected %d but got %d\", expected, result)\n",
    "    }\n",
    "}"
   ]
  },
  {
   "cell_type": "markdown",
   "id": "46841168-7b00-4354-bb2a-52a8009d3405",
   "metadata": {},
   "source": [
    "### Running the Tests\n",
    "\n",
    "To run tests, use the `go test` command. This will automatically detect files ending with `_test.go` and run the test functions inside them.\n"
   ]
  },
  {
   "cell_type": "code",
   "execution_count": null,
   "id": "2f954a74-6185-4e6a-934b-6099e31ab23e",
   "metadata": {},
   "outputs": [],
   "source": [
    "$ go test"
   ]
  },
  {
   "cell_type": "markdown",
   "id": "0035659c",
   "metadata": {},
   "source": [
    "#### Expected output:\n",
    " ok   \tmyproject\t0.003s"
   ]
  },
  {
   "cell_type": "markdown",
   "id": "13dedd79-4162-4cd0-aa8a-771064122a58",
   "metadata": {},
   "source": [
    "## Table-Driven Tests\n",
    "\n",
    "Table-driven tests allow you to run multiple test cases in a single test function. It's a powerful way to reuse test logic for different inputs and expected outcomes.\n",
    "\n",
    "### Example Code\n",
    "Let's extend the `Add` function's test to handle multiple test cases using a table-driven approach."
   ]
  },
  {
   "cell_type": "markdown",
   "id": "da103d3c",
   "metadata": {},
   "source": [
    "```go\n",
    "//add_table_test.go\n",
    "package main\n",
    "\n",
    "import \"testing\"\n",
    "\n",
    "func TestAddTable(t *testing.T) {\n",
    "    tests := []struct {\n",
    "        a, b     int\n",
    "        expected int\n",
    "    }{\n",
    "        {2, 3, 5},\n",
    "        {-1, 1, 0},\n",
    "        {0, 0, 0},\n",
    "        {100, 200, 300},\n",
    "    }\n",
    "\n",
    "    for _, tt := range tests {\n",
    "        result := Add(tt.a, tt.b)\n",
    "        if result != tt.expected {\n",
    "            t.Errorf(\"Add(%d, %d) = %d; expected %d\", tt.a, tt.b, result, tt.expected)\n",
    "        }\n",
    "    }\n",
    "}"
   ]
  },
  {
   "cell_type": "markdown",
   "id": "baabe337-b280-4fb0-8338-ec3fa2e93369",
   "metadata": {},
   "source": [
    "### Running Tests with Coverage\n",
    "\n",
    "It's important to measure how much of your code is being tested. Go provides a `-cover` flag to measure test coverage.\n"
   ]
  },
  {
   "cell_type": "code",
   "execution_count": null,
   "id": "81132c2a-ecd1-4333-bd2d-b405a8b89ac6",
   "metadata": {},
   "outputs": [],
   "source": [
    "$ go test -cover"
   ]
  },
  {
   "cell_type": "markdown",
   "id": "4c9cfc61",
   "metadata": {},
   "source": [
    "#### Expected output:\n",
    " ok   \tmyproject\t0.003s  coverage: 100.0% of statements"
   ]
  },
  {
   "cell_type": "markdown",
   "id": "2e0e1444-fe0f-47aa-9667-005b20be209f",
   "metadata": {},
   "source": [
    "You can generate a detailed HTML report of the test coverage using the following command:\n"
   ]
  },
  {
   "cell_type": "code",
   "execution_count": null,
   "id": "9b4cf65e-bcfd-4dad-86a3-b72cec515037",
   "metadata": {},
   "outputs": [],
   "source": [
    "$ go test -coverprofile=coverage.out\n",
    "$ go tool cover -html=coverage.out \n",
    "$ go tool cover -html=coverage.out -o coverage.html"
   ]
  },
  {
   "cell_type": "markdown",
   "id": "b598081d-5dca-45c2-b263-a1e69488dfce",
   "metadata": {},
   "source": [
    "## Mocking Dependencies\n",
    "\n",
    "Sometimes your functions depend on external services (like databases or APIs), and you don't want to actually call those services during testing. Instead, you can use mocks to simulate those services.\n",
    "\n",
    "Go has many libraries for mocking, including [gomock](https://github.com/golang/mock). Let's create a mock for a simple example."
   ]
  },
  {
   "cell_type": "markdown",
   "id": "5ccffad1",
   "metadata": {},
   "source": [
    "``` go\n",
    "// Suppose we have a simple interface that fetches data\n",
    "type DataFetcher interface {\n",
    "    FetchData() (string, error)\n",
    "}\n",
    "\n",
    "// Now, in our function, we depend on this interface\n",
    "func GetData(fetcher DataFetcher) (string, error) {\n",
    "    data, err := fetcher.FetchData()\n",
    "    if err != nil {\n",
    "        return \"\", err\n",
    "    }\n",
    "    return data, nil\n",
    "}"
   ]
  },
  {
   "cell_type": "markdown",
   "id": "382d9858-0400-45c2-98f9-4c0d2854da08",
   "metadata": {},
   "source": [
    "### Mock Implementation\n",
    "Using `gomock`, we can generate a mock implementation of the `DataFetcher` interface. This allows us to simulate different responses during tests."
   ]
  },
  {
   "cell_type": "markdown",
   "id": "d4bd32ff",
   "metadata": {},
   "source": [
    "``` go\n",
    "// Mocking with gomock\n",
    "func TestGetData(t *testing.T) {\n",
    "    ctrl := gomock.NewController(t)\n",
    "    defer ctrl.Finish()\n",
    "\n",
    "    mockFetcher := NewMockDataFetcher(ctrl)\n",
    "    mockFetcher.EXPECT().FetchData().Return(\"mocked data\", nil)\n",
    "\n",
    "    result, err := GetData(mockFetcher)\n",
    "    if err != nil {\n",
    "        t.Fatalf(\"Expected no error, got %v\", err)\n",
    "    }\n",
    "    if result != \"mocked data\" {\n",
    "        t.Errorf(\"Expected 'mocked data', got %v\", result)\n",
    "    }\n",
    "}\n"
   ]
  },
  {
   "cell_type": "markdown",
   "id": "6a567632-54f8-42d8-8dd5-6214032c2801",
   "metadata": {},
   "source": [
    "## Best Practices\n",
    "\n",
    "- Write tests alongside your code. This ensures that your tests stay relevant.\n",
    "- Aim for high code coverage but focus on meaningful tests rather than just hitting coverage numbers.\n",
    "- Keep your tests isolated. Each test should run independently of others.\n",
    "- Use descriptive names for test functions to indicate what is being tested.\n"
   ]
  },
  {
   "cell_type": "markdown",
   "id": "8c7bf502-65b1-4ce0-b61b-8aadbce39b6c",
   "metadata": {},
   "source": [
    "<br><br>\n",
    "\n",
    "## <i class=\"fas fa-2x fa-map-marker-alt\" style=\"color:#BAE1FF;\"></i>&nbsp;&nbsp;Next Steps\n",
    "\n",
    "# Lab 6 : Interfaces\n",
    "\n",
    "<h2>Next LAB&nbsp;&nbsp;&nbsp;&nbsp;<a href=\"6-WKSHP-GO101-Interfaces.ipynb\" target=\"New\" title=\"Next LAB: Go Interfaces\"><i class=\"fas fa-chevron-circle-right\" style=\"color:#BAE1FF;\"></i></a></h2>\n",
    "\n",
    "</br>\n",
    " <a href=\"4-WKSHP-GO101-Dependency-Management.ipynb\" target=\"New\" title=\"Dependencey Management\"><button type=\"submit\"  class=\"btn btn-lg btn-block\" style=\"background-color:#BAE1FF;color:#fff;position:relative;width:10%; height: 30px;float: left;\"><i class=\"fas fa-chevron-circle-left\"></i>&nbsp;Back</button></a>\n",
    " <a href=\"6-WKSHP-GO101-Interfaces.ipynb\" target=\"New\" title=\"Next: GO Interfaces\"><button type=\"submit\" class=\"btn btn-lg btn-block\" style=\"background-color:#BAE1FF;color:#fff;position:relative;width:10%;height:30px; float:right\"><b>Next</b></button></a>"
   ]
  },
  {
   "cell_type": "code",
   "execution_count": null,
   "id": "1beb349c-fe5f-4bf4-8103-5f5ea371e496",
   "metadata": {},
   "outputs": [],
   "source": []
  }
 ],
 "metadata": {
  "kernelspec": {
   "display_name": "Go",
   "language": "go",
   "name": "gophernotes"
  },
  "language_info": {
   "codemirror_mode": "",
   "file_extension": ".go",
   "mimetype": "",
   "name": "go",
   "nbconvert_exporter": "",
   "pygments_lexer": "",
   "version": "go1.20.4"
  }
 },
 "nbformat": 4,
 "nbformat_minor": 5
}
