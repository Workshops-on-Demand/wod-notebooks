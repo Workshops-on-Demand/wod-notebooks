{
 "cells": [
  {
   "cell_type": "markdown",
   "id": "a0e4b61a-a99b-45b1-a8be-7a9dcb30552e",
   "metadata": {},
   "source": [
    "{{ BRANDINGLOGO }}  ![Gologo](Pictures/Go.png)"
   ]
  },
  {
   "cell_type": "markdown",
   "id": "1deb57be-1a1c-4910-90f4-9b3857415d54",
   "metadata": {},
   "source": [
    "# Concurrency\n",
    "\n",
    "Concurrency refers to a programming language's ability to deal with a lot of things at once.\n",
    "\n",
    "A good way to understand concurrency is by imagining multiple cars traveling on two lanes. Sometimes the cars overtake each other, and sometimes they stop and let others pass by.\n",
    "\n",
    "Another good example is when your computer runs multiple background tasks like messaging, downloading movies, running the operating system, and so on – all at once.\n",
    "\n",
    "Parallelism means doing a lot of things simultaneously and independently. It might sound similar to concurrency, but it’s actually quite different.\n",
    "\n",
    "Let's understand it better with the same traffic example. In this case, cars travel on their own road without intersecting each other. Each task is isolated from all other tasks. Different from concurrent tasks can be executed in any given order.\n",
    "\n",
    "This is a non-deterministic way to achieve multiple things at once. True parallel events require multiple CPUs.\n",
    "\n",
    "![Concurrency](Pictures/concurrency-def.png)\n"
   ]
  },
  {
   "cell_type": "markdown",
   "id": "bd9c5706-3d6b-4a04-9036-f408a2e224a9",
   "metadata": {},
   "source": [
    "## What is a Goroutine?\n",
    "A goroutine is an independent function that executes simultaneously in some separate lightweight threads managed by Go. GoLang provides it to support concurrency in Go."
   ]
  },
  {
   "cell_type": "markdown",
   "id": "7527a461-107f-4f7a-9ab7-7837a500c2bc",
   "metadata": {},
   "source": [
    "Here's an example of what a goroutine looks like:"
   ]
  },
  {
   "cell_type": "code",
   "execution_count": null,
   "id": "aae12a32-ab81-446a-9aab-344904bfb924",
   "metadata": {},
   "outputs": [],
   "source": [
    "package main\n",
    "\n",
    "import (\n",
    "\t\"fmt\"\n",
    "\t\"time\"\n",
    ")\n",
    "\n",
    "func main() {\n",
    "\tgo helloworld()\n",
    "\ttime.Sleep(1 * time.Second)\n",
    "\tgoodbye()\n",
    "}\n",
    "\n",
    "func helloworld() {\n",
    "\tfmt.Println(\"Hello World!\")\n",
    "}\n",
    "\n",
    "func goodbye() {\n",
    "\tfmt.Println(\"Good Bye!\")\n",
    "}"
   ]
  },
  {
   "cell_type": "markdown",
   "id": "f6253ba4-92c5-4bc0-a8d8-4751c049a7bf",
   "metadata": {},
   "source": [
    "In this example, first, the main goroutine starts. Then it invokes the helloworld() function, and the helloworld goroutine starts.\n",
    "\n",
    "After the helloworld goroutine finishes its operation, the main goroutine waits for 1 second and invokes the goodbye() function.\n",
    "\n",
    "If you omit the time function in main goroutine, it will exit before the helloworld() finishes its execution.\n",
    "\n",
    "Let's understand the steps involved here:\n",
    "\n",
    "* Main goroutine starts\n",
    "* It invokes the helloworld and helloworld goroutine starts\n",
    "* If there is no pause using the sleep method, the main goroutine will then invoke goodbye() and exit before the helloworld goroutine finishes its execution.\n",
    "  \n",
    "Without time.Sleep():"
   ]
  },
  {
   "cell_type": "code",
   "execution_count": null,
   "id": "050e33bd-45a9-4458-895a-d1f4e323faec",
   "metadata": {},
   "outputs": [],
   "source": [
    "package main\n",
    "\n",
    "import (\n",
    "\t\"fmt\"\n",
    "\t\"time\"\n",
    ")\n",
    "\n",
    "func main() {\n",
    "\tgo helloworld()\n",
    "\tgoodbye()\n",
    "}\n",
    "\n",
    "func helloworld() {\n",
    "\tfmt.Println(\"Hello World!\")\n",
    "}\n",
    "\n",
    "func goodbye() {\n",
    "\tfmt.Println(\"Good Bye!\")\n",
    "}\n",
    "main()"
   ]
  },
  {
   "cell_type": "markdown",
   "id": "1202dd27-7cd1-47c3-9fb9-5802d9a1f3f9",
   "metadata": {},
   "source": [
    "After adding time.Sleep(), the helloworld goroutine is able to finish its execution before main goroutine exits:"
   ]
  },
  {
   "cell_type": "code",
   "execution_count": null,
   "id": "1b723925-5018-486b-95fa-2f258df1e61c",
   "metadata": {},
   "outputs": [],
   "source": [
    "package main\n",
    "\n",
    "import (\n",
    "\t\"fmt\"\n",
    "\t\"time\"\n",
    ")\n",
    "\n",
    "func main() {\n",
    "\tgo helloworld()\n",
    "\ttime.Sleep(1 * time.Second)\n",
    "\tgoodbye()\n",
    "}\n",
    "\n",
    "func helloworld() {\n",
    "\tfmt.Println(\"Hello World!\")\n",
    "}\n",
    "\n",
    "func goodbye() {\n",
    "\tfmt.Println(\"Good Bye!\")\n",
    "}\n",
    "main()"
   ]
  },
  {
   "cell_type": "markdown",
   "id": "78c1f8a4-2e8d-4080-a07a-f13c5161f57a",
   "metadata": {},
   "source": [
    "## What are WaitGroups?\n",
    "You can use WaitGroups to wait for multiple goroutines to finish. A WaitGroup blocks the execution of a function until its internal counter becomes 0.\n",
    "\n",
    "Let's see a simple code snippet:"
   ]
  },
  {
   "cell_type": "code",
   "execution_count": null,
   "id": "f262e9de-ae3e-484b-9fd5-9dc4823af058",
   "metadata": {},
   "outputs": [],
   "source": [
    "package main\n",
    "\n",
    "import (\n",
    "\t\"fmt\"\n",
    ")\n",
    "\n",
    "func main() {\n",
    "\tgo helloworld()\n",
    "\tgo goodbye()\n",
    "}\n",
    "\n",
    "func helloworld() {\n",
    "\tfmt.Println(\"Hello World!\")\n",
    "}\n",
    "\n",
    "func goodbye() {\n",
    "\tfmt.Println(\"Good Bye!\")\n",
    "}\n",
    "\n",
    "main()"
   ]
  },
  {
   "cell_type": "markdown",
   "id": "f1912714-e563-46c6-839f-cf394b7c28ce",
   "metadata": {},
   "source": [
    "If we run the above program, it doesn't print anything. This is because the main function got terminated as soon as those two goroutines started executing. So, we can use Sleep, which pauses the execution of the main function. It looks like this:"
   ]
  },
  {
   "cell_type": "code",
   "execution_count": null,
   "id": "faebd0e7-53e8-48bc-9d4e-bc270183f775",
   "metadata": {},
   "outputs": [],
   "source": [
    "package main\n",
    "\n",
    "import (\n",
    "\t\"fmt\"\n",
    "\t\"time\"\n",
    ")\n",
    "\n",
    "func main() {\n",
    "\tgo helloworld()\n",
    "\tgo goodbye()\n",
    "\ttime.Sleep(2 * time.Second)\n",
    "}\n",
    "\n",
    "func helloworld() {\n",
    "\tfmt.Println(\"Hello World!\")\n",
    "}\n",
    "\n",
    "func goodbye() {\n",
    "\tfmt.Println(\"Good Bye!\")\n",
    "}\n",
    "\n",
    "main()"
   ]
  },
  {
   "cell_type": "markdown",
   "id": "5c860ed4-fcdc-4fb5-a33c-a7ae79b85fb1",
   "metadata": {},
   "source": [
    "Here, the main function was blocked for 2 seconds and all the goroutines were executed successfully.\n",
    "\n",
    "Blocking the method for 2 seconds might not create any problems. But at the production level, where each millisecond is vital, millions of concurrent requests can create a huge problem.\n",
    "\n",
    "You can solve this problem using sync.WaitGroup like this:"
   ]
  },
  {
   "cell_type": "code",
   "execution_count": null,
   "id": "6af58448-3603-4d6c-92c0-c236371509ec",
   "metadata": {},
   "outputs": [],
   "source": [
    "package main\n",
    "\n",
    "import (\n",
    "\t\"fmt\"\n",
    "\t\"sync\"\n",
    ")\n",
    "\n",
    "func main() {\n",
    "\tvar wg sync.WaitGroup\n",
    "\twg.Add(2)\n",
    "\tgo helloworld(&wg)\n",
    "\tgo goodbye(&wg)\n",
    "\twg.Wait()\n",
    "}\n",
    "\n",
    "func helloworld(wg *sync.WaitGroup) {\n",
    "\tdefer wg.Done()\n",
    "\tfmt.Println(\"Hello World!\")\n",
    "}\n",
    "\n",
    "func goodbye(wg *sync.WaitGroup) {\n",
    "\tdefer wg.Done()\n",
    "\tfmt.Println(\"Good Bye!\")\n",
    "}\n",
    "main()"
   ]
  },
  {
   "cell_type": "markdown",
   "id": "10fd15c6-ab7b-498c-90bb-95743862d5d3",
   "metadata": {},
   "source": [
    "The output is the same as the previous one, but it doesn't block the main for 2 seconds.\n",
    "\n",
    "wg.Add(int): This method indicates the number of goroutines to wait. In the above code, I have provided 2 for 2 different goroutines. Hence the internal counter wait becomes 2.\n",
    "wg.Wait(): This method blocks the execution of code until the internal counter becomes 0.\n",
    "wg.Done(): This will reduce the internal counter value by 1.\n",
    "NOTE: If a WaitGroup is explicitly passed into functions, it should be added by a pointer."
   ]
  },
  {
   "cell_type": "markdown",
   "id": "2bef95d4-8f32-4867-af2d-bd7f38d0d8d8",
   "metadata": {},
   "source": [
    "## What are Channels?\n",
    "In concurrent programming, Go provides channels that you can use for bidirectional communication between goroutines.\n",
    "\n",
    "Bidirectional communication means that one goroutine will send a message and the other will read it. Sends and receives are blocking. Code execution will be stopped until the write and read are done successfully.\n",
    "\n",
    "Channels are one of the more convenient ways to send and receive notifications.\n",
    "\n",
    "There are a couple different types of channels:\n",
    "\n",
    "Unbuffered channel: Unbuffered channels require both the sender and receiver to be present to be successful operations. It requires a goroutine to read the data, otherwise, it will lead to deadlock. By default, channels are unbuffered.\n",
    "\n",
    "Buffered channel: Buffered channels have the capacity to store values for future processing. The sender is not blocked until it becomes full and it doesn't necessarily need a reader to complete the synchronization with every operation.\n",
    "\n",
    "If a space in the array is available, the sender can send its value to the channel and complete its send operation immediately.\n",
    "\n",
    "After its execution, if a receiver comes, the channel will start sending values to the receiver and it will start its operation once it receives the values. As the sender and receiver are operating at different times, this is called asynchronous communication.\n"
   ]
  },
  {
   "cell_type": "markdown",
   "id": "1a1e6146-c49e-49bf-98a7-b4be1d91b490",
   "metadata": {},
   "source": [
    "Here's an example:"
   ]
  },
  {
   "cell_type": "markdown",
   "id": "7bed51aa-9b32-4213-9135-03b66d635c63",
   "metadata": {},
   "source": [
    "Syntax to declare a channel\n",
    "ch := make(chan Type)"
   ]
  },
  {
   "cell_type": "markdown",
   "id": "64ee5559-41dd-4a7a-bea8-fe89bfd962d4",
   "metadata": {},
   "source": [
    "Declaration of channels based on directions\n",
    "1. Bidirectional channel : chan T\n",
    "2. Send only channel: chan <- T\n",
    "3. Receive only channel: <- chan T"
   ]
  },
  {
   "cell_type": "markdown",
   "id": "41941eac-6838-4930-99c2-18e1a488f11e",
   "metadata": {},
   "source": [
    "## How to write and read from a channel"
   ]
  },
  {
   "cell_type": "code",
   "execution_count": null,
   "id": "d3b908ad-32c4-4c32-bb4a-4ad003485b92",
   "metadata": {},
   "outputs": [],
   "source": [
    "package main\n",
    "\n",
    "import (\n",
    "\t\"fmt\"\n",
    "\t\"time\"\n",
    ")\n",
    "\n",
    "func main() {\n",
    "\tmsg := make(chan string)\n",
    "\tgo greet(msg)\n",
    "\ttime.Sleep(2 * time.Second)\n",
    "\n",
    "\tgreeting := <-msg\n",
    "\n",
    "\ttime.Sleep(2 * time.Second)\n",
    "\tfmt.Println(\"Greeting received\")\n",
    "\tfmt.Println(greeting)\n",
    "}\n",
    "\n",
    "func greet(ch chan string) {\n",
    "\tfmt.Println(\"Greeter waiting to send greeting!\")\n",
    "\n",
    "\tch <- \"Hello student{{ STDID }}\"\n",
    "\n",
    "\tfmt.Println(\"Greeter completed\")\n",
    "}\n",
    "\n",
    "main()"
   ]
  },
  {
   "cell_type": "markdown",
   "id": "20f526b1-ee44-40ce-b11d-7fdbc63a28bf",
   "metadata": {},
   "source": [
    "In the above code snippet, msg := make(chan string) is declaring a channel of type string. Then we passed the channel in goroutine greet. ch <-\"Hello Rwitesh\" allows us to write the message to ch.\n",
    "\n",
    "The ch <-\"Hello Rwitesh\" blocks the execution of the goroutine, as no one reads its value written in a channel. So in the main goroutine time.Sleep(2 * time.Second) terminates the execution without waiting for greet.\n",
    "\n",
    "The second time.Sleep(2* time.Second) statement gives us the time to read from the channel. We read from the channel using <-msg.\n",
    "\n",
    "Closing the channel: Closing the channel indicates that no more values should be sent on it. We want to show that the work has been completed and there is no need to keep a channel open."
   ]
  },
  {
   "cell_type": "code",
   "execution_count": null,
   "id": "9b751acd-9c9b-43ef-a733-c62002ca6415",
   "metadata": {},
   "outputs": [],
   "source": [
    "package main\n",
    "\n",
    "import (\n",
    "\t\"fmt\"\n",
    "\t\"time\"\n",
    ")\n",
    "\n",
    "func main() {\n",
    "\tmsg := make(chan string)\n",
    "\tgo greet(msg)\n",
    "\n",
    "\ttime.Sleep(2 * time.Second)\n",
    "\n",
    "\tgreeting := <-msg\n",
    "\n",
    "\ttime.Sleep(2 * time.Second)\n",
    "\tfmt.Println(\"Greeting received\")\n",
    "\tfmt.Println(greeting)\n",
    "\n",
    "\t_, ok := <-msg\n",
    "\tif ok {\n",
    "\t\tfmt.Println(\"Channel is open!\")\n",
    "\t} else {\n",
    "\t\tfmt.Println(\"Channel is closed!\")\n",
    "\t}\n",
    "}\n",
    "\n",
    "func greet(ch chan string) {\n",
    "\tfmt.Println(\"Greeter waiting to send greeting!\")\n",
    "\n",
    "\tch <- \"Hello Rwitesh\"\n",
    "\tclose(ch)\n",
    "\n",
    "\tfmt.Println(\"Greeter completed\")\n",
    "}\n",
    "\n",
    "main()"
   ]
  },
  {
   "cell_type": "markdown",
   "id": "bf8ba1ea-1430-489b-bdcd-9796b6128672",
   "metadata": {},
   "source": [
    "We close a channel by using close() like close(ch) on the above code snippet."
   ]
  },
  {
   "cell_type": "markdown",
   "id": "6a668465-fbfe-4802-bf92-727449ed5be7",
   "metadata": {},
   "source": [
    "In summary:\n",
    "concurrency in Go refers to the ability to perform multiple tasks simultaneously, using goroutines and tools like WaitGroups and channels to synchronize and communicate between them.\n",
    "\n",
    "Goroutines are lightweight threads of execution used in Go to support concurrency. WaitGroups are used to wait for multiple goroutines to finish. They block the execution of a function until their internal counter becomes 0.\n",
    "\n",
    "Channels are a way for goroutines to communicate and can be used to send and receive data between goroutines."
   ]
  },
  {
   "cell_type": "markdown",
   "id": "2b5c8e3b-56c1-4d9f-80af-f5525b2b2d25",
   "metadata": {},
   "source": [
    "<br><br>\n",
    "\n",
    "## <i class=\"fas fa-2x fa-map-marker-alt\" style=\"color:#BAE1FF;\"></i>&nbsp;&nbsp;Next Steps\n",
    "\n",
    "# Lab 3 : Defer-Panic-Recover\n",
    "\n",
    "<h2>Next LAB&nbsp;&nbsp;&nbsp;&nbsp;<a href=\"3-WKSHP-GO101-Defer-Panic-Recover.ipynb\" target=\"New\" title=\"Next LAB: Defer-Panic-Recover\"><i class=\"fas fa-chevron-circle-right\" style=\"color:#BAE1FF;\"></i></a></h2>\n",
    "\n",
    "</br>\n",
    " <a href=\"1-WKSHP-GO101-Collections.ipynb\" target=\"New\" title=\"Back: Collections\"><button type=\"submit\"  class=\"btn btn-lg btn-block\" style=\"background-color:#BAE1FF;color:#fff;position:relative;width:10%; height: 30px;float: left;\"><b>Back</b></button></a>\n",
    " <a href=\"3-WKSHP-GO101-Defer-Panic-Recover.ipynb\" target=\"New\" title=\"Next:Defer-Panic-Recover\"><button type=\"submit\"  class=\"btn btn-lg btn-block\" style=\"background-color:#BAE1FF;color:#fff;position:relative;width:10%; height: 30px;float: right;\"><b>Next</b></button></a>"
   ]
  }
 ],
 "metadata": {
  "kernelspec": {
   "display_name": "Go",
   "language": "go",
   "name": "gophernotes"
  },
  "language_info": {
   "codemirror_mode": "",
   "file_extension": ".go",
   "mimetype": "",
   "name": "go",
   "nbconvert_exporter": "",
   "pygments_lexer": "",
   "version": "go1.20.4"
  }
 },
 "nbformat": 4,
 "nbformat_minor": 5
}
