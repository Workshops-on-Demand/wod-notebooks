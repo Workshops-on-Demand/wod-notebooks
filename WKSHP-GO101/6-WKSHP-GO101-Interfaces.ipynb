{
 "cells": [
  {
   "cell_type": "markdown",
   "id": "34fd77c9-e4b1-4e38-a886-252eaf6a2126",
   "metadata": {},
   "source": [
    "{{ BRANDINGLOGO }}  ![Gologo](Pictures/Go.png)"
   ]
  },
  {
   "cell_type": "markdown",
   "id": "78879384-9fa9-4ade-9dfe-5d12e8e05fa2",
   "metadata": {},
   "source": [
    "# Interfaces\n",
    "\n",
    "In Go, interfaces are a way to specify behavior. An interface is defined as a set of method signatures (i.e., the method name and the types of its parameters and return values). If a type implements all the methods in an interface, it is said to satisfy that interface. This allows different types to be treated uniformly."
   ]
  },
  {
   "cell_type": "markdown",
   "id": "cb3a82c9-da2f-43ed-8db9-6c238c7be234",
   "metadata": {},
   "source": [
    "Here's a basic interface for geometric shapes. This interface defines the methods that any geometric shape should implement, enabling polymorphism."
   ]
  },
  {
   "cell_type": "code",
   "execution_count": null,
   "id": "c6053a47-d7bb-40ad-8a60-368a5377d009",
   "metadata": {},
   "outputs": [],
   "source": [
    "package main\n",
    "import (\n",
    "    \"fmt\"\n",
    "    \"math\"\n",
    ")\n",
    "\n",
    "\t\n",
    "type geometry interface {\n",
    "    area() float64\n",
    "    perim() float64\n",
    "}"
   ]
  },
  {
   "cell_type": "markdown",
   "id": "050f9591-6ecc-4010-8a3c-8019262af658",
   "metadata": {},
   "source": [
    "To demonstrate, we'll implement this interface on `rect` (rectangle) and `circle` types. Each shape will have its own way to calculate area and perimeter."
   ]
  },
  {
   "cell_type": "code",
   "execution_count": null,
   "id": "2b9cd168-bc4c-40ad-b1df-d0b05edd20e1",
   "metadata": {},
   "outputs": [],
   "source": [
    "package main\n",
    "import (\n",
    "    \"fmt\"\n",
    "    \"math\"\n",
    ")\n",
    "\n",
    "\t\n",
    "type geometry interface {\n",
    "    area() float64\n",
    "    perim() float64\n",
    "}\n",
    "\n",
    "type rect struct {\n",
    "    width, height float64\n",
    "}\n",
    "type circle struct {\n",
    "    radius float64\n",
    "}"
   ]
  },
  {
   "cell_type": "markdown",
   "id": "a8a00737-9971-4105-8b8a-32485f458b53",
   "metadata": {},
   "source": [
    "We implement the `geometry` interface for the `rect` type by defining the `area` and `perim` methods. This allows a rectangle to compute its area and perimeter."
   ]
  },
  {
   "cell_type": "code",
   "execution_count": null,
   "id": "cb920b8d-1015-4a5d-a2d8-b676f92843b3",
   "metadata": {},
   "outputs": [],
   "source": [
    "func (r rect) area() float64 {\n",
    "    return r.width * r.height\n",
    "}\n",
    "func (r rect) perim() float64 {\n",
    "    return 2*r.width + 2*r.height\n",
    "}"
   ]
  },
  {
   "cell_type": "markdown",
   "id": "025b97af-e6f1-48f4-8f6c-de8b00c32ec7",
   "metadata": {},
   "source": [
    "Next, we implement the same interface for the `circle` type, enabling it to compute its area and perimeter based on its radius."
   ]
  },
  {
   "cell_type": "code",
   "execution_count": null,
   "id": "fb27dc30-029e-4bde-82b9-a7b90f23a209",
   "metadata": {},
   "outputs": [],
   "source": [
    "func (c circle) area() float64 {\n",
    "    return math.Pi * c.radius * c.radius\n",
    "}\n",
    "func (c circle) perim() float64 {\n",
    "    return 2 * math.Pi * c.radius\n",
    "}"
   ]
  },
  {
   "cell_type": "markdown",
   "id": "769f166c-990b-4040-8e44-7aa63e67cd3e",
   "metadata": {},
   "source": [
    "With both `rect` and `circle` types implementing the `geometry` interface, we can create a function that takes any geometry type and measures its properties."
   ]
  },
  {
   "cell_type": "code",
   "execution_count": null,
   "id": "b4b2e676-df4d-4415-b552-e4920e57573c",
   "metadata": {},
   "outputs": [],
   "source": [
    "func measure(g geometry) {\n",
    "    fmt.Println(g)\n",
    "    fmt.Println(g.area())\n",
    "    fmt.Println(g.perim())\n",
    "}"
   ]
  },
  {
   "cell_type": "markdown",
   "id": "567cada3-946a-4718-a5a9-7ea54732b354",
   "metadata": {},
   "source": [
    "Now, we can create instances of both shapes and measure their properties using the `measure` function, demonstrating polymorphism."
   ]
  },
  {
   "cell_type": "code",
   "execution_count": null,
   "id": "c7908ed7-7774-4588-a14d-0d259aab61c9",
   "metadata": {},
   "outputs": [],
   "source": [
    "func main() {\n",
    "    r := rect{width: 3, height: 4}\n",
    "    c := circle{radius: 5}\n",
    "\n",
    "    measure(r)\n",
    "    measure(c)\n",
    "}"
   ]
  },
  {
   "cell_type": "code",
   "execution_count": null,
   "id": "a76b943c-4eea-47bd-9ff3-7065b32766ec",
   "metadata": {},
   "outputs": [],
   "source": [
    "go run interfaces.go"
   ]
  },
  {
   "cell_type": "markdown",
   "id": "2fee811a-860d-406c-86a5-6b8e5cf067a9",
   "metadata": {},
   "source": [
    "### Best Practices\n",
    "\n",
    "1. **Use Interfaces to Define Behavior**: Design your functions and types in terms of interfaces to promote flexibility and abstraction.\n",
    "2. **Keep Interfaces Small**: Smaller interfaces are easier to implement and encourage the creation of more types that can implement them.\n",
    "3. **Use Interface Embedding**: Embedding interfaces allows you to compose interfaces, building complex behavior without code duplication."
   ]
  },
  {
   "cell_type": "markdown",
   "id": "c88995d6-a27b-462b-bb7d-fc0bb353a6f5",
   "metadata": {},
   "source": [
    "### Common Use Cases\n",
    "\n",
    "1. **Mocking for Tests**: Interfaces enable the creation of mock types for testing, facilitating easier unit tests.\n",
    "2. **Decoupling Components**: Interfaces separate implementation details from usage, allowing for loose coupling between components.\n",
    "3. **Implementing Plugins**: Use interfaces to define plugin behavior, allowing different implementations to be dynamically loaded at runtime."
   ]
  },
  {
   "cell_type": "markdown",
   "id": "d85156d3-485d-477a-ba32-ebc69e0d8def",
   "metadata": {},
   "source": [
    "For further reading on interfaces, refer to [Go's official documentation on interfaces](https://golang.org/doc/effective_go.html#interfaces).\n",
    "More to read on interfaces [here](https://jordanorelli.com/post/32665860244/how-to-use-interfaces-in-go)"
   ]
  },
  {
   "cell_type": "markdown",
   "id": "fdc0b771-84b2-4307-a58e-8421dbf34045",
   "metadata": {},
   "source": [
    "Summary:\n",
    "\n",
    "In this lab, we have explored how interfaces in Go allow us to define behaviors that different types can implement, enabling a polymorphic approach to programming. We've seen how to define an interface, implement it in different types, and use it in a function to measure various shapes."
   ]
  },
  {
   "cell_type": "markdown",
   "id": "c092831a-dad2-43b9-bcbc-c65b59636645",
   "metadata": {},
   "source": [
    "<br><br>\n",
    "\n",
    "## <i class=\"fas fa-2x fa-map-marker-alt\" style=\"color:#BAE1FF;\"></i>&nbsp;&nbsp;Next Steps\n",
    "\n",
    "# Conclusion :\n",
    "\n",
    "<h2>Next LAB&nbsp;&nbsp;&nbsp;&nbsp;<a href=\"7-WKSHP-Conclusion.ipynb\" target=\"New\" title=\"Next LAB: Conclusion\"><i class=\"fas fa-chevron-circle-right\" style=\"color:#BAE1FF;\"></i></a></h2>\n",
    "\n",
    "</br>\n",
    " <a href=\"5-WKSHP-GO101-Testing.ipynb\" target=\"New\" title=\"Back: Testing\"><button type=\"submit\"  class=\"btn btn-lg btn-block\" style=\"background-color:#BAE1FF;color:#fff;position:relative;width:10%; height: 30px;float: left;\"><b>Back</b></button></a>\n",
    " <a href=\"7-WKSHP-Conclusion.ipynb\" target=\"New\" title=\"Next:Conclusion\"><button type=\"submit\"  class=\"btn btn-lg btn-block\" style=\"background-color:#BAE1FF;color:#fff;position:relative;width:10%; height: 30px;float: right;\"><b>Next</b></button></a>"
   ]
  },
  {
   "cell_type": "code",
   "execution_count": null,
   "id": "09aa8f83-67bb-434f-ba3b-90875830e432",
   "metadata": {},
   "outputs": [],
   "source": []
  }
 ],
 "metadata": {
  "kernelspec": {
   "display_name": "Go",
   "language": "go",
   "name": "gophernotes"
  },
  "language_info": {
   "codemirror_mode": "",
   "file_extension": ".go",
   "mimetype": "",
   "name": "go",
   "nbconvert_exporter": "",
   "pygments_lexer": "",
   "version": "go1.20.4"
  }
 },
 "nbformat": 4,
 "nbformat_minor": 5
}
