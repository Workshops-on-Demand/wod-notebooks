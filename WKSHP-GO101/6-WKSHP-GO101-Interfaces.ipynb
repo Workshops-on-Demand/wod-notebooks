{
 "cells": [
  {
   "cell_type": "markdown",
   "id": "34fd77c9-e4b1-4e38-a886-252eaf6a2126",
   "metadata": {},
   "source": [
    "{{ BRANDINGLOGO }}  ![Gologo](Pictures/Go.png)"
   ]
  },
  {
   "cell_type": "markdown",
   "id": "2f0dd5ef-2852-4a58-82fd-280b3ffe25ae",
   "metadata": {},
   "source": [
    "# Interfaces\n",
    "\n",
    "Interfaces are named collections of method signatures."
   ]
  },
  {
   "cell_type": "markdown",
   "id": "cb3a82c9-da2f-43ed-8db9-6c238c7be234",
   "metadata": {},
   "source": [
    "Here’s a basic interface for geometric shapes."
   ]
  },
  {
   "cell_type": "code",
   "execution_count": null,
   "id": "c6053a47-d7bb-40ad-8a60-368a5377d009",
   "metadata": {},
   "outputs": [],
   "source": [
    "package main\n",
    "import (\n",
    "    \"fmt\"\n",
    "    \"math\"\n",
    ")\n",
    "\n",
    "\t\n",
    "type geometry interface {\n",
    "    area() float64\n",
    "    perim() float64\n",
    "}"
   ]
  },
  {
   "cell_type": "markdown",
   "id": "050f9591-6ecc-4010-8a3c-8019262af658",
   "metadata": {},
   "source": [
    "For our example we’ll implement this interface on rect and circle types."
   ]
  },
  {
   "cell_type": "code",
   "execution_count": null,
   "id": "2b9cd168-bc4c-40ad-b1df-d0b05edd20e1",
   "metadata": {},
   "outputs": [],
   "source": [
    "package main\n",
    "import (\n",
    "    \"fmt\"\n",
    "    \"math\"\n",
    ")\n",
    "\n",
    "\t\n",
    "type geometry interface {\n",
    "    area() float64\n",
    "    perim() float64\n",
    "}\n",
    "\n",
    "type rect struct {\n",
    "    width, height float64\n",
    "}\n",
    "type circle struct {\n",
    "    radius float64\n",
    "}"
   ]
  },
  {
   "cell_type": "markdown",
   "id": "a8a00737-9971-4105-8b8a-32485f458b53",
   "metadata": {},
   "source": [
    "To implement an interface in Go, we just need to implement all the methods in the interface. Here we implement geometry on rects."
   ]
  },
  {
   "cell_type": "code",
   "execution_count": null,
   "id": "cb920b8d-1015-4a5d-a2d8-b676f92843b3",
   "metadata": {},
   "outputs": [],
   "source": [
    "func (r rect) area() float64 {\n",
    "    return r.width * r.height\n",
    "}\n",
    "func (r rect) perim() float64 {\n",
    "    return 2*r.width + 2*r.height\n",
    "}"
   ]
  },
  {
   "cell_type": "markdown",
   "id": "025b97af-e6f1-48f4-8f6c-de8b00c32ec7",
   "metadata": {},
   "source": [
    "The implementation for circles."
   ]
  },
  {
   "cell_type": "code",
   "execution_count": null,
   "id": "fb27dc30-029e-4bde-82b9-a7b90f23a209",
   "metadata": {},
   "outputs": [],
   "source": [
    "func (c circle) area() float64 {\n",
    "    return math.Pi * c.radius * c.radius\n",
    "}\n",
    "func (c circle) perim() float64 {\n",
    "    return 2 * math.Pi * c.radius\n",
    "}"
   ]
  },
  {
   "cell_type": "markdown",
   "id": "769f166c-990b-4040-8e44-7aa63e67cd3e",
   "metadata": {},
   "source": [
    "If a variable has an interface type, then we can call methods that are in the named interface. \n",
    "\n",
    "Here’s a generic measure function taking advantage of this to work on any geometry."
   ]
  },
  {
   "cell_type": "code",
   "execution_count": null,
   "id": "b4b2e676-df4d-4415-b552-e4920e57573c",
   "metadata": {},
   "outputs": [],
   "source": [
    "func measure(g geometry) {\n",
    "    fmt.Println(g)\n",
    "    fmt.Println(g.area())\n",
    "    fmt.Println(g.perim())\n",
    "}"
   ]
  },
  {
   "cell_type": "markdown",
   "id": "567cada3-946a-4718-a5a9-7ea54732b354",
   "metadata": {},
   "source": [
    "The circle and rect struct types both implement the geometry interface so we can use instances of these structs as arguments to measure."
   ]
  },
  {
   "cell_type": "code",
   "execution_count": null,
   "id": "c7908ed7-7774-4588-a14d-0d259aab61c9",
   "metadata": {},
   "outputs": [],
   "source": [
    "func main() {\n",
    "    r := rect{width: 3, height: 4}\n",
    "    c := circle{radius: 5}\n",
    "\n",
    "    measure(r)\n",
    "    measure(c)\n",
    "}"
   ]
  },
  {
   "cell_type": "code",
   "execution_count": null,
   "id": "a76b943c-4eea-47bd-9ff3-7065b32766ec",
   "metadata": {},
   "outputs": [],
   "source": [
    "go run interfaces.go"
   ]
  },
  {
   "cell_type": "markdown",
   "id": "2607dd65-d556-459f-9496-b7d7aac36d2f",
   "metadata": {},
   "source": [
    "More to read on interfaces [here](https://jordanorelli.com/post/32665860244/how-to-use-interfaces-in-go)"
   ]
  },
  {
   "cell_type": "markdown",
   "id": "c092831a-dad2-43b9-bcbc-c65b59636645",
   "metadata": {},
   "source": [
    "<br><br>\n",
    "\n",
    "## <i class=\"fas fa-2x fa-map-marker-alt\" style=\"color:#BAE1FF;\"></i>&nbsp;&nbsp;Next Steps\n",
    "\n",
    "# Conclusion :\n",
    "\n",
    "<h2>Next LAB&nbsp;&nbsp;&nbsp;&nbsp;<a href=\"7-WKSHP-Conclusion.ipynb\" target=\"New\" title=\"Next LAB: Conclusion\"><i class=\"fas fa-chevron-circle-right\" style=\"color:#BAE1FF;\"></i></a></h2>\n",
    "\n",
    "</br>\n",
    " <a href=\"5-WKSHP-GO101-Testing.ipynb\" target=\"New\" title=\"Back: Testing\"><button type=\"submit\"  class=\"btn btn-lg btn-block\" style=\"background-color:#BAE1FF;color:#fff;position:relative;width:10%; height: 30px;float: left;\"><b>Back</b></button></a>\n",
    " <a href=\"7-WKSHP-Conclusion.ipynb\" target=\"New\" title=\"Next:Conclusion\"><button type=\"submit\"  class=\"btn btn-lg btn-block\" style=\"background-color:#BAE1FF;color:#fff;position:relative;width:10%; height: 30px;float: right;\"><b>Next</b></button></a>"
   ]
  }
 ],
 "metadata": {
  "kernelspec": {
   "display_name": "Go",
   "language": "go",
   "name": "gophernotes"
  },
  "language_info": {
   "codemirror_mode": "",
   "file_extension": ".go",
   "mimetype": "",
   "name": "go",
   "nbconvert_exporter": "",
   "pygments_lexer": "",
   "version": "go1.20.4"
  }
 },
 "nbformat": 4,
 "nbformat_minor": 5
}
