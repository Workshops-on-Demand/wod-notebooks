{
 "cells": [
  {
   "cell_type": "markdown",
   "id": "21adc60b-bbb7-413b-bb9f-8d93f9d5688c",
   "metadata": {},
   "source": [
    "{{ BRANDINGLOGO }}  ![Gologo](Pictures/Go.png)"
   ]
  },
  {
   "cell_type": "markdown",
   "id": "140592e9-5793-4f70-b5c0-5514ea564626",
   "metadata": {},
   "source": [
    "# Defer, Panic and Recover\n",
    "\n",
    "In Go, we use defer, panic and recover statements to handle errors. We use defer to delay the execution of functions that might cause an error. The panic statement terminates the program immediately and recover is used to recover the message during panic."
   ]
  },
  {
   "cell_type": "markdown",
   "id": "b142395e-f087-4db7-a5cf-f76c00cc49bd",
   "metadata": {},
   "source": [
    "For example, let’s look at a function that opens two files and copies the contents of one file to the other:"
   ]
  },
  {
   "cell_type": "code",
   "execution_count": null,
   "id": "c5a02b5b-9b79-4fe9-ab05-6b9a13a84afe",
   "metadata": {},
   "outputs": [],
   "source": [
    "package main\n",
    "\n",
    "import (\n",
    "    \"fmt\"\n",
    "    \"io\"\n",
    "    \"os\"\n",
    ")\n",
    "\n",
    "func CopyFile(dstName, srcName string) (written int64, err error) {\n",
    "    src, err := os.Open(srcName)\n",
    "    if err != nil {\n",
    "        return\n",
    "    }\n",
    "\n",
    "    dst, err := os.Create(dstName)\n",
    "    if err != nil {\n",
    "        return\n",
    "    }\n",
    "\n",
    "    written, err = io.Copy(dst, src)\n",
    "    src.Close()\n",
    "    dst.Close()\n",
    "    return\n",
    "}\n",
    "\n",
    "func main() {\n",
    "    written, err := CopyFile(\"destination.txt\", \"source.txt\")\n",
    "    if err != nil {\n",
    "        fmt.Println(\"Error copying file:\", err)\n",
    "    } else {\n",
    "        fmt.Printf(\"File copied successfully, %d bytes written\\n\", written)\n",
    "    }\n",
    "}\n",
    "\n",
    "main()"
   ]
  },
  {
   "cell_type": "markdown",
   "id": "44968237-a5b1-4dac-9503-736bd88e02dc",
   "metadata": {},
   "source": [
    "This works, but there is a bug. If the call to os.Create fails, the function will return without closing the source file. This can be easily remedied by putting a call to src.Close before the second return statement, but if the function were more complex the problem might not be so easily noticed and resolved. By introducing defer statements, we can ensure that the files are always closed:"
   ]
  },
  {
   "cell_type": "code",
   "execution_count": null,
   "id": "3cf9a8e4-d765-481e-ad28-c8e77972f0f6",
   "metadata": {},
   "outputs": [],
   "source": [
    "import (\n",
    "    \"fmt\"\n",
    "    \"io\"\n",
    "    \"os\"\n",
    ")\n",
    "func CopyFile(dstName, srcName string) (written int64, err error) {\n",
    "    src, err := os.Open(srcName)\n",
    "    if err != nil {\n",
    "        return\n",
    "    }\n",
    "    defer src.Close()\n",
    "\n",
    "    dst, err := os.Create(dstName)\n",
    "    if err != nil {\n",
    "        return\n",
    "    }\n",
    "    defer dst.Close()\n",
    "\n",
    "    return io.Copy(dst, src)\n",
    "}\n",
    "func main() {\n",
    "    written, err := CopyFile(\"destination2.txt\", \"source2.txt\")\n",
    "    if err != nil {\n",
    "        fmt.Println(\"Error copying file:\", err)\n",
    "    } else {\n",
    "        fmt.Printf(\"File copied successfully, %d bytes written\\n\", written)\n",
    "    }\n",
    "}\n",
    "\n",
    "main()"
   ]
  },
  {
   "cell_type": "markdown",
   "id": "aae5a077-351b-4f70-a741-04de5e996880",
   "metadata": {},
   "source": [
    "Defer statements allow us to think about closing each file right after opening it, guaranteeing that, regardless of the number of return statements in the function, the files will be closed.\n",
    "\n",
    "The behavior of defer statements is straightforward and predictable. There are three simple rules:\n",
    "\n",
    "### 1- A deferred function’s arguments are evaluated when the defer statement is evaluated.\n",
    "\n",
    "In this example, the expression “i” is evaluated when the Println call is deferred. \n",
    "The deferred call will print “0” after the function returns."
   ]
  },
  {
   "cell_type": "code",
   "execution_count": null,
   "id": "78cae232-e4f9-4fb3-9fca-4b1e0ae105b8",
   "metadata": {},
   "outputs": [],
   "source": [
    "func a() {\n",
    "    i := 0\n",
    "    defer fmt.Println(i)\n",
    "    i++\n",
    "    return\n",
    "}\n",
    "\n",
    "a()"
   ]
  },
  {
   "cell_type": "markdown",
   "id": "9555196e-2f1f-45ad-be0e-f708ba646896",
   "metadata": {},
   "source": [
    "### 2- Deferred function calls are executed in Last In First Out order after the surrounding function returns.\n",
    "\n",
    "The following function prints “3210”:"
   ]
  },
  {
   "cell_type": "code",
   "execution_count": null,
   "id": "bf016c31-214a-4ae9-af9d-e31c20f18d88",
   "metadata": {},
   "outputs": [],
   "source": [
    "func b() {\n",
    "    for i := 0; i < 4; i++ {\n",
    "        defer fmt.Print(i)\n",
    "    }\n",
    "}\n",
    "\n",
    "b()"
   ]
  },
  {
   "cell_type": "markdown",
   "id": "3c330a27-e1fd-4bf1-8abb-1f7d3e164554",
   "metadata": {},
   "source": [
    "### 3- Deferred functions may read and assign to the returning function’s named return values.\n",
    "In this example, a deferred function increments the return value i after the surrounding function returns. \n",
    "\n",
    "Thus, this function returns 2:"
   ]
  },
  {
   "cell_type": "code",
   "execution_count": null,
   "id": "743e1e02-4562-47c3-b175-ba5e418b773f",
   "metadata": {},
   "outputs": [],
   "source": [
    "func c() (i int) {\n",
    "    defer func() { i++ }()\n",
    "    return 1\n",
    "}\n",
    "\n",
    "c()"
   ]
  },
  {
   "cell_type": "markdown",
   "id": "dec8b8b8-541c-4c9a-a090-e5b887cfe77a",
   "metadata": {},
   "source": [
    "This is convenient for modifying the error return value of a function; we will see an example of this shortly.\n",
    "\n",
    "**Panic** is a built-in function that stops the ordinary flow of control and begins panicking. When the function F calls panic, execution of F stops, any deferred functions in F are executed normally, and then F returns to its caller. To the caller, F then behaves like a call to panic. The process continues up the stack until all functions in the current goroutine have returned, at which point the program crashes. Panics can be initiated by invoking panic directly. They can also be caused by runtime errors, such as out-of-bounds array accesses.\n",
    "In Golang, panic occurs during runtime. , For example,, if we want to access an index that is not in the range, the code will start panicking. Here are some key points about panic in Go: A panic is triggered by calling the built-in "panic" function and can be caused by any runtime error that the program cannot handle.    "\n",
    "**Recover** is a built-in function that regains control of a panicking goroutine. Recover is only useful inside deferred functions. During normal execution, a call to recover will return nil and have no other effect. If the current goroutine is panicking, a call to recover will capture the value given to panic and resume normal execution.\n",
    "\n",
    "Here’s an example program that demonstrates the mechanics of panic and defer:"
   ]
  },
  {
   "cell_type": "code",
   "execution_count": null,
   "id": "fb02fa5e-add1-449c-9081-1d12746f1d9c",
   "metadata": {},
   "outputs": [],
   "source": [
    "package main\n",
    "\n",
    "import \"fmt\"\n",
    "\n",
    "func main() {\n",
    "    f()\n",
    "    fmt.Println(\"Returned normally from f.\")\n",
    "}\n",
    "\n",
    "func f() {\n",
    "    defer func() {\n",
    "        if r := recover(); r != nil {\n",
    "            fmt.Println(\"Recovered in f\", r)\n",
    "        }\n",
    "    }()\n",
    "    fmt.Println(\"Calling g.\")\n",
    "    g(0)\n",
    "    fmt.Println(\"Returned normally from g.\")\n",
    "}\n",
    "\n",
    "func g(i int) {\n",
    "    if i > 3 {\n",
    "        fmt.Println(\"Panicking!\")\n",
    "        panic(fmt.Sprintf(\"%v\", i))\n",
    "    }\n",
    "    defer fmt.Println(\"Defer in g\", i)\n",
    "    fmt.Println(\"Printing in g\", i)\n",
    "    g(i + 1)\n",
    "}\n",
    "\n",
    "main()"
   ]
  },
  {
   "cell_type": "markdown",
   "id": "8a28e663-5e21-4270-8df7-a3415ea4fe4a",
   "metadata": {},
   "source": [
    "The function g takes the int i, and panics if i is greater than 3, or else it calls itself with the argument i+1. The function f defers a function that calls recover and prints the recovered value (if it is non-nil). Try to picture what the output of this program might be before reading on.\n",
    "\n",
    "The program will output:\n",
    "\n",
    "Calling g.\n",
    "Printing in g 0\n",
    "Printing in g 1\n",
    "Printing in g 2\n",
    "Printing in g 3\n",
    "Panicking!\n",
    "Defer in g 3\n",
    "Defer in g 2\n",
    "Defer in g 1\n",
    "Defer in g 0\n",
    "Recovered in f 4\n",
    "Returned normally from f."
   ]
  },
  {
   "cell_type": "markdown",
   "id": "d5008809-afc4-4aff-902c-8e4c6bfbca79",
   "metadata": {},
   "source": [
    "If we remove the deferred function from f the panic is not recovered and reaches the top of the goroutine’s call stack, terminating the program. This modified program will output:\n",
    "\n",
    "Calling g.\n",
    "Printing in g 0\n",
    "Printing in g 1\n",
    "Printing in g 2\n",
    "Printing in g 3\n",
    "Panicking!\n",
    "Defer in g 3\n",
    "Defer in g 2\n",
    "Defer in g 1\n",
    "Defer in g 0\n",
    "panic: 4\n",
    "\n",
    "panic PC=0x2a9cd8\n",
    "[stack trace omitted]"
   ]
  },
  {
   "cell_type": "markdown",
   "id": "49697f20-1c31-4109-9bb8-8026068c78c4",
   "metadata": {},
   "source": [
    "In summary, the defer statement (with or without panic and recover) provides an unusual and powerful mechanism for control flow. It can be used to model a number of features implemented by special-purpose structures in other programming languages. Try it out."
   ]
  },
  {
   "cell_type": "markdown",
   "id": "7576287d-41f3-4bae-96ce-97a92de1494f",
   "metadata": {},
   "source": [
    "<br><br>\n",
    "\n",
    "## <i class=\"fas fa-2x fa-map-marker-alt\" style=\"color:#BAE1FF;\"></i>&nbsp;&nbsp;Next Steps\n",
    "\n",
    "# Lab 4 : Dependency Management\n",
    "\n",
    "<h2>Next LAB&nbsp;&nbsp;&nbsp;&nbsp;<a href=\"4-WKSHP-GO101-Dependency-Management.ipynb\" target=\"New\" title=\"Next LAB: Depency Management\"><i class=\"fas fa-chevron-circle-right\" style=\"color:#BAE1FF;\"></i></a></h2>\n",
    "\n",
    "</br>\n",
    " <a href=\"2-WKSHP-GO101-Concurrency.ipynb\" target=\"New\" title=\"Back: Concurrency\"><button type=\"submit\"  class=\"btn btn-lg btn-block\" style=\"background-color:#BAE1FF;color:#fff;position:relative;width:10%; height: 30px;float: left;\"><b>Back</b></button></a>\n",
    " <a href=\"4-WKSHP-GO101-Dependency-Management.ipynb\" target=\"New\" title=\"Next:Dependency Management\"><button type=\"submit\"  class=\"btn btn-lg btn-block\" style=\"background-color:#BAE1FF;color:#fff;position:relative;width:10%; height: 30px;float: right;\"><b>Next</b></button></a>"
   ]
  }
 ],
 "metadata": {
  "kernelspec": {
   "display_name": "Go",
   "language": "go",
   "name": "gophernotes"
  },
  "language_info": {
   "codemirror_mode": "",
   "file_extension": ".go",
   "mimetype": "",
   "name": "go",
   "nbconvert_exporter": "",
   "pygments_lexer": "",
   "version": "go1.20.4"
  }
 },
 "nbformat": 4,
 "nbformat_minor": 5
}
