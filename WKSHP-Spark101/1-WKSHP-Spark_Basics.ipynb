{
 "cells": [
  {
   "cell_type": "markdown",
   "metadata": {},
   "source": [
    "\n",
    "# Spark Basics\n",
    "## Overview\n",
    "In this workshop we’ll go through some of basics concepts aroud Apache Spark.\n",
    "Apache Spark is a unified analytics engine for large-scale data processing. It provides high-level APIs in Java, Scala, Python and R, and an optimized engine that supports general execution graphs. It also supports a rich set of higher-level tools including Spark SQL for SQL and structured data processing, MLlib for machine learning, GraphX for graph processing, and Structured Streaming for incremental computation and stream processing.\n",
    "\n",
    "## Architecture\n",
    "the following lab could run from your laptop or from binder but we adapted it to fit in our overall workshop infrastructure.\n",
    "We are using a vm appliance serving one docker container (containing the labs) per student.\n",
    "\n",
    "![WOD-infra](Pictures/wod-docker-infra.png)\n",
    "\n",
    "\n",
    "The workshop is leveraging a docker image providing all the necessary tooling for this lab : \n",
    "here is a link to the [Jupyter Notebook Scientific Python Stack  docker image](https://hub.docker.com/r/jupyter/scipy-notebook) \n",
    "\n",
    "you will be moving to a second jupyter notebook environment right now using the link provided below."
   ]
  },
  {
   "cell_type": "markdown",
   "metadata": {},
   "source": [
    "## Let us start the lab now!\n",
    "\n",
    "Click the following link to run the [Spark lab](http://{{ WODBEEXTFQDN }}:{{ HTTPPORT }}?token={{ SPARKTOK }})\n",
    "\n",
    "\n",
    "token = {{ SPARKTOK }}\n",
    "port = {{ HTTPPORT }}\n",
    "webui port = {{ SPARKPORT }}\n",
    "\n",
    "\n",
    "Please Note that the spark Web ui url is the following : [spark webui](http://{{ WODBEEXTFQDN }}:{{ SPARKPORT }})\n",
    "it will be available only when spark cluster is started later in the labs."
   ]
  },
  {
   "cell_type": "markdown",
   "metadata": {},
   "source": [
    "\n",
    "## Now what?\n",
    "Congratulations! You have now completed this workshop!\n",
    "\n",
    "## Feedback\n",
    "If after following this workshop you feel that the objectives haven't been achieved, please [email me](mailto:gerhard.wenzel@hpe.com) with your feedback.\n",
    "\n",
    "# Time to wrap up\n",
    "You can now move to the conclusion of this workshop !\n",
    "\n",
    "* [Conclusion](2-WKSHP-Conclusion.ipynb)"
   ]
  }
 ],
 "metadata": {
  "kernelspec": {
   "display_name": "Python 3 (ipykernel)",
   "language": "python",
   "name": "python3"
  },
  "language_info": {
   "codemirror_mode": {
    "name": "ipython",
    "version": 3
   },
   "file_extension": ".py",
   "mimetype": "text/x-python",
   "name": "python",
   "nbconvert_exporter": "python",
   "pygments_lexer": "ipython3",
   "version": "3.9.12"
  }
 },
 "nbformat": 4,
 "nbformat_minor": 4
}
