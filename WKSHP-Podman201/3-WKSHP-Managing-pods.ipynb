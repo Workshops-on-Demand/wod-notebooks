{
 "cells": [
  {
   "cell_type": "markdown",
   "metadata": {},
   "source": [
    "![Podmanlogo](Pictures/podman-logo.png)"
   ]
  },
  {
   "cell_type": "markdown",
   "metadata": {},
   "source": [
    "# Managing pods\n",
    "\n",
    "All this time we've been working with simple containers, but Podman received its name because it's also a pod manager. But, what are a pods? Pods are a group of one or more containers sharing the same network, pid and ipc namespaces. If two containers are in the same pod they can reach each other by using localhost or 127.0.0.1 address.\n",
    "\n",
    "Moreover, pods are the smallest atomic unit that kubernetes clusters can manage. Running pods is super useful to run local tests without the need of deploying them on a kubernetes cluster.\n",
    "\n",
    "Let's see how to manage pods with Podman.\n",
    "\n",
    "Start by login in:"
   ]
  },
  {
   "cell_type": "code",
   "execution_count": null,
   "metadata": {},
   "outputs": [],
   "source": [
    "%login {{ hostvars[inventory_hostname]['IP-WKSHP-Podman201'] }}"
   ]
  },
  {
   "cell_type": "markdown",
   "metadata": {},
   "source": [
    "First we are going to create a pod, for the moment it'll be empty."
   ]
  },
  {
   "cell_type": "code",
   "execution_count": null,
   "metadata": {
    "vscode": {
     "languageId": "shellscript"
    }
   },
   "outputs": [],
   "source": [
    "podman pod create --name my-pod"
   ]
  },
  {
   "cell_type": "markdown",
   "metadata": {},
   "source": [
    "We can now see the list of our pods."
   ]
  },
  {
   "cell_type": "code",
   "execution_count": null,
   "metadata": {
    "vscode": {
     "languageId": "shellscript"
    }
   },
   "outputs": [],
   "source": [
    "podman pod ls"
   ]
  },
  {
   "cell_type": "markdown",
   "metadata": {},
   "source": [
    "We can see the list of containers and what pod they are in by running the following command:"
   ]
  },
  {
   "cell_type": "code",
   "execution_count": null,
   "metadata": {
    "vscode": {
     "languageId": "shellscript"
    }
   },
   "outputs": [],
   "source": [
    "podman ps -a --pod"
   ]
  },
  {
   "cell_type": "markdown",
   "metadata": {},
   "source": [
    "As you can see there is already a container within our pod. This is the infra container, an infra container is a lightweight container used to coordinate the shared kernel namespace of a pod. This container is created by default, you can overwrite this behaviour but it's not recommended.\n",
    "\n",
    "We will run a wordpress workload within our pod, we need to run a mariadb container as backend and a wordpress container as frontend. Let's first deploy the database:"
   ]
  },
  {
   "cell_type": "code",
   "execution_count": null,
   "metadata": {
    "vscode": {
     "languageId": "shellscript"
    }
   },
   "outputs": [],
   "source": [
    "podman run -d --pod my-pod \\\n",
    "  -e MYSQL_ROOT_PASSWORD=\"hpedev\" \\\n",
    "  -e MYSQL_DATABASE=\"wp\" \\\n",
    "  -e MYSQL_USER=\"wordpress\" \\\n",
    "  -e MYSQL_PASSWORD=\"wordpress\" \\\n",
    "  --name wp-db \\\n",
    "  docker.io/library/mariadb:latest"
   ]
  },
  {
   "cell_type": "markdown",
   "metadata": {},
   "source": [
    "There are a couple of important points to mention regarding previous command. First, we have specified that our container should be part of our pod with the option \"--pod\". Second we are passing environment variables to the container with the option \"-e\", by doing this we can do some basic configuration for this instance of the container.\n",
    "\n",
    "If we list the containers and pods again we should see two containers in the same pod."
   ]
  },
  {
   "cell_type": "code",
   "execution_count": null,
   "metadata": {
    "vscode": {
     "languageId": "shellscript"
    }
   },
   "outputs": [],
   "source": [
    "podman ps -a --pod"
   ]
  },
  {
   "cell_type": "markdown",
   "metadata": {},
   "source": [
    "We can also use the following command:"
   ]
  },
  {
   "cell_type": "code",
   "execution_count": null,
   "metadata": {
    "vscode": {
     "languageId": "shellscript"
    }
   },
   "outputs": [],
   "source": [
    "podman pod ps"
   ]
  },
  {
   "cell_type": "markdown",
   "metadata": {},
   "source": [
    "Let's add the second container, the fronend."
   ]
  },
  {
   "cell_type": "code",
   "execution_count": null,
   "metadata": {
    "vscode": {
     "languageId": "shellscript"
    }
   },
   "outputs": [],
   "source": [
    "podman run -d  --pod=my-pod \\\n",
    "  -e WORDPRESS_DB_NAME=\"wp\" \\\n",
    "  -e WORDPRESS_DB_USER=\"wordpress\" \\\n",
    "  -e WORDPRESS_DB_PASSWORD=\"wordpress\" \\\n",
    "  -e WORDPRESS_DB_HOST=\"127.0.0.1\" \\\n",
    "  --name wp-web \\\n",
    "  docker.io/library/wordpress:latest"
   ]
  },
  {
   "cell_type": "markdown",
   "metadata": {},
   "source": [
    "As you can see we've used the address 127.0.0.1 for the environment variable WORDPRESS_DB_HOST, this means we're pointing to localhost for finding the database. This is only possible because both containers (the web and the database) are running in the same pod.\n",
    "\n",
    "Checking the logs we can see there is no issue with the database, confirming it works properly:"
   ]
  },
  {
   "cell_type": "code",
   "execution_count": null,
   "metadata": {
    "vscode": {
     "languageId": "shellscript"
    }
   },
   "outputs": [],
   "source": [
    "podman logs wp-web"
   ]
  },
  {
   "cell_type": "markdown",
   "metadata": {},
   "source": [
    "Before looking at the patient portal application let’s first clean up:"
   ]
  },
  {
   "cell_type": "code",
   "execution_count": null,
   "metadata": {},
   "outputs": [],
   "source": [
    "podman rm --all -f\n",
    "podman network prune -f\n",
    "podman volume prune -f\n",
    "podman pod prune -f\n",
    "podman image prune -f"
   ]
  },
  {
   "cell_type": "markdown",
   "metadata": {},
   "source": [
    "# Deploy Patient Portal application using pods\n",
    "\n",
    "This time we are going to demonstrate how to deploy the patient portal application using pods. For this we will have 1 pod with the frontend and database containers. As both containers will be in the same pod they share the same network, hence we'll need a single Podman network for all of our application.\n",
    "\n",
    "![PatientPortalApplication](Pictures/patient-portal-application-pod.png)\n",
    "\n",
    "Start creating the network:"
   ]
  },
  {
   "cell_type": "code",
   "execution_count": null,
   "metadata": {
    "vscode": {
     "languageId": "shellscript"
    }
   },
   "outputs": [],
   "source": [
    "podman network create patient-portal-net"
   ]
  },
  {
   "cell_type": "markdown",
   "metadata": {},
   "source": [
    "We can now create our Pod, we'll connect it to our newly created network. What's most important we'll not be exposing ports at the container level, we do it at Pod level:"
   ]
  },
  {
   "cell_type": "code",
   "execution_count": null,
   "metadata": {
    "vscode": {
     "languageId": "shellscript"
    }
   },
   "outputs": [],
   "source": [
    "podman pod create --name patient-portal-pod --net patient-portal-net -p 8080:8080"
   ]
  },
  {
   "cell_type": "markdown",
   "metadata": {},
   "source": [
    "As you can see we exposed the port 8080 which is the one used by the frontend container but we did not expose the port 5432 which is the one used by the database. This is because the traffic between frontend and database will happen internally in the Pod.\n",
    "\n",
    "Create the database container in our newly created Pod:"
   ]
  },
  {
   "cell_type": "code",
   "execution_count": null,
   "metadata": {
    "vscode": {
     "languageId": "shellscript"
    }
   },
   "outputs": [],
   "source": [
    "podman run -d --rm --name database --pod patient-portal-pod quay.io/skupper/patient-portal-database"
   ]
  },
  {
   "cell_type": "markdown",
   "metadata": {},
   "source": [
    "Lets create the payment processor container outside the Pod:"
   ]
  },
  {
   "cell_type": "code",
   "execution_count": null,
   "metadata": {
    "vscode": {
     "languageId": "shellscript"
    }
   },
   "outputs": [],
   "source": [
    "podman run -d --rm --name payment-processor --net patient-portal-net quay.io/skupper/patient-portal-payment-processor"
   ]
  },
  {
   "cell_type": "markdown",
   "metadata": {},
   "source": [
    "We can review our containers and pods:"
   ]
  },
  {
   "cell_type": "code",
   "execution_count": null,
   "metadata": {
    "vscode": {
     "languageId": "shellscript"
    }
   },
   "outputs": [],
   "source": [
    "podman ps -a --pod"
   ]
  },
  {
   "cell_type": "markdown",
   "metadata": {},
   "source": [
    "Everything is ready, it's time to deploy our frontend container inside our Pod. Pay attention to the environment variables, we pass \"localhost\" as the value for the variable that defines the database hostname. As the frontend will reach the database inside the pod it's considered local traffic (localhost or 127.0.0.1)."
   ]
  },
  {
   "cell_type": "code",
   "execution_count": null,
   "metadata": {
    "vscode": {
     "languageId": "shellscript"
    }
   },
   "outputs": [],
   "source": [
    "podman run -d --rm --name frontend --pod patient-portal-pod \\\n",
    "-e DATABASE_SERVICE_HOST=\"localhost\" \\\n",
    "-e DATABASE_SERVICE_PORT=\"5432\" \\\n",
    "-e PAYMENT_PROCESSOR_SERVICE_HOST=\"payment-processor\" \\\n",
    "-e PAYMENT_PROCESSOR_SERVICE_PORT=\"8080\" \\\n",
    "quay.io/skupper/patient-portal-frontend"
   ]
  },
  {
   "cell_type": "markdown",
   "metadata": {},
   "source": [
    "Our application is now deployed, check everything is fine by looking at frontend logs:"
   ]
  },
  {
   "cell_type": "code",
   "execution_count": null,
   "metadata": {
    "vscode": {
     "languageId": "shellscript"
    }
   },
   "outputs": [],
   "source": [
    "podman logs frontend"
   ]
  },
  {
   "cell_type": "markdown",
   "metadata": {},
   "source": [
    "Check the application is reachable through the open port in the pod:"
   ]
  },
  {
   "cell_type": "code",
   "execution_count": null,
   "metadata": {
    "vscode": {
     "languageId": "shellscript"
    }
   },
   "outputs": [],
   "source": [
    "curl -s localhost:8080"
   ]
  },
  {
   "cell_type": "markdown",
   "metadata": {},
   "source": [
    "Last, take a look at the output of this command:"
   ]
  },
  {
   "cell_type": "code",
   "execution_count": null,
   "metadata": {
    "vscode": {
     "languageId": "shellscript"
    }
   },
   "outputs": [],
   "source": [
    "podman ps --filter network=patient-portal-net"
   ]
  },
  {
   "cell_type": "markdown",
   "metadata": {},
   "source": [
    "As you can see it shows that only the infra container in the pod is connected to the network. This is because this container is the one managing the internal network of the pod. Hence if you want to expose anything into any network you need to do it through this container and not through your application microservices container. This is exactly what you see: Our \"database\" and \"frontend\" don't have any port exposed and neither they are connected to any network directly, everything is managed through the pod.\n",
    "\n",
    "# Cleanup"
   ]
  },
  {
   "cell_type": "code",
   "execution_count": null,
   "metadata": {
    "vscode": {
     "languageId": "shellscript"
    }
   },
   "outputs": [],
   "source": [
    "podman rm --all -f\n",
    "podman network prune -f\n",
    "podman volume prune -f\n",
    "podman pod prune -f\n",
    "podman image prune -f"
   ]
  },
  {
   "cell_type": "code",
   "execution_count": null,
   "metadata": {},
   "outputs": [],
   "source": [
    "%logout"
   ]
  },
  {
   "cell_type": "markdown",
   "metadata": {},
   "source": [
    "<br><br>\n",
    "\n",
    "## <i class=\"fas fa-2x fa-map-marker-alt\" style=\"color:#631f61;\"></i>&nbsp;&nbsp;Next Steps\n",
    "\n",
    "# Lab 4 : Running Containers\n",
    "\n",
    "<h2>Next LAB&nbsp;&nbsp;&nbsp;&nbsp;<a href=\"4-WKSHP-Running-containers-at-system-start.ipynb\" target=\"New\" title=\"Next LAB: Running containers at system start\"><i class=\"fas fa-chevron-circle-right\" style=\"color:#631f61;\"></i></a></h2>\n",
    "\n",
    "</br>\n",
    " <a href=\"3-WKSHP-Managing-pods.ipynb\" target=\"New\" title=\"Back: Managing Pods\"><button type=\"submit\"  class=\"btn btn-lg btn-block\" style=\"background-color:#631f61;color:#fff;position:relative;width:10%; height: 30px;float: left;\"><b>Back</b></button></a>\n",
    " <a href=\"4-WKSHP-Running-containers-at-system-start.ipynb\" target=\"New\" title=\"Next:Running containers at system start\"><button type=\"submit\"  class=\"btn btn-lg btn-block\" style=\"background-color:#631f61;color:#fff;position:relative;width:10%; height: 30px;float: right;\"><b>Next</b></button></a>\n"
   ]
  }
 ],
 "metadata": {
  "kernelspec": {
   "display_name": "SSH",
   "language": "bash",
   "name": "ssh"
  },
  "language_info": {
   "codemirror_mode": "shell",
   "file_extension": ".sh",
   "mimetype": "text/x-sh",
   "name": "ssh"
  }
 },
 "nbformat": 4,
 "nbformat_minor": 4
}
