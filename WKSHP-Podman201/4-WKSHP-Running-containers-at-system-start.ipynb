{
 "cells": [
  {
   "cell_type": "markdown",
   "metadata": {},
   "source": [
    "![Podmanlogo](Pictures/podman-logo.png)"
   ]
  },
  {
   "cell_type": "markdown",
   "metadata": {},
   "source": [
    "# Running containers at system start\n",
    "\n",
    "There are many situations in which you may want to start a container automatically when the system starts. A good example of this would be an edge environment, think of a small ruggered computer in a factory that runs containerized software using Podman. If there is a power failure the system will of course shut down, once the power is back the system will boot and most likely you would like your containers to start automatically as well. We can easily achieve this by taking advantage of systemd and Podman.\n",
    "\n",
    "In most linux distributions systemd is the parent of all processes on the system, it is executed by the kernel and is responsible for starting all other processes. If we want to automatically start a process (like a container), at system start it's a best practice to take advantage of systemd. Podman is capable of helping with this process, lets see how.\n",
    "\n",
    "Log into the system:"
   ]
  },
  {
   "cell_type": "code",
   "execution_count": null,
   "metadata": {},
   "outputs": [],
   "source": [
    "%login {{ hostvars[inventory_hostname]['IP-WKSHP-Podman201'] }}\""
   ]
  },
  {
   "cell_type": "markdown",
   "metadata": {},
   "source": [
    "We will start deploying a container with Podman the same way we've been doing it during the rest of the workshop."
   ]
  },
  {
   "cell_type": "code",
   "execution_count": null,
   "metadata": {
    "vscode": {
     "languageId": "shellscript"
    }
   },
   "outputs": [],
   "source": [
    "podman run --rm -d --name my-autostart-container fedora sleep 99999"
   ]
  },
  {
   "cell_type": "markdown",
   "metadata": {},
   "source": [
    "Check the container is properly deployed"
   ]
  },
  {
   "cell_type": "code",
   "execution_count": null,
   "metadata": {
    "vscode": {
     "languageId": "shellscript"
    }
   },
   "outputs": [],
   "source": [
    "podman ps -a"
   ]
  },
  {
   "cell_type": "markdown",
   "metadata": {},
   "source": [
    "Our container is running and it's seen by the operating system as a process. Now we would need to generate a systemd unit file that systemd can use to execute this process when the system starts. Podman provides a very easy way of generating this file from a running container:"
   ]
  },
  {
   "cell_type": "code",
   "execution_count": null,
   "metadata": {
    "vscode": {
     "languageId": "shellscript"
    }
   },
   "outputs": [],
   "source": [
    "podman generate systemd --new --files --name my-autostart-container"
   ]
  },
  {
   "cell_type": "markdown",
   "metadata": {},
   "source": [
    "As you can see the output explains that this is a deprecated command, we will come back to that in a minute. First lets take a look at the output file that was generated."
   ]
  },
  {
   "cell_type": "code",
   "execution_count": null,
   "metadata": {
    "vscode": {
     "languageId": "shellscript"
    }
   },
   "outputs": [],
   "source": [
    "cat container-my-autostart-container.service"
   ]
  },
  {
   "cell_type": "markdown",
   "metadata": {},
   "source": [
    "As you can see Podman has generated the file for us, the only additional thing we would need to do now is to place this file in ls \"$HOME/.config/systemd/user\" and reload systemd running \"systemctl --user daemon-reload\". Once you've done that your system will automatically start your container on boot.\n",
    "\n",
    "> **Important note**: to enable users to start a service at system boot you also need to enable linger in your linux machine. To do so follow [the instructions in the documentation](https://access.redhat.com/documentation/en-us/red_hat_enterprise_linux/9/html-single/building_running_and_managing_containers/index#proc_enabling-systemd-services_assembly_porting-containers-to-systemd-using-podman).\n",
    "\n",
    "This is cool but, as you've seen, the generated file is long and complex to read specially for non experienced users. Also, most of the times we work with containers we want to work in a declarative manner. This means we would like to have a file in which we define how our application should run and an orchestrator will make it work, this is the default way of working with kubernetes and has become a de-facto standard for containerized environments.\n",
    "\n",
    "For these reasons Podman introduced Quadlets in version 4.4. This technology brings the capability of writting a simple and easy to read file that can be used to define how you want you container to run (following the declarative model). Lets see how it works.\n",
    "\n",
    "Delete all workloads in Podman:"
   ]
  },
  {
   "cell_type": "code",
   "execution_count": null,
   "metadata": {},
   "outputs": [],
   "source": [
    "podman rm --all -f"
   ]
  },
  {
   "cell_type": "markdown",
   "metadata": {},
   "source": [
    "The only thing you need to do to take advantage of Quadlets is creating a simple file with the definition of your container and with the name ending in \".container\":"
   ]
  },
  {
   "cell_type": "code",
   "execution_count": null,
   "metadata": {
    "vscode": {
     "languageId": "shellscript"
    }
   },
   "outputs": [],
   "source": [
    "cat << EOF > my-quadlet.container\n",
    "[Container]\n",
    "Image=docker.io/library/fedora:latest\n",
    "Exec=sleep 1000\n",
    "# As we're running this in a RHEL8 server using cgroups v1,\n",
    "#   we need to configure this argument for rootless containers:\n",
    "PodmanArgs=--cgroups=enabled --log-driver=journald\n",
    "\n",
    "[Install]\n",
    "# Start by default on boot\n",
    "WantedBy=multi-user.target default.target\n",
    "EOF\n",
    "cat my-quadlet.container"
   ]
  },
  {
   "cell_type": "markdown",
   "metadata": {},
   "source": [
    "As you can see this is a very easy to read file that allows you to take advantage of the declarative way of working. In it you need to define a minimum of two sections, the first one \"[Container]\" defines how Podman will run the container and I think it's self explanatory.\n",
    "In the section \"[Install]\" you have to specify when to to execute your software. Systemd starts by default the default.target, so if you specify your container is wanted by the default.target it will be started at boot.\n",
    "\n",
    "Once you have created this file you just need to move it to $HOME/.config/containers/systemd/ if you're a rootless user or to /usr/share/containers/systemd/ if you have root access to the system. Once you've done that reload systemd by running \"systemctl --user daemon-reload\". Let's do it."
   ]
  },
  {
   "cell_type": "code",
   "execution_count": null,
   "metadata": {
    "vscode": {
     "languageId": "shellscript"
    }
   },
   "outputs": [],
   "source": [
    "mkdir ~/.config/containers/systemd/ -p"
   ]
  },
  {
   "cell_type": "markdown",
   "metadata": {},
   "source": [
    "Move the files to the directory:"
   ]
  },
  {
   "cell_type": "code",
   "execution_count": null,
   "metadata": {},
   "outputs": [],
   "source": [
    "mv ./my-quadlet.container ~/.config/containers/systemd/"
   ]
  },
  {
   "cell_type": "markdown",
   "metadata": {},
   "source": [
    "Restart the daemon so it's updated with the new file:"
   ]
  },
  {
   "cell_type": "code",
   "execution_count": null,
   "metadata": {},
   "outputs": [],
   "source": [
    "systemctl --user daemon-reload"
   ]
  },
  {
   "cell_type": "markdown",
   "metadata": {},
   "source": [
    "Now you can use systemctl to start your container:"
   ]
  },
  {
   "cell_type": "code",
   "execution_count": null,
   "metadata": {
    "vscode": {
     "languageId": "shellscript"
    }
   },
   "outputs": [],
   "source": [
    "systemctl --user start my-quadlet.service"
   ]
  },
  {
   "cell_type": "code",
   "execution_count": null,
   "metadata": {},
   "outputs": [],
   "source": [
    "podman ps -a"
   ]
  },
  {
   "cell_type": "markdown",
   "metadata": {},
   "source": [
    "And also check it's status:"
   ]
  },
  {
   "cell_type": "code",
   "execution_count": null,
   "metadata": {
    "vscode": {
     "languageId": "shellscript"
    }
   },
   "outputs": [],
   "source": [
    "systemctl --user status my-quadlet.service --no-pager"
   ]
  },
  {
   "cell_type": "markdown",
   "metadata": {},
   "source": [
    "You can also stop the service and kill the Podman container. Before testing it check that your container is running with Podman:"
   ]
  },
  {
   "cell_type": "code",
   "execution_count": null,
   "metadata": {
    "vscode": {
     "languageId": "shellscript"
    }
   },
   "outputs": [],
   "source": [
    "podman ps"
   ]
  },
  {
   "cell_type": "markdown",
   "metadata": {},
   "source": [
    "Then stop the systemd unit:"
   ]
  },
  {
   "cell_type": "code",
   "execution_count": null,
   "metadata": {
    "vscode": {
     "languageId": "shellscript"
    }
   },
   "outputs": [],
   "source": [
    "systemctl --user stop my-quadlet.service"
   ]
  },
  {
   "cell_type": "markdown",
   "metadata": {},
   "source": [
    "Now check wit Podman again:"
   ]
  },
  {
   "cell_type": "code",
   "execution_count": null,
   "metadata": {
    "vscode": {
     "languageId": "shellscript"
    }
   },
   "outputs": [],
   "source": [
    "podman ps -a"
   ]
  },
  {
   "cell_type": "markdown",
   "metadata": {},
   "source": [
    "As you can see, Quadlets transform your containers in a systemd unit that can be managed in a super easy way.\n",
    "\n",
    "If you rebooted this system you'd see the container is automatically executed on boot. Be aware this workshop runs using a shared environment between multiple students, so booting off the system is not allowed.\n",
    "\n",
    "# Automatic boot of Patient Portal application\n",
    "\n",
    "We have seen how to use Quadlets to boot a single and very simple container. Now let's see what we would need to do to run the whole Patient Portal application.\n",
    "\n",
    "In case you forgot, this is how the architecture of the application looks like:\n",
    "\n",
    "![PatientPortalApplication](Pictures/patient-portal-application-storage.png)\n",
    "\n",
    "We will not use a pod as we did in the last section because our application is not designed to be used that way. However, you can also manage pods with Quadlets, if you're interested in it please take a look at the documentation.\n",
    "\n",
    "Before we spin up any container of our application we need to have all the networks and volumes. This can be defined with Quadlets whose file name ends in \".network\" or \".volume\". In our case those files will be mostly empty as we don't need to configure anything special for any of them.\n",
    "\n",
    "Begin by creating the Quadlet file for payment network:"
   ]
  },
  {
   "cell_type": "code",
   "execution_count": null,
   "metadata": {
    "vscode": {
     "languageId": "shellscript"
    }
   },
   "outputs": [],
   "source": [
    "cat << EOF > payment.network\n",
    "[Network]\n",
    "EOF\n",
    "cat payment.network"
   ]
  },
  {
   "cell_type": "markdown",
   "metadata": {},
   "source": [
    "The one for the database network:"
   ]
  },
  {
   "cell_type": "code",
   "execution_count": null,
   "metadata": {
    "vscode": {
     "languageId": "shellscript"
    }
   },
   "outputs": [],
   "source": [
    "cat << EOF > database.network\n",
    "[Network]\n",
    "EOF\n",
    "cat database.network"
   ]
  },
  {
   "cell_type": "markdown",
   "metadata": {},
   "source": [
    "And now the volume:"
   ]
  },
  {
   "cell_type": "code",
   "execution_count": null,
   "metadata": {
    "vscode": {
     "languageId": "shellscript"
    }
   },
   "outputs": [],
   "source": [
    "cat << EOF > patient-portal-data.volume\n",
    "[Volume]\n",
    "EOF\n",
    "cat patient-portal-data.volume"
   ]
  },
  {
   "cell_type": "markdown",
   "metadata": {},
   "source": [
    "These definitions may look empty but that is enough for the Quadlets to know they need to create the networks and the volume with the standard configuration. Of course you could add detailed information for advanced configuration.\n",
    "\n",
    "Now it's time to start with the container Quadlet files, lets begin with the database container:"
   ]
  },
  {
   "cell_type": "code",
   "execution_count": null,
   "metadata": {
    "vscode": {
     "languageId": "shellscript"
    }
   },
   "outputs": [],
   "source": [
    "cat << EOF > database.container\n",
    "[Install]\n",
    "WantedBy=default.target\n",
    "\n",
    "[Container]\n",
    "Image=quay.io/skupper/patient-portal-database\n",
    "ContainerName=database\n",
    "Volume=patient-portal-data.volume:/var/lib/postgresql/data\n",
    "Network=database.network\n",
    "# As we're running this in a RHEL8 server using cgroups v1,\n",
    "#   we need to configure this argument for rootless containers:\n",
    "PodmanArgs=--cgroups=enabled --log-driver=journald\n",
    "EOF\n",
    "cat database.container-{{ STDID }}"
   ]
  },
  {
   "cell_type": "markdown",
   "metadata": {},
   "source": [
    "Then the file for the payment processor:"
   ]
  },
  {
   "cell_type": "code",
   "execution_count": null,
   "metadata": {
    "vscode": {
     "languageId": "shellscript"
    }
   },
   "outputs": [],
   "source": [
    "cat << EOF > payment-processor.container\n",
    "[Install]\n",
    "WantedBy=default.target\n",
    "\n",
    "[Unit]\n",
    "Requires=database.service\n",
    "After=database.service\n",
    "\n",
    "[Container]\n",
    "Image=quay.io/skupper/patient-portal-payment-processor\n",
    "ContainerName=payment-processor\n",
    "Network=payment.network\n",
    "# As we're running this in a RHEL8 server using cgroups v1,\n",
    "#   we need to configure this argument for rootless containers:\n",
    "PodmanArgs=--cgroups=enabled --log-driver=journald\n",
    "EOF\n",
    "cat payment-processor.container"
   ]
  },
  {
   "cell_type": "markdown",
   "metadata": {},
   "source": [
    "Pay attention to the \"[Unit]\" section in previous file. With the fields \"Requires\" and \"After\" we are specifying that this container needs to be deployed after the database container. By doing this we guarantee there is enough time for the database to initialize before the frontend container is deployed, otherwise all three containers would start at the same time and the frontend would fail because it wouldn't be able to reach the database.\n",
    "\n",
    "Last one, the frontend container:"
   ]
  },
  {
   "cell_type": "code",
   "execution_count": null,
   "metadata": {
    "vscode": {
     "languageId": "shellscript"
    }
   },
   "outputs": [],
   "source": [
    "cat << EOF > frontend.container\n",
    "[Install]\n",
    "WantedBy=default.target\n",
    "\n",
    "[Unit]\n",
    "Requires=payment-processor.service\n",
    "After=payment-processor.service\n",
    "\n",
    "[Container]\n",
    "Image=quay.io/skupper/patient-portal-frontend\n",
    "ContainerName=frontend\n",
    "Network=payment.network\n",
    "Network=database.network\n",
    "PublishPort=8080:8080\n",
    "Environment=DATABASE_SERVICE_HOST=\"database\"\n",
    "Environment=DATABASE_SERVICE_PORT=\"5432\"\n",
    "Environment=PAYMENT_PROCESSOR_SERVICE_HOST=\"payment-processor\"\n",
    "Environment=PAYMENT_PROCESSOR_SERVICE_PORT=\"8080\"\n",
    "# As we're running this in a RHEL8 server using cgroups v1,\n",
    "#   we need to configure this argument for rootless containers:\n",
    "PodmanArgs=--cgroups=enabled --log-driver=journald\n",
    "EOF\n",
    "cat frontend.container"
   ]
  },
  {
   "cell_type": "markdown",
   "metadata": {},
   "source": [
    "Here you can see how to pass environment variables and values to the container. This helps using the same container image for different purposes, providing great flexibility.\n",
    "Also pay attention to the fact that we added both networks to the container definition so it can reach the database and the payment processor.\n",
    "Last important line to notice is the one in which we specified the port in the container to be exposed by using the \"PublishPort\" option.\n",
    "\n",
    "With all these files, next thing we have to do is to copy them to the correct directory and reload systemd daemon."
   ]
  },
  {
   "cell_type": "code",
   "execution_count": null,
   "metadata": {
    "vscode": {
     "languageId": "shellscript"
    }
   },
   "outputs": [],
   "source": [
    "mv ./* ~/.config/containers/systemd/\n",
    "systemctl --user daemon-reload"
   ]
  },
  {
   "cell_type": "markdown",
   "metadata": {},
   "source": [
    "We can use the systemctl tool to start our containers. Remember we added dependencies so the frontend only starts after the other two containers are deployed. Lets check how that works by trying to start the frontend Quadlet."
   ]
  },
  {
   "cell_type": "code",
   "execution_count": null,
   "metadata": {
    "vscode": {
     "languageId": "shellscript"
    }
   },
   "outputs": [],
   "source": [
    "systemctl --user start frontend.service"
   ]
  },
  {
   "cell_type": "markdown",
   "metadata": {},
   "source": [
    "It started successfully, systemd looked at dependencies and started the database and payment processor containers for us so the frontend can be started. You can check the status of the frontend:"
   ]
  },
  {
   "cell_type": "code",
   "execution_count": null,
   "metadata": {
    "vscode": {
     "languageId": "shellscript"
    }
   },
   "outputs": [],
   "source": [
    "systemctl --user status frontend.service --no-pager"
   ]
  },
  {
   "cell_type": "markdown",
   "metadata": {},
   "source": [
    "The status of payment processor:"
   ]
  },
  {
   "cell_type": "code",
   "execution_count": null,
   "metadata": {
    "vscode": {
     "languageId": "shellscript"
    }
   },
   "outputs": [],
   "source": [
    "systemctl --user status payment-processor.service --no-pager"
   ]
  },
  {
   "cell_type": "markdown",
   "metadata": {},
   "source": [
    "And the database one:"
   ]
  },
  {
   "cell_type": "code",
   "execution_count": null,
   "metadata": {
    "vscode": {
     "languageId": "shellscript"
    }
   },
   "outputs": [],
   "source": [
    "systemctl --user status database.service --no-pager"
   ]
  },
  {
   "cell_type": "markdown",
   "metadata": {},
   "source": [
    "Check all the containers are running:"
   ]
  },
  {
   "cell_type": "code",
   "execution_count": null,
   "metadata": {
    "vscode": {
     "languageId": "shellscript"
    }
   },
   "outputs": [],
   "source": [
    "podman ps"
   ]
  },
  {
   "cell_type": "markdown",
   "metadata": {},
   "source": [
    "Check logs on the frontend container to be sure everything is working fine:"
   ]
  },
  {
   "cell_type": "code",
   "execution_count": null,
   "metadata": {
    "vscode": {
     "languageId": "shellscript"
    }
   },
   "outputs": [],
   "source": [
    "podman logs frontend"
   ]
  },
  {
   "cell_type": "markdown",
   "metadata": {},
   "source": [
    "And check the application answers an http request:"
   ]
  },
  {
   "cell_type": "code",
   "execution_count": null,
   "metadata": {
    "vscode": {
     "languageId": "shellscript"
    }
   },
   "outputs": [],
   "source": [
    "curl -s localhost:8080"
   ]
  },
  {
   "cell_type": "markdown",
   "metadata": {},
   "source": [
    "As you can see everything is working perfectly fine and in a very easy manner!\n",
    "\n",
    "Later in this workshop we will also see how deep the integration between Podman and kubernetes is, we'll show how Quadlets are able to manage kubernetes yaml files \n",
    "\n",
    "# Cleanup"
   ]
  },
  {
   "cell_type": "code",
   "execution_count": null,
   "metadata": {
    "vscode": {
     "languageId": "shellscript"
    }
   },
   "outputs": [],
   "source": [
    "systemctl --user stop frontend.service\n",
    "systemctl --user stop payment-processor.service\n",
    "systemctl --user stop database.service-\n",
    "rm ~/.config/containers/systemd/* -rf\n",
    "systemctl --user daemon-reload\n",
    "podman rm --all -f\n",
    "podman network prune -f\n",
    "podman volume prune -f\n",
    "podman pod prune -f\n",
    "podman image prune -f"
   ]
  }
 ],
 "metadata": {
  "kernelspec": {
   "display_name": "SSH",
   "language": "bash",
   "name": "ssh"
  },
  "language_info": {
   "codemirror_mode": "shell",
   "file_extension": ".sh",
   "mimetype": "text/x-sh",
   "name": "ssh"
  }
 },
 "nbformat": 4,
 "nbformat_minor": 4
}
