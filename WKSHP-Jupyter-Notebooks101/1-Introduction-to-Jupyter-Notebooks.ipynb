{
 "cells": [
  {
   "cell_type": "markdown",
   "metadata": {},
   "source": [
    "\n",
    "\n",
    "<style type=\"text/css\" media=\"screen\">\n",
    "a:link { color:#551199; text-decoration: none; }\n",
    "a:visited { color:#FFFFFF; text-decoration: none; }\n",
    "a:hover { color:#FFFFFF; text-decoration: none; }\n",
    "a:active { color:#FFFFFF; text-decoration: underline; }\n",
    "</style>\n",
    "# <a id=\"sc\" style=\"text-decoration:none;\">Introduction to Jupyter Notebooks</a>\n",
    "![](Pictures/hpedevlogo-NB.JPG)                                                      ![](Pictures/jupyter-logo.png)        \n",
    "\n",
    "\n",
    "<br>\n",
    "\n"
   ]
  },
  {
   "cell_type": "markdown",
   "metadata": {},
   "source": [
    "## If you haven't read the **ReadMeFirst** yet, click the \"Back\" button below."
   ]
  },
  {
   "cell_type": "markdown",
   "metadata": {},
   "source": [
    " <a href=\"0-ReadMeFirst.ipynb\" target=\"New\" title=\"Back: Initialization section\"><button type=\"submit\"  class=\"btn btn-lg btn-block\" style=\"background-color:#551199;color:#fff;position:relative;width:10%; height: 30px;float: left;\"><b>Back</b></button></a>\n",
    " </br>"
   ]
  },
  {
   "cell_type": "markdown",
   "metadata": {},
   "source": [
    "Let's start by taking a step back and define a few things:"
   ]
  },
  {
   "cell_type": "markdown",
   "metadata": {},
   "source": [
    "# Part 1 - Explore the basics of a notebook\n",
    "\n",
    "Project Jupyter exists to develop open-source software, open-standards, and services for interactive computing across dozens of programming languages.\n",
    "It proposes several technologies : \n",
    "## JupyterLab: Jupyter’s Next-Generation Notebook Interface\n",
    "JupyterLab is a web-based interactive development environment for Jupyter notebooks, code, and data. JupyterLab is flexible: configure and arrange the user interface to support a wide range of workflows in data science, scientific computing, and machine learning. JupyterLab is extensible and modular: write plugins that add new components and integrate with existing ones.\n",
    "\n",
    "## The Jupyter Notebook\n",
    "The Jupyter Notebook is an open-source web application that allows you to create and share documents that contain live code, equations, visualizations and narrative text. Uses include: data cleaning and transformation, numerical simulation, statistical modeling, data visualization, machine learning, and much more. This is what your are currently using. A Jupyter Notebook document is a JSON document, following a schema, and contains a list of input and output ordered cells that can contain code, Markdown text, mathematical expressions, plots,  charts, and media. Jupiter Notebooks utilize the .ipynb file extension.\n",
    "\n",
    "## JupyterHub \n",
    "With Jupyterhub, you can create a multi-user Hub which spawns, manages, and proxies multiple instances of the single-user Jupyter notebook server.\n",
    "Project Jupyter created JupyterHub to support many users. The Hub can offer notebook servers to a class of students, a corporate data science workgroup, a scientific research project, or a high performance computing group.\n",
    "This is the backend technology we are using to serve all students with our different Workshops in our [HPE DEV Hack Shack](https://hackshack.hpedev.io)\n",
    "\n",
    "In LAB1 and 2, we will focus mainly on the jupyter Notebook Technology. Lab 3 will deal with the Jupyterhub aspect.\n",
    "\n",
    "Let's Start Now!"
   ]
  },
  {
   "cell_type": "markdown",
   "metadata": {},
   "source": [
    "</br>\n",
    "<p><i class=\"fas fa-2x fa-walking\" style=\"color:#551199;\"></i>&nbsp;&nbsp;<b>STEP 1: What is a Jupyter Notebook? </b></p>"
   ]
  },
  {
   "cell_type": "markdown",
   "metadata": {},
   "source": [
    "## Creating Your First Notebook\n",
    "In this section, we’re going to learn to run and save notebooks, familiarize ourselves with their structure, and understand the interface. We’ll become intimate with some core terminology that will steer you towards a practical understanding of how to use Jupyter Notebooks by yourself and set us up for the next section, which walks through a simple example of some python code and brings everything we learn here to life.\n",
    "\n",
    "![](Pictures/notebook-dashboard.JPG)"
   ]
  },
  {
   "cell_type": "markdown",
   "metadata": {},
   "source": [
    "This is the Notebook Dashboard, specifically designed for managing your Jupyter Notebooks. Think of it as the launchpad for exploring, editing and creating your notebooks.\n",
    "\n",
    "Be aware that the dashboard will give you access only to the files and sub-folders contained within Jupyter’s start-up directory (i.e., where Jupyter or Anaconda is installed). However, the start-up directory can be changed.\n",
    "\n",
    "It is also possible to start the dashboard on any system via the command prompt (or terminal on Unix systems) by entering the command jupyter notebook; in this case, the current working directory will be the start-up directory.\n",
    "\n",
    "Jupyter’s Notebooks and dashboard are web apps, and Jupyter starts up a local Python server to serve these apps to your web browser, making it essentially platform-independent and opening the door to easier sharing on the web.\n",
    "\n",
    "(If you don't understand this yet, don't worry — the important point is just that although Jupyter Notebooks opens in your browser, it's being hosted and run on your local machine or remotely as it is the case now from a jupyterhub server. Your notebooks aren't actually on the web until you decide to share them.)"
   ]
  },
  {
   "cell_type": "markdown",
   "metadata": {},
   "source": [
    "Let's start by making a new notebook. We can easily do this by clicking on the New drop-down list in the top- right corner of the dashboard. You see that you have the option to make a Python 3 notebook as well as regular text file, a folder, and a terminal. Please select the Python 3 notebook option.\n",
    "\n",
    "`File -> New -> Notebook`\n",
    "\n",
    "![](Pictures/New-Notebook-Python3-0.JPG)\n",
    "\n",
    "`Select kernel-> Use Python3 for now`\n",
    "\n",
    "![](Pictures/New-Notebook-Python3.JPG)\n"
   ]
  },
  {
   "cell_type": "markdown",
   "metadata": {},
   "source": [
    "Now each notebook is opened in a new tab so that you can simultaneously work with multiple notebooks. If you go back to the dashboard tab, you will see the new file Untitled.ipynb.\n",
    "\n",
    "![](Pictures/New-Notebook-Python3-1.JPG)\n"
   ]
  },
  {
   "cell_type": "markdown",
   "metadata": {},
   "source": [
    "## Why a .ipynb file?"
   ]
  },
  {
   "cell_type": "markdown",
   "metadata": {},
   "source": [
    ".ipynb is the standard file format for storing Jupyter Notebooks, hence the file name Untitled.ipynb. Let's begin by first understanding what an .ipynb file is and what it might contain. Each .ipynb file is a text file that describes the content of your notebook in a JSON format. The content of each cell, whether it is text, code or image attachments that have been converted into strings, along with some additional metadata is stored in the .ipynb file. You can also edit the metadata by selecting “Edit > Edit Notebook Metadata” from the menu options in the notebook.\n",
    "\n",
    "You can also view the content of your notebook files by selecting “Edit” from the controls on the dashboard, there’s no reason to do so unless you really want to edit the file manually."
   ]
  },
  {
   "cell_type": "markdown",
   "metadata": {},
   "source": [
    "Now that you have created a notebook, let's have a look at the various menu options and functions, which are readily available. Take some time out to scroll through the the list of commands that opens up when you click on the keyboard icon (or press Ctrl + Shift + P).\n",
    "\n",
    "There are two prominent terminologies that you should care to learn about: cells and kernels are key both to understanding Jupyter and to what makes it more than just a content writing tool. Fortunately, these concepts are not difficult to understand.\n",
    "\n",
    "A kernel is a program that interprets and executes the user’s code. The Jupyter Notebook App has an inbuilt kernel for Python code, but there are also kernels available for other programming languages.\n",
    "A cell is a container which holds the executable code or normal text"
   ]
  },
  {
   "cell_type": "markdown",
   "metadata": {},
   "source": [
    "</br>\n",
    "<p><i class=\"fas fa-2x fa-walking\" style=\"color:#551199;\"></i>&nbsp;&nbsp;<b>STEP 3: What are cells? </b></p>"
   ]
  },
  {
   "cell_type": "markdown",
   "metadata": {},
   "source": [
    "Cells form the body of a notebook. If you look at the screenshot above for a new notebook (Untitled.ipynb), the text box with the blue border is an empty cell. \n",
    "\n",
    "There are 4 types of cells:\n",
    "\n",
    "**Code** – This is where you type your code and when executed the kernel will display its output below the cell.\n",
    "\n",
    "**Markdown** – This is where you type your text formatted using Markdown and the output is displayed in place when it is run.\n",
    "\n",
    "**Raw NBConvert** – It’s a command line tool to convert your notebook into another format (like HTML, PDF etc.)\n",
    "\n",
    "**Heading** – This is where you add Headings to separate sections and make your notebook look tidy and neat. This has now been merged into the Markdown option itself. Adding a ‘#’ at the beginning ensures that whatever you type after that will be taken as a heading.\n",
    "\n",
    "Let’s test out how the cells work with a basic \"hello world\" example. Copy this command print('Hello World!') , paste it in the first cell of your Untitled.ipynb notebook in the second tab  and press Ctrl + Enter or click on the Run button in the toolbar at the top.\n"
   ]
  },
  {
   "cell_type": "markdown",
   "metadata": {},
   "source": [
    "you should get this:\n",
    "\n",
    "![](Pictures/New-Notebook-Python3-2.JPG)"
   ]
  },
  {
   "cell_type": "markdown",
   "metadata": {},
   "source": [
    "When you run the cell, the output will be displayed below, and the label to its left changes from In[ ] to In[1] . Moreover, to signify that the cell is still running, Jupyter changes the label to In[*]\n",
    "\n",
    "Additionally, it is important to note that the output of a code cell comes from any of the print statements in the code cell, as well as the value of the last line in the cell, irrespective of it being a variable, function call or some other code snippet."
   ]
  },
  {
   "cell_type": "markdown",
   "metadata": {},
   "source": [
    "</br>\n",
    "<p><i class=\"fas fa-2x fa-walking\" style=\"color:#551199;\"></i>&nbsp;&nbsp;<b>STEP 3: What is markdown? </b></p>"
   ]
  },
  {
   "cell_type": "markdown",
   "metadata": {},
   "source": [
    "[Markdown](https://www.markdownguide.org/) is a lightweight, markup language for formatting plain text. Its syntax has a one-to-one correspondence with HTML tags. As this article has been written in a Jupyter notebook, all of the narrative text and images you can see, are written in Markdown. Let’s go through the basics with the following example."
   ]
  },
  {
   "cell_type": "markdown",
   "metadata": {},
   "source": [
    "# This is a level 1 heading \n",
    "### This is a level 3 heading\n",
    "\n",
    "Add now a title with level 1 heading to your notebook :\n",
    "* L1: This is a great Workshop!\n",
    "* L2: {{ BRANDING }} Community Team Rocks\n",
    "* L3: I love this devtalk!\n",
    "\n",
    "This should take you no more than 20 seconds of editing..."
   ]
  },
  {
   "cell_type": "markdown",
   "metadata": {},
   "source": [
    "This is how you write some plain text that would form a paragraph.\n",
    "You can emphasize the text by enclosing the text like \"**\" or \"__\" \n",
    "to make it bold and enclosing the text in \"*\" or `_` to make it italic. \n",
    "\n",
    "Paragraphs are separated by an empty line.\n",
    "\n",
    "* We can include lists.\n",
    "  * And also indent them.\n",
    "- [ ] Create a to do list\n",
    "    - [x] With done indent item\n",
    "\n",
    "1. Getting Numbered lists is\n",
    "2. Also easy.\n"
   ]
  },
  {
   "cell_type": "markdown",
   "metadata": {},
   "source": [
    "**Add now a new cell to your notebook and create a list of tasks that is made of numbers and points**\n",
    "\n"
   ]
  },
  {
   "cell_type": "markdown",
   "metadata": {},
   "source": [
    "[To include hyperlinks enclose the text with square braces and then add the link url in round braces](https://hackshack.hpedev.io/workshops)\n",
    "\n",
    "Inline code uses single backticks: `foo()`, and code blocks use triple backticks:\n",
    "\n",
    "``` \n",
    "foo()\n",
    "```\n",
    "\n",
    "Or can be indented by 4 spaces: \n",
    "\n",
    "    foo()"
   ]
  },
  {
   "cell_type": "markdown",
   "metadata": {},
   "source": [
    "**Insert now a link to your favorite website in your notebook**"
   ]
  },
  {
   "cell_type": "markdown",
   "metadata": {},
   "source": [
    "And finally, adding images is easy:\n",
    "\n",
    "![Online Image](https://v2.grommet.io/img/stak-hurrah.svg) or ![Local Image](Pictures/grommet.JPG)"
   ]
  },
  {
   "cell_type": "markdown",
   "metadata": {},
   "source": [
    "We have 3 different ways to attach images\n",
    "\n",
    "Link the URL of an image from the web.\n",
    "Use relative path of an image present locally\n",
    "Add an attachment to the notebook by using “Edit>Insert Image” option; This method converts the image into a string and store it inside your notebook\n",
    "Note that adding an image as an attachment will make the .ipynb file much larger because it is stored inside the notebook in a string format.\f",
    "\n",
    "\n",
    "There are a lot more features available in Markdown. To learn more about markdown, you can refer to the [official guide](https://daringfireball.net/projects/markdown/syntax) from the creator, John Gruber, on his website."
   ]
  },
  {
   "cell_type": "markdown",
   "metadata": {},
   "source": [
    "**Insert Now an image in your notebook: What about a questionning image placed just or after your favorite website link ?**"
   ]
  },
  {
   "cell_type": "markdown",
   "metadata": {},
   "source": [
    "</br>\n",
    "<p><i class=\"fas fa-2x fa-walking\" style=\"color:#551199;\"></i>&nbsp;&nbsp;<b>STEP 4: What are kernels? </b></p>"
   ]
  },
  {
   "cell_type": "markdown",
   "metadata": {},
   "source": [
    "A notebook kernel is a “computational engine” that executes the code contained in a Notebook document. The current notebook executes python code. Kernels for many other languages exist (official kernels)."
   ]
  },
  {
   "cell_type": "markdown",
   "metadata": {},
   "source": [
    "`File -> New Launcher`\n",
    "\n",
    "![](Pictures/New-Notebook-Python-kernels.JPG)"
   ]
  },
  {
   "cell_type": "markdown",
   "metadata": {},
   "source": [
    "Check [here](https://github.com/jupyter/jupyter/wiki/Jupyter-kernels) the Jupyter Kernel List to figure out the amount of available kernels."
   ]
  },
  {
   "cell_type": "markdown",
   "metadata": {},
   "source": [
    "When you open a Notebook document, the associated kernel is automatically launched. When the notebook is executed (either cell-by-cell or with menu Cell -> Run All), the kernel performs the computation and produces the results. Depending on the type of computations, the kernel may consume significant CPU and RAM. Note that the RAM is not released until the kernel is shut-down.\n",
    "\n",
    "Every notebook runs on top of a kernel. Whenever you execute a code cell, the content of the cell is executed within the kernel and any output is returned back to the cell for display. The kernel’s state applies to the document as a whole and not individual cells and is persisted over time. \n",
    "\n",
    "For example, if you declare a variable or import some libraries in a cell, they will be accessible in other cells. Now let’s understand this with the help of an example. First we’ll import a Python package and then define a function.\n"
   ]
  },
  {
   "cell_type": "code",
   "execution_count": 3,
   "metadata": {},
   "outputs": [],
   "source": [
    "import os, binascii\n",
    "def sum(x,y):\n",
    "  return x+y"
   ]
  },
  {
   "cell_type": "markdown",
   "metadata": {},
   "source": [
    "Once the cell above is executed, we can reference os, binascii and sum in any other cell."
   ]
  },
  {
   "cell_type": "code",
   "execution_count": null,
   "metadata": {},
   "outputs": [],
   "source": [
    "rand_hex_string = binascii.b2a_hex(os.urandom(15)) \n",
    "print(rand_hex_string)\n",
    "x = 1\n",
    "y = 2\n",
    "z = sum(x,y)\n",
    "print('Sum of %d and %d is %d' % (x, y, z))"
   ]
  },
  {
   "cell_type": "markdown",
   "metadata": {},
   "source": [
    "The execution flow of a notebook is generally from top-to-bottom, but it’s common to go back to make changes. The order of execution is shown to the left of each cell, such as In [2] , will let you know whether any of your cells have stale output. Additionally, there are multiple options in the Kernel menu which often come very handy.\n",
    "\n",
    "Restart: restarts the kernel, thus clearing all the variables etc that were defined.\n",
    "Restart & Clear Output: same as above but will also wipe the output displayed below your code cells.\n",
    "Restart & Run All: same as above but will also run all your cells in order from top-to-bottom.\n",
    "Interrupt: If your kernel is ever stuck on a computation and you wish to stop it, you can choose the Interrupt option."
   ]
  },
  {
   "cell_type": "markdown",
   "metadata": {},
   "source": [
    "</br>\n",
    "<p><i class=\"fas fa-2x fa-walking\" style=\"color:#551199;\"></i>&nbsp;&nbsp;<b>STEP 5: Naming Notebooks? </b></p>"
   ]
  },
  {
   "cell_type": "markdown",
   "metadata": {},
   "source": [
    "It is always a best practice to give a meaningful name to your notebooks. You can rename your notebooks from the notebook app itself by double-clicking on the existing name at the top left corner. You can also use the dashboard or the file browser to rename the notebook file. We’ll head back to the dashboard to rename the file we created earlier, which will have the default notebook file name Untitled.ipynb.\n",
    "\n",
    "Now that you are back on the dashboard, you can simply select your notebook and click “Rename” in the dashboard controls"
   ]
  },
  {
   "cell_type": "markdown",
   "metadata": {},
   "source": [
    "Right Click now on your Untitled notebook and rename it to your student id\n",
    "\n",
    "![](Pictures/New-Notebook-Python-rename.JPG)"
   ]
  },
  {
   "cell_type": "markdown",
   "metadata": {},
   "source": [
    "Your file should now look like this\n",
    "\n",
    "![](Pictures/New-Notebook-Python-rename2.JPG)"
   ]
  },
  {
   "cell_type": "markdown",
   "metadata": {},
   "source": [
    "</br>\n",
    "<p><i class=\"fas fa-2x fa-walking\" style=\"color:#551199;\"></i>&nbsp;&nbsp;<b>STEP 5: Sharing Notebooks? </b></p>"
   ]
  },
  {
   "cell_type": "markdown",
   "metadata": {},
   "source": [
    "When we talk about sharing a notebook, there are two things that might come to our mind. In most cases, we would want to share the end-result of the work, i.e. sharing non-interactive, pre-rendered version of the notebook, very much similar to this workshop; however, in some cases we might want to share the code and collaborate with others on notebooks with the aid of version control systems such as Git which is also possible."
   ]
  },
  {
   "cell_type": "markdown",
   "metadata": {},
   "source": [
    "## Before You Start Sharing\n",
    "The state of the shared notebook including the output of any code cells is maintained when exported to a file. Hence, to ensure that the notebook is share-ready, we should follow below steps before sharing.\n",
    "\n",
    "`Right Click on the notebook window “Clear All Output“`\n",
    "\n",
    "`Click “Kernel menu  > Restart & Run All”`\n",
    "\n",
    "After the code cells have finished executing, validate the output. "
   ]
  },
  {
   "cell_type": "markdown",
   "metadata": {},
   "source": [
    "## Exporting Your Notebooks\n",
    "Jupyter has built-in support for exporting to HTML, Markdown and PDF as well as several other formats, which you can find from the menu under “File > Download as” . It is a very convenient way to share the results with others. But if sharing exported files isn’t suitable for you, there are some other popular methods of sharing the notebooks directly on the web.\n",
    "\n",
    "GitHub\n",
    "With home to over 2 million notebooks, GitHub is the most popular place for sharing Jupyter projects with the world. GitHub has integrated support for rendering .ipynb files directly both in repositories and gists on its website.\n",
    "You can just follow the [GitHub guides](https://guides.github.com/) for you to get started on your own or follow our [GIT 101 – Get involved in the open source community](https://hackshack.hpedev.io/workshops) workshop  :-)\n",
    "\n",
    "Nbviewer\n",
    "NBViewer is one of the most prominent notebook renderers on the web.\n",
    "It also renders your notebook from GitHub and other such code storage platforms and provide a shareable URL along with it. [nbviewer.jupyter.org](https://nbviewer.jupyter.org/) provides a free rendering service as part of Project Jupyter."
   ]
  },
  {
   "cell_type": "markdown",
   "metadata": {},
   "source": [
    "<br><br>\n",
    "\n",
    "## <i class=\"fas fa-2x fa-map-marker-alt\" style=\"color:#551199;\"></i>&nbsp;&nbsp;Next Steps\n",
    "\n",
    "# Lab 2: How to develop a workshop on your laptop\n",
    "\n",
    "<h2>Next LAB&nbsp;&nbsp;&nbsp;&nbsp;<a href=\"2-WKSHP-HowTo-Dev-with-laptop.ipynb#sc\" target=\"New\" title=\"Next LAB: How to develop a workshop on your laptop\"><i class=\"fas fa-chevron-circle-right\" style=\"color:#551199;\"></i></a></h2>\n",
    "\n",
    "</br>\n",
    " <a href=\"0-ReadMeFirst.ipynb\" target=\"New\" title=\"Back: Introduction\"><button type=\"submit\"  class=\"btn btn-lg btn-block\" style=\"background-color:#551199;color:#fff;position:relative;width:10%; height: 30px;float: left;\"><b>Back</b></button></a>\n",
    " <a href=\"2-WKSHP-HowTo-Dev-with-laptop.ipynb#sc\" target=\"New\" title=\"Next:How to develop a workshop on your laptop\"><button type=\"submit\"  class=\"btn btn-lg btn-block\" style=\"background-color:#551199;color:#fff;position:relative;width:10%; height: 30px;float: right;\"><b>Next</b></button></a>\n"
   ]
  },
  {
   "cell_type": "code",
   "execution_count": null,
   "metadata": {},
   "outputs": [],
   "source": []
  }
 ],
 "metadata": {
  "kernelspec": {
   "display_name": "Python 3",
   "language": "python",
   "name": "python3"
  },
  "language_info": {
   "codemirror_mode": {
    "name": "ipython",
    "version": 3
   },
   "file_extension": ".py",
   "mimetype": "text/x-python",
   "name": "python",
   "nbconvert_exporter": "python",
   "pygments_lexer": "ipython3",
   "version": "3.8.5"
  }
 },
 "nbformat": 4,
 "nbformat_minor": 4
}
