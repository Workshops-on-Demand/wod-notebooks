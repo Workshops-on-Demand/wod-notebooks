{
 "cells": [
  {
   "cell_type": "markdown",
   "metadata": {},
   "source": [
    "<style type=\"text/css\" media=\"screen\">\n",
    "a:link { color:#551199; text-decoration: none; }\n",
    "a:visited { color:#FFFFFF; text-decoration: none; }\n",
    "a:hover { color:#FFFFFF; text-decoration: none; }\n",
    "a:active { color:#FFFFFF; text-decoration: underline; }\n",
    "</style>\n",
    "# <a id=\"sc\" style=\"text-decoration:none;\">Lessons Learn from deploying our own Jupyterhub Server</a>\n",
    "![](Pictures/juphub.png)                                                                                      ![](Pictures/hpedevlogo-NB.JPG)       \n",
    "\n",
    "\n",
    "<br>\n"
   ]
  },
  {
   "cell_type": "markdown",
   "metadata": {},
   "source": [
    "The {{ BRANDING }} Community Team has been using Juyter Notebooks for more than a year now. We started using them during TSS 2020. We looked at the different deployment possibilities as we were looking for  a way to use multiple instances of notebooks at once. We therefore directed our effort towards JupyterHub. "
   ]
  },
  {
   "cell_type": "markdown",
   "metadata": {},
   "source": [
    "**What is JupyterHub?**\n",
    "\n",
    "JupyterHub brings the power of notebooks to groups of users. It gives users access to computational environments and resources without burdening the users with installation and maintenance tasks. Users - including students, researchers, and data scientists - can get their work done in their own workspaces on shared resources which can be managed efficiently by system administrators.\n",
    "\n",
    "JupyterHub runs in the cloud or on your own hardware, and makes it possible to serve a pre-configured data science environment to any user in the world. It is customizable and scalable, and is suitable for small and large teams, academic courses, and large-scale infrastructure.\n",
    "Key features of JupyterHub\n",
    "\n",
    "**Customizable** - JupyterHub can be used to serve a variety of environments. It supports dozens of kernels with the Jupyter server, and can be used to serve a variety of user interfaces including the Jupyter Notebook, Jupyter Lab, RStudio, nteract, and more.\n",
    "\n",
    "**Flexible** - JupyterHub can be configured with authentication in order to provide access to a subset of users. Authentication is pluggable, supporting a number of authentication protocols (such as OAuth and GitHub).\n",
    "\n",
    "**Scalable** - JupyterHub is container-friendly, and can be deployed with modern-day container technology. It also runs on Kubernetes, and can run with up to tens of thousands of users.\n",
    "\n",
    "**Portable** - JupyterHub is entirely open-source and designed to be run on a variety of infrastructure. This includes commercial cloud providers, virtual machines, or even your own laptop hardware.\n",
    "\n",
    "The foundational JupyterHub code and technology can be found in the JupyterHub repository. This repository and the JupyterHub documentation contain more information about the internals of JupyterHub, its customization, and its configuration.\n",
    "Deploy a JupyterHub\n",
    "\n",
    "The Jupyter Community curates two JupyterHub “distributions” for deploying in the cloud. Follow the links below for more information.\n",
    "\n",
    "[Zero to JupyterHub for Kubernetes](https://z2jh.jupyter.org/) deploys JupyterHub on Kubernetes using Docker, allowing it to be scaled and maintained efficiently for large numbers of users. Zero to JupyterHub is a Helm Chart for deploying JupyterHub quickly, as well as a guide to deploying and configuring your JupyterHub on Kubernetes.\n",
    "\n",
    "[The Littlest JupyterHub](https://tljh.jupyter.org/), a recent and evolving distribution designed for smaller deployments, is a lightweight method to install JupyterHub on a single virtual machine. The Littlest JupyterHub (also known as TLJH), provides a guide with information on creating a VM on several cloud providers, as well as installing and customizing JupyterHub so that users may access it at a public URL."
   ]
  },
  {
   "cell_type": "markdown",
   "metadata": {},
   "source": [
    "\n",
    "When to use TLJH vs. Z2JH\n",
    "\n",
    "The choice between TLJH and Z2JH ultimately comes down to only a few questions:\n",
    "\n",
    "Do you want your hub and all users to live on a single, larger machine vs. spreading users on a cluster of smaller machines that are scaled up or down?\n",
    "\n",
    "     If you can use a single machine, we recommend The Littlest JupyterHub.\n",
    "\n",
    "     If you wish to use multiple machines, we recommend Zero to JupyterHub for Kubernetes.\n",
    "\n",
    "Do you need to use container technology?\n",
    "\n",
    "      If no, we recommend The Littlest JupyterHub.\n",
    "\n",
    "      If yes, we recommend Zero to JupyterHub for Kubernetes.\n",
    "\n"
   ]
  },
  {
   "cell_type": "code",
   "execution_count": null,
   "metadata": {},
   "outputs": [],
   "source": [
    "Finally, one could leverage an existing HPE Ezmeral Container Platform to deploy a JupyterHub server leveraging the Zero to Kubernetes approach..."
   ]
  },
  {
   "cell_type": "markdown",
   "metadata": {},
   "source": [
    "</br>\n",
    "<p><i class=\"fas fa-2x fa-walking\" style=\"color:#551199;\"></i>&nbsp;&nbsp;<b>1-Single Server Deployment </b></p>"
   ]
  },
  {
   "cell_type": "markdown",
   "metadata": {},
   "source": [
    "In our case, we went for a single server approach to keep things simple. As we wanted to size properly the server in order to support multiple workshops with multiple students, we went for:\n",
    "* 1 DL360 Gen 10\n",
    "* 192 Gigas of Ram \n",
    "* 400 Gigas of HDD\n",
    "* Ubuntu 18.04\n",
    "\n",
    "You can also leverage Cloud providers:\n",
    "* [Digital Ocean](https://tljh.jupyter.org/en/latest/install/digitalocean.html)\n",
    "* [OVH but Strasbourg France](https://tljh.jupyter.org/en/latest/install/ovh.html)\n",
    "* [Jetstream](https://tljh.jupyter.org/en/latest/install/jetstream.html)\n",
    "* [Google Cloud](https://tljh.jupyter.org/en/latest/install/google.html)\n",
    "* [AWS](https://tljh.jupyter.org/en/latest/install/amazon.html)\n",
    "* [Azure](https://tljh.jupyter.org/en/latest/install/azure.html)\n",
    "\n",
    "\n",
    "[Manual Installation Guide](https://tljh.jupyter.org/en/latest/install/custom-server.html)\n",
    "[Sizing Considerations](https://tljh.jupyter.org/en/latest/howto/admin/resource-estimation.html#howto-admin-resource-estimation)"
   ]
  },
  {
   "cell_type": "markdown",
   "metadata": {},
   "source": [
    "Originally, we deployed everything **by hand**, keeping trace of all packages installation a single readme file. However, as we went further with developping new notebooks for future workshops, we figured out that several JupyterHub servers would be requirered:\n",
    "* A Sandbox environemnt to test new ideas\n",
    "* A Staging environment to develop new workshops' notebooks\n",
    "* A Production environment to host events' workshops"
   ]
  },
  {
   "cell_type": "markdown",
   "metadata": {},
   "source": [
    "Our first attempt to automation was targetting the notebooks deployment:\n",
    "\n",
    "* Each workshop is associated to a local (and LDAP in some cases) users range from student0 to student2000\n",
    " * This workshop for instance is leveraging a range from 1300 to 1400\n",
    "* All reference workshops are associated to student0\n",
    " \n",
    "When we deployed a workshop a year ago: we used a single ansible playbook to copy content from student0 to the selected users (x to z)"
   ]
  },
  {
   "cell_type": "markdown",
   "metadata": {},
   "source": [
    "Later on and with the help of **Bruno Cornec**, we started building up several scripts to:\n",
    "* Perform Server Preparation & JupyterHub Installation\n",
    "* Improve Notebooks Deployment (Leveraging Ansible Variables)\n",
    "* Check Platform Sanity on a daily basis\n",
    "\n",
    "To manage the different environments:\n",
    "we defined a set of yaml files to specify the different parameters linked to the location / environment (IP Addresses, Hostnames, etc…). these yaml files would be digested by the different playbooks.\n"
   ]
  },
  {
   "cell_type": "code",
   "execution_count": null,
   "metadata": {},
   "outputs": [],
   "source": [
    "PBKDIR: staging\n",
    "JPHOST: jupyter3.example.com\n",
    "JPIP: xx.xx.xx.xx\n",
    "JPHOSTEXT: nb3.example.com\n",
    "JPHUBAPISRV: http://{{ JPHOST }}:8000\n",
    "JPHUBTOKEN: xxxxxxxxxxxxxxxxxxxxxxxxxxxxxxxxxxxx\n",
    "BASESTDID: 0\n",
    "APIENDPOINT: https://example.com/api\n",
    "APIUSER: user\n",
    "APIPWD: password\n",
    "LDAPDMN: dc=example,dc=com\n",
    "#\n",
    "KIBANAPWD: \"zzzzzzzzzzzzzzzzzzzzzzzzzzzzz\"\n",
    "KIBANAPORT: \"xxxxxx\"\n",
    "#\n",
    "STACKSTORMSRVNAME: \"sta-stackstorm\"\n",
    "STACKSTORMSRVIP: \"xx.xx.xx.xx\"\n",
    "STACKSTORMWEBUIPORT: \"yyyy\"\n",
    "#\n",
    "VCENTERAPP: \"vcenter.example.com\"\n",
    "VCENTERADMIN: \"user\"\n",
    "VCENTERPWD: \"xxxxxxx\"\n",
    "#"
   ]
  },
  {
   "cell_type": "markdown",
   "metadata": {},
   "source": [
    "## We have 3 main Ansible playbooks:\n",
    "\n",
    "**The first playbook based on a location parameter would perform:**\n",
    "* the Jupyterhub installation\n",
    "* System Update\n",
    "* Repository Update\n",
    "* Apps Installation\n",
    "* System Performance Tuning\n",
    "* Security Setup\n",
    "* JupyterHub application installation and configuration\n",
    "* kernels setup & configuration \n",
    "* Linux users creation\n",
    "* JupyterHub users creation\n",
    "\n",
    "Check [ansible_install_jupyterhub.yml](./ansible_install_jupyterhub.yml)"
   ]
  },
  {
   "cell_type": "markdown",
   "metadata": {},
   "source": [
    "**The second playbook** would take care of deploying the reference notebooks on the newly created Jupyterhub.\n",
    "\n",
    "Check [ansible_copy_folder.yml](./ansible_copy_folder.yml)"
   ]
  },
  {
   "cell_type": "markdown",
   "metadata": {},
   "source": [
    "**A third playbook** is ran on demand and nightly to ensure that the configuration is consistent and up to date.\n",
    "\n",
    "Check [ansible_check_jupyterhub.yml](./ansible_check_jupyterhub.yml)\n",
    "\n",
    "We created two Git repositories, one for the infrastructure management and all the development we did to automate our deployments and a second one for the reference notebooks content."
   ]
  },
  {
   "cell_type": "markdown",
   "metadata": {},
   "source": [
    "Our git repositories are private for now. Should you be willing to replicate our work, please contact us and we will give you access to the repo, allowing you to leverage our work.\n",
    "\n",
    "We actually tested this work on two new locations: \n",
    "1- We have now a JupyterHub running on HPE GreenLake. This server should become over time a new production site on top of the existing one.\n",
    "2- We helped our colleagues from the Geneva Innovation Center to build up a new JupyterHub Server over there."
   ]
  },
  {
   "cell_type": "markdown",
   "metadata": {},
   "source": [
    "With these few information, you should be able to build up your own JupyterHub server to host:\n",
    "* **Customers Workshops**\n",
    "* **Team Trainings**\n",
    "* **Demos**"
   ]
  },
  {
   "cell_type": "markdown",
   "metadata": {},
   "source": []
  },
  {
   "cell_type": "markdown",
   "metadata": {},
   "source": [
    "<br><br>\n",
    "\n",
    "## <i class=\"fas fa-2x fa-map-marker-alt\" style=\"color:#551199;\"></i>&nbsp;&nbsp;Next Steps\n",
    "\n",
    "\n",
    "<h2>Conclusion&nbsp;&nbsp;&nbsp;&nbsp;<a href=\"4-WKSHP-Conclusion.ipynb\" target=\"New\" title=\"Next LAB: How to collaborate with {{ BRANDING }} Community Team to develop Notebook\"><i class=\"fas fa-chevron-circle-right\" style=\"color:#551199;\"></i></a></h2>"
   ]
  },
  {
   "cell_type": "code",
   "execution_count": null,
   "metadata": {},
   "outputs": [],
   "source": []
  }
 ],
 "metadata": {
  "kernelspec": {
   "display_name": "Bash",
   "language": "bash",
   "name": "bash"
  },
  "language_info": {
   "codemirror_mode": "shell",
   "file_extension": ".sh",
   "mimetype": "text/x-sh",
   "name": "bash"
  }
 },
 "nbformat": 4,
 "nbformat_minor": 4
}
