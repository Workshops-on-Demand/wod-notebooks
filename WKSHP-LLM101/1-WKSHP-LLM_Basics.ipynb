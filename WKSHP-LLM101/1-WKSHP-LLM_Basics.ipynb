{
 "cells": [
  {
   "cell_type": "markdown",
   "metadata": {},
   "source": [
    "# Understanding LLM Basics and their Value\n",
    "\n",
    "## Introduction\n",
    "\n",
    "Generative AI has skyrocketed in popularity since the end of 2022, when OpenAI demonstrated the potential of this technology with ChatGPT—a Large Language Model (LLM). But what exactly is this technology, and how does it work?"
   ]
  },
  {
   "cell_type": "markdown",
   "metadata": {},
   "source": [
    "## AI Naming Conventions\n",
    "\n",
    "To understand where LLMs fit in the broader context of artificial intelligence, let's break down some key terms:\n",
    "\n",
    "<div style=\"display: flex; align-items: flex-start;\">\n",
    "  <!-- Left Column: Bullet Points -->\n",
    "  <div style=\"flex: 1; padding-right: 10px;\">\n",
    "    <ul>\n",
    "      <li style=\"margin-bottom: 10px;\"><strong>Artificial Intelligence (AI):</strong> The broad field focused on creating machines that can simulate intelligent behavior.</li>\n",
    "      <li style=\"margin-bottom: 10px;\"><strong>Machine Learning (ML):</strong> A subset of AI involving techniques that allow machines to learn from data.</li>\n",
    "      <li style=\"margin-bottom: 10px;\"><strong>Deep Learning:</strong> An advanced subset of ML that uses neural networks with multiple layers to model complex patterns in data.</li>\n",
    "      <li style=\"margin-bottom: 10px;\"><strong>Generative AI:</strong> AI that can create new, original content such as text, images, or music.</li>\n",
    "    </ul>\n",
    "  </div>\n",
    "  <!-- Right Column: Image -->\n",
    "  <div style=\"flex: 1;\">\n",
    "    <img src=\"Pictures/AI-Types.png\" alt=\"AI Types\" width=\"400\">\n",
    "  </div>\n",
    "</div>"
   ]
  },
  {
   "cell_type": "markdown",
   "metadata": {},
   "source": [
    "## Types of Generative AI Models\n",
    "\n",
    "Generative AI encompasses various types of models, each specializing in different forms of content generation:\n",
    "\n",
    "<div style=\"display: flex; align-items: flex-start;\">\n",
    "  <!-- Left Column: Numbered List -->\n",
    "  <div style=\"flex: 1; padding-right: 20px;\">\n",
    "    <ol>\n",
    "      <li>\n",
    "        <strong>Large Language Models (LLMs)</strong>\n",
    "        <ul>\n",
    "          <li><strong>Description:</strong> Specialize in understanding, generating, and translating human language.</li>\n",
    "          <li><strong>Examples:</strong> ChatGPT, GPT-4, BERT.</li>\n",
    "        </ul>\n",
    "      </li>\n",
    "      <li>\n",
    "        <strong>Diffusion Models</strong>\n",
    "        <ul>\n",
    "          <li><strong>Description:</strong> Generate high-quality images by gradually adding random noise to data and learning to reverse this process.</li>\n",
    "          <li><strong>Examples:</strong> DALL·E 2, Stable Diffusion.</li>\n",
    "        </ul>\n",
    "      </li>\n",
    "      <li>\n",
    "        <strong>Generative Adversarial Networks (GANs)</strong>\n",
    "        <ul>\n",
    "          <li><strong>Description:</strong> Consist of two models competing against each other to generate new, synthetic instances of data that can pass for real data.</li>\n",
    "          <li><strong>Examples:</strong> StyleGAN, CycleGAN.</li>\n",
    "        </ul>\n",
    "      </li>\n",
    "    </ol>\n",
    "  </div>\n",
    "  <!-- Right Column: Image -->\n",
    "  <div style=\"flex: 1;\">\n",
    "    <img src=\"Pictures/GenAIs-Types.png\" alt=\"Generative AI Types\" width=\"400\">\n",
    "  </div>\n",
    "</div>\n"
   ]
  },
  {
   "cell_type": "markdown",
   "metadata": {},
   "source": [
    "## Understanding Large Language Models (LLMs)\n",
    "\n",
    "### What Are LLMs?\n",
    "\n",
    "LLMs are supervised AI models trained on extensive text data to predict the next word in a sequence. They excel in generating human-like text, understanding context, and performing language-based tasks efficiently.\n",
    "\n",
    "<p align=\"center\">\n",
    "    <img src=\"Pictures/Prompt.png\" alt=\"Generative AI Prompt\" width=\"800\">\n",
    "</p>"
   ]
  },
  {
   "cell_type": "markdown",
   "metadata": {},
   "source": [
    "## How Do LLMs Work?\n",
    "\n",
    "Large Language Models (LLMs) like GPT use a type of neural network architecture called a **Transformer** to predict the next word in a sentence. Let's break down the process into three main steps:\n",
    "\n",
    "### 1. Text Tokenization and Embeddings\n",
    "\n",
    "- **Tokenization:** The input text (a sentence or a paragraph) is split into smaller parts called **tokens**. Tokens can be whole words or subwords. For example, \"chatbot\" might be split into [\"chat\", \"bot\"].\n",
    "  \n",
    "- **Embeddings:** Each token is then converted into a numerical format called an **embedding** — a vector of numbers that represents the token in a multi-dimensional space. In this space, tokens with similar meanings are positioned closer together. Think of it like placing words on a map, where words with related meanings are grouped together.\n",
    "\n",
    "### 2. Transformer Architecture\n",
    "\n",
    "The Transformer architecture consists of several layers that help the model understand the context and relationships between tokens:\n",
    "\n",
    "- **Self-Attention Mechanism:** This is like a spotlight that the model uses to focus on different parts of the input text. For example, in the sentence \"The cat sat on the mat,\" the model learns that \"cat\" and \"sat\" are related. Self-attention helps the model determine which words are important and how they relate to each other within the text.\n",
    "\n",
    "- **Feedforward Layers:** After determining the importance and relationships of words through self-attention, the model uses a series of mathematical operations (feedforward layers) to process this information further. These layers help the model refine its understanding and make better predictions.\n",
    "\n",
    "### 3. Predicting the Next Word\n",
    "\n",
    "- **Softmax Layer:** At the end of the Transformer model, there is a special layer called the **Softmax layer**. It calculates the probabilities of all possible words that could come next in the sentence. The word with the highest probability is the most likely next word.\n",
    "\n",
    "- **Autoregressive Generation:** The model then selects the word with the highest probability and adds it to the sequence of words. It repeats this process for each new word, using the updated sequence each time to predict the next word until it completes the sentence or reaches a specified length.\n",
    "\n",
    "<p align=\"center\">\n",
    "    <img src=\"Pictures/LLM.png\" alt=\"LLM how\" width=\"800\">\n",
    "</p>"
   ]
  },
  {
   "cell_type": "markdown",
   "metadata": {},
   "source": [
    "## The Value of LLMs\n",
    "\n",
    "One of the significant advantages of LLMs is their general-purpose nature. Unlike traditional machine learning models designed for specific tasks, LLMs can perform a variety of actions, including:\n",
    "\n",
    "<div style=\"display: flex; align-items: flex-start;\">\n",
    "  <!-- Left Column: Text -->\n",
    "  <div style=\"flex: 1; padding-right: 20px;\">\n",
    "    <ul>\n",
    "      <li style=\"margin-bottom: 10px;\"><strong>Answering Questions:</strong> Providing information or explanations on a wide range of topics.</li>\n",
    "      <li style=\"margin-bottom: 10px;\"><strong>Writing Essays and Articles:</strong> Generating coherent and contextually relevant text.</li>\n",
    "      <li style=\"margin-bottom: 10px;\"><strong>Summarizing Documents:</strong> Condensing long texts into concise summaries.</li>\n",
    "      <li style=\"margin-bottom: 10px;\"><strong>Translating Languages:</strong> Converting text from one language to another.</li>\n",
    "      <li style=\"margin-bottom: 10px;\"><strong>Information Retrieval:</strong> Extracting relevant information from large datasets.</li>\n",
    "      <li style=\"margin-bottom: 10px;\"><strong>Coding Assistance:</strong> Writing and debugging code snippets.</li>\n",
    "    </ul>\n",
    "  </div>\n",
    "  <!-- Right Column: Image -->\n",
    "  <div style=\"flex: 1;\">\n",
    "    <img src=\"Pictures/Action.png\" alt=\"LLM Capabilities\" width=\"400\">\n",
    "  </div>\n",
    "</div>\n"
   ]
  },
  {
   "cell_type": "markdown",
   "metadata": {},
   "source": [
    "## Additional Resources\n",
    "\n",
    "- **[Introduction to Transformers](https://huggingface.co/transformers/):** A comprehensive guide on Transformer models.\n",
    "\n",
    "- **[Embeddings Explained](https://machinelearningmastery.com/what-are-word-embeddings/):** Understanding word embeddings and their role in NLP.\n",
    "\n",
    "- **[Generative AI Overview](https://www.ibm.com/cloud/learn/generative-ai):** An overview of Generative AI technologies.\n",
    "\n",
    "- **[Generative AI for Everyone](https://www.deeplearning.ai/courses/generative-ai-for-everyone/):** A course focusing on Generative AI techniques using LLMs.\n",
    "\n",
    "\n"
   ]
  }
 ],
 "metadata": {
  "kernelspec": {
   "display_name": "Bash",
   "language": "bash",
   "name": "bash"
  },
  "language_info": {
   "codemirror_mode": "shell",
   "file_extension": ".sh",
   "mimetype": "text/x-sh",
   "name": "bash"
  }
 },
 "nbformat": 4,
 "nbformat_minor": 4
}
