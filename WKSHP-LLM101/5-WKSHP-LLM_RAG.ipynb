{
 "cells": [
  {
   "cell_type": "markdown",
   "metadata": {},
   "source": [
    "# Lab 5: Retrieval-Augmented Generation (RAG)\n",
    "\n",
    "## Introduction\n",
    "\n",
    "In this lab, we'll explore the concept of **Retrieval-Augmented Generation (RAG)** within the LL-Mesh platform. RAG is a crucial process that enhances the capabilities of Large Language Models (LLMs) by providing them with access to external knowledge. Unlike traditional generation techniques, which rely solely on the model's pre-trained knowledge, RAG allows the model to retrieve relevant data from external sources, improving both the relevance and accuracy of the responses. LL-Mesh provides all the necessary tools to build a powerful RAG system by handling:\n",
    "\n",
    "- **Data Extraction**\n",
    "- **Data Transformation**\n",
    "- **Data Storage**\n",
    "- **Data Load**\n",
    "- **Data Retrieval**"
   ]
  },
  {
   "cell_type": "markdown",
   "metadata": {},
   "source": [
    "## Objectives\n",
    "\n",
    "By the end of this lab, you will:\n",
    "\n",
    "- Understand the concept of **RAG** and its importance in improving LLM performance.\n",
    "- Learn how LL-Mesh manages the different stages of the RAG process, from data extraction to retrieval.\n",
    "- Build a simple RAG application using LL-Mesh, integrating data retrieval into the generation process.\n",
    "- Implement best practices for organizing and retrieving data to ensure relevant and accurate generation of content."
   ]
  },
  {
   "cell_type": "markdown",
   "metadata": {},
   "source": [
    "## Getting Started\n",
    "\n",
    "### Prerequisites\n",
    "\n",
    "- Python 3.11.8+ installed on your system.\n",
    "- LL-Mesh library installed. If not, install it using: `pip install athon`\n",
    "- API keys for the LLM services you plan to use (e.g., OpenAI, Azure).\n",
    "\n",
    "Note: These prerequisites have already been met in the lab environment provided. You do not need to install or configure anything manually. For this session, we will be using Llama 3.0 as the LLM model.\n",
    "\n",
    "<div align=\"center\">\n",
    "  <img src=\"Pictures/setup.png\" alt=\"LL-Mesh Chat\" width=\"800\">\n",
    "</div>"
   ]
  },
  {
   "cell_type": "code",
   "execution_count": null,
   "metadata": {},
   "outputs": [],
   "source": [
    "import tqdm as notebook_tqdm\n",
    "import warnings\n",
    "\n",
    "# Suppress warnings\n",
    "warnings.filterwarnings(\n",
    "    \"ignore\",\n",
    "    message=r'Field \"model_name\" in Config has conflict with protected namespace \"model_\".*',\n",
    "    category=UserWarning,\n",
    ")"
   ]
  },
  {
   "cell_type": "markdown",
   "metadata": {},
   "source": [
    "## Data Pipeline for RAG\n",
    "\n",
    "In LL-Mesh, the RAG process is divided into two main stages: **Data Injection** (where data is injected into the LLM's reasoning) and **Data Retrieval** (where relevant information is retrieved to support generation). \n",
    "\n",
    "### Injection Process\n",
    "\n",
    "The **Injection Process** is a critical step in **RAG**, where data is prepared and integrated into a storage system for efficient retrieval during the generation process. This process ensures that the relevant data is available in a format that the LLM can easily access and use to enhance the quality and relevance of its outputs. In LL-Mesh, the Injection Process is abstracted into several key steps, including data extraction, transformation, and storage injection.\n",
    "\n",
    "#### 1. Extract\n",
    "\n",
    "- **Data Gathering**: The first step in the injection process involves collecting raw data from various sources. This data can come in different formats such as DOCX, PDF, Excel, or even API responses. The goal is to bring together all the information that may be relevant for the tasks the LLM will perform.\n",
    "  \n",
    "- **Conversion**: Once the data is gathered, it needs to be converted into a common format—typically JSON—to ensure consistency across different data types and sources. This conversion process makes it easier to standardize the subsequent transformation and storage processes.\n",
    "\n",
    "#### 2. Transform\n",
    "\n",
    "- **Clean**: In this stage, irrelevant or redundant information is removed from the data. This might involve eliminating duplicates, irrelevant sections, or noisy data that doesn't contribute to the task at hand. The goal is to focus on the core, useful content.\n",
    "\n",
    "- **Enrich Metadata**: Adding metadata to the data helps improve its searchability and contextual relevance during the retrieval process. Metadata can include information such as the source, keywords, timestamps, and other contextual markers that make it easier to retrieve and use the data efficiently.\n",
    "\n",
    "- **Transform with LLM**: This is where the power of the LLM comes into play. The cleaned data can be transformed into useful formats such as summaries, question-and-answer pairs, or structured outputs. This transformation makes it easier for the LLM to access and use the data in specific ways during the generation process, ensuring that the most relevant information is readily available.\n",
    "\n",
    "#### 3. Load\n",
    "\n",
    "- **Storage Injection**: Once the data is transformed, it is injected into the chosen storage solution. This is typically a **vector database**, which allows for fast and efficient retrieval based on the content's semantic meaning. The vector database stores the transformed data in a format that the LLM can easily access during generation.\n",
    "\n",
    "- **Adaptation**: To optimize data retrieval, the stored data may be further adapted by **chunking** it into smaller, manageable pieces. This process ensures that data is stored in a way that allows the LLM to retrieve only the relevant portions when needed, improving both speed and accuracy during the generation process.\n",
    "\n",
    "<div align=\"center\">\n",
    "  <img src=\"Pictures/injection.png\" alt=\"Multi Agents Types\" width=\"800\">\n",
    "</div>"
   ]
  },
  {
   "cell_type": "markdown",
   "metadata": {},
   "source": [
    "### Data Extraction\n",
    "\n",
    "This step involves gathering information from a variety of sources and document types, preparing it for further processing in the RAG pipeline. The goal of data extraction is to retrieve relevant information from diverse formats—such as PDFs, DOCX files, or web data—and convert it into a standardized format that can be used efficiently by the system in subsequent stages like transformation, storage, and retrieval.\n",
    "\n",
    "#### Key Features\n",
    "\n",
    "1. **Multi-Format Support**:\n",
    "   - The Data Extraction service is designed to handle a wide variety of document types, such as **PDF**, **DOCX**, **HTML**, and **XLS** files. This flexibility allows LL-Mesh to process data from different sources and industries.\n",
    "   - Supports extracting both text and metadata from these files, ensuring that all relevant information is captured for downstream tasks.\n",
    "\n",
    "2. **Standardization**:\n",
    "   - Once the data is extracted from its original format, it is converted into a **standardized format**, typically **JSON**. This uniform format ensures that the data can be seamlessly integrated into the rest of the RAG pipeline, enabling consistency in the way the data is transformed, stored, and retrieved.\n",
    "   - Extracted data can include both text and structural elements like tables, lists, and headers, which are preserved in the standardized format."
   ]
  },
  {
   "cell_type": "code",
   "execution_count": null,
   "metadata": {},
   "outputs": [],
   "source": [
    "from athon.rag import DataExtractor\n",
    "\n",
    "# Example configuration for the Data Extractor\n",
    "EXTRACTOR_CONFIG = {\n",
    "    'type': 'UnstructuredForSections',\n",
    "    'document_type': 'Docx',\n",
    "    'extraction_type': 'SectionWithHeader'\n",
    "}\n",
    "\n",
    "# Initialize the Data Extractor with the provided configuration\n",
    "data_extractor = DataExtractor.create(EXTRACTOR_CONFIG)"
   ]
  },
  {
   "cell_type": "code",
   "execution_count": null,
   "metadata": {},
   "outputs": [],
   "source": [
    "# Parse a document file\n",
    "file_path = 'Data/23502-i60-smf.docx'\n",
    "result = data_extractor.parse(file_path)\n",
    "\n",
    "# Handle the extraction result\n",
    "if result.status == \"success\":\n",
    "    print(f\"EXTRACTED # ELEMENTS:\\n{len(result.elements)}\")\n",
    "    print(f\"FIRST EXTRACTED ELEMENTS:\\n{result.elements[:2]}\")\n",
    "    extracted_elements = result.elements\n",
    "else:\n",
    "    print(f\"ERROR:\\n{result.error_message}\")"
   ]
  },
  {
   "cell_type": "markdown",
   "metadata": {},
   "source": [
    "### Data Transformation\n",
    "\n",
    "After the data has been extracted from various sources, the transformation phase ensures that the data is cleaned, optimized, and enriched, making it ready for efficient storage and retrieval. This stage prepares the data in such a way that it can be seamlessly integrated into the retrieval process, allowing language models to access, understand, and use the data effectively during generation.\n",
    "\n",
    "#### Key Features\n",
    "\n",
    "1. **Data Cleaning**:\n",
    "   - **Remove Redundant Information**: The transformation process begins by cleaning the extracted data. This involves removing irrelevant, duplicate, or noisy content that could confuse or slow down the retrieval and generation processes.\n",
    "   - **Focus on Core Content**: By focusing on essential content, the data is made leaner and more relevant, ensuring that only the most useful and accurate information is retained for use by the LLM.\n",
    "\n",
    "2. **Metadata Enrichment**:\n",
    "   - **Add Contextual Metadata**: Additional metadata, such as keywords, categories, timestamps, and author information, is added to the data during the transformation phase. This enrichment makes the data easier to search and retrieve by improving the system’s ability to match queries with relevant content.\n",
    "   - **Enhance Searchability**: Metadata plays a vital role in making the retrieval process more efficient, ensuring that specific queries lead to precise results. The more enriched the metadata, the more accurate the retrieval, helping the LLM generate contextually relevant responses.\n",
    "\n",
    "3. **Transformation**:\n",
    "   - **Generate Summaries and Q&A Pairs**: The data can also be processed with the help of LLMs to create summaries, question-and-answer pairs, or other useful formats that facilitate quicker retrieval and understanding during the generation phase. This transformation allows the LLM to directly interact with summarized or structured data, improving the quality and relevance of the generated responses.\n",
    "   - **Chunking for Optimization**: The data may also be broken into smaller chunks or sections that allow for quicker, more targeted retrieval during the generation process. Chunking ensures that the language model retrieves only the most relevant pieces of data, improving both response time and accuracy."
   ]
  },
  {
   "cell_type": "code",
   "execution_count": null,
   "metadata": {},
   "outputs": [],
   "source": [
    "from athon.rag import DataTransformer\n",
    "\n",
    "# Example configuration for the Data Transformer\n",
    "TRANSFORMER_CONFIG = {\n",
    "    'type': 'CteActionRunner',\n",
    "    'clean': {\n",
    "        'min_section_length': 100\n",
    "    },\n",
    "    'transform': {\n",
    "        'chunk_size': 1000,\n",
    "        'chunk_overlap': 0,\n",
    "        'token_chunk': 256\n",
    "    },\n",
    "    'enrich': {\n",
    "        'metadata': {\n",
    "            'processed_by': 'WKSHP-LLM'\n",
    "        }\n",
    "    }\n",
    "}\n",
    "\n",
    "# Initialize the Data Transformer with the provided configuration\n",
    "data_transformer = DataTransformer.create(TRANSFORMER_CONFIG)"
   ]
  },
  {
   "cell_type": "code",
   "execution_count": null,
   "metadata": {},
   "outputs": [],
   "source": [
    "# Define the actions to be performed\n",
    "actions = [\n",
    "    'RemoveMultipleSpaces',\n",
    "    'ReplaceTabsWithSpaces',\n",
    "    'TransformInSectionByHeader',\n",
    "    'RemoveTitleElementsOnly',\n",
    "    'EnrichMetadata',\n",
    "    'TransformInChunk',\n",
    "]\n",
    "\n",
    "# Process the elements\n",
    "result = data_transformer.process(actions, extracted_elements)\n",
    "\n",
    "# Handle the transformation result\n",
    "if result.status == \"success\":\n",
    "    print(f\"TRANSFORMED # ELEMENTS:\\n{len(result.elements)}\")\n",
    "    print(f\"FIRST TRANSFORMED ELEMENTS:\\n{result.elements[:2]}\")\n",
    "    trasformed_elements = result.elements\n",
    "else:\n",
    "    print(f\"ERROR:\\n{result.error_message}\")"
   ]
  },
  {
   "cell_type": "markdown",
   "metadata": {},
   "source": [
    "### Data Storage\n",
    "\n",
    "Once data has been extracted and transformed, it must be stored in a way that allows for fast and accurate retrieval during the generation process. Effective data storage ensures that the system can quickly access the relevant data needed by the LLM to generate contextually appropriate and accurate responses. LL-Mesh supports a variety of storage strategies, including the use of specialized databases like vector stores, which are optimized for handling semantic search and retrieval.\n",
    "\n",
    "#### Key Features\n",
    "\n",
    "1. **Efficient Storage Solutions**:\n",
    "   - **Vector Stores**: LL-Mesh utilizes vector databases to store data as numerical vectors. This storage method is ideal for handling semantic searches, where the meaning of the input query is more important than exact keyword matching. Vector stores enable the system to retrieve data that is most semantically relevant to the user’s query, improving both speed and accuracy.\n",
    "\n",
    "2. **Structured Data Organization**:\n",
    "   - **Metadata-Enhanced Storage**: During storage, the data is organized with enriched metadata, ensuring that specific filters and searches can be applied quickly. This structured organization helps LL-Mesh narrow down large datasets to retrieve exactly what is needed for the query.\n",
    "   - **Chunking and Indexing**: Data is stored in chunks, and these chunks are indexed for fast lookup. This chunking strategy ensures that the system retrieves only the most relevant portions of data, improving both the accuracy and efficiency of the retrieval process."
   ]
  },
  {
   "cell_type": "code",
   "execution_count": null,
   "metadata": {},
   "outputs": [],
   "source": [
    "from athon.rag import DataStorage\n",
    "\n",
    "# Example configuration for the Data Storage\n",
    "STORAGE_CONFIG = {\n",
    "    'type': 'ChromaCollection',\n",
    "    'path': 'Data/ChromaDb',\n",
    "    'collection': 'WkshpLlm'\n",
    "}\n",
    "\n",
    "# Initialize the Data Storage with the provided configuration\n",
    "data_storage = DataStorage.create(STORAGE_CONFIG)"
   ]
  },
  {
   "cell_type": "code",
   "execution_count": null,
   "metadata": {},
   "outputs": [],
   "source": [
    "# Retrieve the data collection\n",
    "result = data_storage.get_collection()\n",
    "\n",
    "# Handle the retrieval result\n",
    "if result.status == \"success\":\n",
    "    print(f\"COLLECTION RETRIEVED:\\n{result.collection}\")\n",
    "    collection = result.collection\n",
    "else:\n",
    "    print(f\"ERROR:\\n{result.error_message}\")"
   ]
  },
  {
   "cell_type": "markdown",
   "metadata": {},
   "source": [
    "### Data Loader\n",
    "\n",
    "Once data has been extracted, transformed, and prepared for storage, the final step is to load this data into the storage system, making it readily accessible for retrieval and use by LLMs. The Data Loader ensures that all the cleaned and structured data is properly indexed and optimized for retrieval, playing a vital role in the efficiency of the overall RAG pipeline.\n",
    "\n",
    "#### Key Features\n",
    "\n",
    "1. **Seamless Data Loading**:\n",
    "   - The Data Loader is responsible for moving the processed data into the selected storage solution, such as a vector database or a traditional document store. This ensures that the data is loaded in a format optimized for fast access during the retrieval stage.\n",
    "\n",
    "2. **Data Integrity and Validation**:\n",
    "   - Validation processes ensure that the data is compliant with the expected structure and ready to be indexed for fast retrieval."
   ]
  },
  {
   "cell_type": "code",
   "execution_count": null,
   "metadata": {},
   "outputs": [],
   "source": [
    "from athon.rag import DataLoader\n",
    "\n",
    "# Example configuration for the Data Loader\n",
    "LOADER_CONFIG = {\n",
    "    'type': 'ChromaForSentences'\n",
    "}\n",
    "\n",
    "# Initialize the Data Loader with the provided configuration\n",
    "data_loader = DataLoader.create(LOADER_CONFIG)"
   ]
  },
  {
   "cell_type": "code",
   "execution_count": null,
   "metadata": {},
   "outputs": [],
   "source": [
    "# Insert the elements into the collection\n",
    "result = data_loader.insert(collection, trasformed_elements)\n",
    "\n",
    "# Handle the insertion result\n",
    "if result.status == \"success\":\n",
    "    print(\"Data successfully inserted into the collection.\")\n",
    "else:\n",
    "    print(f\"ERROR:\\n{result.error_message}\")"
   ]
  },
  {
   "cell_type": "markdown",
   "metadata": {},
   "source": [
    "### Retrieval Process\n",
    "\n",
    "Once the data has been injected and stored, the **Retrieval Process** comes into play, focusing on fetching the most relevant information based on a given input query. The retrieval process is essential for ensuring that the LLM can access the appropriate data to generate accurate and contextually relevant responses. In LL-Mesh, the retrieval process utilizes advanced search techniques, metadata filtering, and chunk expansion to optimize the data retrieval for better output generation.\n",
    "\n",
    "#### 1. Search Techniques\n",
    "\n",
    "- **Data Retrieval**: The retrieval process begins by searching the stored data using advanced techniques like **dense retrieval** (leveraging semantic vector search). Dense retrieval methods use the semantic meaning of the query and stored data to find the most relevant results.\n",
    "\n",
    "#### 2. Metadata Filtering\n",
    "\n",
    "- **Refinement**: After an initial retrieval, metadata filtering is applied to refine the search results. By utilizing the metadata added during the **Injection Process**, the system can narrow down the retrieved data to ensure it closely aligns with the specific needs of the query. For example, filters can be applied based on the document source, creation date, or topic tags to return only the most relevant sections of data.\n",
    "\n",
    "#### 3. Chunk Expansion\n",
    "\n",
    "- **Data Expansion**: In some cases, the initial retrieved data may only include small sections of text or partial results. To provide more comprehensive context, the system applies **chunk expansion**, which expands the data around the retrieved sections, either by adding surrounding paragraphs, sections, or related sentences. This ensures that the LLM has access to a more complete and contextually rich dataset when generating responses, leading to more accurate and nuanced outputs.\n",
    "\n",
    "<div align=\"center\">\n",
    "  <img src=\"Pictures/retrieval.png\" alt=\"Multi Agents Types\" width=\"800\">\n",
    "</div>"
   ]
  },
  {
   "cell_type": "markdown",
   "metadata": {},
   "source": [
    "### Data Retriever\n",
    "\n",
    "The Data Retriever ensures that the LLM has access to the most contextually appropriate and relevant information to generate high-quality outputs. It does this by not only searching for relevant data but also expanding and refining the results to provide a more comprehensive and accurate set of information for the language model to use.\n",
    "\n",
    "#### Key Features\n",
    "\n",
    "1. **Search for Relevant Data**:\n",
    "   - The Data Retriever uses advanced search techniques, such as **semantic vector search** or traditional keyword-based search, to identify the most relevant data from the storage based on the user’s query.\n",
    "   - **Semantic Search**: This method leverages vector embeddings to find data that is semantically related to the query, focusing on meaning rather than exact keyword matching. This ensures that the most contextually relevant data is retrieved, even if the exact terms differ.\n",
    "\n",
    "2. **Chunk Expansion**:\n",
    "   - Once the most relevant chunks of data are retrieved, the Data Retriever can **expand** the results by pulling in surrounding text or related sections of the data. This ensures that the language model has access to a comprehensive context, which is critical for generating accurate and meaningful responses.\n",
    "   - Expansion techniques help provide a more complete picture by retrieving additional information beyond just the exact matching chunk, giving the LLM more context to work with when generating responses.\n",
    "\n",
    "3. **Refinement of Results**:\n",
    "   - After retrieving the initial set of data, the Data Retriever applies **refinement techniques** to filter and prioritize the information. This can include using metadata filters, such as document type, date, or author, to ensure that the results are highly relevant to the user’s specific needs.\n",
    "   - Refinement ensures that irrelevant or outdated information is excluded, leaving only the most valuable and contextually appropriate data for the LLM to use during generation."
   ]
  },
  {
   "cell_type": "code",
   "execution_count": null,
   "metadata": {},
   "outputs": [],
   "source": [
    "from athon.rag import DataRetriever\n",
    "\n",
    "# Example configuration for the Data Retriever\n",
    "RETRIEVER_CONFIG = {\n",
    "    'type': 'ChromaForSentences',\n",
    "    'n_results': 3,\n",
    "}\n",
    "\n",
    "# Initialize the Data Retriever with the provided configuration\n",
    "data_retriever = DataRetriever.create(RETRIEVER_CONFIG)"
   ]
  },
  {
   "cell_type": "code",
   "execution_count": null,
   "metadata": {},
   "outputs": [],
   "source": [
    "# Example query to search within the collection\n",
    "query = \"What are the services of SMF?\"\n",
    "\n",
    "# Retrieve the relevant data based on the query\n",
    "result = data_retriever.select(collection, query)\n",
    "\n",
    "# Handle the retrieval result\n",
    "if result.status == \"success\":\n",
    "    for element in result.elements:\n",
    "        print(f\"TEXT:\\n{element['text']}\\nMETADATA:\\n{element['metadata']}\\n\")\n",
    "else:\n",
    "    print(f\"ERROR:\\n{result.error_message}\")"
   ]
  },
  {
   "cell_type": "markdown",
   "metadata": {},
   "source": [
    "Next [**Lab 6 LL-Mesh Web Apps Showcase**](6-WKSHP-LLM_WebApps.ipynb)"
   ]
  }
 ],
 "metadata": {
  "kernelspec": {
   "display_name": ".venv",
   "language": "python",
   "name": "python3"
  },
  "language_info": {
   "codemirror_mode": {
    "name": "ipython",
    "version": 3
   },
   "file_extension": ".py",
   "mimetype": "text/x-python",
   "name": "python",
   "nbconvert_exporter": "python",
   "pygments_lexer": "ipython3",
   "version": "3.11.9"
  }
 },
 "nbformat": 4,
 "nbformat_minor": 2
}
